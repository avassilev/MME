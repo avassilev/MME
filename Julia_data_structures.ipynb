{
 "cells": [
  {
   "cell_type": "markdown",
   "id": "8dd13e03-7bcf-40e7-9396-0a05c13fae1b",
   "metadata": {},
   "source": [
    "# Julia – some data structures"
   ]
  },
  {
   "cell_type": "markdown",
   "id": "962fa760-e83f-46bd-9605-4bb3c0086c81",
   "metadata": {},
   "source": [
    "### Arrays and basic operations on arrays"
   ]
  },
  {
   "cell_type": "code",
   "execution_count": 14,
   "id": "e5d60169-281a-4ded-a1fe-a0a7639dc8c9",
   "metadata": {},
   "outputs": [
    {
     "data": {
      "text/plain": [
       "9-element Vector{Int64}:\n",
       " 1\n",
       " 2\n",
       " 3\n",
       " 4\n",
       " 5\n",
       " 6\n",
       " 7\n",
       " 8\n",
       " 9"
      ]
     },
     "execution_count": 14,
     "metadata": {},
     "output_type": "execute_result"
    }
   ],
   "source": [
    "x = [1, 2, 3, 4, 5, 6, 7, 8, 9]"
   ]
  },
  {
   "cell_type": "code",
   "execution_count": 15,
   "id": "97389cc2-bd3c-41d6-9c3d-d808e1761970",
   "metadata": {},
   "outputs": [
    {
     "data": {
      "text/plain": [
       "1"
      ]
     },
     "execution_count": 15,
     "metadata": {},
     "output_type": "execute_result"
    }
   ],
   "source": [
    "x[1] # explicit indexing"
   ]
  },
  {
   "cell_type": "code",
   "execution_count": 16,
   "id": "e3fb9291-20dd-4edc-b079-bbb09bd446c5",
   "metadata": {},
   "outputs": [
    {
     "data": {
      "text/plain": [
       "1"
      ]
     },
     "execution_count": 16,
     "metadata": {},
     "output_type": "execute_result"
    }
   ],
   "source": [
    "x[begin] # first element"
   ]
  },
  {
   "cell_type": "code",
   "execution_count": 17,
   "id": "00406ab0-920a-481c-97d1-7bddacb53a0d",
   "metadata": {},
   "outputs": [
    {
     "data": {
      "text/plain": [
       "9"
      ]
     },
     "execution_count": 17,
     "metadata": {},
     "output_type": "execute_result"
    }
   ],
   "source": [
    "x[end] # last element"
   ]
  },
  {
   "cell_type": "code",
   "execution_count": 18,
   "id": "9a08cb74-3565-4143-a17b-0d81c6afcaed",
   "metadata": {},
   "outputs": [
    {
     "data": {
      "text/plain": [
       "3-element Vector{Int64}:\n",
       " 2\n",
       " 3\n",
       " 4"
      ]
     },
     "execution_count": 18,
     "metadata": {},
     "output_type": "execute_result"
    }
   ],
   "source": [
    "x[2:4] # slicing, inclusive on both ends"
   ]
  },
  {
   "cell_type": "code",
   "execution_count": 23,
   "id": "9503aa98-62de-4677-9ed7-afaae66f18d6",
   "metadata": {},
   "outputs": [
    {
     "data": {
      "text/plain": [
       "3-element Vector{Int64}:\n",
       " 3\n",
       " 5\n",
       " 7"
      ]
     },
     "execution_count": 23,
     "metadata": {},
     "output_type": "execute_result"
    }
   ],
   "source": [
    "x[3:2:8] # slicing with a step"
   ]
  },
  {
   "cell_type": "code",
   "execution_count": 24,
   "id": "866726cb-9c1a-4248-a40b-a7bdc9f70f25",
   "metadata": {},
   "outputs": [
    {
     "data": {
      "text/plain": [
       "9-element Vector{Int64}:\n",
       " 9\n",
       " 8\n",
       " 7\n",
       " 6\n",
       " 5\n",
       " 4\n",
       " 3\n",
       " 2\n",
       " 1"
      ]
     },
     "execution_count": 24,
     "metadata": {},
     "output_type": "execute_result"
    }
   ],
   "source": [
    "x[end:-1:1] # reversing a slice, note the beginning and ending positions"
   ]
  },
  {
   "cell_type": "code",
   "execution_count": 27,
   "id": "33856347-8a6b-4c1a-8e27-c1fa38726583",
   "metadata": {
    "tags": []
   },
   "outputs": [
    {
     "data": {
      "text/plain": [
       "5-element Vector{Int64}:\n",
       " 9\n",
       " 7\n",
       " 5\n",
       " 3\n",
       " 1"
      ]
     },
     "execution_count": 27,
     "metadata": {},
     "output_type": "execute_result"
    }
   ],
   "source": [
    "x[end:-2:begin] # another way of reversing, this time with skipping"
   ]
  },
  {
   "cell_type": "code",
   "execution_count": 28,
   "id": "a9c27e52-740d-470d-9364-832972d33a19",
   "metadata": {
    "tags": []
   },
   "outputs": [
    {
     "data": {
      "text/plain": [
       "Int64[]"
      ]
     },
     "execution_count": 28,
     "metadata": {},
     "output_type": "execute_result"
    }
   ],
   "source": [
    "x[1:-1:end] # here is what happens if you get your slice wrong"
   ]
  },
  {
   "cell_type": "markdown",
   "id": "6a5e73ad-f54b-4c05-a056-5d0513e49ec8",
   "metadata": {},
   "source": [
    "Arrays need not contain elements of the same type"
   ]
  },
  {
   "cell_type": "code",
   "execution_count": 29,
   "id": "8ff1d221-119d-4c32-83b5-e1c532e2fa0f",
   "metadata": {
    "tags": []
   },
   "outputs": [
    {
     "data": {
      "text/plain": [
       "4-element Vector{Any}:\n",
       "   1\n",
       "   2.0\n",
       " 3 + 0im\n",
       "    \"four\""
      ]
     },
     "execution_count": 29,
     "metadata": {},
     "output_type": "execute_result"
    }
   ],
   "source": [
    "y = [1, 2.0, 3+0im, \"four\"]"
   ]
  },
  {
   "cell_type": "markdown",
   "id": "4034f2d5-24a1-4483-ba58-8675702c2054",
   "metadata": {},
   "source": [
    "#### Assignment"
   ]
  },
  {
   "cell_type": "code",
   "execution_count": 31,
   "id": "1a821211-e7b8-4c1e-9bd7-cd384700fb67",
   "metadata": {},
   "outputs": [
    {
     "name": "stdout",
     "output_type": "stream",
     "text": [
      "[100, 2, 3, 4, 5, 6, 7, 8, 9]\n"
     ]
    }
   ],
   "source": [
    "x[1] = 100;\n",
    "println(x)"
   ]
  },
  {
   "cell_type": "code",
   "execution_count": 35,
   "id": "f8bb0469-3d6a-48e8-a03c-abaad5186383",
   "metadata": {},
   "outputs": [
    {
     "data": {
      "text/plain": [
       "9-element Vector{Int64}:\n",
       " 1001\n",
       " 1002\n",
       " 1003\n",
       "    4\n",
       "    5\n",
       "    6\n",
       "    7\n",
       "    8\n",
       "    9"
      ]
     },
     "execution_count": 35,
     "metadata": {},
     "output_type": "execute_result"
    }
   ],
   "source": [
    "x[1:3] = 1001:1003;\n",
    "x # NB: the last element in a code cell is displayed in the Jupyter Notebook as seen here"
   ]
  },
  {
   "cell_type": "markdown",
   "id": "15af17c1-9cdc-4590-8b79-89c10e4883d0",
   "metadata": {},
   "source": [
    "### Multidimensional arrays"
   ]
  },
  {
   "cell_type": "code",
   "execution_count": 1,
   "id": "731cd7b5-20dd-4166-8088-0cc7b2bb4849",
   "metadata": {},
   "outputs": [
    {
     "data": {
      "text/plain": [
       "1×3 Matrix{Int64}:\n",
       " 1  2  3"
      ]
     },
     "execution_count": 1,
     "metadata": {},
     "output_type": "execute_result"
    }
   ],
   "source": [
    "x = [1 2 3]"
   ]
  },
  {
   "cell_type": "markdown",
   "id": "6fe1f573-dde7-4be8-8ce9-6acda3d8c862",
   "metadata": {},
   "source": [
    "### Tuples"
   ]
  },
  {
   "cell_type": "markdown",
   "id": "f9e1b0fb-11de-4265-b4f0-e702d369dccb",
   "metadata": {},
   "source": [
    "### Structs"
   ]
  }
 ],
 "metadata": {
  "kernelspec": {
   "display_name": "Julia 1.8.2",
   "language": "julia",
   "name": "julia-1.8"
  },
  "language_info": {
   "file_extension": ".jl",
   "mimetype": "application/julia",
   "name": "julia",
   "version": "1.8.2"
  }
 },
 "nbformat": 4,
 "nbformat_minor": 5
}
