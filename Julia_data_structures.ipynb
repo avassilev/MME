{
 "cells": [
  {
   "cell_type": "markdown",
   "id": "8dd13e03-7bcf-40e7-9396-0a05c13fae1b",
   "metadata": {},
   "source": [
    "# Julia – some data structures"
   ]
  },
  {
   "cell_type": "markdown",
   "id": "962fa760-e83f-46bd-9605-4bb3c0086c81",
   "metadata": {},
   "source": [
    "### Arrays and basic operations on arrays"
   ]
  },
  {
   "cell_type": "code",
   "execution_count": null,
   "id": "e5d60169-281a-4ded-a1fe-a0a7639dc8c9",
   "metadata": {
    "tags": []
   },
   "outputs": [],
   "source": [
    "x = [1, 2, 3, 4, 5, 6, 7, 8, 9]"
   ]
  },
  {
   "cell_type": "code",
   "execution_count": null,
   "id": "97389cc2-bd3c-41d6-9c3d-d808e1761970",
   "metadata": {},
   "outputs": [],
   "source": [
    "x[1] # explicit indexing"
   ]
  },
  {
   "cell_type": "code",
   "execution_count": null,
   "id": "e3fb9291-20dd-4edc-b079-bbb09bd446c5",
   "metadata": {},
   "outputs": [],
   "source": [
    "x[begin] # first element"
   ]
  },
  {
   "cell_type": "code",
   "execution_count": null,
   "id": "00406ab0-920a-481c-97d1-7bddacb53a0d",
   "metadata": {},
   "outputs": [],
   "source": [
    "x[end] # last element"
   ]
  },
  {
   "cell_type": "code",
   "execution_count": null,
   "id": "9a08cb74-3565-4143-a17b-0d81c6afcaed",
   "metadata": {},
   "outputs": [],
   "source": [
    "x[2:4] # slicing, inclusive on both ends"
   ]
  },
  {
   "cell_type": "code",
   "execution_count": null,
   "id": "d2cc0158-64c3-4e14-9b54-8745814ef0e2",
   "metadata": {},
   "outputs": [],
   "source": [
    "x[[2,3,8]] # selecting irregularly spaced elements"
   ]
  },
  {
   "cell_type": "code",
   "execution_count": null,
   "id": "9503aa98-62de-4677-9ed7-afaae66f18d6",
   "metadata": {},
   "outputs": [],
   "source": [
    "x[3:2:8] # slicing with a step"
   ]
  },
  {
   "cell_type": "code",
   "execution_count": null,
   "id": "866726cb-9c1a-4248-a40b-a7bdc9f70f25",
   "metadata": {},
   "outputs": [],
   "source": [
    "x[end:-1:1] # reversing a slice, note the beginning and ending positions"
   ]
  },
  {
   "cell_type": "code",
   "execution_count": null,
   "id": "33856347-8a6b-4c1a-8e27-c1fa38726583",
   "metadata": {
    "tags": []
   },
   "outputs": [],
   "source": [
    "x[end:-2:begin] # another way of reversing, this time with skipping"
   ]
  },
  {
   "cell_type": "code",
   "execution_count": null,
   "id": "a9c27e52-740d-470d-9364-832972d33a19",
   "metadata": {
    "tags": []
   },
   "outputs": [],
   "source": [
    "x[1:-1:end] # here is what happens if you get your slice wrong"
   ]
  },
  {
   "cell_type": "markdown",
   "id": "6a5e73ad-f54b-4c05-a056-5d0513e49ec8",
   "metadata": {},
   "source": [
    "Arrays need not contain elements of the same type"
   ]
  },
  {
   "cell_type": "code",
   "execution_count": null,
   "id": "8ff1d221-119d-4c32-83b5-e1c532e2fa0f",
   "metadata": {
    "tags": []
   },
   "outputs": [],
   "source": [
    "y = [1, 2.0, 3+0im, \"four\"]"
   ]
  },
  {
   "cell_type": "markdown",
   "id": "4ea5a112-1ed8-45d0-8807-ba3496397129",
   "metadata": {},
   "source": [
    "In particular, arrays can contain other arrays"
   ]
  },
  {
   "cell_type": "code",
   "execution_count": null,
   "id": "dfdff410-2a3f-458b-b0e5-b2a668e0d38a",
   "metadata": {
    "tags": []
   },
   "outputs": [],
   "source": [
    "y = [1, 2.0, [3, 4.0]] # note the type of y"
   ]
  },
  {
   "cell_type": "markdown",
   "id": "4034f2d5-24a1-4483-ba58-8675702c2054",
   "metadata": {},
   "source": [
    "#### Assignment"
   ]
  },
  {
   "cell_type": "code",
   "execution_count": null,
   "id": "1a821211-e7b8-4c1e-9bd7-cd384700fb67",
   "metadata": {},
   "outputs": [],
   "source": [
    "x[1] = 100;\n",
    "println(x)"
   ]
  },
  {
   "cell_type": "code",
   "execution_count": null,
   "id": "f8bb0469-3d6a-48e8-a03c-abaad5186383",
   "metadata": {
    "tags": []
   },
   "outputs": [],
   "source": [
    "x[1:3] = 1001:1003;\n",
    "x # NB: the last element in a code cell is displayed in the Jupyter Notebook as seen here"
   ]
  },
  {
   "cell_type": "markdown",
   "id": "8edf85db-2063-4052-ae26-4177a25cca8a",
   "metadata": {},
   "source": [
    "Adding elements to an array:"
   ]
  },
  {
   "cell_type": "code",
   "execution_count": null,
   "id": "0e09298d-6ade-4215-9673-02f53e1f4433",
   "metadata": {},
   "outputs": [],
   "source": [
    "push!(x,55) # Note the exclamation mark in the function call"
   ]
  },
  {
   "cell_type": "code",
   "execution_count": null,
   "id": "8c602ccc-658f-4622-abd8-2e414a2fd0c5",
   "metadata": {},
   "outputs": [],
   "source": [
    "append!(x,[66,77,88]) # unpacks the collection"
   ]
  },
  {
   "cell_type": "markdown",
   "id": "921389e4-6d00-49b7-9a39-a2190abb90db",
   "metadata": {},
   "source": [
    "Compare with the following:"
   ]
  },
  {
   "cell_type": "code",
   "execution_count": null,
   "id": "9c4b972c-4e19-4bef-bf37-9fe6e9803c8c",
   "metadata": {},
   "outputs": [],
   "source": [
    "println(y)\n",
    "push!(y,[5.0,6.0])"
   ]
  },
  {
   "cell_type": "markdown",
   "id": "6ed5e91f-7070-4a29-be53-61887e098b75",
   "metadata": {},
   "source": [
    "Adding at the beginning:"
   ]
  },
  {
   "cell_type": "code",
   "execution_count": null,
   "id": "69e546dc-5f44-4f8c-b1ae-9e08c2d2fd9f",
   "metadata": {},
   "outputs": [],
   "source": [
    "pushfirst!(x,0)"
   ]
  },
  {
   "cell_type": "markdown",
   "id": "adf1ef5c-78b0-4685-aa91-f5b284301603",
   "metadata": {},
   "source": [
    "Inserting at a specific position:"
   ]
  },
  {
   "cell_type": "code",
   "execution_count": null,
   "id": "7d9e1348-de24-45ed-9e5b-25746618a305",
   "metadata": {},
   "outputs": [],
   "source": [
    "insert!(x,5,3)"
   ]
  },
  {
   "cell_type": "markdown",
   "id": "08056829-4d82-406d-af5a-8d047ec898fa",
   "metadata": {},
   "source": [
    "Deleting elements:"
   ]
  },
  {
   "cell_type": "code",
   "execution_count": null,
   "id": "e6553370-b48c-40fe-a681-df281c067109",
   "metadata": {},
   "outputs": [],
   "source": [
    "deleteat!(x,1)"
   ]
  },
  {
   "cell_type": "code",
   "execution_count": null,
   "id": "46272989-cae1-42ec-b5a9-0c6d87fc9a66",
   "metadata": {},
   "outputs": [],
   "source": [
    "deleteat!(x,length(x))"
   ]
  },
  {
   "cell_type": "code",
   "execution_count": null,
   "id": "0ddf60c5-a6a6-44ca-b712-7394f189e240",
   "metadata": {},
   "outputs": [],
   "source": [
    "deleteat!(x,3)"
   ]
  },
  {
   "cell_type": "markdown",
   "id": "223f1697-481f-4504-9263-1eb105aa9909",
   "metadata": {},
   "source": [
    "`pop!` removes an element **and** returns it. We can thus capture it in a variable. "
   ]
  },
  {
   "cell_type": "code",
   "execution_count": null,
   "id": "b290c6bc-fdf1-43d3-b3bd-7d446cd716e8",
   "metadata": {},
   "outputs": [],
   "source": [
    "first_value = popat!(x,1);\n",
    "println(\"first_value = $first_value\") # Note the string interpolation technique!\n",
    "println(\"x = $x\")"
   ]
  },
  {
   "cell_type": "markdown",
   "id": "6d67ef2a-21ae-4117-90ad-19093a47e61e",
   "metadata": {},
   "source": [
    "####  Variables as pointers in Julia"
   ]
  },
  {
   "cell_type": "code",
   "execution_count": null,
   "id": "53840bc4-4949-43c6-a40d-a5eb25a6a877",
   "metadata": {},
   "outputs": [],
   "source": [
    "x = [1,2,3]\n",
    "y = x\n",
    "y[1] = 100\n",
    "println(y)\n",
    "println(x)"
   ]
  },
  {
   "cell_type": "code",
   "execution_count": null,
   "id": "9cdc8e33-400c-4bb6-a31f-041734b16281",
   "metadata": {},
   "outputs": [],
   "source": [
    "x = [1,2,3]\n",
    "y = copy(x)\n",
    "y[1] = 100\n",
    "println(y)\n",
    "println(x)"
   ]
  },
  {
   "cell_type": "markdown",
   "id": "6fe1f573-dde7-4be8-8ce9-6acda3d8c862",
   "metadata": {},
   "source": [
    "### Tuples"
   ]
  },
  {
   "cell_type": "code",
   "execution_count": null,
   "id": "8cf4ba85-6ade-4f13-bded-dfa864508051",
   "metadata": {},
   "outputs": [],
   "source": [
    "t = (100, 200, 300)"
   ]
  },
  {
   "cell_type": "code",
   "execution_count": null,
   "id": "e17cf227-e43f-4863-9aae-d3b11bf84d21",
   "metadata": {},
   "outputs": [],
   "source": [
    "typeof(t)"
   ]
  },
  {
   "cell_type": "code",
   "execution_count": null,
   "id": "760b1fac-586c-4643-b5af-7912fd054466",
   "metadata": {},
   "outputs": [],
   "source": [
    "t1 = (5) # misleading, not a tuple\n",
    "typeof(t)"
   ]
  },
  {
   "cell_type": "code",
   "execution_count": null,
   "id": "3856afc7-7bbc-408c-a021-47e093238905",
   "metadata": {},
   "outputs": [],
   "source": [
    "t1 = (5,) # now it is a tuple, note the trailing comma\n",
    "typeof(t1)"
   ]
  },
  {
   "cell_type": "code",
   "execution_count": null,
   "id": "b84661c7-b997-48bf-b57a-3739ea139315",
   "metadata": {},
   "outputs": [],
   "source": [
    "t[1]"
   ]
  },
  {
   "cell_type": "code",
   "execution_count": null,
   "id": "f602a352-7d80-4416-9955-6cf549313780",
   "metadata": {},
   "outputs": [],
   "source": [
    "t[1:2]"
   ]
  },
  {
   "cell_type": "code",
   "execution_count": null,
   "id": "7354c0fa-b1fd-47d1-9bd2-daaeda11bfb6",
   "metadata": {},
   "outputs": [],
   "source": [
    "# tuples are immutable, hence the error when you try assignment:\n",
    "t[2] = 500"
   ]
  },
  {
   "cell_type": "markdown",
   "id": "13590275-ecf4-4240-9080-9b629a1d841f",
   "metadata": {},
   "source": [
    "Tuple unpacking"
   ]
  },
  {
   "cell_type": "code",
   "execution_count": null,
   "id": "e6a907d2-9fe6-45e6-9516-1080f3d14368",
   "metadata": {},
   "outputs": [],
   "source": [
    "a,b,c = (1,2,3)\n",
    "@show a b c ; # welcome to the @show macro"
   ]
  },
  {
   "cell_type": "markdown",
   "id": "f451e790-94a3-419f-bc10-ae6e3b6e9c38",
   "metadata": {},
   "source": [
    "Unpacking works for arrays as well:"
   ]
  },
  {
   "cell_type": "code",
   "execution_count": null,
   "id": "988d0ebd-fefe-435c-be99-8d8d8c88d63f",
   "metadata": {},
   "outputs": [],
   "source": [
    "a,b,c = [10,20,30]\n",
    "@show a b c ; "
   ]
  },
  {
   "cell_type": "markdown",
   "id": "9521b81f-f9be-490c-917e-1c51dfec5395",
   "metadata": {},
   "source": [
    "Named tuples"
   ]
  },
  {
   "cell_type": "code",
   "execution_count": null,
   "id": "64e77eab-ef9e-43bf-b88e-21279226223e",
   "metadata": {
    "tags": []
   },
   "outputs": [],
   "source": [
    "X = (a=5,b=3.14,c=\"spam\")"
   ]
  },
  {
   "cell_type": "code",
   "execution_count": null,
   "id": "c6ee6cb9-a962-45c9-b9db-d6995e05e00e",
   "metadata": {},
   "outputs": [],
   "source": [
    "X.a"
   ]
  },
  {
   "cell_type": "code",
   "execution_count": null,
   "id": "a8815bb8-0b87-4ed3-b146-8be46338442c",
   "metadata": {},
   "outputs": [],
   "source": [
    "X.c # NB: Something like X.c = \"eggs\" will fail because of immutability"
   ]
  },
  {
   "cell_type": "code",
   "execution_count": null,
   "id": "95656317-148e-493b-8f63-1a81c2e5e336",
   "metadata": {},
   "outputs": [],
   "source": [
    "NamedTuple{(:a, :b)}(X) # Subsetting a named tuple according to the docs"
   ]
  },
  {
   "cell_type": "markdown",
   "id": "f9e1b0fb-11de-4265-b4f0-e702d369dccb",
   "metadata": {},
   "source": [
    "### Dictionaries"
   ]
  },
  {
   "cell_type": "markdown",
   "id": "b1a4ac94-0360-4ab9-8e00-2d931bf0cddd",
   "metadata": {},
   "source": [
    "Dictionaries are mutable structures of key-value pairs that implement a hash table."
   ]
  },
  {
   "cell_type": "code",
   "execution_count": null,
   "id": "abd0c5fe-e95c-4622-bd22-650508ac4b92",
   "metadata": {},
   "outputs": [],
   "source": [
    "d = Dict(\"x\" => 5, \"y\" => 10)"
   ]
  },
  {
   "cell_type": "code",
   "execution_count": null,
   "id": "7997757a-f580-4c85-be8f-8d0e98761d6a",
   "metadata": {},
   "outputs": [],
   "source": [
    "Dict([(\"A\", 1), (\"B\", 2)]) # also an option"
   ]
  },
  {
   "cell_type": "code",
   "execution_count": null,
   "id": "6af3ddc2-fc6d-4299-a66f-304345c77ca0",
   "metadata": {},
   "outputs": [],
   "source": [
    "d[\"x\"]"
   ]
  },
  {
   "cell_type": "code",
   "execution_count": null,
   "id": "0eceb85f-b036-436b-ac07-620d0d4a604b",
   "metadata": {},
   "outputs": [],
   "source": [
    "# A reminder that single quotes refer to a different type, hence the error\n",
    "d['x']"
   ]
  },
  {
   "cell_type": "code",
   "execution_count": null,
   "id": "9fe3bb63-4c79-40b0-a466-506d0a948b91",
   "metadata": {},
   "outputs": [],
   "source": [
    "d[\"y\"] = 100 # change an element\n",
    "d"
   ]
  },
  {
   "cell_type": "code",
   "execution_count": null,
   "id": "d8d622bd-1bf0-4c2b-9561-02e6b485b5a2",
   "metadata": {},
   "outputs": [],
   "source": [
    "# this will fail because of the Dict type\n",
    "d[\"z\"] = \"a thousand\""
   ]
  },
  {
   "cell_type": "markdown",
   "id": "7c22e557-8189-478d-8c9d-5a1553b2bfd6",
   "metadata": {},
   "source": [
    "An equivalent definition with explicit key-value types:"
   ]
  },
  {
   "cell_type": "code",
   "execution_count": null,
   "id": "65c4deee-7858-4db6-b4ad-7b519097a86f",
   "metadata": {},
   "outputs": [],
   "source": [
    "d = Dict{String,Int64}(\"x\" => 5, \"y\" => 10)"
   ]
  },
  {
   "cell_type": "markdown",
   "id": "cd6a5a62-48b2-4b15-9461-55ec801021a4",
   "metadata": {},
   "source": [
    "Let's broaden the admissible types:"
   ]
  },
  {
   "cell_type": "code",
   "execution_count": null,
   "id": "08183c88-51fe-4a39-ad8b-017d8a4ecd51",
   "metadata": {},
   "outputs": [],
   "source": [
    "d = Dict{Any,Any}(\"x\" => 5, \"y\" => 10)"
   ]
  },
  {
   "cell_type": "code",
   "execution_count": null,
   "id": "91d87596-cb42-486a-9674-295ecd18d749",
   "metadata": {},
   "outputs": [],
   "source": [
    "# now this works\n",
    "d[\"z\"] = \"a thousand\"\n",
    "d"
   ]
  },
  {
   "cell_type": "markdown",
   "id": "898f2bc8-2238-4203-8345-a1e2a7fff954",
   "metadata": {},
   "source": [
    "What happens if a key is not in a dictionary?"
   ]
  },
  {
   "cell_type": "code",
   "execution_count": null,
   "id": "ccd6f10d-0f49-49c3-8a14-66b31d776771",
   "metadata": {},
   "outputs": [],
   "source": [
    "d[\"a\"]"
   ]
  },
  {
   "cell_type": "markdown",
   "id": "969f03ed-7a17-4aa9-be5a-e1a7a6a3d078",
   "metadata": {},
   "source": [
    "A more graceful way of querying a dictionary would be by using the `get` method, which provides a way of returning a default value:"
   ]
  },
  {
   "cell_type": "code",
   "execution_count": null,
   "id": "34e237dc-6f41-4e93-8c5f-f1c227188e3a",
   "metadata": {},
   "outputs": [],
   "source": [
    "get(d, \"a\", nothing) # in this case the default value is nothing"
   ]
  },
  {
   "cell_type": "markdown",
   "id": "35416bf1-efd5-417b-a911-66c321065e43",
   "metadata": {},
   "source": [
    "Alternatively, one may use the following:"
   ]
  },
  {
   "cell_type": "code",
   "execution_count": null,
   "id": "96ed237d-9a90-4269-b048-a6fe4488bff5",
   "metadata": {},
   "outputs": [],
   "source": [
    "haskey(d,\"a\")"
   ]
  },
  {
   "cell_type": "code",
   "execution_count": null,
   "id": "d88acdac-9057-4972-ac80-1d4db5daa533",
   "metadata": {},
   "outputs": [],
   "source": [
    "haskey(d,\"z\")"
   ]
  },
  {
   "cell_type": "markdown",
   "id": "250a65f0-784d-4348-a3b7-8aab21ee2493",
   "metadata": {},
   "source": [
    "Checking if an entire key-value pair is in a Dict:"
   ]
  },
  {
   "cell_type": "code",
   "execution_count": null,
   "id": "6ac1b783-4aaf-4790-9f3e-242391e300bf",
   "metadata": {},
   "outputs": [],
   "source": [
    "in(\"z\" => 2, d)"
   ]
  },
  {
   "cell_type": "code",
   "execution_count": null,
   "id": "19390ef7-2369-4355-914a-d5c612492c46",
   "metadata": {},
   "outputs": [],
   "source": [
    "in(\"z\" => \"a thousand\", d)"
   ]
  },
  {
   "cell_type": "markdown",
   "id": "ff23ceba-5fba-4c56-b497-c7ac4c981610",
   "metadata": {},
   "source": [
    "Deleting a key-value pair:"
   ]
  },
  {
   "cell_type": "code",
   "execution_count": null,
   "id": "c4b0ea18-0ef5-42a9-bb63-c41d7ddab5b9",
   "metadata": {},
   "outputs": [],
   "source": [
    "delete!(d,\"z\") # Note the exclamation mark in the function call"
   ]
  },
  {
   "cell_type": "code",
   "execution_count": null,
   "id": "886f97b0-03b7-4441-ab1c-ca67a813af26",
   "metadata": {},
   "outputs": [],
   "source": [
    "d # confirm that d has been modified and there is no \"z\" key"
   ]
  },
  {
   "cell_type": "markdown",
   "id": "d3b37e43-4cc9-43f7-97d4-ae14c840e8c2",
   "metadata": {},
   "source": [
    "Getting all the keys and values:"
   ]
  },
  {
   "cell_type": "code",
   "execution_count": null,
   "id": "e8a25332-dc84-4d9b-99f3-56b4f69f7640",
   "metadata": {},
   "outputs": [],
   "source": [
    "keys(d)"
   ]
  },
  {
   "cell_type": "code",
   "execution_count": null,
   "id": "0ed86a53-2334-4262-bfa0-83d9ac8bf3c5",
   "metadata": {},
   "outputs": [],
   "source": [
    "values(d)"
   ]
  },
  {
   "cell_type": "markdown",
   "id": "292a34fb-ceb4-4831-ab84-464a5949c36f",
   "metadata": {
    "tags": []
   },
   "source": [
    "### Structs"
   ]
  },
  {
   "cell_type": "code",
   "execution_count": null,
   "id": "161ec3cb-7aad-4367-9b3c-f626019bb33a",
   "metadata": {},
   "outputs": [],
   "source": [
    "struct Account1\n",
    "    name\n",
    "    balance\n",
    "end"
   ]
  },
  {
   "cell_type": "code",
   "execution_count": null,
   "id": "f74fad57-e4e5-43be-92b7-14fdb16b12de",
   "metadata": {
    "tags": []
   },
   "outputs": [],
   "source": [
    "a1 = Account1(\"John\", 150)"
   ]
  },
  {
   "cell_type": "code",
   "execution_count": null,
   "id": "50f18915-f682-4269-ae9d-227f47c50a28",
   "metadata": {},
   "outputs": [],
   "source": [
    "a1.name"
   ]
  },
  {
   "cell_type": "code",
   "execution_count": null,
   "id": "870f41ef-9998-4b8c-9048-12c7110a4657",
   "metadata": {},
   "outputs": [],
   "source": [
    "a1.balance"
   ]
  },
  {
   "cell_type": "code",
   "execution_count": null,
   "id": "07192adc-a697-4aa1-bb5c-a2a3dab55767",
   "metadata": {
    "tags": []
   },
   "outputs": [],
   "source": [
    "a2 = Account1(\"John\", \"blah\") # this is syntactically admissible but does not make sense"
   ]
  },
  {
   "cell_type": "markdown",
   "id": "fa3a4d02-5383-4fef-9615-9a5900f31355",
   "metadata": {},
   "source": [
    "Type annotations to the rescue:"
   ]
  },
  {
   "cell_type": "code",
   "execution_count": null,
   "id": "34ddf8bb-8c99-4990-a09a-d844953e1ee1",
   "metadata": {},
   "outputs": [],
   "source": [
    "struct Account2\n",
    "    name::String\n",
    "    balance::Float64\n",
    "end"
   ]
  },
  {
   "cell_type": "code",
   "execution_count": null,
   "id": "898d0b17-33fa-4cb9-bd5f-3a3ebe1f6251",
   "metadata": {
    "tags": []
   },
   "outputs": [],
   "source": [
    "a2 = Account2(\"John\", \"blah\") # this now raises an error"
   ]
  },
  {
   "cell_type": "code",
   "execution_count": null,
   "id": "d8523821-40fd-4991-b08b-eb11d1d882ba",
   "metadata": {
    "tags": []
   },
   "outputs": [],
   "source": [
    "a2 = Account2(\"John\", 1000)"
   ]
  },
  {
   "cell_type": "markdown",
   "id": "fa940eff-255c-4e8e-9a28-7fa0855340b2",
   "metadata": {
    "tags": []
   },
   "source": [
    "What if John get some more money?"
   ]
  },
  {
   "cell_type": "code",
   "execution_count": null,
   "id": "5017ff80-0968-406b-ab08-050e0ba8c4aa",
   "metadata": {},
   "outputs": [],
   "source": [
    "a2.balance = 1500 # problem, structs are immutable"
   ]
  },
  {
   "cell_type": "code",
   "execution_count": null,
   "id": "ab2e48e8-02c9-4796-ad6c-0eb85de17c34",
   "metadata": {},
   "outputs": [],
   "source": [
    "mutable struct Account3\n",
    "    name::String\n",
    "    balance::Float64\n",
    "end"
   ]
  },
  {
   "cell_type": "code",
   "execution_count": null,
   "id": "0a0f49f7-a19d-41db-8060-cb39e3e40d14",
   "metadata": {},
   "outputs": [],
   "source": [
    "a3 = Account3(\"John\", 1000)"
   ]
  },
  {
   "cell_type": "code",
   "execution_count": null,
   "id": "49674d14-20e2-4a72-8df4-ff9996e55846",
   "metadata": {},
   "outputs": [],
   "source": [
    "a3.balance = 1500 "
   ]
  },
  {
   "cell_type": "code",
   "execution_count": null,
   "id": "4c2f00a7-09d4-43d4-9226-73a44f46c06b",
   "metadata": {},
   "outputs": [],
   "source": [
    "a3.name = \"John Smith\""
   ]
  },
  {
   "cell_type": "code",
   "execution_count": null,
   "id": "2cfdf93a-c623-4c90-b371-fd60fde2ef42",
   "metadata": {},
   "outputs": [],
   "source": [
    "a3"
   ]
  },
  {
   "cell_type": "markdown",
   "id": "b8a32cc6-fd27-41f3-aadb-4b55271574bc",
   "metadata": {},
   "source": [
    "### Matrices and multidimensional arrays"
   ]
  },
  {
   "cell_type": "markdown",
   "id": "41fe5a56-a413-48ac-8c1d-58b3b483c743",
   "metadata": {},
   "source": [
    "#### Basic matrices"
   ]
  },
  {
   "cell_type": "code",
   "execution_count": null,
   "id": "731cd7b5-20dd-4166-8088-0cc7b2bb4849",
   "metadata": {
    "tags": []
   },
   "outputs": [],
   "source": [
    "x = [1 2 3] # note the use of spaces instead of commas"
   ]
  },
  {
   "cell_type": "code",
   "execution_count": null,
   "id": "c7ec9a6e-a2d1-4284-bba3-b21e40f80b2d",
   "metadata": {},
   "outputs": [],
   "source": [
    "x = [1 2 3; 4 5 6; 7 8 9] # semicolons denote new lines"
   ]
  },
  {
   "cell_type": "code",
   "execution_count": null,
   "id": "271e33b4-8b83-47e7-914e-7e2c3ab7e41a",
   "metadata": {},
   "outputs": [],
   "source": [
    "[1 2 3 \n",
    " 4 5 6 \n",
    " 7 8 9] # one may equivalently use new lines directly"
   ]
  },
  {
   "cell_type": "code",
   "execution_count": null,
   "id": "59b22692-5b75-4e98-a0e3-a231ac37caea",
   "metadata": {},
   "outputs": [],
   "source": [
    "x[1]"
   ]
  },
  {
   "cell_type": "code",
   "execution_count": null,
   "id": "4b1891ad-325d-4cf7-9ea5-fb6f24a3381b",
   "metadata": {},
   "outputs": [],
   "source": [
    "x[5] # the fifth element, going along rows"
   ]
  },
  {
   "cell_type": "code",
   "execution_count": null,
   "id": "f8dba68b-cc09-4593-9314-e334f99acacf",
   "metadata": {},
   "outputs": [],
   "source": [
    "x[1,2] # this is the usual matrix notation"
   ]
  },
  {
   "cell_type": "code",
   "execution_count": null,
   "id": "0fd0d4a8-7e24-456f-97d8-f2892e0f2cf0",
   "metadata": {},
   "outputs": [],
   "source": [
    "x[3,:] # colons denote everything"
   ]
  },
  {
   "cell_type": "code",
   "execution_count": null,
   "id": "5c17451b-dea2-4dbb-929b-b047713c22aa",
   "metadata": {},
   "outputs": [],
   "source": [
    "x[[1,3],:] # select certain rows"
   ]
  },
  {
   "cell_type": "code",
   "execution_count": null,
   "id": "643bf6bc-10f3-42f9-bd1e-c242185500a0",
   "metadata": {},
   "outputs": [],
   "source": [
    "x[:,2] # similarly, select a column"
   ]
  },
  {
   "cell_type": "code",
   "execution_count": null,
   "id": "62dcc5cd-002d-4277-b556-f2d764ff51ac",
   "metadata": {},
   "outputs": [],
   "source": [
    "x[:,2:end] # from column 2 to the end"
   ]
  },
  {
   "cell_type": "markdown",
   "id": "d96128bb-bc17-4163-89a6-6706822c96a9",
   "metadata": {},
   "source": [
    "Concatenation and replication"
   ]
  },
  {
   "cell_type": "code",
   "execution_count": null,
   "id": "0491e1cf-80fb-4b83-a842-2c0658f4e3e0",
   "metadata": {},
   "outputs": [],
   "source": [
    "hcat([1 2; 3 4],[5 6; 7 8]) # horizontal"
   ]
  },
  {
   "cell_type": "code",
   "execution_count": null,
   "id": "2489bb42-da65-41fb-8b37-fe9d2d400108",
   "metadata": {},
   "outputs": [],
   "source": [
    "vcat([1 2; 3 4],[5 6; 7 8]) # vertical"
   ]
  },
  {
   "cell_type": "code",
   "execution_count": null,
   "id": "29d458b3-6301-4fdd-8a56-6d578df22a9e",
   "metadata": {},
   "outputs": [],
   "source": [
    "repeat([1 2; 3 4],2,3) # replication"
   ]
  },
  {
   "cell_type": "markdown",
   "id": "f9fe2f67-5e0b-4c49-806e-c6f2a90c7b6f",
   "metadata": {},
   "source": [
    "#### Multidimensional arrays"
   ]
  },
  {
   "cell_type": "markdown",
   "id": "1319688e-046a-40d1-a8ed-7e4164665048",
   "metadata": {},
   "source": [
    "- As we saw above, single semicolons (;) or newlines induce vertical concatenation\n",
    "- Space (or tabs), as well as double semicolons, induce horizontal concatenation"
   ]
  },
  {
   "cell_type": "code",
   "execution_count": null,
   "id": "5b5ea73f-f824-450a-9996-3208609733a4",
   "metadata": {},
   "outputs": [],
   "source": [
    "x = [1;; 2;; 3] # just like the example with spaces above"
   ]
  },
  {
   "cell_type": "markdown",
   "id": "332f9ce5-4393-4fa0-af22-066ded44a012",
   "metadata": {},
   "source": [
    "By extension, the number of semicolons indicates concatenation along a particular dimension"
   ]
  },
  {
   "cell_type": "code",
   "execution_count": null,
   "id": "407475d0-5d6b-4fdd-8bad-927d3b6fbdb1",
   "metadata": {},
   "outputs": [],
   "source": [
    "y = [1 2 3 4 ; 5 6 7 8 ;;; 9 10 11 12; 13 14 15 16]"
   ]
  },
  {
   "cell_type": "markdown",
   "id": "f6ef2124-0d70-49fa-98b2-67aa3de9af46",
   "metadata": {},
   "source": [
    "From the documentation:\n",
    "> Spaces (and tabs) have a higher precedence than semicolons, performing any horizontal concatenations first and then concatenating the result. Using double semicolons for the horizontal concatenation, on the other hand, performs any vertical concatenations before horizontally concatenating the result."
   ]
  },
  {
   "cell_type": "code",
   "execution_count": null,
   "id": "3fa37e04-03c5-41a6-9af0-ccef423a1809",
   "metadata": {},
   "outputs": [],
   "source": [
    "[zeros(Int, 2, 2) ; [3 4] ;; [1; 2] ; 5]"
   ]
  },
  {
   "cell_type": "code",
   "execution_count": null,
   "id": "3c924430-31cc-42c7-925d-23c1f1faa0b2",
   "metadata": {},
   "outputs": [],
   "source": [
    "[1:2; 4;; 1; 3:4]"
   ]
  },
  {
   "cell_type": "markdown",
   "id": "971721c9-4805-43c0-ab9f-d03c97fa2053",
   "metadata": {},
   "source": [
    "References to multidimensional arrays:"
   ]
  },
  {
   "cell_type": "code",
   "execution_count": null,
   "id": "1723903d-955e-401d-ad0d-a578eaf4e70f",
   "metadata": {},
   "outputs": [],
   "source": [
    "y[1,1,2]"
   ]
  },
  {
   "cell_type": "code",
   "execution_count": null,
   "id": "aabd865e-be41-4c05-806c-c596a48842a4",
   "metadata": {},
   "outputs": [],
   "source": [
    "y[1,1:2,2]"
   ]
  },
  {
   "cell_type": "code",
   "execution_count": null,
   "id": "1f116cda-9e62-4579-89f6-cc28636ed999",
   "metadata": {},
   "outputs": [],
   "source": [
    "y[1,1:3,:]"
   ]
  },
  {
   "cell_type": "markdown",
   "id": "03a02824-cd66-42c0-9fb5-dc58d368b801",
   "metadata": {},
   "source": [
    "#### Useful functions"
   ]
  },
  {
   "cell_type": "code",
   "execution_count": null,
   "id": "501c9649-6a02-40b8-9956-34d8fa9ec160",
   "metadata": {},
   "outputs": [],
   "source": [
    "@show x y"
   ]
  },
  {
   "cell_type": "code",
   "execution_count": null,
   "id": "b28179e8-c36f-4246-a6f6-90bd172ed351",
   "metadata": {},
   "outputs": [],
   "source": [
    "length(x) # number of elements"
   ]
  },
  {
   "cell_type": "code",
   "execution_count": null,
   "id": "ac96bbb8-255c-445f-bbf2-aada4b029eba",
   "metadata": {},
   "outputs": [],
   "source": [
    "length(y)"
   ]
  },
  {
   "cell_type": "code",
   "execution_count": null,
   "id": "be3d527b-b5ca-48f7-b030-3d4dab3df63e",
   "metadata": {},
   "outputs": [],
   "source": [
    "println(ndims(x)) # ndims returns number of dimensions\n",
    "println(ndims(y))"
   ]
  },
  {
   "cell_type": "code",
   "execution_count": null,
   "id": "dc1a54aa-551f-47bf-be93-02b605bfc653",
   "metadata": {},
   "outputs": [],
   "source": [
    "println(size(x)) # size returns number elements along each dimension as a tuple\n",
    "println(size(y))"
   ]
  },
  {
   "cell_type": "code",
   "execution_count": null,
   "id": "a8714eaa-b0c9-440a-9211-606525e0dbe7",
   "metadata": {},
   "outputs": [],
   "source": [
    "ones((3,4)) # array of appropriate dimensions populated with ones"
   ]
  },
  {
   "cell_type": "code",
   "execution_count": null,
   "id": "f8a8fd12-861f-41ec-8369-c8150a75d392",
   "metadata": {},
   "outputs": [],
   "source": [
    "zeros((2,2,3)) # array of appropriate dimensions populated with zeros"
   ]
  },
  {
   "cell_type": "code",
   "execution_count": null,
   "id": "e3a9134d-d2c5-4181-a51e-e70a5f2ef393",
   "metadata": {},
   "outputs": [],
   "source": [
    "zeros(Complex,(2,2,3)) # explicitly specifying the type"
   ]
  },
  {
   "cell_type": "code",
   "execution_count": null,
   "id": "5e321841-aeb0-433f-be5d-da408303a78f",
   "metadata": {},
   "outputs": [],
   "source": [
    "reshape(1:24, (3,4,2)) # first argument is data, second is desired shape (dimensions) of data"
   ]
  },
  {
   "cell_type": "markdown",
   "id": "92df3884-c965-4888-9586-a75e46a0c66e",
   "metadata": {},
   "source": [
    "The first index changes the fastest, i.e. we work \"down\" the columns by changing the row index etc. See below:"
   ]
  },
  {
   "cell_type": "code",
   "execution_count": null,
   "id": "5c220809-44c0-4a14-a1d0-46a9d36762e4",
   "metadata": {
    "tags": []
   },
   "outputs": [],
   "source": [
    "reshape([1 2 3 4 \n",
    "         5 6 7 8], (2,2,2)) "
   ]
  },
  {
   "cell_type": "code",
   "execution_count": null,
   "id": "7a9ed7ca-16ca-4e2f-bc38-a02bfa5e7a98",
   "metadata": {},
   "outputs": [],
   "source": [
    "reshape([1 2 3 4 \n",
    "         5 6 7 8], (4,2)) "
   ]
  },
  {
   "cell_type": "code",
   "execution_count": null,
   "id": "f0d39f5d-923f-4de3-a09f-8719559566d5",
   "metadata": {},
   "outputs": [],
   "source": [
    "reshape([1 2 3 4 \n",
    "         5 6 7 8], (8,1)) "
   ]
  },
  {
   "cell_type": "code",
   "execution_count": null,
   "id": "a635d44c-ae42-4de0-a85d-50f9b2067a9e",
   "metadata": {},
   "outputs": [],
   "source": [
    "range(5.5,7.7,10) # 10 linearly spaced elements from 5.5 to 7.7"
   ]
  },
  {
   "cell_type": "code",
   "execution_count": null,
   "id": "02b8154c-37fe-4d09-878c-918ebcaf60f4",
   "metadata": {},
   "outputs": [],
   "source": [
    "collect(range(5.5,7.7,10)) # collect performs the evaluation"
   ]
  },
  {
   "cell_type": "code",
   "execution_count": null,
   "id": "87aac348-e800-46d1-8475-aecf42331498",
   "metadata": {},
   "outputs": [],
   "source": [
    "# similarly:\n",
    "println(1:10)\n",
    "collect(1:10) # evaluated to a vector"
   ]
  },
  {
   "cell_type": "markdown",
   "id": "51fbe2f8-c07f-4817-b839-3f164fd27ff7",
   "metadata": {},
   "source": [
    "#### Matrix operations"
   ]
  },
  {
   "cell_type": "code",
   "execution_count": null,
   "id": "3dc7f1d8-38ef-49db-89d3-302694a8b4a1",
   "metadata": {},
   "outputs": [],
   "source": [
    "A = [1 2 \n",
    "     3 4];\n",
    "B = [10 20 \n",
    "     30 40];\n",
    "x = [100, 200];"
   ]
  },
  {
   "cell_type": "code",
   "execution_count": null,
   "id": "cced4b70-e615-4f77-a47b-3a7720802c2d",
   "metadata": {},
   "outputs": [],
   "source": [
    "A+B # addition"
   ]
  },
  {
   "cell_type": "code",
   "execution_count": null,
   "id": "ad75b984-2450-4ded-bf44-64dd0ae4f661",
   "metadata": {},
   "outputs": [],
   "source": [
    "5*A # multiplication by a scalar"
   ]
  },
  {
   "cell_type": "code",
   "execution_count": null,
   "id": "95844a6a-f9bd-4b07-a241-66ca32dd4608",
   "metadata": {},
   "outputs": [],
   "source": [
    "5A # same as above"
   ]
  },
  {
   "cell_type": "code",
   "execution_count": null,
   "id": "3d1efa62-5881-4f2e-a1e8-ca3181545d5f",
   "metadata": {},
   "outputs": [],
   "source": [
    "A*B # * denotes matrix multiplication"
   ]
  },
  {
   "cell_type": "code",
   "execution_count": null,
   "id": "4b4e50b1-4779-4fe0-b0de-a8ee13aab811",
   "metadata": {
    "tags": []
   },
   "outputs": [],
   "source": [
    "A*x"
   ]
  },
  {
   "cell_type": "code",
   "execution_count": null,
   "id": "37218f63-18ec-4085-9a2d-39894b65f24d",
   "metadata": {},
   "outputs": [],
   "source": [
    "x*A # dimension mismatch"
   ]
  },
  {
   "cell_type": "code",
   "execution_count": null,
   "id": "33c162c7-7b95-4cb9-ac2e-d27d04ec4cd8",
   "metadata": {},
   "outputs": [],
   "source": [
    "x' # transposition, or more precisely, computing the adjoint object (matters for complex-valued objects)"
   ]
  },
  {
   "cell_type": "code",
   "execution_count": null,
   "id": "586e90fb-8779-47cf-a713-d6fc18708d06",
   "metadata": {},
   "outputs": [],
   "source": [
    "transpose(x) # transposition, pure"
   ]
  },
  {
   "cell_type": "code",
   "execution_count": null,
   "id": "621ad4b8-3c64-47e7-8e71-f8c3ed4bb7fb",
   "metadata": {},
   "outputs": [],
   "source": [
    "x'*A"
   ]
  },
  {
   "cell_type": "code",
   "execution_count": null,
   "id": "24eb6a5a-e813-4ac1-b906-3c4467ebd8ca",
   "metadata": {},
   "outputs": [],
   "source": [
    "A^2 # matrix power"
   ]
  },
  {
   "cell_type": "markdown",
   "id": "66b229ec-62cb-433e-9bb1-a5cad7226e41",
   "metadata": {},
   "source": [
    "Solving a linear system of the form \n",
    "$$A x = b$$\n",
    "is performed by `A\\b`"
   ]
  },
  {
   "cell_type": "code",
   "execution_count": null,
   "id": "859c66c6-5c5c-45ae-baff-97b1ced7514d",
   "metadata": {},
   "outputs": [],
   "source": [
    "AA = [1 -2 3 ; 2 1 1; -3 2 -2]\n",
    "b = [7,4,-10]\n",
    "AA\\b"
   ]
  },
  {
   "cell_type": "markdown",
   "id": "8e79bcc7-9fe1-486e-ba0a-874e8cff411d",
   "metadata": {},
   "source": [
    "Elementwise operations are done by means of \"dot broadcasting\""
   ]
  },
  {
   "cell_type": "code",
   "execution_count": null,
   "id": "44bc6503-401e-4752-a65d-092a08c24062",
   "metadata": {},
   "outputs": [],
   "source": [
    "A .* B"
   ]
  },
  {
   "cell_type": "code",
   "execution_count": null,
   "id": "130e38f9-6e70-43cb-ac67-c7da68cc5277",
   "metadata": {},
   "outputs": [],
   "source": [
    "A ./ B"
   ]
  },
  {
   "cell_type": "code",
   "execution_count": null,
   "id": "a1856fd4-620b-4e0f-a9d2-e50671dd8218",
   "metadata": {},
   "outputs": [],
   "source": [
    "A.^2 # elementwise squaring"
   ]
  },
  {
   "cell_type": "code",
   "execution_count": null,
   "id": "8c092537-39cf-4a9b-bcfa-fa97eeb24e20",
   "metadata": {},
   "outputs": [],
   "source": [
    "A .+ x # adding the vector to each column; note that A+x is not a legitimate operation"
   ]
  },
  {
   "cell_type": "code",
   "execution_count": null,
   "id": "9008de79-5197-49ee-9716-6cd9096dedb2",
   "metadata": {},
   "outputs": [],
   "source": [
    "A .+ 7"
   ]
  },
  {
   "cell_type": "code",
   "execution_count": null,
   "id": "9159f97b-601e-4992-b8d6-04fbe916621a",
   "metadata": {},
   "outputs": [],
   "source": [
    "A .^ B"
   ]
  },
  {
   "cell_type": "markdown",
   "id": "0a7c3fa5-51a3-46e4-aa01-d6d75c0ddb7d",
   "metadata": {},
   "source": [
    "More on division operators\n",
    "\n",
    "Julia has left-division (`\\`) and right-division (`/`) operators, as seen above. Under the hood they rely on an appropriate use of an \"inverse\" object.\n",
    "\n",
    "- Left division operator: `x\\y`, multiplication of `y` by the inverse of `x` on the left\n",
    "- Right division operator: `x/y`, multiplication of `x` by the inverse of `y` on the right"
   ]
  },
  {
   "cell_type": "code",
   "execution_count": null,
   "id": "028962fe-bf80-43aa-b567-19dac3465f7f",
   "metadata": {},
   "outputs": [],
   "source": [
    "@show 5\\2 5/2 ;"
   ]
  },
  {
   "cell_type": "markdown",
   "id": "71310fe9-d842-4ba0-bf7c-6dec35316806",
   "metadata": {},
   "source": [
    "The above interpretation shows that in the above example the solution of the linear system $Ax=b$ by means of `x=A\\b` is equivalent to \n",
    "$x = A^{-1}b$.\n",
    "\n",
    "Of course, such operation depend on the inverse object being appropriately defined."
   ]
  },
  {
   "cell_type": "markdown",
   "id": "3472b3df-5bbb-4e35-a266-2dd04f511517",
   "metadata": {},
   "source": [
    "#### Elements of linear algebra"
   ]
  },
  {
   "cell_type": "markdown",
   "id": "6b20954a-1e95-41e4-b007-6be2cbaa0c37",
   "metadata": {},
   "source": [
    "Using the full power of Julia in linear algebra requires access to specialized libraries such as `LinearAlgebra`. The library is loaded as follows:"
   ]
  },
  {
   "cell_type": "code",
   "execution_count": null,
   "id": "ac303e9f-8ec5-439e-af7c-20e15183b02c",
   "metadata": {},
   "outputs": [],
   "source": [
    "using LinearAlgebra"
   ]
  },
  {
   "cell_type": "code",
   "execution_count": null,
   "id": "ab2870d1-fe80-4152-a501-29db422276a2",
   "metadata": {},
   "outputs": [],
   "source": [
    "inv(A) # inverse of a matrix; try also A^(-1)"
   ]
  },
  {
   "cell_type": "code",
   "execution_count": null,
   "id": "007eb686-332b-49f6-b8aa-c2a46f7562bd",
   "metadata": {},
   "outputs": [],
   "source": [
    "rank(A) # rank of A"
   ]
  },
  {
   "cell_type": "code",
   "execution_count": null,
   "id": "0d85902e-46ed-40fd-a615-a452d7c50c00",
   "metadata": {
    "tags": []
   },
   "outputs": [],
   "source": [
    "det(A) # determinant"
   ]
  },
  {
   "cell_type": "code",
   "execution_count": null,
   "id": "dcf3857b-ca6b-4b58-b0c7-7fe625a63174",
   "metadata": {},
   "outputs": [],
   "source": [
    "tr(A) # trace"
   ]
  },
  {
   "cell_type": "code",
   "execution_count": null,
   "id": "f24507d4-9f29-47e4-a41a-f1d00f9e8eec",
   "metadata": {},
   "outputs": [],
   "source": [
    "I # the identity matrix"
   ]
  },
  {
   "cell_type": "markdown",
   "id": "eea4768b-4be2-48e7-af8f-26aa6f58588b",
   "metadata": {},
   "source": [
    "Note that it automatically scales and specific instantiation to a particular dimension is not required:"
   ]
  },
  {
   "cell_type": "code",
   "execution_count": null,
   "id": "6f32b285-5309-4711-a030-532dab721d9f",
   "metadata": {},
   "outputs": [],
   "source": [
    "I*x"
   ]
  },
  {
   "cell_type": "code",
   "execution_count": null,
   "id": "6eef9dfb-015b-4db5-bce4-67571c7dc6f4",
   "metadata": {},
   "outputs": [],
   "source": [
    "I*[1,2,3,5,6]"
   ]
  },
  {
   "cell_type": "code",
   "execution_count": null,
   "id": "b45baa74-755f-472a-b5b9-251616a82a5a",
   "metadata": {},
   "outputs": [],
   "source": [
    "A*I"
   ]
  },
  {
   "cell_type": "code",
   "execution_count": null,
   "id": "7422b653-d683-4c5b-aeca-424a26f2d690",
   "metadata": {},
   "outputs": [],
   "source": [
    "Diagonal([2,4,6,8]) # constructing a diagonal matrix"
   ]
  },
  {
   "cell_type": "code",
   "execution_count": null,
   "id": "31144914-02f5-4b3e-b21a-508600d7a80c",
   "metadata": {},
   "outputs": [],
   "source": [
    "diag(A) # extracting the diagonal"
   ]
  },
  {
   "cell_type": "markdown",
   "id": "fcda5707-451d-4033-afaf-4b49d12c782d",
   "metadata": {},
   "source": [
    "Eigenvectors and eigenvalues"
   ]
  },
  {
   "cell_type": "code",
   "execution_count": null,
   "id": "815b705d-a303-4904-8116-a53357a2e5d4",
   "metadata": {},
   "outputs": [],
   "source": [
    "F = eigen([-2 -4 2;-2 1 2;4 2 5]) # eigenvalue decomposition"
   ]
  },
  {
   "cell_type": "code",
   "execution_count": null,
   "id": "5379d3f7-a9bf-4408-96cd-7bdf2a9c4e97",
   "metadata": {
    "tags": []
   },
   "outputs": [],
   "source": [
    "F.values"
   ]
  },
  {
   "cell_type": "code",
   "execution_count": null,
   "id": "37399cff-4da8-4c11-bb85-d001caad85e3",
   "metadata": {},
   "outputs": [],
   "source": [
    "F.vectors"
   ]
  },
  {
   "cell_type": "code",
   "execution_count": null,
   "id": "b7cd395e-0e03-4185-b5c7-89afe0c7d29c",
   "metadata": {},
   "outputs": [],
   "source": [
    "vals,vecs = F # unpacking\n",
    "@show vals ;\n",
    "@show vecs ;"
   ]
  }
 ],
 "metadata": {
  "kernelspec": {
   "display_name": "Julia 1.8.2",
   "language": "julia",
   "name": "julia-1.8"
  },
  "language_info": {
   "file_extension": ".jl",
   "mimetype": "application/julia",
   "name": "julia",
   "version": "1.8.2"
  }
 },
 "nbformat": 4,
 "nbformat_minor": 5
}
