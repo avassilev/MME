{
 "cells": [
  {
   "cell_type": "markdown",
   "id": "8dd13e03-7bcf-40e7-9396-0a05c13fae1b",
   "metadata": {},
   "source": [
    "# Introduction to Julia"
   ]
  },
  {
   "cell_type": "markdown",
   "id": "544c9062-e090-4b19-b30b-7be4ebee036d",
   "metadata": {},
   "source": [
    "## Julia as a calculator"
   ]
  },
  {
   "cell_type": "code",
   "execution_count": null,
   "id": "5c19d55c-23b4-4b61-9421-ab4e3bc6cbdb",
   "metadata": {},
   "outputs": [],
   "source": [
    "2+2"
   ]
  },
  {
   "cell_type": "code",
   "execution_count": null,
   "id": "f04c37b4-fae5-4b74-a62c-faab02fb40e3",
   "metadata": {},
   "outputs": [],
   "source": [
    "(5+8)*2 - (13-1)/2"
   ]
  },
  {
   "cell_type": "code",
   "execution_count": null,
   "id": "e1ab94fa-3f21-4290-bb8e-3002cba1fb6c",
   "metadata": {},
   "outputs": [],
   "source": [
    "5^2 # exponentiation"
   ]
  },
  {
   "cell_type": "code",
   "execution_count": null,
   "id": "7b72b3c6-2b26-425b-b987-70d7710937e8",
   "metadata": {},
   "outputs": [],
   "source": [
    "7^0.3"
   ]
  },
  {
   "cell_type": "code",
   "execution_count": null,
   "id": "2210df6a-3030-42da-b0a4-20001ed2d438",
   "metadata": {},
   "outputs": [],
   "source": [
    "sqrt(144)"
   ]
  },
  {
   "cell_type": "code",
   "execution_count": null,
   "id": "0ab62d79-164c-4701-aeb6-2dc7a86ccdef",
   "metadata": {},
   "outputs": [],
   "source": [
    "5÷2 # integer division"
   ]
  },
  {
   "cell_type": "markdown",
   "id": "af9eea0d-035e-4b0c-97a4-e79936952c07",
   "metadata": {},
   "source": [
    "An aside on the use of Unicode in Julia\n",
    "\n",
    "LaTeX-based tab completion, i.e. $\\LaTeX$-based tab completion\n",
    "\n",
    "Some illustrations below, if necessary:"
   ]
  },
  {
   "cell_type": "markdown",
   "id": "03288322-2d0f-4899-bd58-8b6a592660cc",
   "metadata": {},
   "source": []
  },
  {
   "cell_type": "code",
   "execution_count": null,
   "id": "3a254481-015b-4663-b33e-f9fea1a0336a",
   "metadata": {},
   "outputs": [],
   "source": [
    "5%2 # remainder, also rem(5,2)"
   ]
  },
  {
   "cell_type": "markdown",
   "id": "567fb35e-dd11-4500-b90d-5f64095eb752",
   "metadata": {},
   "source": [
    "## Variables and basic types in Julia"
   ]
  },
  {
   "cell_type": "markdown",
   "id": "896df30e-796e-41d6-bc1d-f6689b0e8fcc",
   "metadata": {},
   "source": [
    "Variable names are quite flexible in Julia (excerpts from the docs below):\n",
    " - Variable names must begin with a letter (A-Z or a-z), underscore, or a subset of Unicode code points greater than 00A0... \n",
    " - Subsequent characters may also include ! and digits (0-9 and other characters in categories Nd/No), as well as other Unicode code points\n",
    " - More details in the [documentation](https://docs.julialang.org/en/v1/manual/variables/)\n",
    " \n",
    " The ability to use Unicode delivers great flexibility and readability.\n",
    " \n",
    " Julia is a dynamically-typed language."
   ]
  },
  {
   "cell_type": "markdown",
   "id": "9d1e4eb4-0879-4eea-b12d-48f4df272bb6",
   "metadata": {},
   "source": [
    "### Integers and floats"
   ]
  },
  {
   "cell_type": "code",
   "execution_count": null,
   "id": "d2524711-6849-4131-96ae-6bde324fb2c4",
   "metadata": {},
   "outputs": [],
   "source": [
    "x = 5 # integer"
   ]
  },
  {
   "cell_type": "code",
   "execution_count": null,
   "id": "612ed256-169f-4e96-98c5-766f997d5bd0",
   "metadata": {},
   "outputs": [],
   "source": [
    "typeof(x) # the default type depends on the system -- 32 or 64 bit"
   ]
  },
  {
   "cell_type": "code",
   "execution_count": null,
   "id": "082a5945-cb46-457b-b5ea-462cd2a9020f",
   "metadata": {},
   "outputs": [],
   "source": [
    "x = 10.0;"
   ]
  },
  {
   "cell_type": "code",
   "execution_count": null,
   "id": "fd68db38-7563-4aa9-b962-8c63e4a80afe",
   "metadata": {},
   "outputs": [],
   "source": [
    "# semicolons (as above) suppress printing\n",
    "# to print explicitly\n",
    "print(x)"
   ]
  },
  {
   "cell_type": "code",
   "execution_count": null,
   "id": "0a951b9c-f58d-481b-aeae-29649a6e1187",
   "metadata": {},
   "outputs": [],
   "source": [
    "println(x)"
   ]
  },
  {
   "cell_type": "code",
   "execution_count": null,
   "id": "88e09019-ef9b-494b-b20d-076b0e589e47",
   "metadata": {},
   "outputs": [],
   "source": [
    "typeof(x)"
   ]
  },
  {
   "cell_type": "code",
   "execution_count": null,
   "id": "f783e53b-3980-47b9-97b1-482667bdeb42",
   "metadata": {},
   "outputs": [],
   "source": [
    "σ = 0.5\n",
    "println(2σ) # note the assumed multiplication"
   ]
  },
  {
   "cell_type": "code",
   "execution_count": null,
   "id": "e3747e7c-a3f9-43ee-817c-941106c402c8",
   "metadata": {},
   "outputs": [],
   "source": [
    "Int64(x) # Julia has a bunch of functions for conversions between types"
   ]
  },
  {
   "cell_type": "code",
   "execution_count": null,
   "id": "6dac4472-befd-4ed7-97fb-e53d1cf1ac09",
   "metadata": {},
   "outputs": [],
   "source": [
    "Float64(5)"
   ]
  },
  {
   "cell_type": "code",
   "execution_count": null,
   "id": "93ea9657-b0c3-4a94-998f-2fcc16cde2f4",
   "metadata": {},
   "outputs": [],
   "source": [
    "# more generally:\n",
    "float(5)"
   ]
  },
  {
   "cell_type": "code",
   "execution_count": null,
   "id": "a08fd874-dd0c-4a08-b556-02424d6bca87",
   "metadata": {},
   "outputs": [],
   "source": [
    "# conversion is often automatic\n",
    "3.0 + 5"
   ]
  },
  {
   "cell_type": "markdown",
   "id": "17971fe2-fa64-4e5b-8196-e9fdfbecb8e6",
   "metadata": {},
   "source": [
    "### Special values"
   ]
  },
  {
   "cell_type": "markdown",
   "id": "47641282-9692-418b-b62c-7a63b0bcb2fc",
   "metadata": {},
   "source": [
    "`Inf`, `-Inf`, `NaN`"
   ]
  },
  {
   "cell_type": "code",
   "execution_count": null,
   "id": "4fada638-0bf0-4f05-a184-316a6f9e7158",
   "metadata": {},
   "outputs": [],
   "source": [
    "println(5/0)"
   ]
  },
  {
   "cell_type": "code",
   "execution_count": null,
   "id": "bbca71e1-8043-4c70-9467-5d6e7f01e70f",
   "metadata": {},
   "outputs": [],
   "source": [
    "println(-1/0)"
   ]
  },
  {
   "cell_type": "code",
   "execution_count": null,
   "id": "f57c17fc-424a-45a8-b5c0-b11ae9b3e7eb",
   "metadata": {},
   "outputs": [],
   "source": [
    "println(1/(-Inf))"
   ]
  },
  {
   "cell_type": "code",
   "execution_count": null,
   "id": "d09f321d-2c20-4b0e-8d0e-c7f20d6e273f",
   "metadata": {},
   "outputs": [],
   "source": [
    "0*Inf"
   ]
  },
  {
   "cell_type": "code",
   "execution_count": null,
   "id": "9015d1bf-35e3-4b2c-b4b4-ae237f7d7a2d",
   "metadata": {},
   "outputs": [],
   "source": [
    "0/0"
   ]
  },
  {
   "cell_type": "markdown",
   "id": "bf15d6bf-3190-44c5-80df-5ebbcb4a70b9",
   "metadata": {},
   "source": [
    "Julia types are subject to overflow. This can be overcome by means of arbitrary precision arithmetic. [More information](https://docs.julialang.org/en/v1/manual/integers-and-floating-point-numbers/#Arbitrary-Precision-Arithmetic)"
   ]
  },
  {
   "cell_type": "markdown",
   "id": "375890a1-ef9f-48ca-9f45-c66c832bbd21",
   "metadata": {},
   "source": [
    "### Complex numbers"
   ]
  },
  {
   "cell_type": "markdown",
   "id": "f2565b68-7e0e-41d7-8da5-705fe03d082b",
   "metadata": {},
   "source": [
    "The imaginary unit is denoted by `im`."
   ]
  },
  {
   "cell_type": "code",
   "execution_count": null,
   "id": "90bf1865-1b23-44b4-be15-47335365934a",
   "metadata": {},
   "outputs": [],
   "source": [
    "2.0 + 3im"
   ]
  },
  {
   "cell_type": "code",
   "execution_count": null,
   "id": "1ea8270c-71b5-48aa-8841-1d7b523de403",
   "metadata": {},
   "outputs": [],
   "source": [
    "2.0 + 3.0*im # same as above"
   ]
  },
  {
   "cell_type": "code",
   "execution_count": null,
   "id": "06c307d3-169e-4724-920c-bcf05f864825",
   "metadata": {},
   "outputs": [],
   "source": [
    "(1+2im)*(3-2im)"
   ]
  },
  {
   "cell_type": "code",
   "execution_count": null,
   "id": "25d24fd6-653b-47cd-be40-92cb234af01e",
   "metadata": {},
   "outputs": [],
   "source": [
    "1im^2 # or directly im^2"
   ]
  },
  {
   "cell_type": "markdown",
   "id": "fc1b63b3-1f85-426c-9488-382673c37fe4",
   "metadata": {},
   "source": [
    "Some useful operations:"
   ]
  },
  {
   "cell_type": "code",
   "execution_count": null,
   "id": "0ab9d6c0-cb2d-44ab-9c79-7464eb589d2d",
   "metadata": {},
   "outputs": [],
   "source": [
    "real(2.0 + 3im) # real part"
   ]
  },
  {
   "cell_type": "code",
   "execution_count": null,
   "id": "1bda2896-4615-4f40-8b64-adae41869767",
   "metadata": {
    "tags": []
   },
   "outputs": [],
   "source": [
    "imag(2.0 + 3im) # imaginary part"
   ]
  },
  {
   "cell_type": "code",
   "execution_count": null,
   "id": "238ace79-8814-41b9-bbd8-adbf20e05627",
   "metadata": {},
   "outputs": [],
   "source": [
    "conj(2.0 + 3im) # conjugate"
   ]
  },
  {
   "cell_type": "code",
   "execution_count": null,
   "id": "da755175-1eeb-4026-ad88-30f04a3f09e8",
   "metadata": {},
   "outputs": [],
   "source": [
    "abs(2.0 + 3im) # absolute value"
   ]
  },
  {
   "cell_type": "code",
   "execution_count": null,
   "id": "5c9d082a-a563-4667-9cc4-fb7ae4869a30",
   "metadata": {},
   "outputs": [],
   "source": [
    "k = 2.0 + 3im\n",
    "println(abs(k))\n",
    "println(sqrt(real(k)^2+imag(k)^2))"
   ]
  },
  {
   "cell_type": "markdown",
   "id": "2327fce2-b205-4023-be69-507e16a48f29",
   "metadata": {},
   "source": [
    "### Rational numbers"
   ]
  },
  {
   "cell_type": "code",
   "execution_count": null,
   "id": "f7152bac-8bd7-47fa-80bb-8cbc71dbe072",
   "metadata": {},
   "outputs": [],
   "source": [
    "5//3"
   ]
  },
  {
   "cell_type": "code",
   "execution_count": null,
   "id": "735c2c03-f34e-4009-98da-2110ad3eaab8",
   "metadata": {},
   "outputs": [],
   "source": [
    "3//7 + 2//7"
   ]
  },
  {
   "cell_type": "markdown",
   "id": "730c9061-c030-4215-97a1-1ae0e7d966b9",
   "metadata": {},
   "source": [
    "[More info](https://docs.julialang.org/en/v1/manual/complex-and-rational-numbers/#Rational-Numbers)"
   ]
  },
  {
   "cell_type": "markdown",
   "id": "33089ae7-bdfd-4b1e-897f-4142291f6eed",
   "metadata": {},
   "source": [
    "### Strings"
   ]
  },
  {
   "cell_type": "code",
   "execution_count": null,
   "id": "e7201cc6-174c-4008-a15f-f7c78944de06",
   "metadata": {},
   "outputs": [],
   "source": [
    "y = \"A string\" # Only double quotes allowed. Try 'Another string' to raise an error"
   ]
  },
  {
   "cell_type": "code",
   "execution_count": null,
   "id": "599d3dc1-47b3-4199-bd28-31b5cb604d42",
   "metadata": {},
   "outputs": [],
   "source": [
    "# Note the newline characters in the representation below\n",
    "z = \"\"\"\n",
    "This\n",
    "is a\n",
    "multiline\n",
    "string\n",
    "\"\"\""
   ]
  },
  {
   "cell_type": "code",
   "execution_count": null,
   "id": "5e845bae-6f19-4713-9be1-a40402258450",
   "metadata": {},
   "outputs": [],
   "source": [
    "print(z)"
   ]
  },
  {
   "cell_type": "code",
   "execution_count": null,
   "id": "be0e2942-a28b-46fb-81c9-b00383160fae",
   "metadata": {
    "tags": []
   },
   "outputs": [],
   "source": [
    "'a' # single quotes are reserved for single characters"
   ]
  },
  {
   "cell_type": "code",
   "execution_count": null,
   "id": "020ea389-f4c9-4295-84c1-3bf126d092f2",
   "metadata": {},
   "outputs": [],
   "source": [
    "typeof('a')"
   ]
  },
  {
   "cell_type": "markdown",
   "id": "76c00cbf-3b8b-43b5-8083-4086145f5212",
   "metadata": {},
   "source": [
    "Concatenation"
   ]
  },
  {
   "cell_type": "code",
   "execution_count": null,
   "id": "d273d671-556c-4ec5-98dc-5147456bc386",
   "metadata": {},
   "outputs": [],
   "source": [
    "\"spam\" * \" and \" * \"eggs\""
   ]
  },
  {
   "cell_type": "markdown",
   "id": "35886481-7157-49e8-89d0-e13faa7e95a0",
   "metadata": {},
   "source": [
    "Replication"
   ]
  },
  {
   "cell_type": "code",
   "execution_count": null,
   "id": "4105752a-1ef0-413a-901f-5543b3a31204",
   "metadata": {},
   "outputs": [],
   "source": [
    "\"ha\"^3"
   ]
  },
  {
   "cell_type": "markdown",
   "id": "5b521a95-0191-46fa-9606-f9770b330c00",
   "metadata": {},
   "source": [
    "### Booleans"
   ]
  },
  {
   "cell_type": "code",
   "execution_count": null,
   "id": "2cec7582-ff16-4ab8-bd2b-ed183be8192e",
   "metadata": {},
   "outputs": [],
   "source": [
    "5 > 2"
   ]
  },
  {
   "cell_type": "code",
   "execution_count": null,
   "id": "e4524405-b5a0-437a-813f-a9c5517f5254",
   "metadata": {},
   "outputs": [],
   "source": [
    "0 < -1"
   ]
  },
  {
   "cell_type": "code",
   "execution_count": null,
   "id": "a412c1b9-5333-40a7-a934-26597c45d8dd",
   "metadata": {},
   "outputs": [],
   "source": [
    "typeof(true)"
   ]
  },
  {
   "cell_type": "markdown",
   "id": "890bb577-e2ff-40ac-b400-36a890ed69b6",
   "metadata": {},
   "source": [
    "### Deleting variables"
   ]
  },
  {
   "cell_type": "markdown",
   "id": "38656a8f-acc4-429e-a9c6-6c700eac4148",
   "metadata": {},
   "source": [
    "There is no formal deletion mechanism in Julia. Once created, a variable will persist in the current session. A variable can be (almost) eliminated from consideration by setting it to `nothing`."
   ]
  },
  {
   "cell_type": "code",
   "execution_count": null,
   "id": "756f88fb-3a9b-4a3b-9bf9-7bd90a7b4930",
   "metadata": {},
   "outputs": [],
   "source": [
    "z = 42"
   ]
  },
  {
   "cell_type": "code",
   "execution_count": null,
   "id": "4cf8132e-8e43-4cfc-a0ad-e6e4b6d8fd0d",
   "metadata": {},
   "outputs": [],
   "source": [
    "z = nothing"
   ]
  }
 ],
 "metadata": {
  "kernelspec": {
   "display_name": "Julia 1.8.2",
   "language": "julia",
   "name": "julia-1.8"
  },
  "language_info": {
   "file_extension": ".jl",
   "mimetype": "application/julia",
   "name": "julia",
   "version": "1.8.2"
  }
 },
 "nbformat": 4,
 "nbformat_minor": 5
}
