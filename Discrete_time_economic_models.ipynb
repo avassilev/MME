{
 "cells": [
  {
   "cell_type": "markdown",
   "id": "30d8907e",
   "metadata": {},
   "source": [
    "# Discrete-time economic models"
   ]
  },
  {
   "cell_type": "markdown",
   "id": "02af00aa",
   "metadata": {},
   "source": [
    "## The capital accumulation equation\n",
    "\n",
    "Capital accumulation in discrete time $t=0,1,2,\\ldots$ can be described by the following difference equation:\n",
    "\n",
    "$$K_{t+1} = (1-\\delta)K_t + I_t, \\text{ given an initial } K_0 \\geq 0.$$\n",
    "\n",
    "Here $K_t$ is the stock of physical capital at time $t$, $\\delta \\in (0,1)$ is the rate of depreciation and $I_t \\geq 0$ is investment at time $t$. In the simplest case investment is exogenously given."
   ]
  },
  {
   "cell_type": "code",
   "execution_count": null,
   "id": "198ff0be",
   "metadata": {},
   "outputs": [],
   "source": [
    "K0 = 5 # initial capital stock\n",
    "δ = 0.05 # depreciation rate\n",
    "I = [2,3,3,4,1,2,0,2] # investment path\n",
    "\n",
    "K = zeros(size(I)[1] + 1)\n",
    "\n",
    "K[1] = K0\n",
    "\n",
    "for t in eachindex(I)\n",
    "    K[t+1] = (1-δ)*K[t] + I[t]\n",
    "end\n",
    "\n",
    "K"
   ]
  },
  {
   "cell_type": "markdown",
   "id": "cfccfbbe",
   "metadata": {},
   "source": [
    "# Scalar first-order difference equations -- some information\n",
    "\n",
    "A scalar first-order difference equation is given by\n",
    "\n",
    "$$x_{t+1} = f(x_t) \\qquad \\qquad (\\clubsuit)$$ \n",
    "\n",
    "for a given function $f: \\mathbb{R} \\rightarrow \\mathbb{R}$. A solution to this equation is a sequence $\\{x_t\\}_{t=0}^{\\infty}$ which satisfies the equation for any $t \\geq 0$. Sometimes we write $\\{x_t\\}$ for brevity if the limits are clear. It is also possible to write such an equation in the form $x_t = f(x_{t-1})$.\n",
    "\n",
    "The problem of computing a sequence $x_0, x_1, x_2,\\ldots $ satisfying the above equation for a given initial value $x_0$ is called an *initial value problem*.\n",
    "\n",
    "Such a solution can be computed by iteration:\n",
    "\n",
    "$$x_1 = f(x_0), \\quad x_2 = f(x_1) = f(f(x_0)), \\quad x_3 = f(x_2) = f(f(f(x_0))), \\quad \\ldots $$\n",
    "\n",
    "A value $x^*$ such that $x^* = f(x^*)$ is called a *steady state*, *stationary point* or *equilibrium* of equation $(\\clubsuit)$. Clearly, the sequence $x^*, x^*, \\ldots$ is a solution to the equation.\n",
    "\n",
    "Let $x^*$ be a stationary point. If there exists $\\eta > 0$ such that a solution $\\{x_t\\}$ to equation $(\\clubsuit)$ satisfies\n",
    "$$\\lim_{t \\rightarrow \\infty}x_t = x^* $$ for any $x_0 ~:~ |x_0-x^*|<\\eta$, the point $x^*$ is called *asymptotically stable*. If $\\eta = +\\infty$, then $x^*$ is called *globally asymptotically stable*.\n",
    "\n",
    "If $x^*$ is a stationary point of equation $(\\clubsuit)$, the function $f(\\cdot)$ is continuously differentiable at $x^*$ and \n",
    "$$|f'(x^*)| < 1,$$\n",
    "then $x^*$ is asymptotically stable."
   ]
  },
  {
   "cell_type": "markdown",
   "id": "b36ba625",
   "metadata": {},
   "source": [
    "### Example: a first-order linear equation\n",
    "\n",
    "Consider the equation \n",
    "\n",
    "$$x_{t+1} = a x_t + b$$ with $x_0$ -- given.\n",
    "\n",
    "Try:\n",
    "- Setting $a=0.9$\n",
    "- Setting $a=-0.9$\n",
    "- Setting $a=1$\n",
    "- Setting $a=-1$\n"
   ]
  },
  {
   "cell_type": "code",
   "execution_count": null,
   "id": "fd5ea71c-ccfc-4edc-b8ca-aabf94e1bfcb",
   "metadata": {},
   "outputs": [],
   "source": [
    "import Pkg; Pkg.add(\"LaTeXStrings\")"
   ]
  },
  {
   "cell_type": "code",
   "execution_count": null,
   "id": "77afa625",
   "metadata": {},
   "outputs": [],
   "source": [
    "using Plots\n",
    "using LaTeXStrings\n",
    "\n",
    "x0 = 2\n",
    "a = 0\n",
    "b = 1\n",
    "\n",
    "T = 50\n",
    "\n",
    "x = zeros(T)\n",
    "\n",
    "x[1] = x0\n",
    "for t in eachindex(x)\n",
    "    if t == T\n",
    "        break\n",
    "    else\n",
    "        x[t+1] = a*x[t]+b\n",
    "    end\n",
    "end\n",
    "\n",
    "bar(0:(T-1),x, xlabel = L\"t\", ylabel = L\"x_t\", legend = false)"
   ]
  },
  {
   "cell_type": "markdown",
   "id": "98895d6e",
   "metadata": {},
   "source": [
    "# The Harrod-Domar Growth Model\n",
    "\n",
    "- We work in discrete time and in the case of a closed economy\n",
    "- Income (output) is denoted by $Y_t$ and saving is denoted by $S_t$\n",
    "- Saving is assumed to be a constant share of income:\n",
    "$$ S_t = s Y_t, \\quad s \\in (0,1) $$\n",
    "- Investment $I_t$ is assumed to depend on the change in output (accelerator principle):\n",
    "$$ I_t = v(Y_t - Y_{t-1}), \\quad v>0$$\n",
    "- Saving equals investment in a closed economy:\n",
    "$$S_t = I_t$$\n",
    "- We therefore have\n",
    "$$ s Y_t = v(Y_t - Y_{t-1}) \\Rightarrow Y_t = \\dfrac{v}{v-s}Y_{t-1}$$ \n",
    "- For a given initial value $Y_0$, recursive substitution yields\n",
    "$$Y_t = \\left( \\dfrac{v}{v-s} \\right)^t Y_0$$"
   ]
  },
  {
   "cell_type": "code",
   "execution_count": null,
   "id": "267b5c03",
   "metadata": {
    "tags": []
   },
   "outputs": [],
   "source": [
    "Y0 = 10\n",
    "s = 0.1\n",
    "v = 2\n",
    "\n",
    "T = 50\n",
    "\n",
    "Y = zeros(T)\n",
    "\n",
    "Y[1] = Y0\n",
    "for t in eachindex(Y)\n",
    "    if t == T\n",
    "        break\n",
    "    else\n",
    "        Y[t+1] = v/(v-s)*Y[t]\n",
    "    end\n",
    "end\n",
    "\n",
    "plot(0:(T-1),Y, xlabel = L\"t\", ylabel = L\"Y_t\", legend = false)"
   ]
  },
  {
   "cell_type": "markdown",
   "id": "13e65593-40bc-42f5-a163-1f7a5672cba2",
   "metadata": {},
   "source": [
    "# The simple Samuelson-Hicks Model\n",
    "\n",
    "- We again work in discrete time and in the closed-economy case\n",
    "- Income (output) is denoted by $Y_t$, consumption is denoted by $C_t$, investment is $I_t$ and $A_t$ is autonomous (i.e. independent of income) investment.\n",
    "- Consumption is given by\n",
    "$$ C_t = \\gamma + c_1 Y_{t-1} + c_2 Y_{t-2}, \\quad c_1+c_2 \\in (0,1),~ c_1,c_2\\geq 0. $$\n",
    "- Variable investment $I_t$ is again described by an accelerator-type relationship:\n",
    "$$ I_t = v(Y_{t-1} - Y_{t-2}), \\quad v>0$$\n",
    "- The national income identity is:\n",
    "$$Y_t = C_t + I_t + A_t$$\n",
    "- Upon substitution, we get\n",
    "$$ Y_t = (v+c_1)Y_{t-1} - (v-c_2)Y_{t-2} + B_t,$$ \n",
    "where $B_t = A_t + \\gamma$\n",
    "- Defining $c = c_1+c_2$, we can write the previous equation as\n",
    "$$Y_t = c Y_{t-1} + (v-c_2)(Y_{t-1}-Y_{t-2}) + B_t,  \\qquad \\qquad (\\spadesuit)$$\n",
    "which shows that output depends on its previous-period level *and* its change in the previous period.\n",
    "- Now suppose that we have a particular solution $\\bar{Y}_t$ to $(\\spadesuit)$. Then we can define the deviation $y_t = Y_t - \\bar{Y}_t$ and obtain the equation in deviations:\n",
    "$$y_t = c y_{t-1} + (v-c_2)(y_{t-1}-y_{t-2}) \\qquad \\qquad (\\spadesuit \\spadesuit)$$\n",
    "- If $\\bar{Y}_t$ is interpreted as a specific path of interest, e.g. an equilibrium trajectory, then $y_t$ models deviations from it (\"gaps\", deviations from equilibrium)."
   ]
  },
  {
   "cell_type": "code",
   "execution_count": null,
   "id": "3cd78b62-a8bf-4d15-9141-f65b53109f69",
   "metadata": {},
   "outputs": [],
   "source": [
    "y0 = 1\n",
    "y1 = 1\n",
    "c1 = 0.2\n",
    "c2 = 0.3\n",
    "c = c1 + c2\n",
    "v = 0.6\n",
    "\n",
    "T = 50\n",
    "\n",
    "y = zeros(T)\n",
    "\n",
    "y[1] = y0\n",
    "y[2] = y1\n",
    "for t in eachindex(Y)\n",
    "    if t == T-1\n",
    "        break\n",
    "    else\n",
    "        y[t+2] = c*y[t+1] + (v-c2)*(y[t+1]-y[t])\n",
    "    end\n",
    "end\n",
    "\n",
    "plot(0:(T-1),Y, xlabel = L\"t\", ylabel = L\"Y_t\", legend = false)"
   ]
  },
  {
   "cell_type": "code",
   "execution_count": null,
   "id": "dc3f2b20-0584-458b-9c58-766d250cfc40",
   "metadata": {},
   "outputs": [],
   "source": [
    "y"
   ]
  }
 ],
 "metadata": {
  "kernelspec": {
   "display_name": "Julia 1.8.5",
   "language": "julia",
   "name": "julia-1.8"
  },
  "language_info": {
   "file_extension": ".jl",
   "mimetype": "application/julia",
   "name": "julia",
   "version": "1.8.5"
  }
 },
 "nbformat": 4,
 "nbformat_minor": 5
}
