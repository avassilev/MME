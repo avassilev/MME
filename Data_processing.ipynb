{
 "cells": [
  {
   "cell_type": "markdown",
   "metadata": {},
   "source": [
    "# Data processing and empirical modelling"
   ]
  },
  {
   "cell_type": "markdown",
   "metadata": {},
   "source": [
    "## Processing data in Julia\n",
    "\n",
    "Different approaches are possible. We'll be using elements of [Tidier.jl](https://tidierorg.github.io/Tidier.jl/dev/), which mirrors a subset of the popular [Tidyverse](https://www.tidyverse.org/) collection of R packages."
   ]
  },
  {
   "cell_type": "code",
   "execution_count": 1,
   "metadata": {},
   "outputs": [],
   "source": [
    "using Tidier"
   ]
  },
  {
   "cell_type": "markdown",
   "metadata": {},
   "source": [
    "### Reading in datasets"
   ]
  },
  {
   "cell_type": "code",
   "execution_count": 4,
   "metadata": {},
   "outputs": [
    {
     "data": {
      "text/html": [
       "<div><div style = \"float: left;\"><span>5×7 DataFrame</span></div><div style = \"clear: both;\"></div></div><div class = \"data-frame\" style = \"overflow-x: scroll;\"><table class = \"data-frame\" style = \"margin-bottom: 6px;\"><thead><tr class = \"header\"><th class = \"rowNumber\" style = \"font-weight: bold; text-align: right;\">Row</th><th style = \"text-align: left;\">Customer_ID</th><th style = \"text-align: left;\">Product_ID</th><th style = \"text-align: left;\">Product_Name</th><th style = \"text-align: left;\">Category</th><th style = \"text-align: left;\">Unit_Price</th><th style = \"text-align: left;\">Units_Sold</th><th style = \"text-align: left;\">Revenue</th></tr><tr class = \"subheader headerLastRow\"><th class = \"rowNumber\" style = \"font-weight: bold; text-align: right;\"></th><th title = \"Int64\" style = \"text-align: left;\">Int64</th><th title = \"Int64\" style = \"text-align: left;\">Int64</th><th title = \"InlineStrings.String15\" style = \"text-align: left;\">String15</th><th title = \"InlineStrings.String15\" style = \"text-align: left;\">String15</th><th title = \"Int64\" style = \"text-align: left;\">Int64</th><th title = \"Int64\" style = \"text-align: left;\">Int64</th><th title = \"Int64\" style = \"text-align: left;\">Int64</th></tr></thead><tbody><tr><td class = \"rowNumber\" style = \"font-weight: bold; text-align: right;\">1</td><td style = \"text-align: right;\">101</td><td style = \"text-align: right;\">1</td><td style = \"text-align: left;\">Laptop</td><td style = \"text-align: left;\">Electronics</td><td style = \"text-align: right;\">800</td><td style = \"text-align: right;\">100</td><td style = \"text-align: right;\">80000</td></tr><tr><td class = \"rowNumber\" style = \"font-weight: bold; text-align: right;\">2</td><td style = \"text-align: right;\">102</td><td style = \"text-align: right;\">2</td><td style = \"text-align: left;\">T-Shirt</td><td style = \"text-align: left;\">Clothing</td><td style = \"text-align: right;\">20</td><td style = \"text-align: right;\">500</td><td style = \"text-align: right;\">10000</td></tr><tr><td class = \"rowNumber\" style = \"font-weight: bold; text-align: right;\">3</td><td style = \"text-align: right;\">103</td><td style = \"text-align: right;\">3</td><td style = \"text-align: left;\">Smartphone</td><td style = \"text-align: left;\">Electronics</td><td style = \"text-align: right;\">600</td><td style = \"text-align: right;\">200</td><td style = \"text-align: right;\">120000</td></tr><tr><td class = \"rowNumber\" style = \"font-weight: bold; text-align: right;\">4</td><td style = \"text-align: right;\">101</td><td style = \"text-align: right;\">4</td><td style = \"text-align: left;\">Sneakers</td><td style = \"text-align: left;\">Clothing</td><td style = \"text-align: right;\">50</td><td style = \"text-align: right;\">300</td><td style = \"text-align: right;\">15000</td></tr><tr><td class = \"rowNumber\" style = \"font-weight: bold; text-align: right;\">5</td><td style = \"text-align: right;\">104</td><td style = \"text-align: right;\">5</td><td style = \"text-align: left;\">Milk</td><td style = \"text-align: left;\">Groceries</td><td style = \"text-align: right;\">2</td><td style = \"text-align: right;\">1000</td><td style = \"text-align: right;\">2000</td></tr></tbody></table></div>"
      ],
      "text/latex": [
       "\\begin{tabular}{r|ccccccc}\n",
       "\t& Customer\\_ID & Product\\_ID & Product\\_Name & Category & Unit\\_Price & Units\\_Sold & Revenue\\\\\n",
       "\t\\hline\n",
       "\t& Int64 & Int64 & String15 & String15 & Int64 & Int64 & Int64\\\\\n",
       "\t\\hline\n",
       "\t1 & 101 & 1 & Laptop & Electronics & 800 & 100 & 80000 \\\\\n",
       "\t2 & 102 & 2 & T-Shirt & Clothing & 20 & 500 & 10000 \\\\\n",
       "\t3 & 103 & 3 & Smartphone & Electronics & 600 & 200 & 120000 \\\\\n",
       "\t4 & 101 & 4 & Sneakers & Clothing & 50 & 300 & 15000 \\\\\n",
       "\t5 & 104 & 5 & Milk & Groceries & 2 & 1000 & 2000 \\\\\n",
       "\\end{tabular}\n"
      ],
      "text/plain": [
       "\u001b[1m5×7 DataFrame\u001b[0m\n",
       "\u001b[1m Row \u001b[0m│\u001b[1m Customer_ID \u001b[0m\u001b[1m Product_ID \u001b[0m\u001b[1m Product_Name \u001b[0m\u001b[1m Category    \u001b[0m\u001b[1m Unit_Price \u001b[0m\u001b[1m Units_S\u001b[0m ⋯\n",
       "     │\u001b[90m Int64       \u001b[0m\u001b[90m Int64      \u001b[0m\u001b[90m String15     \u001b[0m\u001b[90m String15    \u001b[0m\u001b[90m Int64      \u001b[0m\u001b[90m Int64  \u001b[0m ⋯\n",
       "─────┼──────────────────────────────────────────────────────────────────────────\n",
       "   1 │         101           1  Laptop        Electronics         800          ⋯\n",
       "   2 │         102           2  T-Shirt       Clothing             20\n",
       "   3 │         103           3  Smartphone    Electronics         600\n",
       "   4 │         101           4  Sneakers      Clothing             50\n",
       "   5 │         104           5  Milk          Groceries             2        1 ⋯\n",
       "\u001b[36m                                                               2 columns omitted\u001b[0m"
      ]
     },
     "execution_count": 4,
     "metadata": {},
     "output_type": "execute_result"
    }
   ],
   "source": [
    "sales = read_csv(\"datasets/sales.csv\")"
   ]
  },
  {
   "cell_type": "code",
   "execution_count": 5,
   "metadata": {
    "scrolled": true
   },
   "outputs": [
    {
     "data": {
      "text/html": [
       "<div><div style = \"float: left;\"><span>5×5 DataFrame</span></div><div style = \"clear: both;\"></div></div><div class = \"data-frame\" style = \"overflow-x: scroll;\"><table class = \"data-frame\" style = \"margin-bottom: 6px;\"><thead><tr class = \"header\"><th class = \"rowNumber\" style = \"font-weight: bold; text-align: right;\">Row</th><th style = \"text-align: left;\">Customer_ID</th><th style = \"text-align: left;\">Age</th><th style = \"text-align: left;\">Gender</th><th style = \"text-align: left;\">Income_Range</th><th style = \"text-align: left;\">Region</th></tr><tr class = \"subheader headerLastRow\"><th class = \"rowNumber\" style = \"font-weight: bold; text-align: right;\"></th><th title = \"Int64\" style = \"text-align: left;\">Int64</th><th title = \"Int64\" style = \"text-align: left;\">Int64</th><th title = \"InlineStrings.String7\" style = \"text-align: left;\">String7</th><th title = \"InlineStrings.String15\" style = \"text-align: left;\">String15</th><th title = \"InlineStrings.String7\" style = \"text-align: left;\">String7</th></tr></thead><tbody><tr><td class = \"rowNumber\" style = \"font-weight: bold; text-align: right;\">1</td><td style = \"text-align: right;\">101</td><td style = \"text-align: right;\">35</td><td style = \"text-align: left;\">Male</td><td style = \"text-align: left;\">$50000-$75000</td><td style = \"text-align: left;\">North</td></tr><tr><td class = \"rowNumber\" style = \"font-weight: bold; text-align: right;\">2</td><td style = \"text-align: right;\">102</td><td style = \"text-align: right;\">28</td><td style = \"text-align: left;\">Female</td><td style = \"text-align: left;\">$40000-$50000</td><td style = \"text-align: left;\">South</td></tr><tr><td class = \"rowNumber\" style = \"font-weight: bold; text-align: right;\">3</td><td style = \"text-align: right;\">103</td><td style = \"text-align: right;\">45</td><td style = \"text-align: left;\">Female</td><td style = \"text-align: left;\">$75000-$100000</td><td style = \"text-align: left;\">East</td></tr><tr><td class = \"rowNumber\" style = \"font-weight: bold; text-align: right;\">4</td><td style = \"text-align: right;\">104</td><td style = \"text-align: right;\">50</td><td style = \"text-align: left;\">Male</td><td style = \"text-align: left;\">$100000+</td><td style = \"text-align: left;\">West</td></tr><tr><td class = \"rowNumber\" style = \"font-weight: bold; text-align: right;\">5</td><td style = \"text-align: right;\">105</td><td style = \"text-align: right;\">40</td><td style = \"text-align: left;\">Male</td><td style = \"text-align: left;\">$50000-$75000</td><td style = \"text-align: left;\">North</td></tr></tbody></table></div>"
      ],
      "text/latex": [
       "\\begin{tabular}{r|ccccc}\n",
       "\t& Customer\\_ID & Age & Gender & Income\\_Range & Region\\\\\n",
       "\t\\hline\n",
       "\t& Int64 & Int64 & String7 & String15 & String7\\\\\n",
       "\t\\hline\n",
       "\t1 & 101 & 35 & Male & \\$50000-\\$75000 & North \\\\\n",
       "\t2 & 102 & 28 & Female & \\$40000-\\$50000 & South \\\\\n",
       "\t3 & 103 & 45 & Female & \\$75000-\\$100000 & East \\\\\n",
       "\t4 & 104 & 50 & Male & \\$100000+ & West \\\\\n",
       "\t5 & 105 & 40 & Male & \\$50000-\\$75000 & North \\\\\n",
       "\\end{tabular}\n"
      ],
      "text/plain": [
       "\u001b[1m5×5 DataFrame\u001b[0m\n",
       "\u001b[1m Row \u001b[0m│\u001b[1m Customer_ID \u001b[0m\u001b[1m Age   \u001b[0m\u001b[1m Gender  \u001b[0m\u001b[1m Income_Range   \u001b[0m\u001b[1m Region  \u001b[0m\n",
       "     │\u001b[90m Int64       \u001b[0m\u001b[90m Int64 \u001b[0m\u001b[90m String7 \u001b[0m\u001b[90m String15       \u001b[0m\u001b[90m String7 \u001b[0m\n",
       "─────┼──────────────────────────────────────────────────────\n",
       "   1 │         101     35  Male     $50000-$75000   North\n",
       "   2 │         102     28  Female   $40000-$50000   South\n",
       "   3 │         103     45  Female   $75000-$100000  East\n",
       "   4 │         104     50  Male     $100000+        West\n",
       "   5 │         105     40  Male     $50000-$75000   North"
      ]
     },
     "execution_count": 5,
     "metadata": {},
     "output_type": "execute_result"
    }
   ],
   "source": [
    "customers =  read_csv(\"datasets/customers.csv\")"
   ]
  },
  {
   "cell_type": "markdown",
   "metadata": {},
   "source": [
    "### Selecting variables"
   ]
  },
  {
   "cell_type": "code",
   "execution_count": 6,
   "metadata": {},
   "outputs": [
    {
     "data": {
      "text/html": [
       "<div><div style = \"float: left;\"><span>5×5 DataFrame</span></div><div style = \"clear: both;\"></div></div><div class = \"data-frame\" style = \"overflow-x: scroll;\"><table class = \"data-frame\" style = \"margin-bottom: 6px;\"><thead><tr class = \"header\"><th class = \"rowNumber\" style = \"font-weight: bold; text-align: right;\">Row</th><th style = \"text-align: left;\">Product_ID</th><th style = \"text-align: left;\">Product_Name</th><th style = \"text-align: left;\">Unit_Price</th><th style = \"text-align: left;\">Revenue</th><th style = \"text-align: left;\">Units_Sold</th></tr><tr class = \"subheader headerLastRow\"><th class = \"rowNumber\" style = \"font-weight: bold; text-align: right;\"></th><th title = \"Int64\" style = \"text-align: left;\">Int64</th><th title = \"InlineStrings.String15\" style = \"text-align: left;\">String15</th><th title = \"Int64\" style = \"text-align: left;\">Int64</th><th title = \"Int64\" style = \"text-align: left;\">Int64</th><th title = \"Int64\" style = \"text-align: left;\">Int64</th></tr></thead><tbody><tr><td class = \"rowNumber\" style = \"font-weight: bold; text-align: right;\">1</td><td style = \"text-align: right;\">1</td><td style = \"text-align: left;\">Laptop</td><td style = \"text-align: right;\">800</td><td style = \"text-align: right;\">80000</td><td style = \"text-align: right;\">100</td></tr><tr><td class = \"rowNumber\" style = \"font-weight: bold; text-align: right;\">2</td><td style = \"text-align: right;\">2</td><td style = \"text-align: left;\">T-Shirt</td><td style = \"text-align: right;\">20</td><td style = \"text-align: right;\">10000</td><td style = \"text-align: right;\">500</td></tr><tr><td class = \"rowNumber\" style = \"font-weight: bold; text-align: right;\">3</td><td style = \"text-align: right;\">3</td><td style = \"text-align: left;\">Smartphone</td><td style = \"text-align: right;\">600</td><td style = \"text-align: right;\">120000</td><td style = \"text-align: right;\">200</td></tr><tr><td class = \"rowNumber\" style = \"font-weight: bold; text-align: right;\">4</td><td style = \"text-align: right;\">4</td><td style = \"text-align: left;\">Sneakers</td><td style = \"text-align: right;\">50</td><td style = \"text-align: right;\">15000</td><td style = \"text-align: right;\">300</td></tr><tr><td class = \"rowNumber\" style = \"font-weight: bold; text-align: right;\">5</td><td style = \"text-align: right;\">5</td><td style = \"text-align: left;\">Milk</td><td style = \"text-align: right;\">2</td><td style = \"text-align: right;\">2000</td><td style = \"text-align: right;\">1000</td></tr></tbody></table></div>"
      ],
      "text/latex": [
       "\\begin{tabular}{r|ccccc}\n",
       "\t& Product\\_ID & Product\\_Name & Unit\\_Price & Revenue & Units\\_Sold\\\\\n",
       "\t\\hline\n",
       "\t& Int64 & String15 & Int64 & Int64 & Int64\\\\\n",
       "\t\\hline\n",
       "\t1 & 1 & Laptop & 800 & 80000 & 100 \\\\\n",
       "\t2 & 2 & T-Shirt & 20 & 10000 & 500 \\\\\n",
       "\t3 & 3 & Smartphone & 600 & 120000 & 200 \\\\\n",
       "\t4 & 4 & Sneakers & 50 & 15000 & 300 \\\\\n",
       "\t5 & 5 & Milk & 2 & 2000 & 1000 \\\\\n",
       "\\end{tabular}\n"
      ],
      "text/plain": [
       "\u001b[1m5×5 DataFrame\u001b[0m\n",
       "\u001b[1m Row \u001b[0m│\u001b[1m Product_ID \u001b[0m\u001b[1m Product_Name \u001b[0m\u001b[1m Unit_Price \u001b[0m\u001b[1m Revenue \u001b[0m\u001b[1m Units_Sold \u001b[0m\n",
       "     │\u001b[90m Int64      \u001b[0m\u001b[90m String15     \u001b[0m\u001b[90m Int64      \u001b[0m\u001b[90m Int64   \u001b[0m\u001b[90m Int64      \u001b[0m\n",
       "─────┼───────────────────────────────────────────────────────────\n",
       "   1 │          1  Laptop               800    80000         100\n",
       "   2 │          2  T-Shirt               20    10000         500\n",
       "   3 │          3  Smartphone           600   120000         200\n",
       "   4 │          4  Sneakers              50    15000         300\n",
       "   5 │          5  Milk                   2     2000        1000"
      ]
     },
     "execution_count": 6,
     "metadata": {},
     "output_type": "execute_result"
    }
   ],
   "source": [
    "sls = @chain sales begin\n",
    "    @select(Product_ID,Product_Name,Unit_Price,Revenue,Units_Sold)\n",
    "end"
   ]
  },
  {
   "cell_type": "code",
   "execution_count": 7,
   "metadata": {},
   "outputs": [
    {
     "data": {
      "text/html": [
       "<div><div style = \"float: left;\"><span>5×5 DataFrame</span></div><div style = \"clear: both;\"></div></div><div class = \"data-frame\" style = \"overflow-x: scroll;\"><table class = \"data-frame\" style = \"margin-bottom: 6px;\"><thead><tr class = \"header\"><th class = \"rowNumber\" style = \"font-weight: bold; text-align: right;\">Row</th><th style = \"text-align: left;\">Product_ID</th><th style = \"text-align: left;\">Product_Name</th><th style = \"text-align: left;\">Unit_Price</th><th style = \"text-align: left;\">Revenue</th><th style = \"text-align: left;\">Units_Sold</th></tr><tr class = \"subheader headerLastRow\"><th class = \"rowNumber\" style = \"font-weight: bold; text-align: right;\"></th><th title = \"Int64\" style = \"text-align: left;\">Int64</th><th title = \"InlineStrings.String15\" style = \"text-align: left;\">String15</th><th title = \"Int64\" style = \"text-align: left;\">Int64</th><th title = \"Int64\" style = \"text-align: left;\">Int64</th><th title = \"Int64\" style = \"text-align: left;\">Int64</th></tr></thead><tbody><tr><td class = \"rowNumber\" style = \"font-weight: bold; text-align: right;\">1</td><td style = \"text-align: right;\">1</td><td style = \"text-align: left;\">Laptop</td><td style = \"text-align: right;\">800</td><td style = \"text-align: right;\">80000</td><td style = \"text-align: right;\">100</td></tr><tr><td class = \"rowNumber\" style = \"font-weight: bold; text-align: right;\">2</td><td style = \"text-align: right;\">2</td><td style = \"text-align: left;\">T-Shirt</td><td style = \"text-align: right;\">20</td><td style = \"text-align: right;\">10000</td><td style = \"text-align: right;\">500</td></tr><tr><td class = \"rowNumber\" style = \"font-weight: bold; text-align: right;\">3</td><td style = \"text-align: right;\">3</td><td style = \"text-align: left;\">Smartphone</td><td style = \"text-align: right;\">600</td><td style = \"text-align: right;\">120000</td><td style = \"text-align: right;\">200</td></tr><tr><td class = \"rowNumber\" style = \"font-weight: bold; text-align: right;\">4</td><td style = \"text-align: right;\">4</td><td style = \"text-align: left;\">Sneakers</td><td style = \"text-align: right;\">50</td><td style = \"text-align: right;\">15000</td><td style = \"text-align: right;\">300</td></tr><tr><td class = \"rowNumber\" style = \"font-weight: bold; text-align: right;\">5</td><td style = \"text-align: right;\">5</td><td style = \"text-align: left;\">Milk</td><td style = \"text-align: right;\">2</td><td style = \"text-align: right;\">2000</td><td style = \"text-align: right;\">1000</td></tr></tbody></table></div>"
      ],
      "text/latex": [
       "\\begin{tabular}{r|ccccc}\n",
       "\t& Product\\_ID & Product\\_Name & Unit\\_Price & Revenue & Units\\_Sold\\\\\n",
       "\t\\hline\n",
       "\t& Int64 & String15 & Int64 & Int64 & Int64\\\\\n",
       "\t\\hline\n",
       "\t1 & 1 & Laptop & 800 & 80000 & 100 \\\\\n",
       "\t2 & 2 & T-Shirt & 20 & 10000 & 500 \\\\\n",
       "\t3 & 3 & Smartphone & 600 & 120000 & 200 \\\\\n",
       "\t4 & 4 & Sneakers & 50 & 15000 & 300 \\\\\n",
       "\t5 & 5 & Milk & 2 & 2000 & 1000 \\\\\n",
       "\\end{tabular}\n"
      ],
      "text/plain": [
       "\u001b[1m5×5 DataFrame\u001b[0m\n",
       "\u001b[1m Row \u001b[0m│\u001b[1m Product_ID \u001b[0m\u001b[1m Product_Name \u001b[0m\u001b[1m Unit_Price \u001b[0m\u001b[1m Revenue \u001b[0m\u001b[1m Units_Sold \u001b[0m\n",
       "     │\u001b[90m Int64      \u001b[0m\u001b[90m String15     \u001b[0m\u001b[90m Int64      \u001b[0m\u001b[90m Int64   \u001b[0m\u001b[90m Int64      \u001b[0m\n",
       "─────┼───────────────────────────────────────────────────────────\n",
       "   1 │          1  Laptop               800    80000         100\n",
       "   2 │          2  T-Shirt               20    10000         500\n",
       "   3 │          3  Smartphone           600   120000         200\n",
       "   4 │          4  Sneakers              50    15000         300\n",
       "   5 │          5  Milk                   2     2000        1000"
      ]
     },
     "execution_count": 7,
     "metadata": {},
     "output_type": "execute_result"
    }
   ],
   "source": [
    "# Also possible\n",
    "@select(sales, Product_ID,Product_Name,Unit_Price,Revenue,Units_Sold)"
   ]
  },
  {
   "cell_type": "code",
   "execution_count": 8,
   "metadata": {},
   "outputs": [
    {
     "data": {
      "text/html": [
       "<div><div style = \"float: left;\"><span>5×6 DataFrame</span></div><div style = \"clear: both;\"></div></div><div class = \"data-frame\" style = \"overflow-x: scroll;\"><table class = \"data-frame\" style = \"margin-bottom: 6px;\"><thead><tr class = \"header\"><th class = \"rowNumber\" style = \"font-weight: bold; text-align: right;\">Row</th><th style = \"text-align: left;\">Product_ID</th><th style = \"text-align: left;\">Product_Name</th><th style = \"text-align: left;\">Category</th><th style = \"text-align: left;\">Unit_Price</th><th style = \"text-align: left;\">Units_Sold</th><th style = \"text-align: left;\">Revenue</th></tr><tr class = \"subheader headerLastRow\"><th class = \"rowNumber\" style = \"font-weight: bold; text-align: right;\"></th><th title = \"Int64\" style = \"text-align: left;\">Int64</th><th title = \"InlineStrings.String15\" style = \"text-align: left;\">String15</th><th title = \"InlineStrings.String15\" style = \"text-align: left;\">String15</th><th title = \"Int64\" style = \"text-align: left;\">Int64</th><th title = \"Int64\" style = \"text-align: left;\">Int64</th><th title = \"Int64\" style = \"text-align: left;\">Int64</th></tr></thead><tbody><tr><td class = \"rowNumber\" style = \"font-weight: bold; text-align: right;\">1</td><td style = \"text-align: right;\">1</td><td style = \"text-align: left;\">Laptop</td><td style = \"text-align: left;\">Electronics</td><td style = \"text-align: right;\">800</td><td style = \"text-align: right;\">100</td><td style = \"text-align: right;\">80000</td></tr><tr><td class = \"rowNumber\" style = \"font-weight: bold; text-align: right;\">2</td><td style = \"text-align: right;\">2</td><td style = \"text-align: left;\">T-Shirt</td><td style = \"text-align: left;\">Clothing</td><td style = \"text-align: right;\">20</td><td style = \"text-align: right;\">500</td><td style = \"text-align: right;\">10000</td></tr><tr><td class = \"rowNumber\" style = \"font-weight: bold; text-align: right;\">3</td><td style = \"text-align: right;\">3</td><td style = \"text-align: left;\">Smartphone</td><td style = \"text-align: left;\">Electronics</td><td style = \"text-align: right;\">600</td><td style = \"text-align: right;\">200</td><td style = \"text-align: right;\">120000</td></tr><tr><td class = \"rowNumber\" style = \"font-weight: bold; text-align: right;\">4</td><td style = \"text-align: right;\">4</td><td style = \"text-align: left;\">Sneakers</td><td style = \"text-align: left;\">Clothing</td><td style = \"text-align: right;\">50</td><td style = \"text-align: right;\">300</td><td style = \"text-align: right;\">15000</td></tr><tr><td class = \"rowNumber\" style = \"font-weight: bold; text-align: right;\">5</td><td style = \"text-align: right;\">5</td><td style = \"text-align: left;\">Milk</td><td style = \"text-align: left;\">Groceries</td><td style = \"text-align: right;\">2</td><td style = \"text-align: right;\">1000</td><td style = \"text-align: right;\">2000</td></tr></tbody></table></div>"
      ],
      "text/latex": [
       "\\begin{tabular}{r|cccccc}\n",
       "\t& Product\\_ID & Product\\_Name & Category & Unit\\_Price & Units\\_Sold & Revenue\\\\\n",
       "\t\\hline\n",
       "\t& Int64 & String15 & String15 & Int64 & Int64 & Int64\\\\\n",
       "\t\\hline\n",
       "\t1 & 1 & Laptop & Electronics & 800 & 100 & 80000 \\\\\n",
       "\t2 & 2 & T-Shirt & Clothing & 20 & 500 & 10000 \\\\\n",
       "\t3 & 3 & Smartphone & Electronics & 600 & 200 & 120000 \\\\\n",
       "\t4 & 4 & Sneakers & Clothing & 50 & 300 & 15000 \\\\\n",
       "\t5 & 5 & Milk & Groceries & 2 & 1000 & 2000 \\\\\n",
       "\\end{tabular}\n"
      ],
      "text/plain": [
       "\u001b[1m5×6 DataFrame\u001b[0m\n",
       "\u001b[1m Row \u001b[0m│\u001b[1m Product_ID \u001b[0m\u001b[1m Product_Name \u001b[0m\u001b[1m Category    \u001b[0m\u001b[1m Unit_Price \u001b[0m\u001b[1m Units_Sold \u001b[0m\u001b[1m Revenue \u001b[0m\n",
       "     │\u001b[90m Int64      \u001b[0m\u001b[90m String15     \u001b[0m\u001b[90m String15    \u001b[0m\u001b[90m Int64      \u001b[0m\u001b[90m Int64      \u001b[0m\u001b[90m Int64   \u001b[0m\n",
       "─────┼────────────────────────────────────────────────────────────────────────\n",
       "   1 │          1  Laptop        Electronics         800         100    80000\n",
       "   2 │          2  T-Shirt       Clothing             20         500    10000\n",
       "   3 │          3  Smartphone    Electronics         600         200   120000\n",
       "   4 │          4  Sneakers      Clothing             50         300    15000\n",
       "   5 │          5  Milk          Groceries             2        1000     2000"
      ]
     },
     "execution_count": 8,
     "metadata": {},
     "output_type": "execute_result"
    }
   ],
   "source": [
    "@chain sales begin\n",
    "    @select(-Customer_ID) # exclude a column\n",
    "end"
   ]
  },
  {
   "cell_type": "code",
   "execution_count": 9,
   "metadata": {},
   "outputs": [
    {
     "data": {
      "text/html": [
       "<div><div style = \"float: left;\"><span>5×4 DataFrame</span></div><div style = \"clear: both;\"></div></div><div class = \"data-frame\" style = \"overflow-x: scroll;\"><table class = \"data-frame\" style = \"margin-bottom: 6px;\"><thead><tr class = \"header\"><th class = \"rowNumber\" style = \"font-weight: bold; text-align: right;\">Row</th><th style = \"text-align: left;\">Category</th><th style = \"text-align: left;\">Unit_Price</th><th style = \"text-align: left;\">Units_Sold</th><th style = \"text-align: left;\">Revenue</th></tr><tr class = \"subheader headerLastRow\"><th class = \"rowNumber\" style = \"font-weight: bold; text-align: right;\"></th><th title = \"InlineStrings.String15\" style = \"text-align: left;\">String15</th><th title = \"Int64\" style = \"text-align: left;\">Int64</th><th title = \"Int64\" style = \"text-align: left;\">Int64</th><th title = \"Int64\" style = \"text-align: left;\">Int64</th></tr></thead><tbody><tr><td class = \"rowNumber\" style = \"font-weight: bold; text-align: right;\">1</td><td style = \"text-align: left;\">Electronics</td><td style = \"text-align: right;\">800</td><td style = \"text-align: right;\">100</td><td style = \"text-align: right;\">80000</td></tr><tr><td class = \"rowNumber\" style = \"font-weight: bold; text-align: right;\">2</td><td style = \"text-align: left;\">Clothing</td><td style = \"text-align: right;\">20</td><td style = \"text-align: right;\">500</td><td style = \"text-align: right;\">10000</td></tr><tr><td class = \"rowNumber\" style = \"font-weight: bold; text-align: right;\">3</td><td style = \"text-align: left;\">Electronics</td><td style = \"text-align: right;\">600</td><td style = \"text-align: right;\">200</td><td style = \"text-align: right;\">120000</td></tr><tr><td class = \"rowNumber\" style = \"font-weight: bold; text-align: right;\">4</td><td style = \"text-align: left;\">Clothing</td><td style = \"text-align: right;\">50</td><td style = \"text-align: right;\">300</td><td style = \"text-align: right;\">15000</td></tr><tr><td class = \"rowNumber\" style = \"font-weight: bold; text-align: right;\">5</td><td style = \"text-align: left;\">Groceries</td><td style = \"text-align: right;\">2</td><td style = \"text-align: right;\">1000</td><td style = \"text-align: right;\">2000</td></tr></tbody></table></div>"
      ],
      "text/latex": [
       "\\begin{tabular}{r|cccc}\n",
       "\t& Category & Unit\\_Price & Units\\_Sold & Revenue\\\\\n",
       "\t\\hline\n",
       "\t& String15 & Int64 & Int64 & Int64\\\\\n",
       "\t\\hline\n",
       "\t1 & Electronics & 800 & 100 & 80000 \\\\\n",
       "\t2 & Clothing & 20 & 500 & 10000 \\\\\n",
       "\t3 & Electronics & 600 & 200 & 120000 \\\\\n",
       "\t4 & Clothing & 50 & 300 & 15000 \\\\\n",
       "\t5 & Groceries & 2 & 1000 & 2000 \\\\\n",
       "\\end{tabular}\n"
      ],
      "text/plain": [
       "\u001b[1m5×4 DataFrame\u001b[0m\n",
       "\u001b[1m Row \u001b[0m│\u001b[1m Category    \u001b[0m\u001b[1m Unit_Price \u001b[0m\u001b[1m Units_Sold \u001b[0m\u001b[1m Revenue \u001b[0m\n",
       "     │\u001b[90m String15    \u001b[0m\u001b[90m Int64      \u001b[0m\u001b[90m Int64      \u001b[0m\u001b[90m Int64   \u001b[0m\n",
       "─────┼──────────────────────────────────────────────\n",
       "   1 │ Electronics         800         100    80000\n",
       "   2 │ Clothing             20         500    10000\n",
       "   3 │ Electronics         600         200   120000\n",
       "   4 │ Clothing             50         300    15000\n",
       "   5 │ Groceries             2        1000     2000"
      ]
     },
     "execution_count": 9,
     "metadata": {},
     "output_type": "execute_result"
    }
   ],
   "source": [
    "@chain sales begin\n",
    "    @select(Category:Revenue) # select a subset of columns using a slice\n",
    "end"
   ]
  },
  {
   "cell_type": "markdown",
   "metadata": {
    "scrolled": true
   },
   "source": [
    "### Filtering and slicing data. Renaming variables"
   ]
  },
  {
   "cell_type": "code",
   "execution_count": 10,
   "metadata": {
    "scrolled": true
   },
   "outputs": [
    {
     "data": {
      "text/html": [
       "<div><div style = \"float: left;\"><span>1×7 DataFrame</span></div><div style = \"clear: both;\"></div></div><div class = \"data-frame\" style = \"overflow-x: scroll;\"><table class = \"data-frame\" style = \"margin-bottom: 6px;\"><thead><tr class = \"header\"><th class = \"rowNumber\" style = \"font-weight: bold; text-align: right;\">Row</th><th style = \"text-align: left;\">Customer_ID</th><th style = \"text-align: left;\">Product_ID</th><th style = \"text-align: left;\">Product_Name</th><th style = \"text-align: left;\">Category</th><th style = \"text-align: left;\">Price</th><th style = \"text-align: left;\">Units</th><th style = \"text-align: left;\">Revenue</th></tr><tr class = \"subheader headerLastRow\"><th class = \"rowNumber\" style = \"font-weight: bold; text-align: right;\"></th><th title = \"Int64\" style = \"text-align: left;\">Int64</th><th title = \"Int64\" style = \"text-align: left;\">Int64</th><th title = \"InlineStrings.String15\" style = \"text-align: left;\">String15</th><th title = \"InlineStrings.String15\" style = \"text-align: left;\">String15</th><th title = \"Int64\" style = \"text-align: left;\">Int64</th><th title = \"Int64\" style = \"text-align: left;\">Int64</th><th title = \"Int64\" style = \"text-align: left;\">Int64</th></tr></thead><tbody><tr><td class = \"rowNumber\" style = \"font-weight: bold; text-align: right;\">1</td><td style = \"text-align: right;\">103</td><td style = \"text-align: right;\">3</td><td style = \"text-align: left;\">Smartphone</td><td style = \"text-align: left;\">Electronics</td><td style = \"text-align: right;\">600</td><td style = \"text-align: right;\">200</td><td style = \"text-align: right;\">120000</td></tr></tbody></table></div>"
      ],
      "text/latex": [
       "\\begin{tabular}{r|ccccccc}\n",
       "\t& Customer\\_ID & Product\\_ID & Product\\_Name & Category & Price & Units & Revenue\\\\\n",
       "\t\\hline\n",
       "\t& Int64 & Int64 & String15 & String15 & Int64 & Int64 & Int64\\\\\n",
       "\t\\hline\n",
       "\t1 & 103 & 3 & Smartphone & Electronics & 600 & 200 & 120000 \\\\\n",
       "\\end{tabular}\n"
      ],
      "text/plain": [
       "\u001b[1m1×7 DataFrame\u001b[0m\n",
       "\u001b[1m Row \u001b[0m│\u001b[1m Customer_ID \u001b[0m\u001b[1m Product_ID \u001b[0m\u001b[1m Product_Name \u001b[0m\u001b[1m Category    \u001b[0m\u001b[1m Price \u001b[0m\u001b[1m Units \u001b[0m\u001b[1m Reven\u001b[0m ⋯\n",
       "     │\u001b[90m Int64       \u001b[0m\u001b[90m Int64      \u001b[0m\u001b[90m String15     \u001b[0m\u001b[90m String15    \u001b[0m\u001b[90m Int64 \u001b[0m\u001b[90m Int64 \u001b[0m\u001b[90m Int64\u001b[0m ⋯\n",
       "─────┼──────────────────────────────────────────────────────────────────────────\n",
       "   1 │         103           3  Smartphone    Electronics    600    200   1200 ⋯\n",
       "\u001b[36m                                                                1 column omitted\u001b[0m"
      ]
     },
     "execution_count": 10,
     "metadata": {},
     "output_type": "execute_result"
    }
   ],
   "source": [
    "@chain sales begin\n",
    "    @filter(Category == \"Electronics\", Revenue >= 100000)\n",
    "    @rename(Price = Unit_Price, Units = Units_Sold)\n",
    "end"
   ]
  },
  {
   "cell_type": "code",
   "execution_count": 11,
   "metadata": {},
   "outputs": [
    {
     "data": {
      "text/html": [
       "<div><div style = \"float: left;\"><span>3×7 DataFrame</span></div><div style = \"clear: both;\"></div></div><div class = \"data-frame\" style = \"overflow-x: scroll;\"><table class = \"data-frame\" style = \"margin-bottom: 6px;\"><thead><tr class = \"header\"><th class = \"rowNumber\" style = \"font-weight: bold; text-align: right;\">Row</th><th style = \"text-align: left;\">Customer_ID</th><th style = \"text-align: left;\">Product_ID</th><th style = \"text-align: left;\">Product_Name</th><th style = \"text-align: left;\">Category</th><th style = \"text-align: left;\">Unit_Price</th><th style = \"text-align: left;\">Units_Sold</th><th style = \"text-align: left;\">Revenue</th></tr><tr class = \"subheader headerLastRow\"><th class = \"rowNumber\" style = \"font-weight: bold; text-align: right;\"></th><th title = \"Int64\" style = \"text-align: left;\">Int64</th><th title = \"Int64\" style = \"text-align: left;\">Int64</th><th title = \"InlineStrings.String15\" style = \"text-align: left;\">String15</th><th title = \"InlineStrings.String15\" style = \"text-align: left;\">String15</th><th title = \"Int64\" style = \"text-align: left;\">Int64</th><th title = \"Int64\" style = \"text-align: left;\">Int64</th><th title = \"Int64\" style = \"text-align: left;\">Int64</th></tr></thead><tbody><tr><td class = \"rowNumber\" style = \"font-weight: bold; text-align: right;\">1</td><td style = \"text-align: right;\">101</td><td style = \"text-align: right;\">1</td><td style = \"text-align: left;\">Laptop</td><td style = \"text-align: left;\">Electronics</td><td style = \"text-align: right;\">800</td><td style = \"text-align: right;\">100</td><td style = \"text-align: right;\">80000</td></tr><tr><td class = \"rowNumber\" style = \"font-weight: bold; text-align: right;\">2</td><td style = \"text-align: right;\">102</td><td style = \"text-align: right;\">2</td><td style = \"text-align: left;\">T-Shirt</td><td style = \"text-align: left;\">Clothing</td><td style = \"text-align: right;\">20</td><td style = \"text-align: right;\">500</td><td style = \"text-align: right;\">10000</td></tr><tr><td class = \"rowNumber\" style = \"font-weight: bold; text-align: right;\">3</td><td style = \"text-align: right;\">104</td><td style = \"text-align: right;\">5</td><td style = \"text-align: left;\">Milk</td><td style = \"text-align: left;\">Groceries</td><td style = \"text-align: right;\">2</td><td style = \"text-align: right;\">1000</td><td style = \"text-align: right;\">2000</td></tr></tbody></table></div>"
      ],
      "text/latex": [
       "\\begin{tabular}{r|ccccccc}\n",
       "\t& Customer\\_ID & Product\\_ID & Product\\_Name & Category & Unit\\_Price & Units\\_Sold & Revenue\\\\\n",
       "\t\\hline\n",
       "\t& Int64 & Int64 & String15 & String15 & Int64 & Int64 & Int64\\\\\n",
       "\t\\hline\n",
       "\t1 & 101 & 1 & Laptop & Electronics & 800 & 100 & 80000 \\\\\n",
       "\t2 & 102 & 2 & T-Shirt & Clothing & 20 & 500 & 10000 \\\\\n",
       "\t3 & 104 & 5 & Milk & Groceries & 2 & 1000 & 2000 \\\\\n",
       "\\end{tabular}\n"
      ],
      "text/plain": [
       "\u001b[1m3×7 DataFrame\u001b[0m\n",
       "\u001b[1m Row \u001b[0m│\u001b[1m Customer_ID \u001b[0m\u001b[1m Product_ID \u001b[0m\u001b[1m Product_Name \u001b[0m\u001b[1m Category    \u001b[0m\u001b[1m Unit_Price \u001b[0m\u001b[1m Units_S\u001b[0m ⋯\n",
       "     │\u001b[90m Int64       \u001b[0m\u001b[90m Int64      \u001b[0m\u001b[90m String15     \u001b[0m\u001b[90m String15    \u001b[0m\u001b[90m Int64      \u001b[0m\u001b[90m Int64  \u001b[0m ⋯\n",
       "─────┼──────────────────────────────────────────────────────────────────────────\n",
       "   1 │         101           1  Laptop        Electronics         800          ⋯\n",
       "   2 │         102           2  T-Shirt       Clothing             20\n",
       "   3 │         104           5  Milk          Groceries             2        1\n",
       "\u001b[36m                                                               2 columns omitted\u001b[0m"
      ]
     },
     "execution_count": 11,
     "metadata": {},
     "output_type": "execute_result"
    }
   ],
   "source": [
    "@chain sales begin\n",
    "    @slice(1:2,5)\n",
    "end"
   ]
  },
  {
   "cell_type": "markdown",
   "metadata": {},
   "source": [
    "### Mutating variables"
   ]
  },
  {
   "cell_type": "code",
   "execution_count": 12,
   "metadata": {},
   "outputs": [
    {
     "data": {
      "text/html": [
       "<div><div style = \"float: left;\"><span>5×7 DataFrame</span></div><div style = \"clear: both;\"></div></div><div class = \"data-frame\" style = \"overflow-x: scroll;\"><table class = \"data-frame\" style = \"margin-bottom: 6px;\"><thead><tr class = \"header\"><th class = \"rowNumber\" style = \"font-weight: bold; text-align: right;\">Row</th><th style = \"text-align: left;\">Product_ID</th><th style = \"text-align: left;\">Product_Name</th><th style = \"text-align: left;\">Unit_Price</th><th style = \"text-align: left;\">Revenue</th><th style = \"text-align: left;\">Units_Sold</th><th style = \"text-align: left;\">P</th><th style = \"text-align: left;\">check</th></tr><tr class = \"subheader headerLastRow\"><th class = \"rowNumber\" style = \"font-weight: bold; text-align: right;\"></th><th title = \"Int64\" style = \"text-align: left;\">Int64</th><th title = \"InlineStrings.String15\" style = \"text-align: left;\">String15</th><th title = \"Int64\" style = \"text-align: left;\">Int64</th><th title = \"Int64\" style = \"text-align: left;\">Int64</th><th title = \"Int64\" style = \"text-align: left;\">Int64</th><th title = \"Float64\" style = \"text-align: left;\">Float64</th><th title = \"Float64\" style = \"text-align: left;\">Float64</th></tr></thead><tbody><tr><td class = \"rowNumber\" style = \"font-weight: bold; text-align: right;\">1</td><td style = \"text-align: right;\">1</td><td style = \"text-align: left;\">Laptop</td><td style = \"text-align: right;\">800</td><td style = \"text-align: right;\">80000</td><td style = \"text-align: right;\">100</td><td style = \"text-align: right;\">800.0</td><td style = \"text-align: right;\">0.0</td></tr><tr><td class = \"rowNumber\" style = \"font-weight: bold; text-align: right;\">2</td><td style = \"text-align: right;\">2</td><td style = \"text-align: left;\">T-Shirt</td><td style = \"text-align: right;\">20</td><td style = \"text-align: right;\">10000</td><td style = \"text-align: right;\">500</td><td style = \"text-align: right;\">20.0</td><td style = \"text-align: right;\">0.0</td></tr><tr><td class = \"rowNumber\" style = \"font-weight: bold; text-align: right;\">3</td><td style = \"text-align: right;\">3</td><td style = \"text-align: left;\">Smartphone</td><td style = \"text-align: right;\">600</td><td style = \"text-align: right;\">120000</td><td style = \"text-align: right;\">200</td><td style = \"text-align: right;\">600.0</td><td style = \"text-align: right;\">0.0</td></tr><tr><td class = \"rowNumber\" style = \"font-weight: bold; text-align: right;\">4</td><td style = \"text-align: right;\">4</td><td style = \"text-align: left;\">Sneakers</td><td style = \"text-align: right;\">50</td><td style = \"text-align: right;\">15000</td><td style = \"text-align: right;\">300</td><td style = \"text-align: right;\">50.0</td><td style = \"text-align: right;\">0.0</td></tr><tr><td class = \"rowNumber\" style = \"font-weight: bold; text-align: right;\">5</td><td style = \"text-align: right;\">5</td><td style = \"text-align: left;\">Milk</td><td style = \"text-align: right;\">2</td><td style = \"text-align: right;\">2000</td><td style = \"text-align: right;\">1000</td><td style = \"text-align: right;\">2.0</td><td style = \"text-align: right;\">0.0</td></tr></tbody></table></div>"
      ],
      "text/latex": [
       "\\begin{tabular}{r|ccccccc}\n",
       "\t& Product\\_ID & Product\\_Name & Unit\\_Price & Revenue & Units\\_Sold & P & check\\\\\n",
       "\t\\hline\n",
       "\t& Int64 & String15 & Int64 & Int64 & Int64 & Float64 & Float64\\\\\n",
       "\t\\hline\n",
       "\t1 & 1 & Laptop & 800 & 80000 & 100 & 800.0 & 0.0 \\\\\n",
       "\t2 & 2 & T-Shirt & 20 & 10000 & 500 & 20.0 & 0.0 \\\\\n",
       "\t3 & 3 & Smartphone & 600 & 120000 & 200 & 600.0 & 0.0 \\\\\n",
       "\t4 & 4 & Sneakers & 50 & 15000 & 300 & 50.0 & 0.0 \\\\\n",
       "\t5 & 5 & Milk & 2 & 2000 & 1000 & 2.0 & 0.0 \\\\\n",
       "\\end{tabular}\n"
      ],
      "text/plain": [
       "\u001b[1m5×7 DataFrame\u001b[0m\n",
       "\u001b[1m Row \u001b[0m│\u001b[1m Product_ID \u001b[0m\u001b[1m Product_Name \u001b[0m\u001b[1m Unit_Price \u001b[0m\u001b[1m Revenue \u001b[0m\u001b[1m Units_Sold \u001b[0m\u001b[1m P       \u001b[0m\u001b[1m che\u001b[0m ⋯\n",
       "     │\u001b[90m Int64      \u001b[0m\u001b[90m String15     \u001b[0m\u001b[90m Int64      \u001b[0m\u001b[90m Int64   \u001b[0m\u001b[90m Int64      \u001b[0m\u001b[90m Float64 \u001b[0m\u001b[90m Flo\u001b[0m ⋯\n",
       "─────┼──────────────────────────────────────────────────────────────────────────\n",
       "   1 │          1  Laptop               800    80000         100    800.0      ⋯\n",
       "   2 │          2  T-Shirt               20    10000         500     20.0\n",
       "   3 │          3  Smartphone           600   120000         200    600.0\n",
       "   4 │          4  Sneakers              50    15000         300     50.0\n",
       "   5 │          5  Milk                   2     2000        1000      2.0      ⋯\n",
       "\u001b[36m                                                                1 column omitted\u001b[0m"
      ]
     },
     "execution_count": 12,
     "metadata": {},
     "output_type": "execute_result"
    }
   ],
   "source": [
    "sls = @chain sls begin\n",
    "        @mutate(P = Revenue/Units_Sold)\n",
    "        @mutate(check = P - Unit_Price)\n",
    "end"
   ]
  },
  {
   "cell_type": "code",
   "execution_count": 13,
   "metadata": {
    "scrolled": true
   },
   "outputs": [
    {
     "data": {
      "text/html": [
       "<div><div style = \"float: left;\"><span>5×1 DataFrame</span></div><div style = \"clear: both;\"></div></div><div class = \"data-frame\" style = \"overflow-x: scroll;\"><table class = \"data-frame\" style = \"margin-bottom: 6px;\"><thead><tr class = \"header\"><th class = \"rowNumber\" style = \"font-weight: bold; text-align: right;\">Row</th><th style = \"text-align: left;\">problem</th></tr><tr class = \"subheader headerLastRow\"><th class = \"rowNumber\" style = \"font-weight: bold; text-align: right;\"></th><th title = \"Bool\" style = \"text-align: left;\">Bool</th></tr></thead><tbody><tr><td class = \"rowNumber\" style = \"font-weight: bold; text-align: right;\">1</td><td style = \"text-align: right;\">false</td></tr><tr><td class = \"rowNumber\" style = \"font-weight: bold; text-align: right;\">2</td><td style = \"text-align: right;\">false</td></tr><tr><td class = \"rowNumber\" style = \"font-weight: bold; text-align: right;\">3</td><td style = \"text-align: right;\">false</td></tr><tr><td class = \"rowNumber\" style = \"font-weight: bold; text-align: right;\">4</td><td style = \"text-align: right;\">false</td></tr><tr><td class = \"rowNumber\" style = \"font-weight: bold; text-align: right;\">5</td><td style = \"text-align: right;\">false</td></tr></tbody></table></div>"
      ],
      "text/latex": [
       "\\begin{tabular}{r|c}\n",
       "\t& problem\\\\\n",
       "\t\\hline\n",
       "\t& Bool\\\\\n",
       "\t\\hline\n",
       "\t1 & 0 \\\\\n",
       "\t2 & 0 \\\\\n",
       "\t3 & 0 \\\\\n",
       "\t4 & 0 \\\\\n",
       "\t5 & 0 \\\\\n",
       "\\end{tabular}\n"
      ],
      "text/plain": [
       "\u001b[1m5×1 DataFrame\u001b[0m\n",
       "\u001b[1m Row \u001b[0m│\u001b[1m problem \u001b[0m\n",
       "     │\u001b[90m Bool    \u001b[0m\n",
       "─────┼─────────\n",
       "   1 │   false\n",
       "   2 │   false\n",
       "   3 │   false\n",
       "   4 │   false\n",
       "   5 │   false"
      ]
     },
     "execution_count": 13,
     "metadata": {},
     "output_type": "execute_result"
    }
   ],
   "source": [
    "@chain sls begin\n",
    "        @transmute(problem = check!=0)\n",
    "end"
   ]
  },
  {
   "cell_type": "markdown",
   "metadata": {},
   "source": [
    "### Joins"
   ]
  },
  {
   "cell_type": "code",
   "execution_count": 14,
   "metadata": {},
   "outputs": [
    {
     "data": {
      "text/html": [
       "<div><div style = \"float: left;\"><span>5×11 DataFrame</span></div><div style = \"clear: both;\"></div></div><div class = \"data-frame\" style = \"overflow-x: scroll;\"><table class = \"data-frame\" style = \"margin-bottom: 6px;\"><thead><tr class = \"header\"><th class = \"rowNumber\" style = \"font-weight: bold; text-align: right;\">Row</th><th style = \"text-align: left;\">Customer_ID</th><th style = \"text-align: left;\">Product_ID</th><th style = \"text-align: left;\">Product_Name</th><th style = \"text-align: left;\">Category</th><th style = \"text-align: left;\">Unit_Price</th><th style = \"text-align: left;\">Units_Sold</th><th style = \"text-align: left;\">Revenue</th><th style = \"text-align: left;\">Age</th><th style = \"text-align: left;\">Gender</th><th style = \"text-align: left;\">Income_Range</th><th style = \"text-align: left;\">Region</th></tr><tr class = \"subheader headerLastRow\"><th class = \"rowNumber\" style = \"font-weight: bold; text-align: right;\"></th><th title = \"Int64\" style = \"text-align: left;\">Int64</th><th title = \"Int64\" style = \"text-align: left;\">Int64</th><th title = \"InlineStrings.String15\" style = \"text-align: left;\">String15</th><th title = \"InlineStrings.String15\" style = \"text-align: left;\">String15</th><th title = \"Int64\" style = \"text-align: left;\">Int64</th><th title = \"Int64\" style = \"text-align: left;\">Int64</th><th title = \"Int64\" style = \"text-align: left;\">Int64</th><th title = \"Union{Missing, Int64}\" style = \"text-align: left;\">Int64?</th><th title = \"Union{Missing, InlineStrings.String7}\" style = \"text-align: left;\">String7</th><th title = \"Union{Missing, InlineStrings.String15}\" style = \"text-align: left;\">String15</th><th title = \"Union{Missing, InlineStrings.String7}\" style = \"text-align: left;\">String7</th></tr></thead><tbody><tr><td class = \"rowNumber\" style = \"font-weight: bold; text-align: right;\">1</td><td style = \"text-align: right;\">101</td><td style = \"text-align: right;\">1</td><td style = \"text-align: left;\">Laptop</td><td style = \"text-align: left;\">Electronics</td><td style = \"text-align: right;\">800</td><td style = \"text-align: right;\">100</td><td style = \"text-align: right;\">80000</td><td style = \"text-align: right;\">35</td><td style = \"text-align: left;\">Male</td><td style = \"text-align: left;\">$50000-$75000</td><td style = \"text-align: left;\">North</td></tr><tr><td class = \"rowNumber\" style = \"font-weight: bold; text-align: right;\">2</td><td style = \"text-align: right;\">101</td><td style = \"text-align: right;\">4</td><td style = \"text-align: left;\">Sneakers</td><td style = \"text-align: left;\">Clothing</td><td style = \"text-align: right;\">50</td><td style = \"text-align: right;\">300</td><td style = \"text-align: right;\">15000</td><td style = \"text-align: right;\">35</td><td style = \"text-align: left;\">Male</td><td style = \"text-align: left;\">$50000-$75000</td><td style = \"text-align: left;\">North</td></tr><tr><td class = \"rowNumber\" style = \"font-weight: bold; text-align: right;\">3</td><td style = \"text-align: right;\">102</td><td style = \"text-align: right;\">2</td><td style = \"text-align: left;\">T-Shirt</td><td style = \"text-align: left;\">Clothing</td><td style = \"text-align: right;\">20</td><td style = \"text-align: right;\">500</td><td style = \"text-align: right;\">10000</td><td style = \"text-align: right;\">28</td><td style = \"text-align: left;\">Female</td><td style = \"text-align: left;\">$40000-$50000</td><td style = \"text-align: left;\">South</td></tr><tr><td class = \"rowNumber\" style = \"font-weight: bold; text-align: right;\">4</td><td style = \"text-align: right;\">103</td><td style = \"text-align: right;\">3</td><td style = \"text-align: left;\">Smartphone</td><td style = \"text-align: left;\">Electronics</td><td style = \"text-align: right;\">600</td><td style = \"text-align: right;\">200</td><td style = \"text-align: right;\">120000</td><td style = \"text-align: right;\">45</td><td style = \"text-align: left;\">Female</td><td style = \"text-align: left;\">$75000-$100000</td><td style = \"text-align: left;\">East</td></tr><tr><td class = \"rowNumber\" style = \"font-weight: bold; text-align: right;\">5</td><td style = \"text-align: right;\">104</td><td style = \"text-align: right;\">5</td><td style = \"text-align: left;\">Milk</td><td style = \"text-align: left;\">Groceries</td><td style = \"text-align: right;\">2</td><td style = \"text-align: right;\">1000</td><td style = \"text-align: right;\">2000</td><td style = \"text-align: right;\">50</td><td style = \"text-align: left;\">Male</td><td style = \"text-align: left;\">$100000+</td><td style = \"text-align: left;\">West</td></tr></tbody></table></div>"
      ],
      "text/latex": [
       "\\begin{tabular}{r|cccccccc}\n",
       "\t& Customer\\_ID & Product\\_ID & Product\\_Name & Category & Unit\\_Price & Units\\_Sold & Revenue & \\\\\n",
       "\t\\hline\n",
       "\t& Int64 & Int64 & String15 & String15 & Int64 & Int64 & Int64 & \\\\\n",
       "\t\\hline\n",
       "\t1 & 101 & 1 & Laptop & Electronics & 800 & 100 & 80000 & $\\dots$ \\\\\n",
       "\t2 & 101 & 4 & Sneakers & Clothing & 50 & 300 & 15000 & $\\dots$ \\\\\n",
       "\t3 & 102 & 2 & T-Shirt & Clothing & 20 & 500 & 10000 & $\\dots$ \\\\\n",
       "\t4 & 103 & 3 & Smartphone & Electronics & 600 & 200 & 120000 & $\\dots$ \\\\\n",
       "\t5 & 104 & 5 & Milk & Groceries & 2 & 1000 & 2000 & $\\dots$ \\\\\n",
       "\\end{tabular}\n"
      ],
      "text/plain": [
       "\u001b[1m5×11 DataFrame\u001b[0m\n",
       "\u001b[1m Row \u001b[0m│\u001b[1m Customer_ID \u001b[0m\u001b[1m Product_ID \u001b[0m\u001b[1m Product_Name \u001b[0m\u001b[1m Category    \u001b[0m\u001b[1m Unit_Price \u001b[0m\u001b[1m Units_S\u001b[0m ⋯\n",
       "     │\u001b[90m Int64       \u001b[0m\u001b[90m Int64      \u001b[0m\u001b[90m String15     \u001b[0m\u001b[90m String15    \u001b[0m\u001b[90m Int64      \u001b[0m\u001b[90m Int64  \u001b[0m ⋯\n",
       "─────┼──────────────────────────────────────────────────────────────────────────\n",
       "   1 │         101           1  Laptop        Electronics         800          ⋯\n",
       "   2 │         101           4  Sneakers      Clothing             50\n",
       "   3 │         102           2  T-Shirt       Clothing             20\n",
       "   4 │         103           3  Smartphone    Electronics         600\n",
       "   5 │         104           5  Milk          Groceries             2        1 ⋯\n",
       "\u001b[36m                                                               6 columns omitted\u001b[0m"
      ]
     },
     "execution_count": 14,
     "metadata": {},
     "output_type": "execute_result"
    }
   ],
   "source": [
    "# left_join: first dataframe is the \"leading\" one\n",
    "@chain sales begin\n",
    "    @left_join(customers) # the common key is automatically discovered\n",
    "end"
   ]
  },
  {
   "cell_type": "code",
   "execution_count": 15,
   "metadata": {},
   "outputs": [
    {
     "data": {
      "text/html": [
       "<div><div style = \"float: left;\"><span>6×11 DataFrame</span></div><div style = \"clear: both;\"></div></div><div class = \"data-frame\" style = \"overflow-x: scroll;\"><table class = \"data-frame\" style = \"margin-bottom: 6px;\"><thead><tr class = \"header\"><th class = \"rowNumber\" style = \"font-weight: bold; text-align: right;\">Row</th><th style = \"text-align: left;\">Customer_ID</th><th style = \"text-align: left;\">Product_ID</th><th style = \"text-align: left;\">Product_Name</th><th style = \"text-align: left;\">Category</th><th style = \"text-align: left;\">Unit_Price</th><th style = \"text-align: left;\">Units_Sold</th><th style = \"text-align: left;\">Revenue</th><th style = \"text-align: left;\">Age</th><th style = \"text-align: left;\">Gender</th><th style = \"text-align: left;\">Income_Range</th><th style = \"text-align: left;\">Region</th></tr><tr class = \"subheader headerLastRow\"><th class = \"rowNumber\" style = \"font-weight: bold; text-align: right;\"></th><th title = \"Int64\" style = \"text-align: left;\">Int64</th><th title = \"Union{Missing, Int64}\" style = \"text-align: left;\">Int64?</th><th title = \"Union{Missing, InlineStrings.String15}\" style = \"text-align: left;\">String15</th><th title = \"Union{Missing, InlineStrings.String15}\" style = \"text-align: left;\">String15</th><th title = \"Union{Missing, Int64}\" style = \"text-align: left;\">Int64?</th><th title = \"Union{Missing, Int64}\" style = \"text-align: left;\">Int64?</th><th title = \"Union{Missing, Int64}\" style = \"text-align: left;\">Int64?</th><th title = \"Int64\" style = \"text-align: left;\">Int64</th><th title = \"InlineStrings.String7\" style = \"text-align: left;\">String7</th><th title = \"InlineStrings.String15\" style = \"text-align: left;\">String15</th><th title = \"InlineStrings.String7\" style = \"text-align: left;\">String7</th></tr></thead><tbody><tr><td class = \"rowNumber\" style = \"font-weight: bold; text-align: right;\">1</td><td style = \"text-align: right;\">101</td><td style = \"text-align: right;\">1</td><td style = \"text-align: left;\">Laptop</td><td style = \"text-align: left;\">Electronics</td><td style = \"text-align: right;\">800</td><td style = \"text-align: right;\">100</td><td style = \"text-align: right;\">80000</td><td style = \"text-align: right;\">35</td><td style = \"text-align: left;\">Male</td><td style = \"text-align: left;\">$50000-$75000</td><td style = \"text-align: left;\">North</td></tr><tr><td class = \"rowNumber\" style = \"font-weight: bold; text-align: right;\">2</td><td style = \"text-align: right;\">101</td><td style = \"text-align: right;\">4</td><td style = \"text-align: left;\">Sneakers</td><td style = \"text-align: left;\">Clothing</td><td style = \"text-align: right;\">50</td><td style = \"text-align: right;\">300</td><td style = \"text-align: right;\">15000</td><td style = \"text-align: right;\">35</td><td style = \"text-align: left;\">Male</td><td style = \"text-align: left;\">$50000-$75000</td><td style = \"text-align: left;\">North</td></tr><tr><td class = \"rowNumber\" style = \"font-weight: bold; text-align: right;\">3</td><td style = \"text-align: right;\">102</td><td style = \"text-align: right;\">2</td><td style = \"text-align: left;\">T-Shirt</td><td style = \"text-align: left;\">Clothing</td><td style = \"text-align: right;\">20</td><td style = \"text-align: right;\">500</td><td style = \"text-align: right;\">10000</td><td style = \"text-align: right;\">28</td><td style = \"text-align: left;\">Female</td><td style = \"text-align: left;\">$40000-$50000</td><td style = \"text-align: left;\">South</td></tr><tr><td class = \"rowNumber\" style = \"font-weight: bold; text-align: right;\">4</td><td style = \"text-align: right;\">103</td><td style = \"text-align: right;\">3</td><td style = \"text-align: left;\">Smartphone</td><td style = \"text-align: left;\">Electronics</td><td style = \"text-align: right;\">600</td><td style = \"text-align: right;\">200</td><td style = \"text-align: right;\">120000</td><td style = \"text-align: right;\">45</td><td style = \"text-align: left;\">Female</td><td style = \"text-align: left;\">$75000-$100000</td><td style = \"text-align: left;\">East</td></tr><tr><td class = \"rowNumber\" style = \"font-weight: bold; text-align: right;\">5</td><td style = \"text-align: right;\">104</td><td style = \"text-align: right;\">5</td><td style = \"text-align: left;\">Milk</td><td style = \"text-align: left;\">Groceries</td><td style = \"text-align: right;\">2</td><td style = \"text-align: right;\">1000</td><td style = \"text-align: right;\">2000</td><td style = \"text-align: right;\">50</td><td style = \"text-align: left;\">Male</td><td style = \"text-align: left;\">$100000+</td><td style = \"text-align: left;\">West</td></tr><tr><td class = \"rowNumber\" style = \"font-weight: bold; text-align: right;\">6</td><td style = \"text-align: right;\">105</td><td style = \"font-style: italic; text-align: right;\">missing</td><td style = \"font-style: italic; text-align: left;\">missing</td><td style = \"font-style: italic; text-align: left;\">missing</td><td style = \"font-style: italic; text-align: right;\">missing</td><td style = \"font-style: italic; text-align: right;\">missing</td><td style = \"font-style: italic; text-align: right;\">missing</td><td style = \"text-align: right;\">40</td><td style = \"text-align: left;\">Male</td><td style = \"text-align: left;\">$50000-$75000</td><td style = \"text-align: left;\">North</td></tr></tbody></table></div>"
      ],
      "text/latex": [
       "\\begin{tabular}{r|cccccccc}\n",
       "\t& Customer\\_ID & Product\\_ID & Product\\_Name & Category & Unit\\_Price & Units\\_Sold & Revenue & \\\\\n",
       "\t\\hline\n",
       "\t& Int64 & Int64? & String15 & String15 & Int64? & Int64? & Int64? & \\\\\n",
       "\t\\hline\n",
       "\t1 & 101 & 1 & Laptop & Electronics & 800 & 100 & 80000 & $\\dots$ \\\\\n",
       "\t2 & 101 & 4 & Sneakers & Clothing & 50 & 300 & 15000 & $\\dots$ \\\\\n",
       "\t3 & 102 & 2 & T-Shirt & Clothing & 20 & 500 & 10000 & $\\dots$ \\\\\n",
       "\t4 & 103 & 3 & Smartphone & Electronics & 600 & 200 & 120000 & $\\dots$ \\\\\n",
       "\t5 & 104 & 5 & Milk & Groceries & 2 & 1000 & 2000 & $\\dots$ \\\\\n",
       "\t6 & 105 & \\emph{missing} & \\emph{missing} & \\emph{missing} & \\emph{missing} & \\emph{missing} & \\emph{missing} & $\\dots$ \\\\\n",
       "\\end{tabular}\n"
      ],
      "text/plain": [
       "\u001b[1m6×11 DataFrame\u001b[0m\n",
       "\u001b[1m Row \u001b[0m│\u001b[1m Customer_ID \u001b[0m\u001b[1m Product_ID \u001b[0m\u001b[1m Product_Name \u001b[0m\u001b[1m Category    \u001b[0m\u001b[1m Unit_Price \u001b[0m\u001b[1m Units_S\u001b[0m ⋯\n",
       "     │\u001b[90m Int64       \u001b[0m\u001b[90m Int64?     \u001b[0m\u001b[90m String15     \u001b[0m\u001b[90m String15    \u001b[0m\u001b[90m Int64?     \u001b[0m\u001b[90m Int64? \u001b[0m ⋯\n",
       "─────┼──────────────────────────────────────────────────────────────────────────\n",
       "   1 │         101           1  Laptop        Electronics         800          ⋯\n",
       "   2 │         101           4  Sneakers      Clothing             50\n",
       "   3 │         102           2  T-Shirt       Clothing             20\n",
       "   4 │         103           3  Smartphone    Electronics         600\n",
       "   5 │         104           5  Milk          Groceries             2        1 ⋯\n",
       "   6 │         105 \u001b[90m    missing \u001b[0m\u001b[90m missing      \u001b[0m\u001b[90m missing     \u001b[0m\u001b[90m    missing \u001b[0m\u001b[90m    miss\u001b[0m\n",
       "\u001b[36m                                                               6 columns omitted\u001b[0m"
      ]
     },
     "execution_count": 15,
     "metadata": {},
     "output_type": "execute_result"
    }
   ],
   "source": [
    "# right_join: second dataframe is the \"leading\" one\n",
    "@chain sales begin\n",
    "    @right_join(customers) \n",
    "end"
   ]
  },
  {
   "cell_type": "code",
   "execution_count": 16,
   "metadata": {
    "scrolled": true
   },
   "outputs": [
    {
     "data": {
      "text/html": [
       "<div><div style = \"float: left;\"><span>5×11 DataFrame</span></div><div style = \"clear: both;\"></div></div><div class = \"data-frame\" style = \"overflow-x: scroll;\"><table class = \"data-frame\" style = \"margin-bottom: 6px;\"><thead><tr class = \"header\"><th class = \"rowNumber\" style = \"font-weight: bold; text-align: right;\">Row</th><th style = \"text-align: left;\">Customer_ID</th><th style = \"text-align: left;\">Product_ID</th><th style = \"text-align: left;\">Product_Name</th><th style = \"text-align: left;\">Category</th><th style = \"text-align: left;\">Unit_Price</th><th style = \"text-align: left;\">Units_Sold</th><th style = \"text-align: left;\">Revenue</th><th style = \"text-align: left;\">Age</th><th style = \"text-align: left;\">Gender</th><th style = \"text-align: left;\">Income_Range</th><th style = \"text-align: left;\">Region</th></tr><tr class = \"subheader headerLastRow\"><th class = \"rowNumber\" style = \"font-weight: bold; text-align: right;\"></th><th title = \"Int64\" style = \"text-align: left;\">Int64</th><th title = \"Int64\" style = \"text-align: left;\">Int64</th><th title = \"InlineStrings.String15\" style = \"text-align: left;\">String15</th><th title = \"InlineStrings.String15\" style = \"text-align: left;\">String15</th><th title = \"Int64\" style = \"text-align: left;\">Int64</th><th title = \"Int64\" style = \"text-align: left;\">Int64</th><th title = \"Int64\" style = \"text-align: left;\">Int64</th><th title = \"Int64\" style = \"text-align: left;\">Int64</th><th title = \"InlineStrings.String7\" style = \"text-align: left;\">String7</th><th title = \"InlineStrings.String15\" style = \"text-align: left;\">String15</th><th title = \"InlineStrings.String7\" style = \"text-align: left;\">String7</th></tr></thead><tbody><tr><td class = \"rowNumber\" style = \"font-weight: bold; text-align: right;\">1</td><td style = \"text-align: right;\">101</td><td style = \"text-align: right;\">1</td><td style = \"text-align: left;\">Laptop</td><td style = \"text-align: left;\">Electronics</td><td style = \"text-align: right;\">800</td><td style = \"text-align: right;\">100</td><td style = \"text-align: right;\">80000</td><td style = \"text-align: right;\">35</td><td style = \"text-align: left;\">Male</td><td style = \"text-align: left;\">$50000-$75000</td><td style = \"text-align: left;\">North</td></tr><tr><td class = \"rowNumber\" style = \"font-weight: bold; text-align: right;\">2</td><td style = \"text-align: right;\">101</td><td style = \"text-align: right;\">4</td><td style = \"text-align: left;\">Sneakers</td><td style = \"text-align: left;\">Clothing</td><td style = \"text-align: right;\">50</td><td style = \"text-align: right;\">300</td><td style = \"text-align: right;\">15000</td><td style = \"text-align: right;\">35</td><td style = \"text-align: left;\">Male</td><td style = \"text-align: left;\">$50000-$75000</td><td style = \"text-align: left;\">North</td></tr><tr><td class = \"rowNumber\" style = \"font-weight: bold; text-align: right;\">3</td><td style = \"text-align: right;\">102</td><td style = \"text-align: right;\">2</td><td style = \"text-align: left;\">T-Shirt</td><td style = \"text-align: left;\">Clothing</td><td style = \"text-align: right;\">20</td><td style = \"text-align: right;\">500</td><td style = \"text-align: right;\">10000</td><td style = \"text-align: right;\">28</td><td style = \"text-align: left;\">Female</td><td style = \"text-align: left;\">$40000-$50000</td><td style = \"text-align: left;\">South</td></tr><tr><td class = \"rowNumber\" style = \"font-weight: bold; text-align: right;\">4</td><td style = \"text-align: right;\">103</td><td style = \"text-align: right;\">3</td><td style = \"text-align: left;\">Smartphone</td><td style = \"text-align: left;\">Electronics</td><td style = \"text-align: right;\">600</td><td style = \"text-align: right;\">200</td><td style = \"text-align: right;\">120000</td><td style = \"text-align: right;\">45</td><td style = \"text-align: left;\">Female</td><td style = \"text-align: left;\">$75000-$100000</td><td style = \"text-align: left;\">East</td></tr><tr><td class = \"rowNumber\" style = \"font-weight: bold; text-align: right;\">5</td><td style = \"text-align: right;\">104</td><td style = \"text-align: right;\">5</td><td style = \"text-align: left;\">Milk</td><td style = \"text-align: left;\">Groceries</td><td style = \"text-align: right;\">2</td><td style = \"text-align: right;\">1000</td><td style = \"text-align: right;\">2000</td><td style = \"text-align: right;\">50</td><td style = \"text-align: left;\">Male</td><td style = \"text-align: left;\">$100000+</td><td style = \"text-align: left;\">West</td></tr></tbody></table></div>"
      ],
      "text/latex": [
       "\\begin{tabular}{r|cccccccc}\n",
       "\t& Customer\\_ID & Product\\_ID & Product\\_Name & Category & Unit\\_Price & Units\\_Sold & Revenue & \\\\\n",
       "\t\\hline\n",
       "\t& Int64 & Int64 & String15 & String15 & Int64 & Int64 & Int64 & \\\\\n",
       "\t\\hline\n",
       "\t1 & 101 & 1 & Laptop & Electronics & 800 & 100 & 80000 & $\\dots$ \\\\\n",
       "\t2 & 101 & 4 & Sneakers & Clothing & 50 & 300 & 15000 & $\\dots$ \\\\\n",
       "\t3 & 102 & 2 & T-Shirt & Clothing & 20 & 500 & 10000 & $\\dots$ \\\\\n",
       "\t4 & 103 & 3 & Smartphone & Electronics & 600 & 200 & 120000 & $\\dots$ \\\\\n",
       "\t5 & 104 & 5 & Milk & Groceries & 2 & 1000 & 2000 & $\\dots$ \\\\\n",
       "\\end{tabular}\n"
      ],
      "text/plain": [
       "\u001b[1m5×11 DataFrame\u001b[0m\n",
       "\u001b[1m Row \u001b[0m│\u001b[1m Customer_ID \u001b[0m\u001b[1m Product_ID \u001b[0m\u001b[1m Product_Name \u001b[0m\u001b[1m Category    \u001b[0m\u001b[1m Unit_Price \u001b[0m\u001b[1m Units_S\u001b[0m ⋯\n",
       "     │\u001b[90m Int64       \u001b[0m\u001b[90m Int64      \u001b[0m\u001b[90m String15     \u001b[0m\u001b[90m String15    \u001b[0m\u001b[90m Int64      \u001b[0m\u001b[90m Int64  \u001b[0m ⋯\n",
       "─────┼──────────────────────────────────────────────────────────────────────────\n",
       "   1 │         101           1  Laptop        Electronics         800          ⋯\n",
       "   2 │         101           4  Sneakers      Clothing             50\n",
       "   3 │         102           2  T-Shirt       Clothing             20\n",
       "   4 │         103           3  Smartphone    Electronics         600\n",
       "   5 │         104           5  Milk          Groceries             2        1 ⋯\n",
       "\u001b[36m                                                               6 columns omitted\u001b[0m"
      ]
     },
     "execution_count": 16,
     "metadata": {},
     "output_type": "execute_result"
    }
   ],
   "source": [
    "# inner_join: on common keys, here happens to be the same as the left_join\n",
    "@chain sales begin\n",
    "    @inner_join(customers) \n",
    "end"
   ]
  },
  {
   "cell_type": "markdown",
   "metadata": {},
   "source": [
    "### Groupby and summarize operations"
   ]
  },
  {
   "cell_type": "code",
   "execution_count": 17,
   "metadata": {},
   "outputs": [
    {
     "data": {
      "text/html": [
       "<div><div style = \"float: left;\"><span>5×8 DataFrame</span></div><div style = \"clear: both;\"></div></div><div class = \"data-frame\" style = \"overflow-x: scroll;\"><table class = \"data-frame\" style = \"margin-bottom: 6px;\"><thead><tr class = \"header\"><th class = \"rowNumber\" style = \"font-weight: bold; text-align: right;\">Row</th><th style = \"text-align: left;\">Customer_ID</th><th style = \"text-align: left;\">Product_ID</th><th style = \"text-align: left;\">Product_Name</th><th style = \"text-align: left;\">Category</th><th style = \"text-align: left;\">Unit_Price</th><th style = \"text-align: left;\">Units_Sold</th><th style = \"text-align: left;\">Revenue</th><th style = \"text-align: left;\">avgP</th></tr><tr class = \"subheader headerLastRow\"><th class = \"rowNumber\" style = \"font-weight: bold; text-align: right;\"></th><th title = \"Int64\" style = \"text-align: left;\">Int64</th><th title = \"Int64\" style = \"text-align: left;\">Int64</th><th title = \"InlineStrings.String15\" style = \"text-align: left;\">String15</th><th title = \"InlineStrings.String15\" style = \"text-align: left;\">String15</th><th title = \"Int64\" style = \"text-align: left;\">Int64</th><th title = \"Int64\" style = \"text-align: left;\">Int64</th><th title = \"Int64\" style = \"text-align: left;\">Int64</th><th title = \"Float64\" style = \"text-align: left;\">Float64</th></tr></thead><tbody><tr><td class = \"rowNumber\" style = \"font-weight: bold; text-align: right;\">1</td><td style = \"text-align: right;\">101</td><td style = \"text-align: right;\">1</td><td style = \"text-align: left;\">Laptop</td><td style = \"text-align: left;\">Electronics</td><td style = \"text-align: right;\">800</td><td style = \"text-align: right;\">100</td><td style = \"text-align: right;\">80000</td><td style = \"text-align: right;\">700.0</td></tr><tr><td class = \"rowNumber\" style = \"font-weight: bold; text-align: right;\">2</td><td style = \"text-align: right;\">103</td><td style = \"text-align: right;\">3</td><td style = \"text-align: left;\">Smartphone</td><td style = \"text-align: left;\">Electronics</td><td style = \"text-align: right;\">600</td><td style = \"text-align: right;\">200</td><td style = \"text-align: right;\">120000</td><td style = \"text-align: right;\">700.0</td></tr><tr><td class = \"rowNumber\" style = \"font-weight: bold; text-align: right;\">3</td><td style = \"text-align: right;\">102</td><td style = \"text-align: right;\">2</td><td style = \"text-align: left;\">T-Shirt</td><td style = \"text-align: left;\">Clothing</td><td style = \"text-align: right;\">20</td><td style = \"text-align: right;\">500</td><td style = \"text-align: right;\">10000</td><td style = \"text-align: right;\">35.0</td></tr><tr><td class = \"rowNumber\" style = \"font-weight: bold; text-align: right;\">4</td><td style = \"text-align: right;\">101</td><td style = \"text-align: right;\">4</td><td style = \"text-align: left;\">Sneakers</td><td style = \"text-align: left;\">Clothing</td><td style = \"text-align: right;\">50</td><td style = \"text-align: right;\">300</td><td style = \"text-align: right;\">15000</td><td style = \"text-align: right;\">35.0</td></tr><tr><td class = \"rowNumber\" style = \"font-weight: bold; text-align: right;\">5</td><td style = \"text-align: right;\">104</td><td style = \"text-align: right;\">5</td><td style = \"text-align: left;\">Milk</td><td style = \"text-align: left;\">Groceries</td><td style = \"text-align: right;\">2</td><td style = \"text-align: right;\">1000</td><td style = \"text-align: right;\">2000</td><td style = \"text-align: right;\">2.0</td></tr></tbody></table></div>"
      ],
      "text/latex": [
       "\\begin{tabular}{r|cccccccc}\n",
       "\t& Customer\\_ID & Product\\_ID & Product\\_Name & Category & Unit\\_Price & Units\\_Sold & Revenue & \\\\\n",
       "\t\\hline\n",
       "\t& Int64 & Int64 & String15 & String15 & Int64 & Int64 & Int64 & \\\\\n",
       "\t\\hline\n",
       "\t1 & 101 & 1 & Laptop & Electronics & 800 & 100 & 80000 & $\\dots$ \\\\\n",
       "\t2 & 103 & 3 & Smartphone & Electronics & 600 & 200 & 120000 & $\\dots$ \\\\\n",
       "\t3 & 102 & 2 & T-Shirt & Clothing & 20 & 500 & 10000 & $\\dots$ \\\\\n",
       "\t4 & 101 & 4 & Sneakers & Clothing & 50 & 300 & 15000 & $\\dots$ \\\\\n",
       "\t5 & 104 & 5 & Milk & Groceries & 2 & 1000 & 2000 & $\\dots$ \\\\\n",
       "\\end{tabular}\n"
      ],
      "text/plain": [
       "\u001b[1m5×8 DataFrame\u001b[0m\n",
       "\u001b[1m Row \u001b[0m│\u001b[1m Customer_ID \u001b[0m\u001b[1m Product_ID \u001b[0m\u001b[1m Product_Name \u001b[0m\u001b[1m Category    \u001b[0m\u001b[1m Unit_Price \u001b[0m\u001b[1m Units_S\u001b[0m ⋯\n",
       "     │\u001b[90m Int64       \u001b[0m\u001b[90m Int64      \u001b[0m\u001b[90m String15     \u001b[0m\u001b[90m String15    \u001b[0m\u001b[90m Int64      \u001b[0m\u001b[90m Int64  \u001b[0m ⋯\n",
       "─────┼──────────────────────────────────────────────────────────────────────────\n",
       "   1 │         101           1  Laptop        Electronics         800          ⋯\n",
       "   2 │         103           3  Smartphone    Electronics         600\n",
       "   3 │         102           2  T-Shirt       Clothing             20\n",
       "   4 │         101           4  Sneakers      Clothing             50\n",
       "   5 │         104           5  Milk          Groceries             2        1 ⋯\n",
       "\u001b[36m                                                               3 columns omitted\u001b[0m"
      ]
     },
     "execution_count": 17,
     "metadata": {},
     "output_type": "execute_result"
    }
   ],
   "source": [
    "@chain sales begin\n",
    "    @group_by(Category)\n",
    "    @mutate(avgP = mean(Unit_Price))\n",
    "    @ungroup()\n",
    "end"
   ]
  },
  {
   "cell_type": "code",
   "execution_count": 18,
   "metadata": {},
   "outputs": [
    {
     "data": {
      "text/html": [
       "<div><div style = \"float: left;\"><span>1×2 DataFrame</span></div><div style = \"clear: both;\"></div></div><div class = \"data-frame\" style = \"overflow-x: scroll;\"><table class = \"data-frame\" style = \"margin-bottom: 6px;\"><thead><tr class = \"header\"><th class = \"rowNumber\" style = \"font-weight: bold; text-align: right;\">Row</th><th style = \"text-align: left;\">maxrev</th><th style = \"text-align: left;\">minP</th></tr><tr class = \"subheader headerLastRow\"><th class = \"rowNumber\" style = \"font-weight: bold; text-align: right;\"></th><th title = \"Int64\" style = \"text-align: left;\">Int64</th><th title = \"Int64\" style = \"text-align: left;\">Int64</th></tr></thead><tbody><tr><td class = \"rowNumber\" style = \"font-weight: bold; text-align: right;\">1</td><td style = \"text-align: right;\">120000</td><td style = \"text-align: right;\">2</td></tr></tbody></table></div>"
      ],
      "text/latex": [
       "\\begin{tabular}{r|cc}\n",
       "\t& maxrev & minP\\\\\n",
       "\t\\hline\n",
       "\t& Int64 & Int64\\\\\n",
       "\t\\hline\n",
       "\t1 & 120000 & 2 \\\\\n",
       "\\end{tabular}\n"
      ],
      "text/plain": [
       "\u001b[1m1×2 DataFrame\u001b[0m\n",
       "\u001b[1m Row \u001b[0m│\u001b[1m maxrev \u001b[0m\u001b[1m minP  \u001b[0m\n",
       "     │\u001b[90m Int64  \u001b[0m\u001b[90m Int64 \u001b[0m\n",
       "─────┼───────────────\n",
       "   1 │ 120000      2"
      ]
     },
     "execution_count": 18,
     "metadata": {},
     "output_type": "execute_result"
    }
   ],
   "source": [
    "@chain sales begin\n",
    "    @summarize(maxrev = maximum(Revenue), minP = minimum(Unit_Price))\n",
    "end"
   ]
  },
  {
   "cell_type": "code",
   "execution_count": 19,
   "metadata": {
    "scrolled": true
   },
   "outputs": [
    {
     "data": {
      "text/html": [
       "<div><div style = \"float: left;\"><span>4×3 DataFrame</span></div><div style = \"clear: both;\"></div></div><div class = \"data-frame\" style = \"overflow-x: scroll;\"><table class = \"data-frame\" style = \"margin-bottom: 6px;\"><thead><tr class = \"header\"><th class = \"rowNumber\" style = \"font-weight: bold; text-align: right;\">Row</th><th style = \"text-align: left;\">Customer_ID</th><th style = \"text-align: left;\">maxrev</th><th style = \"text-align: left;\">minP</th></tr><tr class = \"subheader headerLastRow\"><th class = \"rowNumber\" style = \"font-weight: bold; text-align: right;\"></th><th title = \"Int64\" style = \"text-align: left;\">Int64</th><th title = \"Int64\" style = \"text-align: left;\">Int64</th><th title = \"Int64\" style = \"text-align: left;\">Int64</th></tr></thead><tbody><tr><td class = \"rowNumber\" style = \"font-weight: bold; text-align: right;\">1</td><td style = \"text-align: right;\">101</td><td style = \"text-align: right;\">80000</td><td style = \"text-align: right;\">50</td></tr><tr><td class = \"rowNumber\" style = \"font-weight: bold; text-align: right;\">2</td><td style = \"text-align: right;\">102</td><td style = \"text-align: right;\">10000</td><td style = \"text-align: right;\">20</td></tr><tr><td class = \"rowNumber\" style = \"font-weight: bold; text-align: right;\">3</td><td style = \"text-align: right;\">103</td><td style = \"text-align: right;\">120000</td><td style = \"text-align: right;\">600</td></tr><tr><td class = \"rowNumber\" style = \"font-weight: bold; text-align: right;\">4</td><td style = \"text-align: right;\">104</td><td style = \"text-align: right;\">2000</td><td style = \"text-align: right;\">2</td></tr></tbody></table></div>"
      ],
      "text/latex": [
       "\\begin{tabular}{r|ccc}\n",
       "\t& Customer\\_ID & maxrev & minP\\\\\n",
       "\t\\hline\n",
       "\t& Int64 & Int64 & Int64\\\\\n",
       "\t\\hline\n",
       "\t1 & 101 & 80000 & 50 \\\\\n",
       "\t2 & 102 & 10000 & 20 \\\\\n",
       "\t3 & 103 & 120000 & 600 \\\\\n",
       "\t4 & 104 & 2000 & 2 \\\\\n",
       "\\end{tabular}\n"
      ],
      "text/plain": [
       "\u001b[1m4×3 DataFrame\u001b[0m\n",
       "\u001b[1m Row \u001b[0m│\u001b[1m Customer_ID \u001b[0m\u001b[1m maxrev \u001b[0m\u001b[1m minP  \u001b[0m\n",
       "     │\u001b[90m Int64       \u001b[0m\u001b[90m Int64  \u001b[0m\u001b[90m Int64 \u001b[0m\n",
       "─────┼────────────────────────────\n",
       "   1 │         101   80000     50\n",
       "   2 │         102   10000     20\n",
       "   3 │         103  120000    600\n",
       "   4 │         104    2000      2"
      ]
     },
     "execution_count": 19,
     "metadata": {},
     "output_type": "execute_result"
    }
   ],
   "source": [
    "@chain sales begin\n",
    "    @group_by(Customer_ID)\n",
    "    @summarize(maxrev = maximum(Revenue), minP = minimum(Unit_Price))\n",
    "end"
   ]
  },
  {
   "cell_type": "markdown",
   "metadata": {},
   "source": [
    "### Pivot_wider and pivot_longer"
   ]
  },
  {
   "cell_type": "code",
   "execution_count": 20,
   "metadata": {},
   "outputs": [
    {
     "data": {
      "text/html": [
       "<div><div style = \"float: left;\"><span>1×5 DataFrame</span></div><div style = \"clear: both;\"></div></div><div class = \"data-frame\" style = \"overflow-x: scroll;\"><table class = \"data-frame\" style = \"margin-bottom: 6px;\"><thead><tr class = \"header\"><th class = \"rowNumber\" style = \"font-weight: bold; text-align: right;\">Row</th><th style = \"text-align: left;\">Laptop</th><th style = \"text-align: left;\">T-Shirt</th><th style = \"text-align: left;\">Smartphone</th><th style = \"text-align: left;\">Sneakers</th><th style = \"text-align: left;\">Milk</th></tr><tr class = \"subheader headerLastRow\"><th class = \"rowNumber\" style = \"font-weight: bold; text-align: right;\"></th><th title = \"Union{Missing, Int64}\" style = \"text-align: left;\">Int64?</th><th title = \"Union{Missing, Int64}\" style = \"text-align: left;\">Int64?</th><th title = \"Union{Missing, Int64}\" style = \"text-align: left;\">Int64?</th><th title = \"Union{Missing, Int64}\" style = \"text-align: left;\">Int64?</th><th title = \"Union{Missing, Int64}\" style = \"text-align: left;\">Int64?</th></tr></thead><tbody><tr><td class = \"rowNumber\" style = \"font-weight: bold; text-align: right;\">1</td><td style = \"text-align: right;\">100</td><td style = \"text-align: right;\">500</td><td style = \"text-align: right;\">200</td><td style = \"text-align: right;\">300</td><td style = \"text-align: right;\">1000</td></tr></tbody></table></div>"
      ],
      "text/latex": [
       "\\begin{tabular}{r|ccccc}\n",
       "\t& Laptop & T-Shirt & Smartphone & Sneakers & Milk\\\\\n",
       "\t\\hline\n",
       "\t& Int64? & Int64? & Int64? & Int64? & Int64?\\\\\n",
       "\t\\hline\n",
       "\t1 & 100 & 500 & 200 & 300 & 1000 \\\\\n",
       "\\end{tabular}\n"
      ],
      "text/plain": [
       "\u001b[1m1×5 DataFrame\u001b[0m\n",
       "\u001b[1m Row \u001b[0m│\u001b[1m Laptop \u001b[0m\u001b[1m T-Shirt \u001b[0m\u001b[1m Smartphone \u001b[0m\u001b[1m Sneakers \u001b[0m\u001b[1m Milk   \u001b[0m\n",
       "     │\u001b[90m Int64? \u001b[0m\u001b[90m Int64?  \u001b[0m\u001b[90m Int64?     \u001b[0m\u001b[90m Int64?   \u001b[0m\u001b[90m Int64? \u001b[0m\n",
       "─────┼───────────────────────────────────────────────\n",
       "   1 │    100      500         200       300    1000"
      ]
     },
     "execution_count": 20,
     "metadata": {},
     "output_type": "execute_result"
    }
   ],
   "source": [
    "@chain sales begin\n",
    "    @select(Product_Name, Units_Sold)\n",
    "    @pivot_wider(names_from = Product_Name, values_from = Units_Sold)\n",
    "end"
   ]
  },
  {
   "cell_type": "code",
   "execution_count": 21,
   "metadata": {},
   "outputs": [
    {
     "data": {
      "text/html": [
       "<div><div style = \"float: left;\"><span>5×4 DataFrame</span></div><div style = \"clear: both;\"></div></div><div class = \"data-frame\" style = \"overflow-x: scroll;\"><table class = \"data-frame\" style = \"margin-bottom: 6px;\"><thead><tr class = \"header\"><th class = \"rowNumber\" style = \"font-weight: bold; text-align: right;\">Row</th><th style = \"text-align: left;\">Product_ID</th><th style = \"text-align: left;\">Electronics</th><th style = \"text-align: left;\">Clothing</th><th style = \"text-align: left;\">Groceries</th></tr><tr class = \"subheader headerLastRow\"><th class = \"rowNumber\" style = \"font-weight: bold; text-align: right;\"></th><th title = \"Int64\" style = \"text-align: left;\">Int64</th><th title = \"Union{Missing, Int64}\" style = \"text-align: left;\">Int64?</th><th title = \"Union{Missing, Int64}\" style = \"text-align: left;\">Int64?</th><th title = \"Union{Missing, Int64}\" style = \"text-align: left;\">Int64?</th></tr></thead><tbody><tr><td class = \"rowNumber\" style = \"font-weight: bold; text-align: right;\">1</td><td style = \"text-align: right;\">1</td><td style = \"text-align: right;\">100</td><td style = \"font-style: italic; text-align: right;\">missing</td><td style = \"font-style: italic; text-align: right;\">missing</td></tr><tr><td class = \"rowNumber\" style = \"font-weight: bold; text-align: right;\">2</td><td style = \"text-align: right;\">2</td><td style = \"font-style: italic; text-align: right;\">missing</td><td style = \"text-align: right;\">500</td><td style = \"font-style: italic; text-align: right;\">missing</td></tr><tr><td class = \"rowNumber\" style = \"font-weight: bold; text-align: right;\">3</td><td style = \"text-align: right;\">3</td><td style = \"text-align: right;\">200</td><td style = \"font-style: italic; text-align: right;\">missing</td><td style = \"font-style: italic; text-align: right;\">missing</td></tr><tr><td class = \"rowNumber\" style = \"font-weight: bold; text-align: right;\">4</td><td style = \"text-align: right;\">4</td><td style = \"font-style: italic; text-align: right;\">missing</td><td style = \"text-align: right;\">300</td><td style = \"font-style: italic; text-align: right;\">missing</td></tr><tr><td class = \"rowNumber\" style = \"font-weight: bold; text-align: right;\">5</td><td style = \"text-align: right;\">5</td><td style = \"font-style: italic; text-align: right;\">missing</td><td style = \"font-style: italic; text-align: right;\">missing</td><td style = \"text-align: right;\">1000</td></tr></tbody></table></div>"
      ],
      "text/latex": [
       "\\begin{tabular}{r|cccc}\n",
       "\t& Product\\_ID & Electronics & Clothing & Groceries\\\\\n",
       "\t\\hline\n",
       "\t& Int64 & Int64? & Int64? & Int64?\\\\\n",
       "\t\\hline\n",
       "\t1 & 1 & 100 & \\emph{missing} & \\emph{missing} \\\\\n",
       "\t2 & 2 & \\emph{missing} & 500 & \\emph{missing} \\\\\n",
       "\t3 & 3 & 200 & \\emph{missing} & \\emph{missing} \\\\\n",
       "\t4 & 4 & \\emph{missing} & 300 & \\emph{missing} \\\\\n",
       "\t5 & 5 & \\emph{missing} & \\emph{missing} & 1000 \\\\\n",
       "\\end{tabular}\n"
      ],
      "text/plain": [
       "\u001b[1m5×4 DataFrame\u001b[0m\n",
       "\u001b[1m Row \u001b[0m│\u001b[1m Product_ID \u001b[0m\u001b[1m Electronics \u001b[0m\u001b[1m Clothing \u001b[0m\u001b[1m Groceries \u001b[0m\n",
       "     │\u001b[90m Int64      \u001b[0m\u001b[90m Int64?      \u001b[0m\u001b[90m Int64?   \u001b[0m\u001b[90m Int64?    \u001b[0m\n",
       "─────┼──────────────────────────────────────────────\n",
       "   1 │          1          100 \u001b[90m  missing \u001b[0m\u001b[90m   missing \u001b[0m\n",
       "   2 │          2 \u001b[90m     missing \u001b[0m      500 \u001b[90m   missing \u001b[0m\n",
       "   3 │          3          200 \u001b[90m  missing \u001b[0m\u001b[90m   missing \u001b[0m\n",
       "   4 │          4 \u001b[90m     missing \u001b[0m      300 \u001b[90m   missing \u001b[0m\n",
       "   5 │          5 \u001b[90m     missing \u001b[0m\u001b[90m  missing \u001b[0m      1000"
      ]
     },
     "execution_count": 21,
     "metadata": {},
     "output_type": "execute_result"
    }
   ],
   "source": [
    "@chain sales begin\n",
    "    @select(Product_ID, Category, Units_Sold)\n",
    "    @pivot_wider(names_from = Category, values_from = Units_Sold)\n",
    "end"
   ]
  },
  {
   "cell_type": "code",
   "execution_count": 22,
   "metadata": {},
   "outputs": [
    {
     "data": {
      "text/html": [
       "<div><div style = \"float: left;\"><span>10×3 DataFrame</span></div><div style = \"clear: both;\"></div></div><div class = \"data-frame\" style = \"overflow-x: scroll;\"><table class = \"data-frame\" style = \"margin-bottom: 6px;\"><thead><tr class = \"header\"><th class = \"rowNumber\" style = \"font-weight: bold; text-align: right;\">Row</th><th style = \"text-align: left;\">Customer_ID</th><th style = \"text-align: left;\">type</th><th style = \"text-align: left;\">value</th></tr><tr class = \"subheader headerLastRow\"><th class = \"rowNumber\" style = \"font-weight: bold; text-align: right;\"></th><th title = \"Int64\" style = \"text-align: left;\">Int64</th><th title = \"String\" style = \"text-align: left;\">String</th><th title = \"Int64\" style = \"text-align: left;\">Int64</th></tr></thead><tbody><tr><td class = \"rowNumber\" style = \"font-weight: bold; text-align: right;\">1</td><td style = \"text-align: right;\">101</td><td style = \"text-align: left;\">Unit_Price</td><td style = \"text-align: right;\">800</td></tr><tr><td class = \"rowNumber\" style = \"font-weight: bold; text-align: right;\">2</td><td style = \"text-align: right;\">102</td><td style = \"text-align: left;\">Unit_Price</td><td style = \"text-align: right;\">20</td></tr><tr><td class = \"rowNumber\" style = \"font-weight: bold; text-align: right;\">3</td><td style = \"text-align: right;\">103</td><td style = \"text-align: left;\">Unit_Price</td><td style = \"text-align: right;\">600</td></tr><tr><td class = \"rowNumber\" style = \"font-weight: bold; text-align: right;\">4</td><td style = \"text-align: right;\">101</td><td style = \"text-align: left;\">Unit_Price</td><td style = \"text-align: right;\">50</td></tr><tr><td class = \"rowNumber\" style = \"font-weight: bold; text-align: right;\">5</td><td style = \"text-align: right;\">104</td><td style = \"text-align: left;\">Unit_Price</td><td style = \"text-align: right;\">2</td></tr><tr><td class = \"rowNumber\" style = \"font-weight: bold; text-align: right;\">6</td><td style = \"text-align: right;\">101</td><td style = \"text-align: left;\">Units_Sold</td><td style = \"text-align: right;\">100</td></tr><tr><td class = \"rowNumber\" style = \"font-weight: bold; text-align: right;\">7</td><td style = \"text-align: right;\">102</td><td style = \"text-align: left;\">Units_Sold</td><td style = \"text-align: right;\">500</td></tr><tr><td class = \"rowNumber\" style = \"font-weight: bold; text-align: right;\">8</td><td style = \"text-align: right;\">103</td><td style = \"text-align: left;\">Units_Sold</td><td style = \"text-align: right;\">200</td></tr><tr><td class = \"rowNumber\" style = \"font-weight: bold; text-align: right;\">9</td><td style = \"text-align: right;\">101</td><td style = \"text-align: left;\">Units_Sold</td><td style = \"text-align: right;\">300</td></tr><tr><td class = \"rowNumber\" style = \"font-weight: bold; text-align: right;\">10</td><td style = \"text-align: right;\">104</td><td style = \"text-align: left;\">Units_Sold</td><td style = \"text-align: right;\">1000</td></tr></tbody></table></div>"
      ],
      "text/latex": [
       "\\begin{tabular}{r|ccc}\n",
       "\t& Customer\\_ID & type & value\\\\\n",
       "\t\\hline\n",
       "\t& Int64 & String & Int64\\\\\n",
       "\t\\hline\n",
       "\t1 & 101 & Unit\\_Price & 800 \\\\\n",
       "\t2 & 102 & Unit\\_Price & 20 \\\\\n",
       "\t3 & 103 & Unit\\_Price & 600 \\\\\n",
       "\t4 & 101 & Unit\\_Price & 50 \\\\\n",
       "\t5 & 104 & Unit\\_Price & 2 \\\\\n",
       "\t6 & 101 & Units\\_Sold & 100 \\\\\n",
       "\t7 & 102 & Units\\_Sold & 500 \\\\\n",
       "\t8 & 103 & Units\\_Sold & 200 \\\\\n",
       "\t9 & 101 & Units\\_Sold & 300 \\\\\n",
       "\t10 & 104 & Units\\_Sold & 1000 \\\\\n",
       "\\end{tabular}\n"
      ],
      "text/plain": [
       "\u001b[1m10×3 DataFrame\u001b[0m\n",
       "\u001b[1m Row \u001b[0m│\u001b[1m Customer_ID \u001b[0m\u001b[1m type       \u001b[0m\u001b[1m value \u001b[0m\n",
       "     │\u001b[90m Int64       \u001b[0m\u001b[90m String     \u001b[0m\u001b[90m Int64 \u001b[0m\n",
       "─────┼────────────────────────────────\n",
       "   1 │         101  Unit_Price    800\n",
       "   2 │         102  Unit_Price     20\n",
       "   3 │         103  Unit_Price    600\n",
       "   4 │         101  Unit_Price     50\n",
       "   5 │         104  Unit_Price      2\n",
       "   6 │         101  Units_Sold    100\n",
       "   7 │         102  Units_Sold    500\n",
       "   8 │         103  Units_Sold    200\n",
       "   9 │         101  Units_Sold    300\n",
       "  10 │         104  Units_Sold   1000"
      ]
     },
     "execution_count": 22,
     "metadata": {},
     "output_type": "execute_result"
    }
   ],
   "source": [
    "@chain sales begin\n",
    "    @select(Customer_ID, Unit_Price, Units_Sold)\n",
    "    @pivot_longer(Unit_Price:Units_Sold, names_to = \"type\", values_to = \"value\")\n",
    "end"
   ]
  },
  {
   "cell_type": "markdown",
   "metadata": {},
   "source": [
    "# Growth accounting\n",
    "\n",
    "Consider a two-factor Cobb-Douglas production function of the form\n",
    "$$ Y_t = A_t K_t^\\alpha L_t^{1-\\alpha} $$\n",
    "\n",
    "Here $Y_t$ is output (real GDP) in period $t$, $L_t$ is employment, $K_t$ is the capital stock and $A_t$ is total factor productivity (technology). The parameter $\\alpha$ will be assumed to be known. Typical estimates are derived from national accounts data and can range from 0.3 to 0.45.\n",
    "\n",
    "Data for $Y_t$ and $L_t$ is directly available from statistical sources (e.g. Eurostat). \n",
    "\n",
    "While data on $K_t$ is not published directly, there are techniques to reconstruct the capital stock under appropriate assumptions.\n",
    "\n",
    "Then, TFP can be computed as a residual, e.g.\n",
    "$$ \\ln Y_t = \\ln A_t + \\alpha \\ln K_t + (1-\\alpha) \\ln L_t ~\\Rightarrow~ a_t = y_t - \\alpha k_t -(1-\\alpha)l_t,$$\n",
    "where lower-case letters denote logs. This is known as the **Solow residual**.\n",
    "\n",
    "Because a production function approach provides only an approximation to the real world, what actually happens is that $A_t$, measured as a residual picks up a lot of other influences, so it can't directly be interpreted as a measure of technology. This makes it interesting and a subject to independent analyses."
   ]
  },
  {
   "cell_type": "markdown",
   "metadata": {},
   "source": [
    "## Process data on GDP and components"
   ]
  },
  {
   "cell_type": "code",
   "execution_count": 23,
   "metadata": {},
   "outputs": [
    {
     "data": {
      "text/html": [
       "<div><div style = \"float: left;\"><span>880704×9 DataFrame</span></div><div style = \"float: right;\"><span style = \"font-style: italic;\">880679 rows omitted</span></div><div style = \"clear: both;\"></div></div><div class = \"data-frame\" style = \"overflow-x: scroll;\"><table class = \"data-frame\" style = \"margin-bottom: 6px;\"><thead><tr class = \"header\"><th class = \"rowNumber\" style = \"font-weight: bold; text-align: right;\">Row</th><th style = \"text-align: left;\">DATAFLOW</th><th style = \"text-align: left;\">LAST UPDATE</th><th style = \"text-align: left;\">freq</th><th style = \"text-align: left;\">unit</th><th style = \"text-align: left;\">na_item</th><th style = \"text-align: left;\">geo</th><th style = \"text-align: left;\">TIME_PERIOD</th><th style = \"text-align: left;\">OBS_VALUE</th><th style = \"text-align: left;\">OBS_FLAG</th></tr><tr class = \"subheader headerLastRow\"><th class = \"rowNumber\" style = \"font-weight: bold; text-align: right;\"></th><th title = \"InlineStrings.String31\" style = \"text-align: left;\">String31</th><th title = \"InlineStrings.String31\" style = \"text-align: left;\">String31</th><th title = \"InlineStrings.String1\" style = \"text-align: left;\">String1</th><th title = \"InlineStrings.String31\" style = \"text-align: left;\">String31</th><th title = \"InlineStrings.String15\" style = \"text-align: left;\">String15</th><th title = \"InlineStrings.String15\" style = \"text-align: left;\">String15</th><th title = \"Int64\" style = \"text-align: left;\">Int64</th><th title = \"Union{Missing, Float64}\" style = \"text-align: left;\">Float64?</th><th title = \"Union{Missing, InlineStrings.String1}\" style = \"text-align: left;\">String1</th></tr></thead><tbody><tr><td class = \"rowNumber\" style = \"font-weight: bold; text-align: right;\">1</td><td style = \"text-align: left;\">ESTAT:NAMA_10_GDP(1.0)</td><td style = \"text-align: left;\">20/04/24 11:00:00</td><td style = \"text-align: left;\">A</td><td style = \"text-align: left;\">CLV05_MEUR</td><td style = \"text-align: left;\">B1G</td><td style = \"text-align: left;\">AT</td><td style = \"text-align: right;\">1995</td><td style = \"text-align: right;\">177617.0</td><td style = \"font-style: italic; text-align: left;\">missing</td></tr><tr><td class = \"rowNumber\" style = \"font-weight: bold; text-align: right;\">2</td><td style = \"text-align: left;\">ESTAT:NAMA_10_GDP(1.0)</td><td style = \"text-align: left;\">20/04/24 11:00:00</td><td style = \"text-align: left;\">A</td><td style = \"text-align: left;\">CLV05_MEUR</td><td style = \"text-align: left;\">B1G</td><td style = \"text-align: left;\">AT</td><td style = \"text-align: right;\">1996</td><td style = \"text-align: right;\">1.80999e5</td><td style = \"font-style: italic; text-align: left;\">missing</td></tr><tr><td class = \"rowNumber\" style = \"font-weight: bold; text-align: right;\">3</td><td style = \"text-align: left;\">ESTAT:NAMA_10_GDP(1.0)</td><td style = \"text-align: left;\">20/04/24 11:00:00</td><td style = \"text-align: left;\">A</td><td style = \"text-align: left;\">CLV05_MEUR</td><td style = \"text-align: left;\">B1G</td><td style = \"text-align: left;\">AT</td><td style = \"text-align: right;\">1997</td><td style = \"text-align: right;\">1.84799e5</td><td style = \"font-style: italic; text-align: left;\">missing</td></tr><tr><td class = \"rowNumber\" style = \"font-weight: bold; text-align: right;\">4</td><td style = \"text-align: left;\">ESTAT:NAMA_10_GDP(1.0)</td><td style = \"text-align: left;\">20/04/24 11:00:00</td><td style = \"text-align: left;\">A</td><td style = \"text-align: left;\">CLV05_MEUR</td><td style = \"text-align: left;\">B1G</td><td style = \"text-align: left;\">AT</td><td style = \"text-align: right;\">1998</td><td style = \"text-align: right;\">1.92025e5</td><td style = \"font-style: italic; text-align: left;\">missing</td></tr><tr><td class = \"rowNumber\" style = \"font-weight: bold; text-align: right;\">5</td><td style = \"text-align: left;\">ESTAT:NAMA_10_GDP(1.0)</td><td style = \"text-align: left;\">20/04/24 11:00:00</td><td style = \"text-align: left;\">A</td><td style = \"text-align: left;\">CLV05_MEUR</td><td style = \"text-align: left;\">B1G</td><td style = \"text-align: left;\">AT</td><td style = \"text-align: right;\">1999</td><td style = \"text-align: right;\">1.98247e5</td><td style = \"font-style: italic; text-align: left;\">missing</td></tr><tr><td class = \"rowNumber\" style = \"font-weight: bold; text-align: right;\">6</td><td style = \"text-align: left;\">ESTAT:NAMA_10_GDP(1.0)</td><td style = \"text-align: left;\">20/04/24 11:00:00</td><td style = \"text-align: left;\">A</td><td style = \"text-align: left;\">CLV05_MEUR</td><td style = \"text-align: left;\">B1G</td><td style = \"text-align: left;\">AT</td><td style = \"text-align: right;\">2000</td><td style = \"text-align: right;\">2.05898e5</td><td style = \"font-style: italic; text-align: left;\">missing</td></tr><tr><td class = \"rowNumber\" style = \"font-weight: bold; text-align: right;\">7</td><td style = \"text-align: left;\">ESTAT:NAMA_10_GDP(1.0)</td><td style = \"text-align: left;\">20/04/24 11:00:00</td><td style = \"text-align: left;\">A</td><td style = \"text-align: left;\">CLV05_MEUR</td><td style = \"text-align: left;\">B1G</td><td style = \"text-align: left;\">AT</td><td style = \"text-align: right;\">2001</td><td style = \"text-align: right;\">2.08772e5</td><td style = \"font-style: italic; text-align: left;\">missing</td></tr><tr><td class = \"rowNumber\" style = \"font-weight: bold; text-align: right;\">8</td><td style = \"text-align: left;\">ESTAT:NAMA_10_GDP(1.0)</td><td style = \"text-align: left;\">20/04/24 11:00:00</td><td style = \"text-align: left;\">A</td><td style = \"text-align: left;\">CLV05_MEUR</td><td style = \"text-align: left;\">B1G</td><td style = \"text-align: left;\">AT</td><td style = \"text-align: right;\">2002</td><td style = \"text-align: right;\">2.12101e5</td><td style = \"font-style: italic; text-align: left;\">missing</td></tr><tr><td class = \"rowNumber\" style = \"font-weight: bold; text-align: right;\">9</td><td style = \"text-align: left;\">ESTAT:NAMA_10_GDP(1.0)</td><td style = \"text-align: left;\">20/04/24 11:00:00</td><td style = \"text-align: left;\">A</td><td style = \"text-align: left;\">CLV05_MEUR</td><td style = \"text-align: left;\">B1G</td><td style = \"text-align: left;\">AT</td><td style = \"text-align: right;\">2003</td><td style = \"text-align: right;\">214463.0</td><td style = \"font-style: italic; text-align: left;\">missing</td></tr><tr><td class = \"rowNumber\" style = \"font-weight: bold; text-align: right;\">10</td><td style = \"text-align: left;\">ESTAT:NAMA_10_GDP(1.0)</td><td style = \"text-align: left;\">20/04/24 11:00:00</td><td style = \"text-align: left;\">A</td><td style = \"text-align: left;\">CLV05_MEUR</td><td style = \"text-align: left;\">B1G</td><td style = \"text-align: left;\">AT</td><td style = \"text-align: right;\">2004</td><td style = \"text-align: right;\">2.20729e5</td><td style = \"font-style: italic; text-align: left;\">missing</td></tr><tr><td class = \"rowNumber\" style = \"font-weight: bold; text-align: right;\">11</td><td style = \"text-align: left;\">ESTAT:NAMA_10_GDP(1.0)</td><td style = \"text-align: left;\">20/04/24 11:00:00</td><td style = \"text-align: left;\">A</td><td style = \"text-align: left;\">CLV05_MEUR</td><td style = \"text-align: left;\">B1G</td><td style = \"text-align: left;\">AT</td><td style = \"text-align: right;\">2005</td><td style = \"text-align: right;\">2.25888e5</td><td style = \"font-style: italic; text-align: left;\">missing</td></tr><tr><td class = \"rowNumber\" style = \"font-weight: bold; text-align: right;\">12</td><td style = \"text-align: left;\">ESTAT:NAMA_10_GDP(1.0)</td><td style = \"text-align: left;\">20/04/24 11:00:00</td><td style = \"text-align: left;\">A</td><td style = \"text-align: left;\">CLV05_MEUR</td><td style = \"text-align: left;\">B1G</td><td style = \"text-align: left;\">AT</td><td style = \"text-align: right;\">2006</td><td style = \"text-align: right;\">2.34397e5</td><td style = \"font-style: italic; text-align: left;\">missing</td></tr><tr><td class = \"rowNumber\" style = \"font-weight: bold; text-align: right;\">13</td><td style = \"text-align: left;\">ESTAT:NAMA_10_GDP(1.0)</td><td style = \"text-align: left;\">20/04/24 11:00:00</td><td style = \"text-align: left;\">A</td><td style = \"text-align: left;\">CLV05_MEUR</td><td style = \"text-align: left;\">B1G</td><td style = \"text-align: left;\">AT</td><td style = \"text-align: right;\">2007</td><td style = \"text-align: right;\">2.43455e5</td><td style = \"font-style: italic; text-align: left;\">missing</td></tr><tr><td style = \"text-align: right;\">&vellip;</td><td style = \"text-align: right;\">&vellip;</td><td style = \"text-align: right;\">&vellip;</td><td style = \"text-align: right;\">&vellip;</td><td style = \"text-align: right;\">&vellip;</td><td style = \"text-align: right;\">&vellip;</td><td style = \"text-align: right;\">&vellip;</td><td style = \"text-align: right;\">&vellip;</td><td style = \"text-align: right;\">&vellip;</td><td style = \"text-align: right;\">&vellip;</td></tr><tr><td class = \"rowNumber\" style = \"font-weight: bold; text-align: right;\">880693</td><td style = \"text-align: left;\">ESTAT:NAMA_10_GDP(1.0)</td><td style = \"text-align: left;\">20/04/24 11:00:00</td><td style = \"text-align: left;\">A</td><td style = \"text-align: left;\">PYP_MNAC</td><td style = \"text-align: left;\">YA1</td><td style = \"text-align: left;\">XK</td><td style = \"text-align: right;\">2011</td><td style = \"text-align: right;\">0.0</td><td style = \"font-style: italic; text-align: left;\">missing</td></tr><tr><td class = \"rowNumber\" style = \"font-weight: bold; text-align: right;\">880694</td><td style = \"text-align: left;\">ESTAT:NAMA_10_GDP(1.0)</td><td style = \"text-align: left;\">20/04/24 11:00:00</td><td style = \"text-align: left;\">A</td><td style = \"text-align: left;\">PYP_MNAC</td><td style = \"text-align: left;\">YA1</td><td style = \"text-align: left;\">XK</td><td style = \"text-align: right;\">2012</td><td style = \"text-align: right;\">0.0</td><td style = \"font-style: italic; text-align: left;\">missing</td></tr><tr><td class = \"rowNumber\" style = \"font-weight: bold; text-align: right;\">880695</td><td style = \"text-align: left;\">ESTAT:NAMA_10_GDP(1.0)</td><td style = \"text-align: left;\">20/04/24 11:00:00</td><td style = \"text-align: left;\">A</td><td style = \"text-align: left;\">PYP_MNAC</td><td style = \"text-align: left;\">YA1</td><td style = \"text-align: left;\">XK</td><td style = \"text-align: right;\">2013</td><td style = \"text-align: right;\">0.0</td><td style = \"font-style: italic; text-align: left;\">missing</td></tr><tr><td class = \"rowNumber\" style = \"font-weight: bold; text-align: right;\">880696</td><td style = \"text-align: left;\">ESTAT:NAMA_10_GDP(1.0)</td><td style = \"text-align: left;\">20/04/24 11:00:00</td><td style = \"text-align: left;\">A</td><td style = \"text-align: left;\">PYP_MNAC</td><td style = \"text-align: left;\">YA1</td><td style = \"text-align: left;\">XK</td><td style = \"text-align: right;\">2014</td><td style = \"text-align: right;\">0.0</td><td style = \"font-style: italic; text-align: left;\">missing</td></tr><tr><td class = \"rowNumber\" style = \"font-weight: bold; text-align: right;\">880697</td><td style = \"text-align: left;\">ESTAT:NAMA_10_GDP(1.0)</td><td style = \"text-align: left;\">20/04/24 11:00:00</td><td style = \"text-align: left;\">A</td><td style = \"text-align: left;\">PYP_MNAC</td><td style = \"text-align: left;\">YA1</td><td style = \"text-align: left;\">XK</td><td style = \"text-align: right;\">2015</td><td style = \"text-align: right;\">0.0</td><td style = \"font-style: italic; text-align: left;\">missing</td></tr><tr><td class = \"rowNumber\" style = \"font-weight: bold; text-align: right;\">880698</td><td style = \"text-align: left;\">ESTAT:NAMA_10_GDP(1.0)</td><td style = \"text-align: left;\">20/04/24 11:00:00</td><td style = \"text-align: left;\">A</td><td style = \"text-align: left;\">PYP_MNAC</td><td style = \"text-align: left;\">YA1</td><td style = \"text-align: left;\">XK</td><td style = \"text-align: right;\">2016</td><td style = \"text-align: right;\">0.0</td><td style = \"font-style: italic; text-align: left;\">missing</td></tr><tr><td class = \"rowNumber\" style = \"font-weight: bold; text-align: right;\">880699</td><td style = \"text-align: left;\">ESTAT:NAMA_10_GDP(1.0)</td><td style = \"text-align: left;\">20/04/24 11:00:00</td><td style = \"text-align: left;\">A</td><td style = \"text-align: left;\">PYP_MNAC</td><td style = \"text-align: left;\">YA1</td><td style = \"text-align: left;\">XK</td><td style = \"text-align: right;\">2017</td><td style = \"text-align: right;\">0.0</td><td style = \"font-style: italic; text-align: left;\">missing</td></tr><tr><td class = \"rowNumber\" style = \"font-weight: bold; text-align: right;\">880700</td><td style = \"text-align: left;\">ESTAT:NAMA_10_GDP(1.0)</td><td style = \"text-align: left;\">20/04/24 11:00:00</td><td style = \"text-align: left;\">A</td><td style = \"text-align: left;\">PYP_MNAC</td><td style = \"text-align: left;\">YA1</td><td style = \"text-align: left;\">XK</td><td style = \"text-align: right;\">2018</td><td style = \"text-align: right;\">0.0</td><td style = \"font-style: italic; text-align: left;\">missing</td></tr><tr><td class = \"rowNumber\" style = \"font-weight: bold; text-align: right;\">880701</td><td style = \"text-align: left;\">ESTAT:NAMA_10_GDP(1.0)</td><td style = \"text-align: left;\">20/04/24 11:00:00</td><td style = \"text-align: left;\">A</td><td style = \"text-align: left;\">PYP_MNAC</td><td style = \"text-align: left;\">YA1</td><td style = \"text-align: left;\">XK</td><td style = \"text-align: right;\">2019</td><td style = \"text-align: right;\">0.0</td><td style = \"font-style: italic; text-align: left;\">missing</td></tr><tr><td class = \"rowNumber\" style = \"font-weight: bold; text-align: right;\">880702</td><td style = \"text-align: left;\">ESTAT:NAMA_10_GDP(1.0)</td><td style = \"text-align: left;\">20/04/24 11:00:00</td><td style = \"text-align: left;\">A</td><td style = \"text-align: left;\">PYP_MNAC</td><td style = \"text-align: left;\">YA1</td><td style = \"text-align: left;\">XK</td><td style = \"text-align: right;\">2020</td><td style = \"text-align: right;\">0.0</td><td style = \"font-style: italic; text-align: left;\">missing</td></tr><tr><td class = \"rowNumber\" style = \"font-weight: bold; text-align: right;\">880703</td><td style = \"text-align: left;\">ESTAT:NAMA_10_GDP(1.0)</td><td style = \"text-align: left;\">20/04/24 11:00:00</td><td style = \"text-align: left;\">A</td><td style = \"text-align: left;\">PYP_MNAC</td><td style = \"text-align: left;\">YA1</td><td style = \"text-align: left;\">XK</td><td style = \"text-align: right;\">2021</td><td style = \"text-align: right;\">0.0</td><td style = \"font-style: italic; text-align: left;\">missing</td></tr><tr><td class = \"rowNumber\" style = \"font-weight: bold; text-align: right;\">880704</td><td style = \"text-align: left;\">ESTAT:NAMA_10_GDP(1.0)</td><td style = \"text-align: left;\">20/04/24 11:00:00</td><td style = \"text-align: left;\">A</td><td style = \"text-align: left;\">PYP_MNAC</td><td style = \"text-align: left;\">YA1</td><td style = \"text-align: left;\">XK</td><td style = \"text-align: right;\">2022</td><td style = \"text-align: right;\">0.0</td><td style = \"font-style: italic; text-align: left;\">missing</td></tr></tbody></table></div>"
      ],
      "text/latex": [
       "\\begin{tabular}{r|ccccccc}\n",
       "\t& DATAFLOW & LAST UPDATE & freq & unit & na\\_item & geo & \\\\\n",
       "\t\\hline\n",
       "\t& String31 & String31 & String1 & String31 & String15 & String15 & \\\\\n",
       "\t\\hline\n",
       "\t1 & ESTAT:NAMA\\_10\\_GDP(1.0) & 20/04/24 11:00:00 & A & CLV05\\_MEUR & B1G & AT & $\\dots$ \\\\\n",
       "\t2 & ESTAT:NAMA\\_10\\_GDP(1.0) & 20/04/24 11:00:00 & A & CLV05\\_MEUR & B1G & AT & $\\dots$ \\\\\n",
       "\t3 & ESTAT:NAMA\\_10\\_GDP(1.0) & 20/04/24 11:00:00 & A & CLV05\\_MEUR & B1G & AT & $\\dots$ \\\\\n",
       "\t4 & ESTAT:NAMA\\_10\\_GDP(1.0) & 20/04/24 11:00:00 & A & CLV05\\_MEUR & B1G & AT & $\\dots$ \\\\\n",
       "\t5 & ESTAT:NAMA\\_10\\_GDP(1.0) & 20/04/24 11:00:00 & A & CLV05\\_MEUR & B1G & AT & $\\dots$ \\\\\n",
       "\t6 & ESTAT:NAMA\\_10\\_GDP(1.0) & 20/04/24 11:00:00 & A & CLV05\\_MEUR & B1G & AT & $\\dots$ \\\\\n",
       "\t7 & ESTAT:NAMA\\_10\\_GDP(1.0) & 20/04/24 11:00:00 & A & CLV05\\_MEUR & B1G & AT & $\\dots$ \\\\\n",
       "\t8 & ESTAT:NAMA\\_10\\_GDP(1.0) & 20/04/24 11:00:00 & A & CLV05\\_MEUR & B1G & AT & $\\dots$ \\\\\n",
       "\t9 & ESTAT:NAMA\\_10\\_GDP(1.0) & 20/04/24 11:00:00 & A & CLV05\\_MEUR & B1G & AT & $\\dots$ \\\\\n",
       "\t10 & ESTAT:NAMA\\_10\\_GDP(1.0) & 20/04/24 11:00:00 & A & CLV05\\_MEUR & B1G & AT & $\\dots$ \\\\\n",
       "\t11 & ESTAT:NAMA\\_10\\_GDP(1.0) & 20/04/24 11:00:00 & A & CLV05\\_MEUR & B1G & AT & $\\dots$ \\\\\n",
       "\t12 & ESTAT:NAMA\\_10\\_GDP(1.0) & 20/04/24 11:00:00 & A & CLV05\\_MEUR & B1G & AT & $\\dots$ \\\\\n",
       "\t13 & ESTAT:NAMA\\_10\\_GDP(1.0) & 20/04/24 11:00:00 & A & CLV05\\_MEUR & B1G & AT & $\\dots$ \\\\\n",
       "\t14 & ESTAT:NAMA\\_10\\_GDP(1.0) & 20/04/24 11:00:00 & A & CLV05\\_MEUR & B1G & AT & $\\dots$ \\\\\n",
       "\t15 & ESTAT:NAMA\\_10\\_GDP(1.0) & 20/04/24 11:00:00 & A & CLV05\\_MEUR & B1G & AT & $\\dots$ \\\\\n",
       "\t16 & ESTAT:NAMA\\_10\\_GDP(1.0) & 20/04/24 11:00:00 & A & CLV05\\_MEUR & B1G & AT & $\\dots$ \\\\\n",
       "\t17 & ESTAT:NAMA\\_10\\_GDP(1.0) & 20/04/24 11:00:00 & A & CLV05\\_MEUR & B1G & AT & $\\dots$ \\\\\n",
       "\t18 & ESTAT:NAMA\\_10\\_GDP(1.0) & 20/04/24 11:00:00 & A & CLV05\\_MEUR & B1G & AT & $\\dots$ \\\\\n",
       "\t19 & ESTAT:NAMA\\_10\\_GDP(1.0) & 20/04/24 11:00:00 & A & CLV05\\_MEUR & B1G & AT & $\\dots$ \\\\\n",
       "\t20 & ESTAT:NAMA\\_10\\_GDP(1.0) & 20/04/24 11:00:00 & A & CLV05\\_MEUR & B1G & AT & $\\dots$ \\\\\n",
       "\t21 & ESTAT:NAMA\\_10\\_GDP(1.0) & 20/04/24 11:00:00 & A & CLV05\\_MEUR & B1G & AT & $\\dots$ \\\\\n",
       "\t22 & ESTAT:NAMA\\_10\\_GDP(1.0) & 20/04/24 11:00:00 & A & CLV05\\_MEUR & B1G & AT & $\\dots$ \\\\\n",
       "\t23 & ESTAT:NAMA\\_10\\_GDP(1.0) & 20/04/24 11:00:00 & A & CLV05\\_MEUR & B1G & AT & $\\dots$ \\\\\n",
       "\t24 & ESTAT:NAMA\\_10\\_GDP(1.0) & 20/04/24 11:00:00 & A & CLV05\\_MEUR & B1G & AT & $\\dots$ \\\\\n",
       "\t25 & ESTAT:NAMA\\_10\\_GDP(1.0) & 20/04/24 11:00:00 & A & CLV05\\_MEUR & B1G & AT & $\\dots$ \\\\\n",
       "\t26 & ESTAT:NAMA\\_10\\_GDP(1.0) & 20/04/24 11:00:00 & A & CLV05\\_MEUR & B1G & AT & $\\dots$ \\\\\n",
       "\t27 & ESTAT:NAMA\\_10\\_GDP(1.0) & 20/04/24 11:00:00 & A & CLV05\\_MEUR & B1G & AT & $\\dots$ \\\\\n",
       "\t28 & ESTAT:NAMA\\_10\\_GDP(1.0) & 20/04/24 11:00:00 & A & CLV05\\_MEUR & B1G & AT & $\\dots$ \\\\\n",
       "\t29 & ESTAT:NAMA\\_10\\_GDP(1.0) & 20/04/24 11:00:00 & A & CLV05\\_MEUR & B1G & AT & $\\dots$ \\\\\n",
       "\t30 & ESTAT:NAMA\\_10\\_GDP(1.0) & 20/04/24 11:00:00 & A & CLV05\\_MEUR & B1G & BA & $\\dots$ \\\\\n",
       "\t$\\dots$ & $\\dots$ & $\\dots$ & $\\dots$ & $\\dots$ & $\\dots$ & $\\dots$ &  \\\\\n",
       "\\end{tabular}\n"
      ],
      "text/plain": [
       "\u001b[1m880704×9 DataFrame\u001b[0m\n",
       "\u001b[1m    Row \u001b[0m│\u001b[1m DATAFLOW               \u001b[0m\u001b[1m LAST UPDATE       \u001b[0m\u001b[1m freq    \u001b[0m\u001b[1m unit       \u001b[0m\u001b[1m na_i\u001b[0m ⋯\n",
       "        │\u001b[90m String31               \u001b[0m\u001b[90m String31          \u001b[0m\u001b[90m String1 \u001b[0m\u001b[90m String31   \u001b[0m\u001b[90m Stri\u001b[0m ⋯\n",
       "────────┼───────────────────────────────────────────────────────────────────────\n",
       "      1 │ ESTAT:NAMA_10_GDP(1.0)  20/04/24 11:00:00  A        CLV05_MEUR  B1G  ⋯\n",
       "      2 │ ESTAT:NAMA_10_GDP(1.0)  20/04/24 11:00:00  A        CLV05_MEUR  B1G\n",
       "      3 │ ESTAT:NAMA_10_GDP(1.0)  20/04/24 11:00:00  A        CLV05_MEUR  B1G\n",
       "      4 │ ESTAT:NAMA_10_GDP(1.0)  20/04/24 11:00:00  A        CLV05_MEUR  B1G\n",
       "      5 │ ESTAT:NAMA_10_GDP(1.0)  20/04/24 11:00:00  A        CLV05_MEUR  B1G  ⋯\n",
       "      6 │ ESTAT:NAMA_10_GDP(1.0)  20/04/24 11:00:00  A        CLV05_MEUR  B1G\n",
       "      7 │ ESTAT:NAMA_10_GDP(1.0)  20/04/24 11:00:00  A        CLV05_MEUR  B1G\n",
       "      8 │ ESTAT:NAMA_10_GDP(1.0)  20/04/24 11:00:00  A        CLV05_MEUR  B1G\n",
       "      9 │ ESTAT:NAMA_10_GDP(1.0)  20/04/24 11:00:00  A        CLV05_MEUR  B1G  ⋯\n",
       "     10 │ ESTAT:NAMA_10_GDP(1.0)  20/04/24 11:00:00  A        CLV05_MEUR  B1G\n",
       "     11 │ ESTAT:NAMA_10_GDP(1.0)  20/04/24 11:00:00  A        CLV05_MEUR  B1G\n",
       "   ⋮    │           ⋮                     ⋮             ⋮         ⋮          ⋮ ⋱\n",
       " 880695 │ ESTAT:NAMA_10_GDP(1.0)  20/04/24 11:00:00  A        PYP_MNAC    YA1\n",
       " 880696 │ ESTAT:NAMA_10_GDP(1.0)  20/04/24 11:00:00  A        PYP_MNAC    YA1  ⋯\n",
       " 880697 │ ESTAT:NAMA_10_GDP(1.0)  20/04/24 11:00:00  A        PYP_MNAC    YA1\n",
       " 880698 │ ESTAT:NAMA_10_GDP(1.0)  20/04/24 11:00:00  A        PYP_MNAC    YA1\n",
       " 880699 │ ESTAT:NAMA_10_GDP(1.0)  20/04/24 11:00:00  A        PYP_MNAC    YA1\n",
       " 880700 │ ESTAT:NAMA_10_GDP(1.0)  20/04/24 11:00:00  A        PYP_MNAC    YA1  ⋯\n",
       " 880701 │ ESTAT:NAMA_10_GDP(1.0)  20/04/24 11:00:00  A        PYP_MNAC    YA1\n",
       " 880702 │ ESTAT:NAMA_10_GDP(1.0)  20/04/24 11:00:00  A        PYP_MNAC    YA1\n",
       " 880703 │ ESTAT:NAMA_10_GDP(1.0)  20/04/24 11:00:00  A        PYP_MNAC    YA1\n",
       " 880704 │ ESTAT:NAMA_10_GDP(1.0)  20/04/24 11:00:00  A        PYP_MNAC    YA1  ⋯\n",
       "\u001b[36m                                               5 columns and 880683 rows omitted\u001b[0m"
      ]
     },
     "execution_count": 23,
     "metadata": {},
     "output_type": "execute_result"
    }
   ],
   "source": [
    "natl_acc = read_csv(\"datasets/nama_10_gdp_linear.csv.gz\")"
   ]
  },
  {
   "cell_type": "code",
   "execution_count": 24,
   "metadata": {},
   "outputs": [
    {
     "data": {
      "text/html": [
       "<div><div style = \"float: left;\"><span>880704×5 DataFrame</span></div><div style = \"float: right;\"><span style = \"font-style: italic;\">880679 rows omitted</span></div><div style = \"clear: both;\"></div></div><div class = \"data-frame\" style = \"overflow-x: scroll;\"><table class = \"data-frame\" style = \"margin-bottom: 6px;\"><thead><tr class = \"header\"><th class = \"rowNumber\" style = \"font-weight: bold; text-align: right;\">Row</th><th style = \"text-align: left;\">unit</th><th style = \"text-align: left;\">na_item</th><th style = \"text-align: left;\">geo</th><th style = \"text-align: left;\">year</th><th style = \"text-align: left;\">value</th></tr><tr class = \"subheader headerLastRow\"><th class = \"rowNumber\" style = \"font-weight: bold; text-align: right;\"></th><th title = \"InlineStrings.String31\" style = \"text-align: left;\">String31</th><th title = \"InlineStrings.String15\" style = \"text-align: left;\">String15</th><th title = \"InlineStrings.String15\" style = \"text-align: left;\">String15</th><th title = \"Int64\" style = \"text-align: left;\">Int64</th><th title = \"Union{Missing, Float64}\" style = \"text-align: left;\">Float64?</th></tr></thead><tbody><tr><td class = \"rowNumber\" style = \"font-weight: bold; text-align: right;\">1</td><td style = \"text-align: left;\">CLV05_MEUR</td><td style = \"text-align: left;\">B1G</td><td style = \"text-align: left;\">AT</td><td style = \"text-align: right;\">1995</td><td style = \"text-align: right;\">177617.0</td></tr><tr><td class = \"rowNumber\" style = \"font-weight: bold; text-align: right;\">2</td><td style = \"text-align: left;\">CLV05_MEUR</td><td style = \"text-align: left;\">B1G</td><td style = \"text-align: left;\">AT</td><td style = \"text-align: right;\">1996</td><td style = \"text-align: right;\">1.80999e5</td></tr><tr><td class = \"rowNumber\" style = \"font-weight: bold; text-align: right;\">3</td><td style = \"text-align: left;\">CLV05_MEUR</td><td style = \"text-align: left;\">B1G</td><td style = \"text-align: left;\">AT</td><td style = \"text-align: right;\">1997</td><td style = \"text-align: right;\">1.84799e5</td></tr><tr><td class = \"rowNumber\" style = \"font-weight: bold; text-align: right;\">4</td><td style = \"text-align: left;\">CLV05_MEUR</td><td style = \"text-align: left;\">B1G</td><td style = \"text-align: left;\">AT</td><td style = \"text-align: right;\">1998</td><td style = \"text-align: right;\">1.92025e5</td></tr><tr><td class = \"rowNumber\" style = \"font-weight: bold; text-align: right;\">5</td><td style = \"text-align: left;\">CLV05_MEUR</td><td style = \"text-align: left;\">B1G</td><td style = \"text-align: left;\">AT</td><td style = \"text-align: right;\">1999</td><td style = \"text-align: right;\">1.98247e5</td></tr><tr><td class = \"rowNumber\" style = \"font-weight: bold; text-align: right;\">6</td><td style = \"text-align: left;\">CLV05_MEUR</td><td style = \"text-align: left;\">B1G</td><td style = \"text-align: left;\">AT</td><td style = \"text-align: right;\">2000</td><td style = \"text-align: right;\">2.05898e5</td></tr><tr><td class = \"rowNumber\" style = \"font-weight: bold; text-align: right;\">7</td><td style = \"text-align: left;\">CLV05_MEUR</td><td style = \"text-align: left;\">B1G</td><td style = \"text-align: left;\">AT</td><td style = \"text-align: right;\">2001</td><td style = \"text-align: right;\">2.08772e5</td></tr><tr><td class = \"rowNumber\" style = \"font-weight: bold; text-align: right;\">8</td><td style = \"text-align: left;\">CLV05_MEUR</td><td style = \"text-align: left;\">B1G</td><td style = \"text-align: left;\">AT</td><td style = \"text-align: right;\">2002</td><td style = \"text-align: right;\">2.12101e5</td></tr><tr><td class = \"rowNumber\" style = \"font-weight: bold; text-align: right;\">9</td><td style = \"text-align: left;\">CLV05_MEUR</td><td style = \"text-align: left;\">B1G</td><td style = \"text-align: left;\">AT</td><td style = \"text-align: right;\">2003</td><td style = \"text-align: right;\">214463.0</td></tr><tr><td class = \"rowNumber\" style = \"font-weight: bold; text-align: right;\">10</td><td style = \"text-align: left;\">CLV05_MEUR</td><td style = \"text-align: left;\">B1G</td><td style = \"text-align: left;\">AT</td><td style = \"text-align: right;\">2004</td><td style = \"text-align: right;\">2.20729e5</td></tr><tr><td class = \"rowNumber\" style = \"font-weight: bold; text-align: right;\">11</td><td style = \"text-align: left;\">CLV05_MEUR</td><td style = \"text-align: left;\">B1G</td><td style = \"text-align: left;\">AT</td><td style = \"text-align: right;\">2005</td><td style = \"text-align: right;\">2.25888e5</td></tr><tr><td class = \"rowNumber\" style = \"font-weight: bold; text-align: right;\">12</td><td style = \"text-align: left;\">CLV05_MEUR</td><td style = \"text-align: left;\">B1G</td><td style = \"text-align: left;\">AT</td><td style = \"text-align: right;\">2006</td><td style = \"text-align: right;\">2.34397e5</td></tr><tr><td class = \"rowNumber\" style = \"font-weight: bold; text-align: right;\">13</td><td style = \"text-align: left;\">CLV05_MEUR</td><td style = \"text-align: left;\">B1G</td><td style = \"text-align: left;\">AT</td><td style = \"text-align: right;\">2007</td><td style = \"text-align: right;\">2.43455e5</td></tr><tr><td style = \"text-align: right;\">&vellip;</td><td style = \"text-align: right;\">&vellip;</td><td style = \"text-align: right;\">&vellip;</td><td style = \"text-align: right;\">&vellip;</td><td style = \"text-align: right;\">&vellip;</td><td style = \"text-align: right;\">&vellip;</td></tr><tr><td class = \"rowNumber\" style = \"font-weight: bold; text-align: right;\">880693</td><td style = \"text-align: left;\">PYP_MNAC</td><td style = \"text-align: left;\">YA1</td><td style = \"text-align: left;\">XK</td><td style = \"text-align: right;\">2011</td><td style = \"text-align: right;\">0.0</td></tr><tr><td class = \"rowNumber\" style = \"font-weight: bold; text-align: right;\">880694</td><td style = \"text-align: left;\">PYP_MNAC</td><td style = \"text-align: left;\">YA1</td><td style = \"text-align: left;\">XK</td><td style = \"text-align: right;\">2012</td><td style = \"text-align: right;\">0.0</td></tr><tr><td class = \"rowNumber\" style = \"font-weight: bold; text-align: right;\">880695</td><td style = \"text-align: left;\">PYP_MNAC</td><td style = \"text-align: left;\">YA1</td><td style = \"text-align: left;\">XK</td><td style = \"text-align: right;\">2013</td><td style = \"text-align: right;\">0.0</td></tr><tr><td class = \"rowNumber\" style = \"font-weight: bold; text-align: right;\">880696</td><td style = \"text-align: left;\">PYP_MNAC</td><td style = \"text-align: left;\">YA1</td><td style = \"text-align: left;\">XK</td><td style = \"text-align: right;\">2014</td><td style = \"text-align: right;\">0.0</td></tr><tr><td class = \"rowNumber\" style = \"font-weight: bold; text-align: right;\">880697</td><td style = \"text-align: left;\">PYP_MNAC</td><td style = \"text-align: left;\">YA1</td><td style = \"text-align: left;\">XK</td><td style = \"text-align: right;\">2015</td><td style = \"text-align: right;\">0.0</td></tr><tr><td class = \"rowNumber\" style = \"font-weight: bold; text-align: right;\">880698</td><td style = \"text-align: left;\">PYP_MNAC</td><td style = \"text-align: left;\">YA1</td><td style = \"text-align: left;\">XK</td><td style = \"text-align: right;\">2016</td><td style = \"text-align: right;\">0.0</td></tr><tr><td class = \"rowNumber\" style = \"font-weight: bold; text-align: right;\">880699</td><td style = \"text-align: left;\">PYP_MNAC</td><td style = \"text-align: left;\">YA1</td><td style = \"text-align: left;\">XK</td><td style = \"text-align: right;\">2017</td><td style = \"text-align: right;\">0.0</td></tr><tr><td class = \"rowNumber\" style = \"font-weight: bold; text-align: right;\">880700</td><td style = \"text-align: left;\">PYP_MNAC</td><td style = \"text-align: left;\">YA1</td><td style = \"text-align: left;\">XK</td><td style = \"text-align: right;\">2018</td><td style = \"text-align: right;\">0.0</td></tr><tr><td class = \"rowNumber\" style = \"font-weight: bold; text-align: right;\">880701</td><td style = \"text-align: left;\">PYP_MNAC</td><td style = \"text-align: left;\">YA1</td><td style = \"text-align: left;\">XK</td><td style = \"text-align: right;\">2019</td><td style = \"text-align: right;\">0.0</td></tr><tr><td class = \"rowNumber\" style = \"font-weight: bold; text-align: right;\">880702</td><td style = \"text-align: left;\">PYP_MNAC</td><td style = \"text-align: left;\">YA1</td><td style = \"text-align: left;\">XK</td><td style = \"text-align: right;\">2020</td><td style = \"text-align: right;\">0.0</td></tr><tr><td class = \"rowNumber\" style = \"font-weight: bold; text-align: right;\">880703</td><td style = \"text-align: left;\">PYP_MNAC</td><td style = \"text-align: left;\">YA1</td><td style = \"text-align: left;\">XK</td><td style = \"text-align: right;\">2021</td><td style = \"text-align: right;\">0.0</td></tr><tr><td class = \"rowNumber\" style = \"font-weight: bold; text-align: right;\">880704</td><td style = \"text-align: left;\">PYP_MNAC</td><td style = \"text-align: left;\">YA1</td><td style = \"text-align: left;\">XK</td><td style = \"text-align: right;\">2022</td><td style = \"text-align: right;\">0.0</td></tr></tbody></table></div>"
      ],
      "text/latex": [
       "\\begin{tabular}{r|ccccc}\n",
       "\t& unit & na\\_item & geo & year & value\\\\\n",
       "\t\\hline\n",
       "\t& String31 & String15 & String15 & Int64 & Float64?\\\\\n",
       "\t\\hline\n",
       "\t1 & CLV05\\_MEUR & B1G & AT & 1995 & 177617.0 \\\\\n",
       "\t2 & CLV05\\_MEUR & B1G & AT & 1996 & 1.80999e5 \\\\\n",
       "\t3 & CLV05\\_MEUR & B1G & AT & 1997 & 1.84799e5 \\\\\n",
       "\t4 & CLV05\\_MEUR & B1G & AT & 1998 & 1.92025e5 \\\\\n",
       "\t5 & CLV05\\_MEUR & B1G & AT & 1999 & 1.98247e5 \\\\\n",
       "\t6 & CLV05\\_MEUR & B1G & AT & 2000 & 2.05898e5 \\\\\n",
       "\t7 & CLV05\\_MEUR & B1G & AT & 2001 & 2.08772e5 \\\\\n",
       "\t8 & CLV05\\_MEUR & B1G & AT & 2002 & 2.12101e5 \\\\\n",
       "\t9 & CLV05\\_MEUR & B1G & AT & 2003 & 214463.0 \\\\\n",
       "\t10 & CLV05\\_MEUR & B1G & AT & 2004 & 2.20729e5 \\\\\n",
       "\t11 & CLV05\\_MEUR & B1G & AT & 2005 & 2.25888e5 \\\\\n",
       "\t12 & CLV05\\_MEUR & B1G & AT & 2006 & 2.34397e5 \\\\\n",
       "\t13 & CLV05\\_MEUR & B1G & AT & 2007 & 2.43455e5 \\\\\n",
       "\t14 & CLV05\\_MEUR & B1G & AT & 2008 & 2.4743e5 \\\\\n",
       "\t15 & CLV05\\_MEUR & B1G & AT & 2009 & 237060.0 \\\\\n",
       "\t16 & CLV05\\_MEUR & B1G & AT & 2010 & 2.41602e5 \\\\\n",
       "\t17 & CLV05\\_MEUR & B1G & AT & 2011 & 2.49489e5 \\\\\n",
       "\t18 & CLV05\\_MEUR & B1G & AT & 2012 & 2.50809e5 \\\\\n",
       "\t19 & CLV05\\_MEUR & B1G & AT & 2013 & 2.51167e5 \\\\\n",
       "\t20 & CLV05\\_MEUR & B1G & AT & 2014 & 2.5288e5 \\\\\n",
       "\t21 & CLV05\\_MEUR & B1G & AT & 2015 & 2.55017e5 \\\\\n",
       "\t22 & CLV05\\_MEUR & B1G & AT & 2016 & 2.59996e5 \\\\\n",
       "\t23 & CLV05\\_MEUR & B1G & AT & 2017 & 2.66017e5 \\\\\n",
       "\t24 & CLV05\\_MEUR & B1G & AT & 2018 & 2.72985e5 \\\\\n",
       "\t25 & CLV05\\_MEUR & B1G & AT & 2019 & 2.76798e5 \\\\\n",
       "\t26 & CLV05\\_MEUR & B1G & AT & 2020 & 2.58801e5 \\\\\n",
       "\t27 & CLV05\\_MEUR & B1G & AT & 2021 & 2.67789e5 \\\\\n",
       "\t28 & CLV05\\_MEUR & B1G & AT & 2022 & 2.81637e5 \\\\\n",
       "\t29 & CLV05\\_MEUR & B1G & AT & 2023 & 2.7896e5 \\\\\n",
       "\t30 & CLV05\\_MEUR & B1G & BA & 2000 & 6112.0 \\\\\n",
       "\t$\\dots$ & $\\dots$ & $\\dots$ & $\\dots$ & $\\dots$ & $\\dots$ \\\\\n",
       "\\end{tabular}\n"
      ],
      "text/plain": [
       "\u001b[1m880704×5 DataFrame\u001b[0m\n",
       "\u001b[1m    Row \u001b[0m│\u001b[1m unit       \u001b[0m\u001b[1m na_item  \u001b[0m\u001b[1m geo      \u001b[0m\u001b[1m year  \u001b[0m\u001b[1m value          \u001b[0m\n",
       "        │\u001b[90m String31   \u001b[0m\u001b[90m String15 \u001b[0m\u001b[90m String15 \u001b[0m\u001b[90m Int64 \u001b[0m\u001b[90m Float64?       \u001b[0m\n",
       "────────┼───────────────────────────────────────────────────────\n",
       "      1 │ CLV05_MEUR  B1G       AT         1995  177617.0\n",
       "      2 │ CLV05_MEUR  B1G       AT         1996       1.80999e5\n",
       "      3 │ CLV05_MEUR  B1G       AT         1997       1.84799e5\n",
       "      4 │ CLV05_MEUR  B1G       AT         1998       1.92025e5\n",
       "      5 │ CLV05_MEUR  B1G       AT         1999       1.98247e5\n",
       "      6 │ CLV05_MEUR  B1G       AT         2000       2.05898e5\n",
       "      7 │ CLV05_MEUR  B1G       AT         2001       2.08772e5\n",
       "      8 │ CLV05_MEUR  B1G       AT         2002       2.12101e5\n",
       "      9 │ CLV05_MEUR  B1G       AT         2003  214463.0\n",
       "     10 │ CLV05_MEUR  B1G       AT         2004       2.20729e5\n",
       "     11 │ CLV05_MEUR  B1G       AT         2005       2.25888e5\n",
       "   ⋮    │     ⋮          ⋮         ⋮        ⋮          ⋮\n",
       " 880695 │ PYP_MNAC    YA1       XK         2013       0.0\n",
       " 880696 │ PYP_MNAC    YA1       XK         2014       0.0\n",
       " 880697 │ PYP_MNAC    YA1       XK         2015       0.0\n",
       " 880698 │ PYP_MNAC    YA1       XK         2016       0.0\n",
       " 880699 │ PYP_MNAC    YA1       XK         2017       0.0\n",
       " 880700 │ PYP_MNAC    YA1       XK         2018       0.0\n",
       " 880701 │ PYP_MNAC    YA1       XK         2019       0.0\n",
       " 880702 │ PYP_MNAC    YA1       XK         2020       0.0\n",
       " 880703 │ PYP_MNAC    YA1       XK         2021       0.0\n",
       " 880704 │ PYP_MNAC    YA1       XK         2022       0.0\n",
       "\u001b[36m                                             880683 rows omitted\u001b[0m"
      ]
     },
     "execution_count": 24,
     "metadata": {},
     "output_type": "execute_result"
    }
   ],
   "source": [
    "nat_acc = @chain natl_acc begin\n",
    "    @select(unit, na_item, geo, TIME_PERIOD,OBS_VALUE)\n",
    "    @rename(year=TIME_PERIOD, value=OBS_VALUE)\n",
    "end"
   ]
  },
  {
   "cell_type": "code",
   "execution_count": 25,
   "metadata": {},
   "outputs": [
    {
     "data": {
      "text/html": [
       "<div><div style = \"float: left;\"><span>29×3 DataFrame</span></div><div style = \"float: right;\"><span style = \"font-style: italic;\">4 rows omitted</span></div><div style = \"clear: both;\"></div></div><div class = \"data-frame\" style = \"overflow-x: scroll;\"><table class = \"data-frame\" style = \"margin-bottom: 6px;\"><thead><tr class = \"header\"><th class = \"rowNumber\" style = \"font-weight: bold; text-align: right;\">Row</th><th style = \"text-align: left;\">year</th><th style = \"text-align: left;\">gdp</th><th style = \"text-align: left;\">inv</th></tr><tr class = \"subheader headerLastRow\"><th class = \"rowNumber\" style = \"font-weight: bold; text-align: right;\"></th><th title = \"Int64\" style = \"text-align: left;\">Int64</th><th title = \"Union{Missing, Float64}\" style = \"text-align: left;\">Float64?</th><th title = \"Union{Missing, Float64}\" style = \"text-align: left;\">Float64?</th></tr></thead><tbody><tr><td class = \"rowNumber\" style = \"font-weight: bold; text-align: right;\">1</td><td style = \"text-align: right;\">1995</td><td style = \"text-align: right;\">53253.3</td><td style = \"text-align: right;\">4874.4</td></tr><tr><td class = \"rowNumber\" style = \"font-weight: bold; text-align: right;\">2</td><td style = \"text-align: right;\">1996</td><td style = \"text-align: right;\">56025.4</td><td style = \"text-align: right;\">1575.2</td></tr><tr><td class = \"rowNumber\" style = \"font-weight: bold; text-align: right;\">3</td><td style = \"text-align: right;\">1997</td><td style = \"text-align: right;\">48117.2</td><td style = \"text-align: right;\">3945.4</td></tr><tr><td class = \"rowNumber\" style = \"font-weight: bold; text-align: right;\">4</td><td style = \"text-align: right;\">1998</td><td style = \"text-align: right;\">49940.4</td><td style = \"text-align: right;\">5232.7</td></tr><tr><td class = \"rowNumber\" style = \"font-weight: bold; text-align: right;\">5</td><td style = \"text-align: right;\">1999</td><td style = \"text-align: right;\">45747.3</td><td style = \"text-align: right;\">6404.1</td></tr><tr><td class = \"rowNumber\" style = \"font-weight: bold; text-align: right;\">6</td><td style = \"text-align: right;\">2000</td><td style = \"text-align: right;\">47845.9</td><td style = \"text-align: right;\">7459.4</td></tr><tr><td class = \"rowNumber\" style = \"font-weight: bold; text-align: right;\">7</td><td style = \"text-align: right;\">2001</td><td style = \"text-align: right;\">49675.4</td><td style = \"text-align: right;\">8938.7</td></tr><tr><td class = \"rowNumber\" style = \"font-weight: bold; text-align: right;\">8</td><td style = \"text-align: right;\">2002</td><td style = \"text-align: right;\">52592.3</td><td style = \"text-align: right;\">9665.9</td></tr><tr><td class = \"rowNumber\" style = \"font-weight: bold; text-align: right;\">9</td><td style = \"text-align: right;\">2003</td><td style = \"text-align: right;\">55346.6</td><td style = \"text-align: right;\">10908.3</td></tr><tr><td class = \"rowNumber\" style = \"font-weight: bold; text-align: right;\">10</td><td style = \"text-align: right;\">2004</td><td style = \"text-align: right;\">58949.9</td><td style = \"text-align: right;\">12412.2</td></tr><tr><td class = \"rowNumber\" style = \"font-weight: bold; text-align: right;\">11</td><td style = \"text-align: right;\">2005</td><td style = \"text-align: right;\">63109.6</td><td style = \"text-align: right;\">15730.4</td></tr><tr><td class = \"rowNumber\" style = \"font-weight: bold; text-align: right;\">12</td><td style = \"text-align: right;\">2006</td><td style = \"text-align: right;\">67402.7</td><td style = \"text-align: right;\">17767.6</td></tr><tr><td class = \"rowNumber\" style = \"font-weight: bold; text-align: right;\">13</td><td style = \"text-align: right;\">2007</td><td style = \"text-align: right;\">71887.9</td><td style = \"text-align: right;\">20087.3</td></tr><tr><td style = \"text-align: right;\">&vellip;</td><td style = \"text-align: right;\">&vellip;</td><td style = \"text-align: right;\">&vellip;</td><td style = \"text-align: right;\">&vellip;</td></tr><tr><td class = \"rowNumber\" style = \"font-weight: bold; text-align: right;\">18</td><td style = \"text-align: right;\">2012</td><td style = \"text-align: right;\">77025.4</td><td style = \"text-align: right;\">16169.5</td></tr><tr><td class = \"rowNumber\" style = \"font-weight: bold; text-align: right;\">19</td><td style = \"text-align: right;\">2013</td><td style = \"text-align: right;\">76607.3</td><td style = \"text-align: right;\">16257.5</td></tr><tr><td class = \"rowNumber\" style = \"font-weight: bold; text-align: right;\">20</td><td style = \"text-align: right;\">2014</td><td style = \"text-align: right;\">77334.7</td><td style = \"text-align: right;\">16823.0</td></tr><tr><td class = \"rowNumber\" style = \"font-weight: bold; text-align: right;\">21</td><td style = \"text-align: right;\">2015</td><td style = \"text-align: right;\">79962.1</td><td style = \"text-align: right;\">17269.8</td></tr><tr><td class = \"rowNumber\" style = \"font-weight: bold; text-align: right;\">22</td><td style = \"text-align: right;\">2016</td><td style = \"text-align: right;\">82382.3</td><td style = \"text-align: right;\">16125.5</td></tr><tr><td class = \"rowNumber\" style = \"font-weight: bold; text-align: right;\">23</td><td style = \"text-align: right;\">2017</td><td style = \"text-align: right;\">84644.5</td><td style = \"text-align: right;\">16646.5</td></tr><tr><td class = \"rowNumber\" style = \"font-weight: bold; text-align: right;\">24</td><td style = \"text-align: right;\">2018</td><td style = \"text-align: right;\">86925.6</td><td style = \"text-align: right;\">17546.0</td></tr><tr><td class = \"rowNumber\" style = \"font-weight: bold; text-align: right;\">25</td><td style = \"text-align: right;\">2019</td><td style = \"text-align: right;\">90433.2</td><td style = \"text-align: right;\">18340.7</td></tr><tr><td class = \"rowNumber\" style = \"font-weight: bold; text-align: right;\">26</td><td style = \"text-align: right;\">2020</td><td style = \"text-align: right;\">86846.4</td><td style = \"text-align: right;\">18449.8</td></tr><tr><td class = \"rowNumber\" style = \"font-weight: bold; text-align: right;\">27</td><td style = \"text-align: right;\">2021</td><td style = \"text-align: right;\">93500.4</td><td style = \"text-align: right;\">16913.0</td></tr><tr><td class = \"rowNumber\" style = \"font-weight: bold; text-align: right;\">28</td><td style = \"text-align: right;\">2022</td><td style = \"text-align: right;\">97171.6</td><td style = \"text-align: right;\">18011.1</td></tr><tr><td class = \"rowNumber\" style = \"font-weight: bold; text-align: right;\">29</td><td style = \"text-align: right;\">2023</td><td style = \"text-align: right;\">98965.8</td><td style = \"text-align: right;\">18610.0</td></tr></tbody></table></div>"
      ],
      "text/latex": [
       "\\begin{tabular}{r|ccc}\n",
       "\t& year & gdp & inv\\\\\n",
       "\t\\hline\n",
       "\t& Int64 & Float64? & Float64?\\\\\n",
       "\t\\hline\n",
       "\t1 & 1995 & 53253.3 & 4874.4 \\\\\n",
       "\t2 & 1996 & 56025.4 & 1575.2 \\\\\n",
       "\t3 & 1997 & 48117.2 & 3945.4 \\\\\n",
       "\t4 & 1998 & 49940.4 & 5232.7 \\\\\n",
       "\t5 & 1999 & 45747.3 & 6404.1 \\\\\n",
       "\t6 & 2000 & 47845.9 & 7459.4 \\\\\n",
       "\t7 & 2001 & 49675.4 & 8938.7 \\\\\n",
       "\t8 & 2002 & 52592.3 & 9665.9 \\\\\n",
       "\t9 & 2003 & 55346.6 & 10908.3 \\\\\n",
       "\t10 & 2004 & 58949.9 & 12412.2 \\\\\n",
       "\t11 & 2005 & 63109.6 & 15730.4 \\\\\n",
       "\t12 & 2006 & 67402.7 & 17767.6 \\\\\n",
       "\t13 & 2007 & 71887.9 & 20087.3 \\\\\n",
       "\t14 & 2008 & 76294.3 & 24499.7 \\\\\n",
       "\t15 & 2009 & 73740.7 & 20169.9 \\\\\n",
       "\t16 & 2010 & 74887.6 & 16611.7 \\\\\n",
       "\t17 & 2011 & 76452.9 & 15880.4 \\\\\n",
       "\t18 & 2012 & 77025.4 & 16169.5 \\\\\n",
       "\t19 & 2013 & 76607.3 & 16257.5 \\\\\n",
       "\t20 & 2014 & 77334.7 & 16823.0 \\\\\n",
       "\t21 & 2015 & 79962.1 & 17269.8 \\\\\n",
       "\t22 & 2016 & 82382.3 & 16125.5 \\\\\n",
       "\t23 & 2017 & 84644.5 & 16646.5 \\\\\n",
       "\t24 & 2018 & 86925.6 & 17546.0 \\\\\n",
       "\t25 & 2019 & 90433.2 & 18340.7 \\\\\n",
       "\t26 & 2020 & 86846.4 & 18449.8 \\\\\n",
       "\t27 & 2021 & 93500.4 & 16913.0 \\\\\n",
       "\t28 & 2022 & 97171.6 & 18011.1 \\\\\n",
       "\t29 & 2023 & 98965.8 & 18610.0 \\\\\n",
       "\\end{tabular}\n"
      ],
      "text/plain": [
       "\u001b[1m29×3 DataFrame\u001b[0m\n",
       "\u001b[1m Row \u001b[0m│\u001b[1m year  \u001b[0m\u001b[1m gdp      \u001b[0m\u001b[1m inv      \u001b[0m\n",
       "     │\u001b[90m Int64 \u001b[0m\u001b[90m Float64? \u001b[0m\u001b[90m Float64? \u001b[0m\n",
       "─────┼───────────────────────────\n",
       "   1 │  1995   53253.3    4874.4\n",
       "   2 │  1996   56025.4    1575.2\n",
       "   3 │  1997   48117.2    3945.4\n",
       "   4 │  1998   49940.4    5232.7\n",
       "   5 │  1999   45747.3    6404.1\n",
       "   6 │  2000   47845.9    7459.4\n",
       "   7 │  2001   49675.4    8938.7\n",
       "   8 │  2002   52592.3    9665.9\n",
       "   9 │  2003   55346.6   10908.3\n",
       "  10 │  2004   58949.9   12412.2\n",
       "  11 │  2005   63109.6   15730.4\n",
       "  ⋮  │   ⋮       ⋮         ⋮\n",
       "  20 │  2014   77334.7   16823.0\n",
       "  21 │  2015   79962.1   17269.8\n",
       "  22 │  2016   82382.3   16125.5\n",
       "  23 │  2017   84644.5   16646.5\n",
       "  24 │  2018   86925.6   17546.0\n",
       "  25 │  2019   90433.2   18340.7\n",
       "  26 │  2020   86846.4   18449.8\n",
       "  27 │  2021   93500.4   16913.0\n",
       "  28 │  2022   97171.6   18011.1\n",
       "  29 │  2023   98965.8   18610.0\n",
       "\u001b[36m                   8 rows omitted\u001b[0m"
      ]
     },
     "execution_count": 25,
     "metadata": {},
     "output_type": "execute_result"
    }
   ],
   "source": [
    "bg_nat_acc = @chain nat_acc begin\n",
    "    @filter(geo == \"BG\", unit == \"CLV10_MNAC\", na_item in (\"B1GQ\", \"P51G\"))\n",
    "    @select(na_item,year,value)\n",
    "    @drop_missing()\n",
    "    @pivot_wider(names_from = na_item, values_from = value)\n",
    "    @rename(gdp = B1GQ, inv = P51G)\n",
    "end"
   ]
  },
  {
   "cell_type": "markdown",
   "metadata": {},
   "source": [
    "## Process data on employment"
   ]
  },
  {
   "cell_type": "code",
   "execution_count": 26,
   "metadata": {},
   "outputs": [
    {
     "data": {
      "text/html": [
       "<div><div style = \"float: left;\"><span>15808×9 DataFrame</span></div><div style = \"float: right;\"><span style = \"font-style: italic;\">15783 rows omitted</span></div><div style = \"clear: both;\"></div></div><div class = \"data-frame\" style = \"overflow-x: scroll;\"><table class = \"data-frame\" style = \"margin-bottom: 6px;\"><thead><tr class = \"header\"><th class = \"rowNumber\" style = \"font-weight: bold; text-align: right;\">Row</th><th style = \"text-align: left;\">DATAFLOW</th><th style = \"text-align: left;\">LAST UPDATE</th><th style = \"text-align: left;\">freq</th><th style = \"text-align: left;\">unit</th><th style = \"text-align: left;\">na_item</th><th style = \"text-align: left;\">geo</th><th style = \"text-align: left;\">TIME_PERIOD</th><th style = \"text-align: left;\">OBS_VALUE</th><th style = \"text-align: left;\">OBS_FLAG</th></tr><tr class = \"subheader headerLastRow\"><th class = \"rowNumber\" style = \"font-weight: bold; text-align: right;\"></th><th title = \"InlineStrings.String31\" style = \"text-align: left;\">String31</th><th title = \"InlineStrings.String31\" style = \"text-align: left;\">String31</th><th title = \"InlineStrings.String1\" style = \"text-align: left;\">String1</th><th title = \"InlineStrings.String15\" style = \"text-align: left;\">String15</th><th title = \"InlineStrings.String7\" style = \"text-align: left;\">String7</th><th title = \"InlineStrings.String15\" style = \"text-align: left;\">String15</th><th title = \"Int64\" style = \"text-align: left;\">Int64</th><th title = \"Union{Missing, Float64}\" style = \"text-align: left;\">Float64?</th><th title = \"Union{Missing, InlineStrings.String1}\" style = \"text-align: left;\">String1</th></tr></thead><tbody><tr><td class = \"rowNumber\" style = \"font-weight: bold; text-align: right;\">1</td><td style = \"text-align: left;\">ESTAT:NAMA_10_PE(1.0)</td><td style = \"text-align: left;\">20/04/24 11:00:00</td><td style = \"text-align: left;\">A</td><td style = \"text-align: left;\">PCH_PRE_PER</td><td style = \"text-align: left;\">EMP_DC</td><td style = \"text-align: left;\">AT</td><td style = \"text-align: right;\">1996</td><td style = \"text-align: right;\">0.4</td><td style = \"font-style: italic; text-align: left;\">missing</td></tr><tr><td class = \"rowNumber\" style = \"font-weight: bold; text-align: right;\">2</td><td style = \"text-align: left;\">ESTAT:NAMA_10_PE(1.0)</td><td style = \"text-align: left;\">20/04/24 11:00:00</td><td style = \"text-align: left;\">A</td><td style = \"text-align: left;\">PCH_PRE_PER</td><td style = \"text-align: left;\">EMP_DC</td><td style = \"text-align: left;\">AT</td><td style = \"text-align: right;\">1997</td><td style = \"text-align: right;\">0.7</td><td style = \"font-style: italic; text-align: left;\">missing</td></tr><tr><td class = \"rowNumber\" style = \"font-weight: bold; text-align: right;\">3</td><td style = \"text-align: left;\">ESTAT:NAMA_10_PE(1.0)</td><td style = \"text-align: left;\">20/04/24 11:00:00</td><td style = \"text-align: left;\">A</td><td style = \"text-align: left;\">PCH_PRE_PER</td><td style = \"text-align: left;\">EMP_DC</td><td style = \"text-align: left;\">AT</td><td style = \"text-align: right;\">1998</td><td style = \"text-align: right;\">1.0</td><td style = \"font-style: italic; text-align: left;\">missing</td></tr><tr><td class = \"rowNumber\" style = \"font-weight: bold; text-align: right;\">4</td><td style = \"text-align: left;\">ESTAT:NAMA_10_PE(1.0)</td><td style = \"text-align: left;\">20/04/24 11:00:00</td><td style = \"text-align: left;\">A</td><td style = \"text-align: left;\">PCH_PRE_PER</td><td style = \"text-align: left;\">EMP_DC</td><td style = \"text-align: left;\">AT</td><td style = \"text-align: right;\">1999</td><td style = \"text-align: right;\">1.5</td><td style = \"font-style: italic; text-align: left;\">missing</td></tr><tr><td class = \"rowNumber\" style = \"font-weight: bold; text-align: right;\">5</td><td style = \"text-align: left;\">ESTAT:NAMA_10_PE(1.0)</td><td style = \"text-align: left;\">20/04/24 11:00:00</td><td style = \"text-align: left;\">A</td><td style = \"text-align: left;\">PCH_PRE_PER</td><td style = \"text-align: left;\">EMP_DC</td><td style = \"text-align: left;\">AT</td><td style = \"text-align: right;\">2000</td><td style = \"text-align: right;\">0.9</td><td style = \"font-style: italic; text-align: left;\">missing</td></tr><tr><td class = \"rowNumber\" style = \"font-weight: bold; text-align: right;\">6</td><td style = \"text-align: left;\">ESTAT:NAMA_10_PE(1.0)</td><td style = \"text-align: left;\">20/04/24 11:00:00</td><td style = \"text-align: left;\">A</td><td style = \"text-align: left;\">PCH_PRE_PER</td><td style = \"text-align: left;\">EMP_DC</td><td style = \"text-align: left;\">AT</td><td style = \"text-align: right;\">2001</td><td style = \"text-align: right;\">0.7</td><td style = \"font-style: italic; text-align: left;\">missing</td></tr><tr><td class = \"rowNumber\" style = \"font-weight: bold; text-align: right;\">7</td><td style = \"text-align: left;\">ESTAT:NAMA_10_PE(1.0)</td><td style = \"text-align: left;\">20/04/24 11:00:00</td><td style = \"text-align: left;\">A</td><td style = \"text-align: left;\">PCH_PRE_PER</td><td style = \"text-align: left;\">EMP_DC</td><td style = \"text-align: left;\">AT</td><td style = \"text-align: right;\">2002</td><td style = \"text-align: right;\">-0.1</td><td style = \"font-style: italic; text-align: left;\">missing</td></tr><tr><td class = \"rowNumber\" style = \"font-weight: bold; text-align: right;\">8</td><td style = \"text-align: left;\">ESTAT:NAMA_10_PE(1.0)</td><td style = \"text-align: left;\">20/04/24 11:00:00</td><td style = \"text-align: left;\">A</td><td style = \"text-align: left;\">PCH_PRE_PER</td><td style = \"text-align: left;\">EMP_DC</td><td style = \"text-align: left;\">AT</td><td style = \"text-align: right;\">2003</td><td style = \"text-align: right;\">0.7</td><td style = \"font-style: italic; text-align: left;\">missing</td></tr><tr><td class = \"rowNumber\" style = \"font-weight: bold; text-align: right;\">9</td><td style = \"text-align: left;\">ESTAT:NAMA_10_PE(1.0)</td><td style = \"text-align: left;\">20/04/24 11:00:00</td><td style = \"text-align: left;\">A</td><td style = \"text-align: left;\">PCH_PRE_PER</td><td style = \"text-align: left;\">EMP_DC</td><td style = \"text-align: left;\">AT</td><td style = \"text-align: right;\">2004</td><td style = \"text-align: right;\">0.6</td><td style = \"font-style: italic; text-align: left;\">missing</td></tr><tr><td class = \"rowNumber\" style = \"font-weight: bold; text-align: right;\">10</td><td style = \"text-align: left;\">ESTAT:NAMA_10_PE(1.0)</td><td style = \"text-align: left;\">20/04/24 11:00:00</td><td style = \"text-align: left;\">A</td><td style = \"text-align: left;\">PCH_PRE_PER</td><td style = \"text-align: left;\">EMP_DC</td><td style = \"text-align: left;\">AT</td><td style = \"text-align: right;\">2005</td><td style = \"text-align: right;\">1.2</td><td style = \"font-style: italic; text-align: left;\">missing</td></tr><tr><td class = \"rowNumber\" style = \"font-weight: bold; text-align: right;\">11</td><td style = \"text-align: left;\">ESTAT:NAMA_10_PE(1.0)</td><td style = \"text-align: left;\">20/04/24 11:00:00</td><td style = \"text-align: left;\">A</td><td style = \"text-align: left;\">PCH_PRE_PER</td><td style = \"text-align: left;\">EMP_DC</td><td style = \"text-align: left;\">AT</td><td style = \"text-align: right;\">2006</td><td style = \"text-align: right;\">1.8</td><td style = \"font-style: italic; text-align: left;\">missing</td></tr><tr><td class = \"rowNumber\" style = \"font-weight: bold; text-align: right;\">12</td><td style = \"text-align: left;\">ESTAT:NAMA_10_PE(1.0)</td><td style = \"text-align: left;\">20/04/24 11:00:00</td><td style = \"text-align: left;\">A</td><td style = \"text-align: left;\">PCH_PRE_PER</td><td style = \"text-align: left;\">EMP_DC</td><td style = \"text-align: left;\">AT</td><td style = \"text-align: right;\">2007</td><td style = \"text-align: right;\">1.8</td><td style = \"font-style: italic; text-align: left;\">missing</td></tr><tr><td class = \"rowNumber\" style = \"font-weight: bold; text-align: right;\">13</td><td style = \"text-align: left;\">ESTAT:NAMA_10_PE(1.0)</td><td style = \"text-align: left;\">20/04/24 11:00:00</td><td style = \"text-align: left;\">A</td><td style = \"text-align: left;\">PCH_PRE_PER</td><td style = \"text-align: left;\">EMP_DC</td><td style = \"text-align: left;\">AT</td><td style = \"text-align: right;\">2008</td><td style = \"text-align: right;\">1.9</td><td style = \"font-style: italic; text-align: left;\">missing</td></tr><tr><td style = \"text-align: right;\">&vellip;</td><td style = \"text-align: right;\">&vellip;</td><td style = \"text-align: right;\">&vellip;</td><td style = \"text-align: right;\">&vellip;</td><td style = \"text-align: right;\">&vellip;</td><td style = \"text-align: right;\">&vellip;</td><td style = \"text-align: right;\">&vellip;</td><td style = \"text-align: right;\">&vellip;</td><td style = \"text-align: right;\">&vellip;</td><td style = \"text-align: right;\">&vellip;</td></tr><tr><td class = \"rowNumber\" style = \"font-weight: bold; text-align: right;\">15797</td><td style = \"text-align: left;\">ESTAT:NAMA_10_PE(1.0)</td><td style = \"text-align: left;\">20/04/24 11:00:00</td><td style = \"text-align: left;\">A</td><td style = \"text-align: left;\">THS_PER</td><td style = \"text-align: left;\">SELF_NC</td><td style = \"text-align: left;\">UK</td><td style = \"text-align: right;\">2008</td><td style = \"text-align: right;\">3946.0</td><td style = \"font-style: italic; text-align: left;\">missing</td></tr><tr><td class = \"rowNumber\" style = \"font-weight: bold; text-align: right;\">15798</td><td style = \"text-align: left;\">ESTAT:NAMA_10_PE(1.0)</td><td style = \"text-align: left;\">20/04/24 11:00:00</td><td style = \"text-align: left;\">A</td><td style = \"text-align: left;\">THS_PER</td><td style = \"text-align: left;\">SELF_NC</td><td style = \"text-align: left;\">UK</td><td style = \"text-align: right;\">2009</td><td style = \"text-align: right;\">3957.0</td><td style = \"font-style: italic; text-align: left;\">missing</td></tr><tr><td class = \"rowNumber\" style = \"font-weight: bold; text-align: right;\">15799</td><td style = \"text-align: left;\">ESTAT:NAMA_10_PE(1.0)</td><td style = \"text-align: left;\">20/04/24 11:00:00</td><td style = \"text-align: left;\">A</td><td style = \"text-align: left;\">THS_PER</td><td style = \"text-align: left;\">SELF_NC</td><td style = \"text-align: left;\">UK</td><td style = \"text-align: right;\">2010</td><td style = \"text-align: right;\">4084.0</td><td style = \"font-style: italic; text-align: left;\">missing</td></tr><tr><td class = \"rowNumber\" style = \"font-weight: bold; text-align: right;\">15800</td><td style = \"text-align: left;\">ESTAT:NAMA_10_PE(1.0)</td><td style = \"text-align: left;\">20/04/24 11:00:00</td><td style = \"text-align: left;\">A</td><td style = \"text-align: left;\">THS_PER</td><td style = \"text-align: left;\">SELF_NC</td><td style = \"text-align: left;\">UK</td><td style = \"text-align: right;\">2011</td><td style = \"text-align: right;\">4158.0</td><td style = \"font-style: italic; text-align: left;\">missing</td></tr><tr><td class = \"rowNumber\" style = \"font-weight: bold; text-align: right;\">15801</td><td style = \"text-align: left;\">ESTAT:NAMA_10_PE(1.0)</td><td style = \"text-align: left;\">20/04/24 11:00:00</td><td style = \"text-align: left;\">A</td><td style = \"text-align: left;\">THS_PER</td><td style = \"text-align: left;\">SELF_NC</td><td style = \"text-align: left;\">UK</td><td style = \"text-align: right;\">2012</td><td style = \"text-align: right;\">4332.0</td><td style = \"font-style: italic; text-align: left;\">missing</td></tr><tr><td class = \"rowNumber\" style = \"font-weight: bold; text-align: right;\">15802</td><td style = \"text-align: left;\">ESTAT:NAMA_10_PE(1.0)</td><td style = \"text-align: left;\">20/04/24 11:00:00</td><td style = \"text-align: left;\">A</td><td style = \"text-align: left;\">THS_PER</td><td style = \"text-align: left;\">SELF_NC</td><td style = \"text-align: left;\">UK</td><td style = \"text-align: right;\">2013</td><td style = \"text-align: right;\">4372.0</td><td style = \"font-style: italic; text-align: left;\">missing</td></tr><tr><td class = \"rowNumber\" style = \"font-weight: bold; text-align: right;\">15803</td><td style = \"text-align: left;\">ESTAT:NAMA_10_PE(1.0)</td><td style = \"text-align: left;\">20/04/24 11:00:00</td><td style = \"text-align: left;\">A</td><td style = \"text-align: left;\">THS_PER</td><td style = \"text-align: left;\">SELF_NC</td><td style = \"text-align: left;\">UK</td><td style = \"text-align: right;\">2014</td><td style = \"text-align: right;\">4674.0</td><td style = \"font-style: italic; text-align: left;\">missing</td></tr><tr><td class = \"rowNumber\" style = \"font-weight: bold; text-align: right;\">15804</td><td style = \"text-align: left;\">ESTAT:NAMA_10_PE(1.0)</td><td style = \"text-align: left;\">20/04/24 11:00:00</td><td style = \"text-align: left;\">A</td><td style = \"text-align: left;\">THS_PER</td><td style = \"text-align: left;\">SELF_NC</td><td style = \"text-align: left;\">UK</td><td style = \"text-align: right;\">2015</td><td style = \"text-align: right;\">4679.0</td><td style = \"font-style: italic; text-align: left;\">missing</td></tr><tr><td class = \"rowNumber\" style = \"font-weight: bold; text-align: right;\">15805</td><td style = \"text-align: left;\">ESTAT:NAMA_10_PE(1.0)</td><td style = \"text-align: left;\">20/04/24 11:00:00</td><td style = \"text-align: left;\">A</td><td style = \"text-align: left;\">THS_PER</td><td style = \"text-align: left;\">SELF_NC</td><td style = \"text-align: left;\">UK</td><td style = \"text-align: right;\">2016</td><td style = \"text-align: right;\">4891.0</td><td style = \"font-style: italic; text-align: left;\">missing</td></tr><tr><td class = \"rowNumber\" style = \"font-weight: bold; text-align: right;\">15806</td><td style = \"text-align: left;\">ESTAT:NAMA_10_PE(1.0)</td><td style = \"text-align: left;\">20/04/24 11:00:00</td><td style = \"text-align: left;\">A</td><td style = \"text-align: left;\">THS_PER</td><td style = \"text-align: left;\">SELF_NC</td><td style = \"text-align: left;\">UK</td><td style = \"text-align: right;\">2017</td><td style = \"text-align: right;\">4914.0</td><td style = \"font-style: italic; text-align: left;\">missing</td></tr><tr><td class = \"rowNumber\" style = \"font-weight: bold; text-align: right;\">15807</td><td style = \"text-align: left;\">ESTAT:NAMA_10_PE(1.0)</td><td style = \"text-align: left;\">20/04/24 11:00:00</td><td style = \"text-align: left;\">A</td><td style = \"text-align: left;\">THS_PER</td><td style = \"text-align: left;\">SELF_NC</td><td style = \"text-align: left;\">UK</td><td style = \"text-align: right;\">2018</td><td style = \"text-align: right;\">4895.0</td><td style = \"font-style: italic; text-align: left;\">missing</td></tr><tr><td class = \"rowNumber\" style = \"font-weight: bold; text-align: right;\">15808</td><td style = \"text-align: left;\">ESTAT:NAMA_10_PE(1.0)</td><td style = \"text-align: left;\">20/04/24 11:00:00</td><td style = \"text-align: left;\">A</td><td style = \"text-align: left;\">THS_PER</td><td style = \"text-align: left;\">SELF_NC</td><td style = \"text-align: left;\">UK</td><td style = \"text-align: right;\">2019</td><td style = \"text-align: right;\">5094.0</td><td style = \"font-style: italic; text-align: left;\">missing</td></tr></tbody></table></div>"
      ],
      "text/latex": [
       "\\begin{tabular}{r|ccccccc}\n",
       "\t& DATAFLOW & LAST UPDATE & freq & unit & na\\_item & geo & \\\\\n",
       "\t\\hline\n",
       "\t& String31 & String31 & String1 & String15 & String7 & String15 & \\\\\n",
       "\t\\hline\n",
       "\t1 & ESTAT:NAMA\\_10\\_PE(1.0) & 20/04/24 11:00:00 & A & PCH\\_PRE\\_PER & EMP\\_DC & AT & $\\dots$ \\\\\n",
       "\t2 & ESTAT:NAMA\\_10\\_PE(1.0) & 20/04/24 11:00:00 & A & PCH\\_PRE\\_PER & EMP\\_DC & AT & $\\dots$ \\\\\n",
       "\t3 & ESTAT:NAMA\\_10\\_PE(1.0) & 20/04/24 11:00:00 & A & PCH\\_PRE\\_PER & EMP\\_DC & AT & $\\dots$ \\\\\n",
       "\t4 & ESTAT:NAMA\\_10\\_PE(1.0) & 20/04/24 11:00:00 & A & PCH\\_PRE\\_PER & EMP\\_DC & AT & $\\dots$ \\\\\n",
       "\t5 & ESTAT:NAMA\\_10\\_PE(1.0) & 20/04/24 11:00:00 & A & PCH\\_PRE\\_PER & EMP\\_DC & AT & $\\dots$ \\\\\n",
       "\t6 & ESTAT:NAMA\\_10\\_PE(1.0) & 20/04/24 11:00:00 & A & PCH\\_PRE\\_PER & EMP\\_DC & AT & $\\dots$ \\\\\n",
       "\t7 & ESTAT:NAMA\\_10\\_PE(1.0) & 20/04/24 11:00:00 & A & PCH\\_PRE\\_PER & EMP\\_DC & AT & $\\dots$ \\\\\n",
       "\t8 & ESTAT:NAMA\\_10\\_PE(1.0) & 20/04/24 11:00:00 & A & PCH\\_PRE\\_PER & EMP\\_DC & AT & $\\dots$ \\\\\n",
       "\t9 & ESTAT:NAMA\\_10\\_PE(1.0) & 20/04/24 11:00:00 & A & PCH\\_PRE\\_PER & EMP\\_DC & AT & $\\dots$ \\\\\n",
       "\t10 & ESTAT:NAMA\\_10\\_PE(1.0) & 20/04/24 11:00:00 & A & PCH\\_PRE\\_PER & EMP\\_DC & AT & $\\dots$ \\\\\n",
       "\t11 & ESTAT:NAMA\\_10\\_PE(1.0) & 20/04/24 11:00:00 & A & PCH\\_PRE\\_PER & EMP\\_DC & AT & $\\dots$ \\\\\n",
       "\t12 & ESTAT:NAMA\\_10\\_PE(1.0) & 20/04/24 11:00:00 & A & PCH\\_PRE\\_PER & EMP\\_DC & AT & $\\dots$ \\\\\n",
       "\t13 & ESTAT:NAMA\\_10\\_PE(1.0) & 20/04/24 11:00:00 & A & PCH\\_PRE\\_PER & EMP\\_DC & AT & $\\dots$ \\\\\n",
       "\t14 & ESTAT:NAMA\\_10\\_PE(1.0) & 20/04/24 11:00:00 & A & PCH\\_PRE\\_PER & EMP\\_DC & AT & $\\dots$ \\\\\n",
       "\t15 & ESTAT:NAMA\\_10\\_PE(1.0) & 20/04/24 11:00:00 & A & PCH\\_PRE\\_PER & EMP\\_DC & AT & $\\dots$ \\\\\n",
       "\t16 & ESTAT:NAMA\\_10\\_PE(1.0) & 20/04/24 11:00:00 & A & PCH\\_PRE\\_PER & EMP\\_DC & AT & $\\dots$ \\\\\n",
       "\t17 & ESTAT:NAMA\\_10\\_PE(1.0) & 20/04/24 11:00:00 & A & PCH\\_PRE\\_PER & EMP\\_DC & AT & $\\dots$ \\\\\n",
       "\t18 & ESTAT:NAMA\\_10\\_PE(1.0) & 20/04/24 11:00:00 & A & PCH\\_PRE\\_PER & EMP\\_DC & AT & $\\dots$ \\\\\n",
       "\t19 & ESTAT:NAMA\\_10\\_PE(1.0) & 20/04/24 11:00:00 & A & PCH\\_PRE\\_PER & EMP\\_DC & AT & $\\dots$ \\\\\n",
       "\t20 & ESTAT:NAMA\\_10\\_PE(1.0) & 20/04/24 11:00:00 & A & PCH\\_PRE\\_PER & EMP\\_DC & AT & $\\dots$ \\\\\n",
       "\t21 & ESTAT:NAMA\\_10\\_PE(1.0) & 20/04/24 11:00:00 & A & PCH\\_PRE\\_PER & EMP\\_DC & AT & $\\dots$ \\\\\n",
       "\t22 & ESTAT:NAMA\\_10\\_PE(1.0) & 20/04/24 11:00:00 & A & PCH\\_PRE\\_PER & EMP\\_DC & AT & $\\dots$ \\\\\n",
       "\t23 & ESTAT:NAMA\\_10\\_PE(1.0) & 20/04/24 11:00:00 & A & PCH\\_PRE\\_PER & EMP\\_DC & AT & $\\dots$ \\\\\n",
       "\t24 & ESTAT:NAMA\\_10\\_PE(1.0) & 20/04/24 11:00:00 & A & PCH\\_PRE\\_PER & EMP\\_DC & AT & $\\dots$ \\\\\n",
       "\t25 & ESTAT:NAMA\\_10\\_PE(1.0) & 20/04/24 11:00:00 & A & PCH\\_PRE\\_PER & EMP\\_DC & AT & $\\dots$ \\\\\n",
       "\t26 & ESTAT:NAMA\\_10\\_PE(1.0) & 20/04/24 11:00:00 & A & PCH\\_PRE\\_PER & EMP\\_DC & AT & $\\dots$ \\\\\n",
       "\t27 & ESTAT:NAMA\\_10\\_PE(1.0) & 20/04/24 11:00:00 & A & PCH\\_PRE\\_PER & EMP\\_DC & AT & $\\dots$ \\\\\n",
       "\t28 & ESTAT:NAMA\\_10\\_PE(1.0) & 20/04/24 11:00:00 & A & PCH\\_PRE\\_PER & EMP\\_DC & AT & $\\dots$ \\\\\n",
       "\t29 & ESTAT:NAMA\\_10\\_PE(1.0) & 20/04/24 11:00:00 & A & PCH\\_PRE\\_PER & EMP\\_DC & BE & $\\dots$ \\\\\n",
       "\t30 & ESTAT:NAMA\\_10\\_PE(1.0) & 20/04/24 11:00:00 & A & PCH\\_PRE\\_PER & EMP\\_DC & BE & $\\dots$ \\\\\n",
       "\t$\\dots$ & $\\dots$ & $\\dots$ & $\\dots$ & $\\dots$ & $\\dots$ & $\\dots$ &  \\\\\n",
       "\\end{tabular}\n"
      ],
      "text/plain": [
       "\u001b[1m15808×9 DataFrame\u001b[0m\n",
       "\u001b[1m   Row \u001b[0m│\u001b[1m DATAFLOW              \u001b[0m\u001b[1m LAST UPDATE       \u001b[0m\u001b[1m freq    \u001b[0m\u001b[1m unit        \u001b[0m\u001b[1m na_it\u001b[0m ⋯\n",
       "       │\u001b[90m String31              \u001b[0m\u001b[90m String31          \u001b[0m\u001b[90m String1 \u001b[0m\u001b[90m String15    \u001b[0m\u001b[90m Strin\u001b[0m ⋯\n",
       "───────┼────────────────────────────────────────────────────────────────────────\n",
       "     1 │ ESTAT:NAMA_10_PE(1.0)  20/04/24 11:00:00  A        PCH_PRE_PER  EMP_D ⋯\n",
       "     2 │ ESTAT:NAMA_10_PE(1.0)  20/04/24 11:00:00  A        PCH_PRE_PER  EMP_D\n",
       "     3 │ ESTAT:NAMA_10_PE(1.0)  20/04/24 11:00:00  A        PCH_PRE_PER  EMP_D\n",
       "     4 │ ESTAT:NAMA_10_PE(1.0)  20/04/24 11:00:00  A        PCH_PRE_PER  EMP_D\n",
       "     5 │ ESTAT:NAMA_10_PE(1.0)  20/04/24 11:00:00  A        PCH_PRE_PER  EMP_D ⋯\n",
       "     6 │ ESTAT:NAMA_10_PE(1.0)  20/04/24 11:00:00  A        PCH_PRE_PER  EMP_D\n",
       "     7 │ ESTAT:NAMA_10_PE(1.0)  20/04/24 11:00:00  A        PCH_PRE_PER  EMP_D\n",
       "     8 │ ESTAT:NAMA_10_PE(1.0)  20/04/24 11:00:00  A        PCH_PRE_PER  EMP_D\n",
       "     9 │ ESTAT:NAMA_10_PE(1.0)  20/04/24 11:00:00  A        PCH_PRE_PER  EMP_D ⋯\n",
       "    10 │ ESTAT:NAMA_10_PE(1.0)  20/04/24 11:00:00  A        PCH_PRE_PER  EMP_D\n",
       "    11 │ ESTAT:NAMA_10_PE(1.0)  20/04/24 11:00:00  A        PCH_PRE_PER  EMP_D\n",
       "   ⋮   │           ⋮                    ⋮             ⋮          ⋮          ⋮  ⋱\n",
       " 15799 │ ESTAT:NAMA_10_PE(1.0)  20/04/24 11:00:00  A        THS_PER      SELF_\n",
       " 15800 │ ESTAT:NAMA_10_PE(1.0)  20/04/24 11:00:00  A        THS_PER      SELF_ ⋯\n",
       " 15801 │ ESTAT:NAMA_10_PE(1.0)  20/04/24 11:00:00  A        THS_PER      SELF_\n",
       " 15802 │ ESTAT:NAMA_10_PE(1.0)  20/04/24 11:00:00  A        THS_PER      SELF_\n",
       " 15803 │ ESTAT:NAMA_10_PE(1.0)  20/04/24 11:00:00  A        THS_PER      SELF_\n",
       " 15804 │ ESTAT:NAMA_10_PE(1.0)  20/04/24 11:00:00  A        THS_PER      SELF_ ⋯\n",
       " 15805 │ ESTAT:NAMA_10_PE(1.0)  20/04/24 11:00:00  A        THS_PER      SELF_\n",
       " 15806 │ ESTAT:NAMA_10_PE(1.0)  20/04/24 11:00:00  A        THS_PER      SELF_\n",
       " 15807 │ ESTAT:NAMA_10_PE(1.0)  20/04/24 11:00:00  A        THS_PER      SELF_\n",
       " 15808 │ ESTAT:NAMA_10_PE(1.0)  20/04/24 11:00:00  A        THS_PER      SELF_ ⋯\n",
       "\u001b[36m                                                5 columns and 15787 rows omitted\u001b[0m"
      ]
     },
     "execution_count": 26,
     "metadata": {},
     "output_type": "execute_result"
    }
   ],
   "source": [
    "labour = read_csv(\"datasets/nama_10_pe_linear.csv.gz\")"
   ]
  },
  {
   "cell_type": "code",
   "execution_count": 27,
   "metadata": {},
   "outputs": [
    {
     "data": {
      "text/html": [
       "<div><div style = \"float: left;\"><span>15808×5 DataFrame</span></div><div style = \"float: right;\"><span style = \"font-style: italic;\">15783 rows omitted</span></div><div style = \"clear: both;\"></div></div><div class = \"data-frame\" style = \"overflow-x: scroll;\"><table class = \"data-frame\" style = \"margin-bottom: 6px;\"><thead><tr class = \"header\"><th class = \"rowNumber\" style = \"font-weight: bold; text-align: right;\">Row</th><th style = \"text-align: left;\">unit</th><th style = \"text-align: left;\">na_item</th><th style = \"text-align: left;\">geo</th><th style = \"text-align: left;\">year</th><th style = \"text-align: left;\">value</th></tr><tr class = \"subheader headerLastRow\"><th class = \"rowNumber\" style = \"font-weight: bold; text-align: right;\"></th><th title = \"InlineStrings.String15\" style = \"text-align: left;\">String15</th><th title = \"InlineStrings.String7\" style = \"text-align: left;\">String7</th><th title = \"InlineStrings.String15\" style = \"text-align: left;\">String15</th><th title = \"Int64\" style = \"text-align: left;\">Int64</th><th title = \"Union{Missing, Float64}\" style = \"text-align: left;\">Float64?</th></tr></thead><tbody><tr><td class = \"rowNumber\" style = \"font-weight: bold; text-align: right;\">1</td><td style = \"text-align: left;\">PCH_PRE_PER</td><td style = \"text-align: left;\">EMP_DC</td><td style = \"text-align: left;\">AT</td><td style = \"text-align: right;\">1996</td><td style = \"text-align: right;\">0.4</td></tr><tr><td class = \"rowNumber\" style = \"font-weight: bold; text-align: right;\">2</td><td style = \"text-align: left;\">PCH_PRE_PER</td><td style = \"text-align: left;\">EMP_DC</td><td style = \"text-align: left;\">AT</td><td style = \"text-align: right;\">1997</td><td style = \"text-align: right;\">0.7</td></tr><tr><td class = \"rowNumber\" style = \"font-weight: bold; text-align: right;\">3</td><td style = \"text-align: left;\">PCH_PRE_PER</td><td style = \"text-align: left;\">EMP_DC</td><td style = \"text-align: left;\">AT</td><td style = \"text-align: right;\">1998</td><td style = \"text-align: right;\">1.0</td></tr><tr><td class = \"rowNumber\" style = \"font-weight: bold; text-align: right;\">4</td><td style = \"text-align: left;\">PCH_PRE_PER</td><td style = \"text-align: left;\">EMP_DC</td><td style = \"text-align: left;\">AT</td><td style = \"text-align: right;\">1999</td><td style = \"text-align: right;\">1.5</td></tr><tr><td class = \"rowNumber\" style = \"font-weight: bold; text-align: right;\">5</td><td style = \"text-align: left;\">PCH_PRE_PER</td><td style = \"text-align: left;\">EMP_DC</td><td style = \"text-align: left;\">AT</td><td style = \"text-align: right;\">2000</td><td style = \"text-align: right;\">0.9</td></tr><tr><td class = \"rowNumber\" style = \"font-weight: bold; text-align: right;\">6</td><td style = \"text-align: left;\">PCH_PRE_PER</td><td style = \"text-align: left;\">EMP_DC</td><td style = \"text-align: left;\">AT</td><td style = \"text-align: right;\">2001</td><td style = \"text-align: right;\">0.7</td></tr><tr><td class = \"rowNumber\" style = \"font-weight: bold; text-align: right;\">7</td><td style = \"text-align: left;\">PCH_PRE_PER</td><td style = \"text-align: left;\">EMP_DC</td><td style = \"text-align: left;\">AT</td><td style = \"text-align: right;\">2002</td><td style = \"text-align: right;\">-0.1</td></tr><tr><td class = \"rowNumber\" style = \"font-weight: bold; text-align: right;\">8</td><td style = \"text-align: left;\">PCH_PRE_PER</td><td style = \"text-align: left;\">EMP_DC</td><td style = \"text-align: left;\">AT</td><td style = \"text-align: right;\">2003</td><td style = \"text-align: right;\">0.7</td></tr><tr><td class = \"rowNumber\" style = \"font-weight: bold; text-align: right;\">9</td><td style = \"text-align: left;\">PCH_PRE_PER</td><td style = \"text-align: left;\">EMP_DC</td><td style = \"text-align: left;\">AT</td><td style = \"text-align: right;\">2004</td><td style = \"text-align: right;\">0.6</td></tr><tr><td class = \"rowNumber\" style = \"font-weight: bold; text-align: right;\">10</td><td style = \"text-align: left;\">PCH_PRE_PER</td><td style = \"text-align: left;\">EMP_DC</td><td style = \"text-align: left;\">AT</td><td style = \"text-align: right;\">2005</td><td style = \"text-align: right;\">1.2</td></tr><tr><td class = \"rowNumber\" style = \"font-weight: bold; text-align: right;\">11</td><td style = \"text-align: left;\">PCH_PRE_PER</td><td style = \"text-align: left;\">EMP_DC</td><td style = \"text-align: left;\">AT</td><td style = \"text-align: right;\">2006</td><td style = \"text-align: right;\">1.8</td></tr><tr><td class = \"rowNumber\" style = \"font-weight: bold; text-align: right;\">12</td><td style = \"text-align: left;\">PCH_PRE_PER</td><td style = \"text-align: left;\">EMP_DC</td><td style = \"text-align: left;\">AT</td><td style = \"text-align: right;\">2007</td><td style = \"text-align: right;\">1.8</td></tr><tr><td class = \"rowNumber\" style = \"font-weight: bold; text-align: right;\">13</td><td style = \"text-align: left;\">PCH_PRE_PER</td><td style = \"text-align: left;\">EMP_DC</td><td style = \"text-align: left;\">AT</td><td style = \"text-align: right;\">2008</td><td style = \"text-align: right;\">1.9</td></tr><tr><td style = \"text-align: right;\">&vellip;</td><td style = \"text-align: right;\">&vellip;</td><td style = \"text-align: right;\">&vellip;</td><td style = \"text-align: right;\">&vellip;</td><td style = \"text-align: right;\">&vellip;</td><td style = \"text-align: right;\">&vellip;</td></tr><tr><td class = \"rowNumber\" style = \"font-weight: bold; text-align: right;\">15797</td><td style = \"text-align: left;\">THS_PER</td><td style = \"text-align: left;\">SELF_NC</td><td style = \"text-align: left;\">UK</td><td style = \"text-align: right;\">2008</td><td style = \"text-align: right;\">3946.0</td></tr><tr><td class = \"rowNumber\" style = \"font-weight: bold; text-align: right;\">15798</td><td style = \"text-align: left;\">THS_PER</td><td style = \"text-align: left;\">SELF_NC</td><td style = \"text-align: left;\">UK</td><td style = \"text-align: right;\">2009</td><td style = \"text-align: right;\">3957.0</td></tr><tr><td class = \"rowNumber\" style = \"font-weight: bold; text-align: right;\">15799</td><td style = \"text-align: left;\">THS_PER</td><td style = \"text-align: left;\">SELF_NC</td><td style = \"text-align: left;\">UK</td><td style = \"text-align: right;\">2010</td><td style = \"text-align: right;\">4084.0</td></tr><tr><td class = \"rowNumber\" style = \"font-weight: bold; text-align: right;\">15800</td><td style = \"text-align: left;\">THS_PER</td><td style = \"text-align: left;\">SELF_NC</td><td style = \"text-align: left;\">UK</td><td style = \"text-align: right;\">2011</td><td style = \"text-align: right;\">4158.0</td></tr><tr><td class = \"rowNumber\" style = \"font-weight: bold; text-align: right;\">15801</td><td style = \"text-align: left;\">THS_PER</td><td style = \"text-align: left;\">SELF_NC</td><td style = \"text-align: left;\">UK</td><td style = \"text-align: right;\">2012</td><td style = \"text-align: right;\">4332.0</td></tr><tr><td class = \"rowNumber\" style = \"font-weight: bold; text-align: right;\">15802</td><td style = \"text-align: left;\">THS_PER</td><td style = \"text-align: left;\">SELF_NC</td><td style = \"text-align: left;\">UK</td><td style = \"text-align: right;\">2013</td><td style = \"text-align: right;\">4372.0</td></tr><tr><td class = \"rowNumber\" style = \"font-weight: bold; text-align: right;\">15803</td><td style = \"text-align: left;\">THS_PER</td><td style = \"text-align: left;\">SELF_NC</td><td style = \"text-align: left;\">UK</td><td style = \"text-align: right;\">2014</td><td style = \"text-align: right;\">4674.0</td></tr><tr><td class = \"rowNumber\" style = \"font-weight: bold; text-align: right;\">15804</td><td style = \"text-align: left;\">THS_PER</td><td style = \"text-align: left;\">SELF_NC</td><td style = \"text-align: left;\">UK</td><td style = \"text-align: right;\">2015</td><td style = \"text-align: right;\">4679.0</td></tr><tr><td class = \"rowNumber\" style = \"font-weight: bold; text-align: right;\">15805</td><td style = \"text-align: left;\">THS_PER</td><td style = \"text-align: left;\">SELF_NC</td><td style = \"text-align: left;\">UK</td><td style = \"text-align: right;\">2016</td><td style = \"text-align: right;\">4891.0</td></tr><tr><td class = \"rowNumber\" style = \"font-weight: bold; text-align: right;\">15806</td><td style = \"text-align: left;\">THS_PER</td><td style = \"text-align: left;\">SELF_NC</td><td style = \"text-align: left;\">UK</td><td style = \"text-align: right;\">2017</td><td style = \"text-align: right;\">4914.0</td></tr><tr><td class = \"rowNumber\" style = \"font-weight: bold; text-align: right;\">15807</td><td style = \"text-align: left;\">THS_PER</td><td style = \"text-align: left;\">SELF_NC</td><td style = \"text-align: left;\">UK</td><td style = \"text-align: right;\">2018</td><td style = \"text-align: right;\">4895.0</td></tr><tr><td class = \"rowNumber\" style = \"font-weight: bold; text-align: right;\">15808</td><td style = \"text-align: left;\">THS_PER</td><td style = \"text-align: left;\">SELF_NC</td><td style = \"text-align: left;\">UK</td><td style = \"text-align: right;\">2019</td><td style = \"text-align: right;\">5094.0</td></tr></tbody></table></div>"
      ],
      "text/latex": [
       "\\begin{tabular}{r|ccccc}\n",
       "\t& unit & na\\_item & geo & year & value\\\\\n",
       "\t\\hline\n",
       "\t& String15 & String7 & String15 & Int64 & Float64?\\\\\n",
       "\t\\hline\n",
       "\t1 & PCH\\_PRE\\_PER & EMP\\_DC & AT & 1996 & 0.4 \\\\\n",
       "\t2 & PCH\\_PRE\\_PER & EMP\\_DC & AT & 1997 & 0.7 \\\\\n",
       "\t3 & PCH\\_PRE\\_PER & EMP\\_DC & AT & 1998 & 1.0 \\\\\n",
       "\t4 & PCH\\_PRE\\_PER & EMP\\_DC & AT & 1999 & 1.5 \\\\\n",
       "\t5 & PCH\\_PRE\\_PER & EMP\\_DC & AT & 2000 & 0.9 \\\\\n",
       "\t6 & PCH\\_PRE\\_PER & EMP\\_DC & AT & 2001 & 0.7 \\\\\n",
       "\t7 & PCH\\_PRE\\_PER & EMP\\_DC & AT & 2002 & -0.1 \\\\\n",
       "\t8 & PCH\\_PRE\\_PER & EMP\\_DC & AT & 2003 & 0.7 \\\\\n",
       "\t9 & PCH\\_PRE\\_PER & EMP\\_DC & AT & 2004 & 0.6 \\\\\n",
       "\t10 & PCH\\_PRE\\_PER & EMP\\_DC & AT & 2005 & 1.2 \\\\\n",
       "\t11 & PCH\\_PRE\\_PER & EMP\\_DC & AT & 2006 & 1.8 \\\\\n",
       "\t12 & PCH\\_PRE\\_PER & EMP\\_DC & AT & 2007 & 1.8 \\\\\n",
       "\t13 & PCH\\_PRE\\_PER & EMP\\_DC & AT & 2008 & 1.9 \\\\\n",
       "\t14 & PCH\\_PRE\\_PER & EMP\\_DC & AT & 2009 & -0.5 \\\\\n",
       "\t15 & PCH\\_PRE\\_PER & EMP\\_DC & AT & 2010 & 0.8 \\\\\n",
       "\t16 & PCH\\_PRE\\_PER & EMP\\_DC & AT & 2011 & 1.6 \\\\\n",
       "\t17 & PCH\\_PRE\\_PER & EMP\\_DC & AT & 2012 & 1.0 \\\\\n",
       "\t18 & PCH\\_PRE\\_PER & EMP\\_DC & AT & 2013 & 0.3 \\\\\n",
       "\t19 & PCH\\_PRE\\_PER & EMP\\_DC & AT & 2014 & 1.0 \\\\\n",
       "\t20 & PCH\\_PRE\\_PER & EMP\\_DC & AT & 2015 & 0.6 \\\\\n",
       "\t21 & PCH\\_PRE\\_PER & EMP\\_DC & AT & 2016 & 1.3 \\\\\n",
       "\t22 & PCH\\_PRE\\_PER & EMP\\_DC & AT & 2017 & 1.6 \\\\\n",
       "\t23 & PCH\\_PRE\\_PER & EMP\\_DC & AT & 2018 & 1.7 \\\\\n",
       "\t24 & PCH\\_PRE\\_PER & EMP\\_DC & AT & 2019 & 1.1 \\\\\n",
       "\t25 & PCH\\_PRE\\_PER & EMP\\_DC & AT & 2020 & -1.6 \\\\\n",
       "\t26 & PCH\\_PRE\\_PER & EMP\\_DC & AT & 2021 & 2.0 \\\\\n",
       "\t27 & PCH\\_PRE\\_PER & EMP\\_DC & AT & 2022 & 2.6 \\\\\n",
       "\t28 & PCH\\_PRE\\_PER & EMP\\_DC & AT & 2023 & 0.9 \\\\\n",
       "\t29 & PCH\\_PRE\\_PER & EMP\\_DC & BE & 1996 & 0.3 \\\\\n",
       "\t30 & PCH\\_PRE\\_PER & EMP\\_DC & BE & 1997 & 0.7 \\\\\n",
       "\t$\\dots$ & $\\dots$ & $\\dots$ & $\\dots$ & $\\dots$ & $\\dots$ \\\\\n",
       "\\end{tabular}\n"
      ],
      "text/plain": [
       "\u001b[1m15808×5 DataFrame\u001b[0m\n",
       "\u001b[1m   Row \u001b[0m│\u001b[1m unit        \u001b[0m\u001b[1m na_item \u001b[0m\u001b[1m geo      \u001b[0m\u001b[1m year  \u001b[0m\u001b[1m value    \u001b[0m\n",
       "       │\u001b[90m String15    \u001b[0m\u001b[90m String7 \u001b[0m\u001b[90m String15 \u001b[0m\u001b[90m Int64 \u001b[0m\u001b[90m Float64? \u001b[0m\n",
       "───────┼─────────────────────────────────────────────────\n",
       "     1 │ PCH_PRE_PER  EMP_DC   AT         1996       0.4\n",
       "     2 │ PCH_PRE_PER  EMP_DC   AT         1997       0.7\n",
       "     3 │ PCH_PRE_PER  EMP_DC   AT         1998       1.0\n",
       "     4 │ PCH_PRE_PER  EMP_DC   AT         1999       1.5\n",
       "     5 │ PCH_PRE_PER  EMP_DC   AT         2000       0.9\n",
       "     6 │ PCH_PRE_PER  EMP_DC   AT         2001       0.7\n",
       "     7 │ PCH_PRE_PER  EMP_DC   AT         2002      -0.1\n",
       "     8 │ PCH_PRE_PER  EMP_DC   AT         2003       0.7\n",
       "     9 │ PCH_PRE_PER  EMP_DC   AT         2004       0.6\n",
       "    10 │ PCH_PRE_PER  EMP_DC   AT         2005       1.2\n",
       "    11 │ PCH_PRE_PER  EMP_DC   AT         2006       1.8\n",
       "   ⋮   │      ⋮          ⋮        ⋮        ⋮       ⋮\n",
       " 15799 │ THS_PER      SELF_NC  UK         2010    4084.0\n",
       " 15800 │ THS_PER      SELF_NC  UK         2011    4158.0\n",
       " 15801 │ THS_PER      SELF_NC  UK         2012    4332.0\n",
       " 15802 │ THS_PER      SELF_NC  UK         2013    4372.0\n",
       " 15803 │ THS_PER      SELF_NC  UK         2014    4674.0\n",
       " 15804 │ THS_PER      SELF_NC  UK         2015    4679.0\n",
       " 15805 │ THS_PER      SELF_NC  UK         2016    4891.0\n",
       " 15806 │ THS_PER      SELF_NC  UK         2017    4914.0\n",
       " 15807 │ THS_PER      SELF_NC  UK         2018    4895.0\n",
       " 15808 │ THS_PER      SELF_NC  UK         2019    5094.0\n",
       "\u001b[36m                                       15787 rows omitted\u001b[0m"
      ]
     },
     "execution_count": 27,
     "metadata": {},
     "output_type": "execute_result"
    }
   ],
   "source": [
    "lab = @chain labour begin\n",
    "    @select(unit, na_item, geo, TIME_PERIOD,OBS_VALUE)\n",
    "    @rename(year=TIME_PERIOD, value=OBS_VALUE)\n",
    "end"
   ]
  },
  {
   "cell_type": "code",
   "execution_count": 28,
   "metadata": {},
   "outputs": [
    {
     "data": {
      "text/html": [
       "<div><div style = \"float: left;\"><span>29×2 DataFrame</span></div><div style = \"float: right;\"><span style = \"font-style: italic;\">4 rows omitted</span></div><div style = \"clear: both;\"></div></div><div class = \"data-frame\" style = \"overflow-x: scroll;\"><table class = \"data-frame\" style = \"margin-bottom: 6px;\"><thead><tr class = \"header\"><th class = \"rowNumber\" style = \"font-weight: bold; text-align: right;\">Row</th><th style = \"text-align: left;\">year</th><th style = \"text-align: left;\">emp</th></tr><tr class = \"subheader headerLastRow\"><th class = \"rowNumber\" style = \"font-weight: bold; text-align: right;\"></th><th title = \"Int64\" style = \"text-align: left;\">Int64</th><th title = \"Float64\" style = \"text-align: left;\">Float64</th></tr></thead><tbody><tr><td class = \"rowNumber\" style = \"font-weight: bold; text-align: right;\">1</td><td style = \"text-align: right;\">1995</td><td style = \"text-align: right;\">3518.57</td></tr><tr><td class = \"rowNumber\" style = \"font-weight: bold; text-align: right;\">2</td><td style = \"text-align: right;\">1996</td><td style = \"text-align: right;\">3614.98</td></tr><tr><td class = \"rowNumber\" style = \"font-weight: bold; text-align: right;\">3</td><td style = \"text-align: right;\">1997</td><td style = \"text-align: right;\">3503.91</td></tr><tr><td class = \"rowNumber\" style = \"font-weight: bold; text-align: right;\">4</td><td style = \"text-align: right;\">1998</td><td style = \"text-align: right;\">3467.92</td></tr><tr><td class = \"rowNumber\" style = \"font-weight: bold; text-align: right;\">5</td><td style = \"text-align: right;\">1999</td><td style = \"text-align: right;\">3318.15</td></tr><tr><td class = \"rowNumber\" style = \"font-weight: bold; text-align: right;\">6</td><td style = \"text-align: right;\">2000</td><td style = \"text-align: right;\">3239.2</td></tr><tr><td class = \"rowNumber\" style = \"font-weight: bold; text-align: right;\">7</td><td style = \"text-align: right;\">2001</td><td style = \"text-align: right;\">3214.74</td></tr><tr><td class = \"rowNumber\" style = \"font-weight: bold; text-align: right;\">8</td><td style = \"text-align: right;\">2002</td><td style = \"text-align: right;\">3222.12</td></tr><tr><td class = \"rowNumber\" style = \"font-weight: bold; text-align: right;\">9</td><td style = \"text-align: right;\">2003</td><td style = \"text-align: right;\">3317.39</td></tr><tr><td class = \"rowNumber\" style = \"font-weight: bold; text-align: right;\">10</td><td style = \"text-align: right;\">2004</td><td style = \"text-align: right;\">3403.4</td></tr><tr><td class = \"rowNumber\" style = \"font-weight: bold; text-align: right;\">11</td><td style = \"text-align: right;\">2005</td><td style = \"text-align: right;\">3495.27</td></tr><tr><td class = \"rowNumber\" style = \"font-weight: bold; text-align: right;\">12</td><td style = \"text-align: right;\">2006</td><td style = \"text-align: right;\">3612.04</td></tr><tr><td class = \"rowNumber\" style = \"font-weight: bold; text-align: right;\">13</td><td style = \"text-align: right;\">2007</td><td style = \"text-align: right;\">3726.74</td></tr><tr><td style = \"text-align: right;\">&vellip;</td><td style = \"text-align: right;\">&vellip;</td><td style = \"text-align: right;\">&vellip;</td></tr><tr><td class = \"rowNumber\" style = \"font-weight: bold; text-align: right;\">18</td><td style = \"text-align: right;\">2012</td><td style = \"text-align: right;\">3436.39</td></tr><tr><td class = \"rowNumber\" style = \"font-weight: bold; text-align: right;\">19</td><td style = \"text-align: right;\">2013</td><td style = \"text-align: right;\">3421.58</td></tr><tr><td class = \"rowNumber\" style = \"font-weight: bold; text-align: right;\">20</td><td style = \"text-align: right;\">2014</td><td style = \"text-align: right;\">3434.17</td></tr><tr><td class = \"rowNumber\" style = \"font-weight: bold; text-align: right;\">21</td><td style = \"text-align: right;\">2015</td><td style = \"text-align: right;\">3446.21</td></tr><tr><td class = \"rowNumber\" style = \"font-weight: bold; text-align: right;\">22</td><td style = \"text-align: right;\">2016</td><td style = \"text-align: right;\">3463.35</td></tr><tr><td class = \"rowNumber\" style = \"font-weight: bold; text-align: right;\">23</td><td style = \"text-align: right;\">2017</td><td style = \"text-align: right;\">3525.35</td></tr><tr><td class = \"rowNumber\" style = \"font-weight: bold; text-align: right;\">24</td><td style = \"text-align: right;\">2018</td><td style = \"text-align: right;\">3521.64</td></tr><tr><td class = \"rowNumber\" style = \"font-weight: bold; text-align: right;\">25</td><td style = \"text-align: right;\">2019</td><td style = \"text-align: right;\">3533.58</td></tr><tr><td class = \"rowNumber\" style = \"font-weight: bold; text-align: right;\">26</td><td style = \"text-align: right;\">2020</td><td style = \"text-align: right;\">3451.74</td></tr><tr><td class = \"rowNumber\" style = \"font-weight: bold; text-align: right;\">27</td><td style = \"text-align: right;\">2021</td><td style = \"text-align: right;\">3458.41</td></tr><tr><td class = \"rowNumber\" style = \"font-weight: bold; text-align: right;\">28</td><td style = \"text-align: right;\">2022</td><td style = \"text-align: right;\">3446.69</td></tr><tr><td class = \"rowNumber\" style = \"font-weight: bold; text-align: right;\">29</td><td style = \"text-align: right;\">2023</td><td style = \"text-align: right;\">3480.72</td></tr></tbody></table></div>"
      ],
      "text/latex": [
       "\\begin{tabular}{r|cc}\n",
       "\t& year & emp\\\\\n",
       "\t\\hline\n",
       "\t& Int64 & Float64\\\\\n",
       "\t\\hline\n",
       "\t1 & 1995 & 3518.57 \\\\\n",
       "\t2 & 1996 & 3614.98 \\\\\n",
       "\t3 & 1997 & 3503.91 \\\\\n",
       "\t4 & 1998 & 3467.92 \\\\\n",
       "\t5 & 1999 & 3318.15 \\\\\n",
       "\t6 & 2000 & 3239.2 \\\\\n",
       "\t7 & 2001 & 3214.74 \\\\\n",
       "\t8 & 2002 & 3222.12 \\\\\n",
       "\t9 & 2003 & 3317.39 \\\\\n",
       "\t10 & 2004 & 3403.4 \\\\\n",
       "\t11 & 2005 & 3495.27 \\\\\n",
       "\t12 & 2006 & 3612.04 \\\\\n",
       "\t13 & 2007 & 3726.74 \\\\\n",
       "\t14 & 2008 & 3814.65 \\\\\n",
       "\t15 & 2009 & 3749.3 \\\\\n",
       "\t16 & 2010 & 3603.89 \\\\\n",
       "\t17 & 2011 & 3524.55 \\\\\n",
       "\t18 & 2012 & 3436.39 \\\\\n",
       "\t19 & 2013 & 3421.58 \\\\\n",
       "\t20 & 2014 & 3434.17 \\\\\n",
       "\t21 & 2015 & 3446.21 \\\\\n",
       "\t22 & 2016 & 3463.35 \\\\\n",
       "\t23 & 2017 & 3525.35 \\\\\n",
       "\t24 & 2018 & 3521.64 \\\\\n",
       "\t25 & 2019 & 3533.58 \\\\\n",
       "\t26 & 2020 & 3451.74 \\\\\n",
       "\t27 & 2021 & 3458.41 \\\\\n",
       "\t28 & 2022 & 3446.69 \\\\\n",
       "\t29 & 2023 & 3480.72 \\\\\n",
       "\\end{tabular}\n"
      ],
      "text/plain": [
       "\u001b[1m29×2 DataFrame\u001b[0m\n",
       "\u001b[1m Row \u001b[0m│\u001b[1m year  \u001b[0m\u001b[1m emp     \u001b[0m\n",
       "     │\u001b[90m Int64 \u001b[0m\u001b[90m Float64 \u001b[0m\n",
       "─────┼────────────────\n",
       "   1 │  1995  3518.57\n",
       "   2 │  1996  3614.98\n",
       "   3 │  1997  3503.91\n",
       "   4 │  1998  3467.92\n",
       "   5 │  1999  3318.15\n",
       "   6 │  2000  3239.2\n",
       "   7 │  2001  3214.74\n",
       "   8 │  2002  3222.12\n",
       "   9 │  2003  3317.39\n",
       "  10 │  2004  3403.4\n",
       "  11 │  2005  3495.27\n",
       "  ⋮  │   ⋮       ⋮\n",
       "  20 │  2014  3434.17\n",
       "  21 │  2015  3446.21\n",
       "  22 │  2016  3463.35\n",
       "  23 │  2017  3525.35\n",
       "  24 │  2018  3521.64\n",
       "  25 │  2019  3533.58\n",
       "  26 │  2020  3451.74\n",
       "  27 │  2021  3458.41\n",
       "  28 │  2022  3446.69\n",
       "  29 │  2023  3480.72\n",
       "\u001b[36m        8 rows omitted\u001b[0m"
      ]
     },
     "execution_count": 28,
     "metadata": {},
     "output_type": "execute_result"
    }
   ],
   "source": [
    "bg_lab = @chain lab begin\n",
    "    @filter(geo == \"BG\", unit ==  \"THS_PER\", na_item == \"EMP_DC\")\n",
    "    @select(year,value)\n",
    "    @drop_missing()\n",
    "    @rename(emp = value)\n",
    "end"
   ]
  },
  {
   "cell_type": "markdown",
   "metadata": {},
   "source": [
    "## Combine output, investment and employment"
   ]
  },
  {
   "cell_type": "code",
   "execution_count": 29,
   "metadata": {},
   "outputs": [
    {
     "data": {
      "text/html": [
       "<div><div style = \"float: left;\"><span>29×4 DataFrame</span></div><div style = \"float: right;\"><span style = \"font-style: italic;\">4 rows omitted</span></div><div style = \"clear: both;\"></div></div><div class = \"data-frame\" style = \"overflow-x: scroll;\"><table class = \"data-frame\" style = \"margin-bottom: 6px;\"><thead><tr class = \"header\"><th class = \"rowNumber\" style = \"font-weight: bold; text-align: right;\">Row</th><th style = \"text-align: left;\">year</th><th style = \"text-align: left;\">gdp</th><th style = \"text-align: left;\">inv</th><th style = \"text-align: left;\">emp</th></tr><tr class = \"subheader headerLastRow\"><th class = \"rowNumber\" style = \"font-weight: bold; text-align: right;\"></th><th title = \"Int64\" style = \"text-align: left;\">Int64</th><th title = \"Union{Missing, Float64}\" style = \"text-align: left;\">Float64?</th><th title = \"Union{Missing, Float64}\" style = \"text-align: left;\">Float64?</th><th title = \"Float64\" style = \"text-align: left;\">Float64</th></tr></thead><tbody><tr><td class = \"rowNumber\" style = \"font-weight: bold; text-align: right;\">1</td><td style = \"text-align: right;\">1995</td><td style = \"text-align: right;\">53253.3</td><td style = \"text-align: right;\">4874.4</td><td style = \"text-align: right;\">3518.57</td></tr><tr><td class = \"rowNumber\" style = \"font-weight: bold; text-align: right;\">2</td><td style = \"text-align: right;\">1996</td><td style = \"text-align: right;\">56025.4</td><td style = \"text-align: right;\">1575.2</td><td style = \"text-align: right;\">3614.98</td></tr><tr><td class = \"rowNumber\" style = \"font-weight: bold; text-align: right;\">3</td><td style = \"text-align: right;\">1997</td><td style = \"text-align: right;\">48117.2</td><td style = \"text-align: right;\">3945.4</td><td style = \"text-align: right;\">3503.91</td></tr><tr><td class = \"rowNumber\" style = \"font-weight: bold; text-align: right;\">4</td><td style = \"text-align: right;\">1998</td><td style = \"text-align: right;\">49940.4</td><td style = \"text-align: right;\">5232.7</td><td style = \"text-align: right;\">3467.92</td></tr><tr><td class = \"rowNumber\" style = \"font-weight: bold; text-align: right;\">5</td><td style = \"text-align: right;\">1999</td><td style = \"text-align: right;\">45747.3</td><td style = \"text-align: right;\">6404.1</td><td style = \"text-align: right;\">3318.15</td></tr><tr><td class = \"rowNumber\" style = \"font-weight: bold; text-align: right;\">6</td><td style = \"text-align: right;\">2000</td><td style = \"text-align: right;\">47845.9</td><td style = \"text-align: right;\">7459.4</td><td style = \"text-align: right;\">3239.2</td></tr><tr><td class = \"rowNumber\" style = \"font-weight: bold; text-align: right;\">7</td><td style = \"text-align: right;\">2001</td><td style = \"text-align: right;\">49675.4</td><td style = \"text-align: right;\">8938.7</td><td style = \"text-align: right;\">3214.74</td></tr><tr><td class = \"rowNumber\" style = \"font-weight: bold; text-align: right;\">8</td><td style = \"text-align: right;\">2002</td><td style = \"text-align: right;\">52592.3</td><td style = \"text-align: right;\">9665.9</td><td style = \"text-align: right;\">3222.12</td></tr><tr><td class = \"rowNumber\" style = \"font-weight: bold; text-align: right;\">9</td><td style = \"text-align: right;\">2003</td><td style = \"text-align: right;\">55346.6</td><td style = \"text-align: right;\">10908.3</td><td style = \"text-align: right;\">3317.39</td></tr><tr><td class = \"rowNumber\" style = \"font-weight: bold; text-align: right;\">10</td><td style = \"text-align: right;\">2004</td><td style = \"text-align: right;\">58949.9</td><td style = \"text-align: right;\">12412.2</td><td style = \"text-align: right;\">3403.4</td></tr><tr><td class = \"rowNumber\" style = \"font-weight: bold; text-align: right;\">11</td><td style = \"text-align: right;\">2005</td><td style = \"text-align: right;\">63109.6</td><td style = \"text-align: right;\">15730.4</td><td style = \"text-align: right;\">3495.27</td></tr><tr><td class = \"rowNumber\" style = \"font-weight: bold; text-align: right;\">12</td><td style = \"text-align: right;\">2006</td><td style = \"text-align: right;\">67402.7</td><td style = \"text-align: right;\">17767.6</td><td style = \"text-align: right;\">3612.04</td></tr><tr><td class = \"rowNumber\" style = \"font-weight: bold; text-align: right;\">13</td><td style = \"text-align: right;\">2007</td><td style = \"text-align: right;\">71887.9</td><td style = \"text-align: right;\">20087.3</td><td style = \"text-align: right;\">3726.74</td></tr><tr><td style = \"text-align: right;\">&vellip;</td><td style = \"text-align: right;\">&vellip;</td><td style = \"text-align: right;\">&vellip;</td><td style = \"text-align: right;\">&vellip;</td><td style = \"text-align: right;\">&vellip;</td></tr><tr><td class = \"rowNumber\" style = \"font-weight: bold; text-align: right;\">18</td><td style = \"text-align: right;\">2012</td><td style = \"text-align: right;\">77025.4</td><td style = \"text-align: right;\">16169.5</td><td style = \"text-align: right;\">3436.39</td></tr><tr><td class = \"rowNumber\" style = \"font-weight: bold; text-align: right;\">19</td><td style = \"text-align: right;\">2013</td><td style = \"text-align: right;\">76607.3</td><td style = \"text-align: right;\">16257.5</td><td style = \"text-align: right;\">3421.58</td></tr><tr><td class = \"rowNumber\" style = \"font-weight: bold; text-align: right;\">20</td><td style = \"text-align: right;\">2014</td><td style = \"text-align: right;\">77334.7</td><td style = \"text-align: right;\">16823.0</td><td style = \"text-align: right;\">3434.17</td></tr><tr><td class = \"rowNumber\" style = \"font-weight: bold; text-align: right;\">21</td><td style = \"text-align: right;\">2015</td><td style = \"text-align: right;\">79962.1</td><td style = \"text-align: right;\">17269.8</td><td style = \"text-align: right;\">3446.21</td></tr><tr><td class = \"rowNumber\" style = \"font-weight: bold; text-align: right;\">22</td><td style = \"text-align: right;\">2016</td><td style = \"text-align: right;\">82382.3</td><td style = \"text-align: right;\">16125.5</td><td style = \"text-align: right;\">3463.35</td></tr><tr><td class = \"rowNumber\" style = \"font-weight: bold; text-align: right;\">23</td><td style = \"text-align: right;\">2017</td><td style = \"text-align: right;\">84644.5</td><td style = \"text-align: right;\">16646.5</td><td style = \"text-align: right;\">3525.35</td></tr><tr><td class = \"rowNumber\" style = \"font-weight: bold; text-align: right;\">24</td><td style = \"text-align: right;\">2018</td><td style = \"text-align: right;\">86925.6</td><td style = \"text-align: right;\">17546.0</td><td style = \"text-align: right;\">3521.64</td></tr><tr><td class = \"rowNumber\" style = \"font-weight: bold; text-align: right;\">25</td><td style = \"text-align: right;\">2019</td><td style = \"text-align: right;\">90433.2</td><td style = \"text-align: right;\">18340.7</td><td style = \"text-align: right;\">3533.58</td></tr><tr><td class = \"rowNumber\" style = \"font-weight: bold; text-align: right;\">26</td><td style = \"text-align: right;\">2020</td><td style = \"text-align: right;\">86846.4</td><td style = \"text-align: right;\">18449.8</td><td style = \"text-align: right;\">3451.74</td></tr><tr><td class = \"rowNumber\" style = \"font-weight: bold; text-align: right;\">27</td><td style = \"text-align: right;\">2021</td><td style = \"text-align: right;\">93500.4</td><td style = \"text-align: right;\">16913.0</td><td style = \"text-align: right;\">3458.41</td></tr><tr><td class = \"rowNumber\" style = \"font-weight: bold; text-align: right;\">28</td><td style = \"text-align: right;\">2022</td><td style = \"text-align: right;\">97171.6</td><td style = \"text-align: right;\">18011.1</td><td style = \"text-align: right;\">3446.69</td></tr><tr><td class = \"rowNumber\" style = \"font-weight: bold; text-align: right;\">29</td><td style = \"text-align: right;\">2023</td><td style = \"text-align: right;\">98965.8</td><td style = \"text-align: right;\">18610.0</td><td style = \"text-align: right;\">3480.72</td></tr></tbody></table></div>"
      ],
      "text/latex": [
       "\\begin{tabular}{r|cccc}\n",
       "\t& year & gdp & inv & emp\\\\\n",
       "\t\\hline\n",
       "\t& Int64 & Float64? & Float64? & Float64\\\\\n",
       "\t\\hline\n",
       "\t1 & 1995 & 53253.3 & 4874.4 & 3518.57 \\\\\n",
       "\t2 & 1996 & 56025.4 & 1575.2 & 3614.98 \\\\\n",
       "\t3 & 1997 & 48117.2 & 3945.4 & 3503.91 \\\\\n",
       "\t4 & 1998 & 49940.4 & 5232.7 & 3467.92 \\\\\n",
       "\t5 & 1999 & 45747.3 & 6404.1 & 3318.15 \\\\\n",
       "\t6 & 2000 & 47845.9 & 7459.4 & 3239.2 \\\\\n",
       "\t7 & 2001 & 49675.4 & 8938.7 & 3214.74 \\\\\n",
       "\t8 & 2002 & 52592.3 & 9665.9 & 3222.12 \\\\\n",
       "\t9 & 2003 & 55346.6 & 10908.3 & 3317.39 \\\\\n",
       "\t10 & 2004 & 58949.9 & 12412.2 & 3403.4 \\\\\n",
       "\t11 & 2005 & 63109.6 & 15730.4 & 3495.27 \\\\\n",
       "\t12 & 2006 & 67402.7 & 17767.6 & 3612.04 \\\\\n",
       "\t13 & 2007 & 71887.9 & 20087.3 & 3726.74 \\\\\n",
       "\t14 & 2008 & 76294.3 & 24499.7 & 3814.65 \\\\\n",
       "\t15 & 2009 & 73740.7 & 20169.9 & 3749.3 \\\\\n",
       "\t16 & 2010 & 74887.6 & 16611.7 & 3603.89 \\\\\n",
       "\t17 & 2011 & 76452.9 & 15880.4 & 3524.55 \\\\\n",
       "\t18 & 2012 & 77025.4 & 16169.5 & 3436.39 \\\\\n",
       "\t19 & 2013 & 76607.3 & 16257.5 & 3421.58 \\\\\n",
       "\t20 & 2014 & 77334.7 & 16823.0 & 3434.17 \\\\\n",
       "\t21 & 2015 & 79962.1 & 17269.8 & 3446.21 \\\\\n",
       "\t22 & 2016 & 82382.3 & 16125.5 & 3463.35 \\\\\n",
       "\t23 & 2017 & 84644.5 & 16646.5 & 3525.35 \\\\\n",
       "\t24 & 2018 & 86925.6 & 17546.0 & 3521.64 \\\\\n",
       "\t25 & 2019 & 90433.2 & 18340.7 & 3533.58 \\\\\n",
       "\t26 & 2020 & 86846.4 & 18449.8 & 3451.74 \\\\\n",
       "\t27 & 2021 & 93500.4 & 16913.0 & 3458.41 \\\\\n",
       "\t28 & 2022 & 97171.6 & 18011.1 & 3446.69 \\\\\n",
       "\t29 & 2023 & 98965.8 & 18610.0 & 3480.72 \\\\\n",
       "\\end{tabular}\n"
      ],
      "text/plain": [
       "\u001b[1m29×4 DataFrame\u001b[0m\n",
       "\u001b[1m Row \u001b[0m│\u001b[1m year  \u001b[0m\u001b[1m gdp      \u001b[0m\u001b[1m inv      \u001b[0m\u001b[1m emp     \u001b[0m\n",
       "     │\u001b[90m Int64 \u001b[0m\u001b[90m Float64? \u001b[0m\u001b[90m Float64? \u001b[0m\u001b[90m Float64 \u001b[0m\n",
       "─────┼────────────────────────────────────\n",
       "   1 │  1995   53253.3    4874.4  3518.57\n",
       "   2 │  1996   56025.4    1575.2  3614.98\n",
       "   3 │  1997   48117.2    3945.4  3503.91\n",
       "   4 │  1998   49940.4    5232.7  3467.92\n",
       "   5 │  1999   45747.3    6404.1  3318.15\n",
       "   6 │  2000   47845.9    7459.4  3239.2\n",
       "   7 │  2001   49675.4    8938.7  3214.74\n",
       "   8 │  2002   52592.3    9665.9  3222.12\n",
       "   9 │  2003   55346.6   10908.3  3317.39\n",
       "  10 │  2004   58949.9   12412.2  3403.4\n",
       "  11 │  2005   63109.6   15730.4  3495.27\n",
       "  ⋮  │   ⋮       ⋮         ⋮         ⋮\n",
       "  20 │  2014   77334.7   16823.0  3434.17\n",
       "  21 │  2015   79962.1   17269.8  3446.21\n",
       "  22 │  2016   82382.3   16125.5  3463.35\n",
       "  23 │  2017   84644.5   16646.5  3525.35\n",
       "  24 │  2018   86925.6   17546.0  3521.64\n",
       "  25 │  2019   90433.2   18340.7  3533.58\n",
       "  26 │  2020   86846.4   18449.8  3451.74\n",
       "  27 │  2021   93500.4   16913.0  3458.41\n",
       "  28 │  2022   97171.6   18011.1  3446.69\n",
       "  29 │  2023   98965.8   18610.0  3480.72\n",
       "\u001b[36m                            8 rows omitted\u001b[0m"
      ]
     },
     "execution_count": 29,
     "metadata": {},
     "output_type": "execute_result"
    }
   ],
   "source": [
    "gracc = @chain bg_nat_acc begin\n",
    "    @inner_join(bg_lab)\n",
    "end"
   ]
  },
  {
   "cell_type": "markdown",
   "metadata": {},
   "source": [
    "### Perpetual inventory method\n",
    "\n"
   ]
  }
 ],
 "metadata": {
  "kernelspec": {
   "display_name": "Julia 1.10.1",
   "language": "julia",
   "name": "julia-1.10"
  },
  "language_info": {
   "file_extension": ".jl",
   "mimetype": "application/julia",
   "name": "julia",
   "version": "1.10.1"
  }
 },
 "nbformat": 4,
 "nbformat_minor": 4
}
