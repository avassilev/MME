{
 "cells": [
  {
   "cell_type": "markdown",
   "metadata": {},
   "source": [
    "# Data processing and empirical modelling"
   ]
  },
  {
   "cell_type": "markdown",
   "metadata": {},
   "source": [
    "## Processing data in Julia\n",
    "\n",
    "Different approaches are possible. We'll be using elements of [Tidier.jl](https://tidierorg.github.io/Tidier.jl/dev/), which mirrors a subset of the popular [Tidyverse](https://www.tidyverse.org/) collection of R packages."
   ]
  },
  {
   "cell_type": "code",
   "execution_count": null,
   "metadata": {},
   "outputs": [],
   "source": [
    "using Tidier"
   ]
  },
  {
   "cell_type": "markdown",
   "metadata": {},
   "source": [
    "### Reading in datasets"
   ]
  },
  {
   "cell_type": "code",
   "execution_count": null,
   "metadata": {},
   "outputs": [],
   "source": [
    "sales = read_csv(\"datasets/sales.csv\")"
   ]
  },
  {
   "cell_type": "code",
   "execution_count": null,
   "metadata": {
    "scrolled": true
   },
   "outputs": [],
   "source": [
    "customers = read_csv(\"datasets/customers.csv\")"
   ]
  },
  {
   "cell_type": "markdown",
   "metadata": {},
   "source": [
    "### Selecting variables"
   ]
  },
  {
   "cell_type": "code",
   "execution_count": null,
   "metadata": {},
   "outputs": [],
   "source": [
    "sls = @chain sales begin\n",
    "    @select(Product_ID,Product_Name,Unit_Price,Revenue,Units_Sold)\n",
    "end"
   ]
  },
  {
   "cell_type": "code",
   "execution_count": null,
   "metadata": {},
   "outputs": [],
   "source": [
    "# Also possible\n",
    "@select(sales, Product_ID,Product_Name,Unit_Price,Revenue,Units_Sold)"
   ]
  },
  {
   "cell_type": "code",
   "execution_count": null,
   "metadata": {},
   "outputs": [],
   "source": [
    "@chain sales begin\n",
    "    @select(-Customer_ID) # exclude a column\n",
    "end"
   ]
  },
  {
   "cell_type": "code",
   "execution_count": null,
   "metadata": {},
   "outputs": [],
   "source": [
    "@chain sales begin\n",
    "    @select(Category:Revenue) # select a subset of columns using a slice\n",
    "end"
   ]
  },
  {
   "cell_type": "markdown",
   "metadata": {
    "scrolled": true
   },
   "source": [
    "### Filtering and slicing data. Renaming variables"
   ]
  },
  {
   "cell_type": "code",
   "execution_count": null,
   "metadata": {
    "scrolled": true
   },
   "outputs": [],
   "source": [
    "@chain sales begin\n",
    "    @filter(Category == \"Electronics\", Revenue >= 100000)\n",
    "    @rename(Price = Unit_Price, Units = Units_Sold)\n",
    "end"
   ]
  },
  {
   "cell_type": "code",
   "execution_count": null,
   "metadata": {},
   "outputs": [],
   "source": [
    "@chain sales begin\n",
    "    @slice(1:2,5)\n",
    "end"
   ]
  },
  {
   "cell_type": "markdown",
   "metadata": {},
   "source": [
    "### Mutating variables"
   ]
  },
  {
   "cell_type": "code",
   "execution_count": null,
   "metadata": {},
   "outputs": [],
   "source": [
    "sls = @chain sls begin\n",
    "        @mutate(P = Revenue/Units_Sold)\n",
    "        @mutate(check = P - Unit_Price)\n",
    "end"
   ]
  },
  {
   "cell_type": "code",
   "execution_count": null,
   "metadata": {
    "scrolled": true
   },
   "outputs": [],
   "source": [
    "@chain sls begin\n",
    "        @transmute(problem = check!=0)\n",
    "end"
   ]
  },
  {
   "cell_type": "markdown",
   "metadata": {},
   "source": [
    "### Joins"
   ]
  },
  {
   "cell_type": "code",
   "execution_count": null,
   "metadata": {},
   "outputs": [],
   "source": [
    "# left_join: first dataframe is the \"leading\" one\n",
    "\n",
    "@left_join(sales,customers)"
   ]
  },
  {
   "cell_type": "code",
   "execution_count": null,
   "metadata": {},
   "outputs": [],
   "source": [
    "# right_join: second dataframe is the \"leading\" one\n",
    "\n",
    "@right_join(sales, customers) "
   ]
  },
  {
   "cell_type": "code",
   "execution_count": null,
   "metadata": {
    "scrolled": true
   },
   "outputs": [],
   "source": [
    "# inner_join: on common keys, here happens to be the same as the left_join\n",
    "\n",
    "@inner_join(sales, customers) "
   ]
  },
  {
   "cell_type": "code",
   "execution_count": null,
   "metadata": {},
   "outputs": [],
   "source": [
    "# we need an interpolation tweak to get that to work inside a chain: note the @eval macro and the dollar sign\n",
    "\n",
    "@eval @chain sales begin\n",
    "    @left_join($customers) # the common key is automatically discovered\n",
    "end"
   ]
  },
  {
   "cell_type": "markdown",
   "metadata": {},
   "source": [
    "### Groupby and summarize operations"
   ]
  },
  {
   "cell_type": "code",
   "execution_count": null,
   "metadata": {},
   "outputs": [],
   "source": [
    "@chain sales begin\n",
    "    @group_by(Category)\n",
    "    @mutate(avgP = mean(Unit_Price))\n",
    "    @ungroup()\n",
    "end"
   ]
  },
  {
   "cell_type": "code",
   "execution_count": null,
   "metadata": {},
   "outputs": [],
   "source": [
    "@chain sales begin\n",
    "    @summarize(maxrev = maximum(Revenue), minP = minimum(Unit_Price))\n",
    "end"
   ]
  },
  {
   "cell_type": "code",
   "execution_count": null,
   "metadata": {
    "scrolled": true
   },
   "outputs": [],
   "source": [
    "@chain sales begin\n",
    "    @group_by(Customer_ID)\n",
    "    @summarize(maxrev = maximum(Revenue), minP = minimum(Unit_Price))\n",
    "end"
   ]
  },
  {
   "cell_type": "markdown",
   "metadata": {},
   "source": [
    "### Pivot_wider and pivot_longer"
   ]
  },
  {
   "cell_type": "code",
   "execution_count": null,
   "metadata": {},
   "outputs": [],
   "source": [
    "@chain sales begin\n",
    "    @select(Product_Name, Units_Sold)\n",
    "    @pivot_wider(names_from = Product_Name, values_from = Units_Sold)\n",
    "end"
   ]
  },
  {
   "cell_type": "code",
   "execution_count": null,
   "metadata": {},
   "outputs": [],
   "source": [
    "@chain sales begin\n",
    "    @select(Product_ID, Category, Units_Sold)\n",
    "    @pivot_wider(names_from = Category, values_from = Units_Sold)\n",
    "end"
   ]
  },
  {
   "cell_type": "code",
   "execution_count": null,
   "metadata": {},
   "outputs": [],
   "source": [
    "@chain sales begin\n",
    "    @select(Customer_ID, Unit_Price, Units_Sold)\n",
    "    @pivot_longer(Unit_Price:Units_Sold, names_to = \"type\", values_to = \"value\")\n",
    "end"
   ]
  },
  {
   "cell_type": "markdown",
   "metadata": {},
   "source": [
    "# Growth accounting\n",
    "\n",
    "Consider a two-factor Cobb-Douglas production function of the form\n",
    "$$ Y_t = A_t K_t^\\alpha L_t^{1-\\alpha} $$\n",
    "\n",
    "Here $Y_t$ is output (real GDP) in period $t$, $L_t$ is employment, $K_t$ is the capital stock and $A_t$ is total factor productivity (technology). The parameter $\\alpha$ is assumed to be known or is obtained through a separate calculation. Typical estimates are derived from national accounts data and can range from 0.3 to 0.45.\n",
    "\n",
    "Data for $Y_t$ and $L_t$ is directly available from statistical sources (e.g. Eurostat). \n",
    "\n",
    "While data on $K_t$ is not published directly, there are techniques to reconstruct the capital stock under appropriate assumptions.\n",
    "\n",
    "Then, TFP can be computed as a residual, e.g.\n",
    "$$ \\ln Y_t = \\ln A_t + \\alpha \\ln K_t + (1-\\alpha) \\ln L_t ~\\Rightarrow~ a_t = y_t - \\alpha k_t -(1-\\alpha)l_t,$$\n",
    "where lower-case letters denote logs. This is known as the **Solow residual**.\n",
    "\n",
    "Because a production function approach provides only an approximation to the real world, what actually happens is that $A_t$, measured as a residual picks up a lot of other influences, so it can't directly be interpreted as a measure of technology. This makes it interesting and a subject to independent analyses."
   ]
  },
  {
   "cell_type": "code",
   "execution_count": null,
   "metadata": {},
   "outputs": [],
   "source": [
    "using Plots # Import here to speed up module loading"
   ]
  },
  {
   "cell_type": "markdown",
   "metadata": {},
   "source": [
    "## Data retrieval"
   ]
  },
  {
   "cell_type": "code",
   "execution_count": null,
   "metadata": {},
   "outputs": [],
   "source": [
    "using HTTP\n",
    "\n",
    "# dataset_id = \"nama_10_gdp\"\n",
    "dataset_id = \"nama_10_pe\"\n",
    "url = \"https://ec.europa.eu/eurostat/api/dissemination/sdmx/2.1/data/$(dataset_id)/?format=SDMX-CSV&compressed=true\"\n",
    "\n",
    "local_file = \"datasets/$(dataset_id).csv.gz\"\n",
    "\n",
    "response = HTTP.get(url)  \n",
    "open(local_file, \"w\") do file\n",
    "    write(file, response.body)\n",
    "end"
   ]
  },
  {
   "cell_type": "markdown",
   "metadata": {},
   "source": [
    "## Process data on GDP and components"
   ]
  },
  {
   "cell_type": "code",
   "execution_count": null,
   "metadata": {},
   "outputs": [],
   "source": [
    "natl_acc = read_csv(\"datasets/nama_10_gdp.csv.gz\")"
   ]
  },
  {
   "cell_type": "code",
   "execution_count": null,
   "metadata": {},
   "outputs": [],
   "source": [
    "nat_acc = @chain natl_acc begin\n",
    "    @select(unit, na_item, geo, TIME_PERIOD,OBS_VALUE)\n",
    "    @rename(year=TIME_PERIOD, value=OBS_VALUE)\n",
    "end"
   ]
  },
  {
   "cell_type": "code",
   "execution_count": null,
   "metadata": {},
   "outputs": [],
   "source": [
    "country = \"SE\"\n",
    "\n",
    "country_nat_acc = @eval @chain nat_acc begin\n",
    "    @filter(geo == $country, unit == \"CLV10_MNAC\", na_item in (\"B1GQ\", \"P51G\"))\n",
    "    @select(na_item,year,value)\n",
    "    @drop_missing()\n",
    "    @pivot_wider(names_from = na_item, values_from = value)\n",
    "    @rename(gdp = B1GQ, inv = P51G)\n",
    "end"
   ]
  },
  {
   "cell_type": "markdown",
   "metadata": {},
   "source": [
    "## Process data on employment"
   ]
  },
  {
   "cell_type": "code",
   "execution_count": null,
   "metadata": {},
   "outputs": [],
   "source": [
    "labour = read_csv(\"datasets/nama_10_pe.csv.gz\")"
   ]
  },
  {
   "cell_type": "code",
   "execution_count": null,
   "metadata": {},
   "outputs": [],
   "source": [
    "lab = @chain labour begin\n",
    "    @select(unit, na_item, geo, TIME_PERIOD,OBS_VALUE)\n",
    "    @rename(year=TIME_PERIOD, value=OBS_VALUE)\n",
    "end"
   ]
  },
  {
   "cell_type": "code",
   "execution_count": null,
   "metadata": {},
   "outputs": [],
   "source": [
    "country_lab = @eval @chain lab begin\n",
    "    @filter(geo == $country, unit ==  \"THS_PER\", na_item == \"EMP_DC\")\n",
    "    @select(year,value)\n",
    "    @drop_missing()\n",
    "    @rename(emp = value)\n",
    "end"
   ]
  },
  {
   "cell_type": "markdown",
   "metadata": {},
   "source": [
    "## Combine output, investment and employment"
   ]
  },
  {
   "cell_type": "code",
   "execution_count": null,
   "metadata": {
    "scrolled": true
   },
   "outputs": [],
   "source": [
    "gracc = @eval @chain country_nat_acc begin\n",
    "    @inner_join($country_lab)\n",
    "end"
   ]
  },
  {
   "cell_type": "markdown",
   "metadata": {},
   "source": [
    "### Perpetual inventory method\n",
    "\n",
    "Typically, there is no data on the capital stock in an economy, so it has to be constructed or estimated under certain assumptions. The **perpetual inventory method** provides one possible approach. This method relies on the accumulation of past investments while accounting for depreciation, ensuring a continuous update of the capital stock over time.\n",
    "\n",
    "The capital evolution equation is the standard one\n",
    "\n",
    "$$ K_{t+1} = (1-\\delta)K_t + I_t ,$$\n",
    "\n",
    "where $K_t$ is the initial capital stock for period $t$, $I_t$ is the investment (gross fixed capital formation) in real terms for the period and $\\delta$ is the depreciation rate.\n",
    "\n",
    "To use the above equation, we need to estimate the capital stock for a chosen period. The simplest approach is to choose an initial period and apply the formula\n",
    "\n",
    "$$ K_0 = \\frac{I_0}{\\bar{\\gamma}_I + \\delta}, $$\n",
    "\n",
    "where $\\bar{\\gamma}_I$ is the long-term average growth of investment.\n",
    "\n",
    "The above formula is a corollary of a setup where the economy is assumed to be on a steady-state path. Along such a path GDP and capital grow at one and the same rate. Then the capital evolution equation implies that\n",
    "\n",
    "$$ \\frac{K_{t+1}-K_t}{K_t} = \\frac{I_t}{K_t} - \\delta \\qquad \\Rightarrow \\qquad K_t = \\frac{I_t}{\\gamma_{Y} + \\delta}, $$\n",
    "\n",
    "where $\\gamma_{Y}$ is the growth rate of GDP (and therefore of capital).\n",
    "\n",
    "Further research has argued that this approach can be extended to apply even out of equilibrium if $\\gamma_{Y}$ is replaced by the long-term average growth of investment $\\bar{\\gamma}_I$, leading to the above formula."
   ]
  },
  {
   "cell_type": "code",
   "execution_count": null,
   "metadata": {},
   "outputs": [],
   "source": [
    "country_coefs = @eval @chain nat_acc begin\n",
    "    @filter(geo == $country, unit == \"CP_MEUR\", na_item in (\"B1GQ\", \"B2A3G\"))\n",
    "    @select(na_item,year,value)\n",
    "    @drop_missing()\n",
    "    @pivot_wider(names_from = na_item, values_from = value)\n",
    "    @rename(gdp = B1GQ, gos = B2A3G)\n",
    "    @mutate(alpha = gos/gdp)\n",
    "end\n",
    "\n",
    "α = country_coefs.alpha |> mean"
   ]
  },
  {
   "cell_type": "code",
   "execution_count": null,
   "metadata": {
    "scrolled": true
   },
   "outputs": [],
   "source": [
    "δ = 0.05\n",
    "inv = gracc[:,:inv]\n",
    "γ_I = mean([inv[t]/inv[t-1]-1 for t in 2:length(inv)])\n",
    "K0 = inv[1]/(γ_I+δ)\n",
    "\n",
    "K = zeros(size(inv))\n",
    "K[1] = K0\n",
    "for t in 2:length(inv)\n",
    "    K[t] = (1-δ)*K[t-1] + inv[t-1]\n",
    "end\n",
    "\n",
    "ga = @eval @chain gracc begin\n",
    "    @mutate(\n",
    "        y = Base.log(gdp),\n",
    "        k = Base.log($K),\n",
    "        l = Base.log(emp)\n",
    "    )\n",
    "    @select(year,y,k,l)\n",
    "    @mutate(a = y - $α*k - (1-$α)*l)\n",
    "end"
   ]
  },
  {
   "cell_type": "code",
   "execution_count": null,
   "metadata": {
    "scrolled": true
   },
   "outputs": [],
   "source": [
    "using Plots\n",
    "plot(ga.year, ga.a, legend = false, ylabel = \"a\")"
   ]
  },
  {
   "cell_type": "code",
   "execution_count": null,
   "metadata": {
    "scrolled": true
   },
   "outputs": [],
   "source": [
    "α_cal = 0.4\n",
    "δ = 0.05\n",
    "inv = gracc[:,:inv]\n",
    "γ_I = mean([inv[t]/inv[t-1]-1 for t in 2:length(inv)])\n",
    "K0 = inv[1]/(γ_I+δ)\n",
    "\n",
    "K = zeros(size(inv))\n",
    "K[1] = K0\n",
    "for t in 2:length(inv)\n",
    "    K[t] = (1-δ)*K[t-1] + inv[t-1]\n",
    "end\n",
    "\n",
    "ga_cal = @eval @chain gracc begin\n",
    "    @mutate(\n",
    "        y = Base.log(gdp),\n",
    "        k = Base.log($K),\n",
    "        l = Base.log(emp)\n",
    "    )\n",
    "    @select(year,y,k,l)\n",
    "    @mutate(a = y - $α_cal*k - (1-$α_cal)*l)\n",
    "end\n",
    "\n"
   ]
  },
  {
   "cell_type": "code",
   "execution_count": null,
   "metadata": {
    "scrolled": true
   },
   "outputs": [],
   "source": [
    "using Plots\n",
    "plot(ga.year,ga.a, legend = false, ylabel = \"a\")"
   ]
  }
 ],
 "metadata": {
  "kernelspec": {
   "display_name": "Julia 1.11.4",
   "language": "julia",
   "name": "julia-1.11"
  },
  "language_info": {
   "file_extension": ".jl",
   "mimetype": "application/julia",
   "name": "julia",
   "version": "1.11.4"
  }
 },
 "nbformat": 4,
 "nbformat_minor": 4
}
