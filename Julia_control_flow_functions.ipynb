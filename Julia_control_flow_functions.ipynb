{
 "cells": [
  {
   "cell_type": "markdown",
   "id": "8dd13e03-7bcf-40e7-9396-0a05c13fae1b",
   "metadata": {},
   "source": [
    "# Julia – control flow and functions"
   ]
  },
  {
   "cell_type": "markdown",
   "id": "08445918-f86b-44be-9058-0413b7098294",
   "metadata": {},
   "source": [
    "## Conditional execution"
   ]
  },
  {
   "cell_type": "code",
   "execution_count": null,
   "id": "04e2270a-632e-4542-b0dd-4ee63d6dccc0",
   "metadata": {},
   "outputs": [],
   "source": [
    "x = -5\n",
    "if x > 0\n",
    "    println(\"x is positive\")\n",
    "end"
   ]
  },
  {
   "cell_type": "code",
   "execution_count": null,
   "id": "07feaa25-92da-4309-9a24-1081d67151d8",
   "metadata": {},
   "outputs": [],
   "source": [
    "x = 5\n",
    "if x > 0\n",
    "    println(\"x is positive\")\n",
    "elseif x < 0\n",
    "    println(\"x is negative\")\n",
    "else\n",
    "    println(\"x is zero\")\n",
    "end"
   ]
  },
  {
   "cell_type": "code",
   "execution_count": null,
   "id": "d22de414-a6aa-46c0-8d36-5b21d31f2303",
   "metadata": {},
   "outputs": [],
   "source": [
    "x = 2\n",
    "if x > 0 && x ≤ 5\n",
    "    println(\"x is positive but small\")\n",
    "elseif x>5\n",
    "    println(\"x is positive\")\n",
    "elseif x < 0\n",
    "    println(\"x is negative\")\n",
    "else\n",
    "    println(\"x is zero\")\n",
    "end"
   ]
  },
  {
   "cell_type": "code",
   "execution_count": null,
   "id": "67c3dc9a-c760-42e6-aa71-2e52469b8024",
   "metadata": {},
   "outputs": [],
   "source": [
    "x = 1110\n",
    "if x >= 50 || x < -100\n",
    "    print(\"Wow, this is large in absolute value!\")\n",
    "end"
   ]
  },
  {
   "cell_type": "markdown",
   "id": "d67b5e2f-36e6-42e9-a6b1-ca6af8de61d5",
   "metadata": {},
   "source": [
    "#### The ternary operator"
   ]
  },
  {
   "cell_type": "markdown",
   "id": "9a78dbc1-effd-44c3-b6e6-68e8c249fa7a",
   "metadata": {},
   "source": [
    "`<logical_condition> ? <value_if_true> : <value_if_false>`"
   ]
  },
  {
   "cell_type": "code",
   "execution_count": null,
   "id": "293aebcf-edf6-4ddc-9596-a03b2d275f67",
   "metadata": {},
   "outputs": [],
   "source": [
    "y = 5 - 3im\n",
    "imag(y)!=0 ? \"complex\" : \"real\""
   ]
  },
  {
   "cell_type": "markdown",
   "id": "7e43bfd3-c55a-4ed2-9965-1772ac9192a5",
   "metadata": {},
   "source": [
    "## Compound expressions"
   ]
  },
  {
   "cell_type": "code",
   "execution_count": 15,
   "id": "fd4edda4-206e-444a-9f86-603fc5b5b565",
   "metadata": {},
   "outputs": [
    {
     "data": {
      "text/plain": [
       "105.0"
      ]
     },
     "execution_count": 15,
     "metadata": {},
     "output_type": "execute_result"
    }
   ],
   "source": [
    "y = begin\n",
    "    α = 5.\n",
    "    β = 10.\n",
    "    α + β^2 # the last evaluated expression is assigned to variable y\n",
    "end\n",
    "y"
   ]
  },
  {
   "cell_type": "code",
   "execution_count": 16,
   "id": "294dc561-1cc8-4cf3-99f6-7de094fe0e3e",
   "metadata": {},
   "outputs": [
    {
     "name": "stdout",
     "output_type": "stream",
     "text": [
      "5.0\n",
      "10.0\n"
     ]
    }
   ],
   "source": [
    "# α and β are visible in the global scope\n",
    "println(α)\n",
    "println(β)"
   ]
  },
  {
   "cell_type": "markdown",
   "id": "f9785b0c-8dd8-4a3b-b916-61ec9d605723",
   "metadata": {},
   "source": [
    "Also:"
   ]
  },
  {
   "cell_type": "code",
   "execution_count": 17,
   "id": "bdcebdb2-9b09-42a3-b47a-a10f534fc393",
   "metadata": {},
   "outputs": [
    {
     "data": {
      "text/plain": [
       "12.1"
      ]
     },
     "execution_count": 17,
     "metadata": {},
     "output_type": "execute_result"
    }
   ],
   "source": [
    "y = (α = 5.5; β = 6.6; α + β)"
   ]
  },
  {
   "cell_type": "markdown",
   "id": "05af0a74-50a9-4620-a29f-1efed068fe9b",
   "metadata": {},
   "source": [
    "## Loops"
   ]
  },
  {
   "cell_type": "markdown",
   "id": "16040dac-5135-4522-acf6-b1273428887e",
   "metadata": {},
   "source": [
    "### While loops"
   ]
  },
  {
   "cell_type": "code",
   "execution_count": null,
   "id": "46128397-4782-4ee0-b90d-ffed723ebb40",
   "metadata": {},
   "outputs": [],
   "source": [
    "# TODO"
   ]
  },
  {
   "cell_type": "markdown",
   "id": "21e74d41-38bf-47fa-b4c6-603ca4eb7e58",
   "metadata": {},
   "source": [
    "### For loops"
   ]
  },
  {
   "cell_type": "code",
   "execution_count": null,
   "id": "f40923cd-d17e-434a-b8ae-79e93ea83cd0",
   "metadata": {},
   "outputs": [],
   "source": [
    "# TODO"
   ]
  },
  {
   "cell_type": "markdown",
   "id": "0085b640-b751-4daa-99c0-051e382bada1",
   "metadata": {},
   "source": [
    "## Functions"
   ]
  },
  {
   "cell_type": "code",
   "execution_count": null,
   "id": "95333cb4-8fc2-41e7-bcc4-382de5a7dc5d",
   "metadata": {},
   "outputs": [],
   "source": [
    "# TODO"
   ]
  },
  {
   "cell_type": "code",
   "execution_count": null,
   "id": "01b8de4f-8a2f-4433-bc4a-96a3fd414d44",
   "metadata": {},
   "outputs": [],
   "source": [
    "# one-line functions"
   ]
  },
  {
   "cell_type": "code",
   "execution_count": null,
   "id": "4f732ecd-912c-47c9-9269-e4777689db85",
   "metadata": {},
   "outputs": [],
   "source": [
    "# anonymous functions"
   ]
  },
  {
   "cell_type": "code",
   "execution_count": null,
   "id": "5244fec8-f805-4aa3-92ef-8dd3a6807f16",
   "metadata": {},
   "outputs": [],
   "source": [
    "# named arguments, the use of the semicolon"
   ]
  },
  {
   "cell_type": "code",
   "execution_count": null,
   "id": "1664716a-6903-42ad-8ac5-559f9cbd0f3e",
   "metadata": {},
   "outputs": [],
   "source": [
    "# recursion"
   ]
  }
 ],
 "metadata": {
  "kernelspec": {
   "display_name": "Julia 1.8.2",
   "language": "julia",
   "name": "julia-1.8"
  },
  "language_info": {
   "file_extension": ".jl",
   "mimetype": "application/julia",
   "name": "julia",
   "version": "1.8.2"
  }
 },
 "nbformat": 4,
 "nbformat_minor": 5
}
