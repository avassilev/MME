{
 "cells": [
  {
   "cell_type": "markdown",
   "id": "8dd13e03-7bcf-40e7-9396-0a05c13fae1b",
   "metadata": {},
   "source": [
    "# Julia – control flow and functions"
   ]
  },
  {
   "cell_type": "markdown",
   "id": "08445918-f86b-44be-9058-0413b7098294",
   "metadata": {},
   "source": [
    "## Conditional execution"
   ]
  },
  {
   "cell_type": "code",
   "execution_count": null,
   "id": "04e2270a-632e-4542-b0dd-4ee63d6dccc0",
   "metadata": {},
   "outputs": [],
   "source": [
    "x = -5\n",
    "if x > 0\n",
    "    println(\"x is positive\")\n",
    "end"
   ]
  },
  {
   "cell_type": "code",
   "execution_count": null,
   "id": "07feaa25-92da-4309-9a24-1081d67151d8",
   "metadata": {},
   "outputs": [],
   "source": [
    "x = 5\n",
    "if x > 0\n",
    "    println(\"x is positive\")\n",
    "elseif x < 0\n",
    "    println(\"x is negative\")\n",
    "else\n",
    "    println(\"x is zero\")\n",
    "end"
   ]
  },
  {
   "cell_type": "code",
   "execution_count": null,
   "id": "d22de414-a6aa-46c0-8d36-5b21d31f2303",
   "metadata": {},
   "outputs": [],
   "source": [
    "x = 2\n",
    "if x > 0 && x ≤ 5\n",
    "    println(\"x is positive but small\")\n",
    "elseif x>5\n",
    "    println(\"x is positive\")\n",
    "elseif x < 0\n",
    "    println(\"x is negative\")\n",
    "else\n",
    "    println(\"x is zero\")\n",
    "end"
   ]
  },
  {
   "cell_type": "code",
   "execution_count": null,
   "id": "d3167645-febc-4f20-a7c0-c7a4d0ed1a78",
   "metadata": {},
   "outputs": [],
   "source": [
    "# another iteration on the same; note the first condition check\n",
    "x = 2\n",
    "if 0 < x ≤ 5\n",
    "    println(\"x is positive but small\")\n",
    "elseif x>5\n",
    "    println(\"x is positive\")\n",
    "elseif x < 0\n",
    "    println(\"x is negative\")\n",
    "else\n",
    "    println(\"x is zero\")\n",
    "end"
   ]
  },
  {
   "cell_type": "code",
   "execution_count": null,
   "id": "67c3dc9a-c760-42e6-aa71-2e52469b8024",
   "metadata": {},
   "outputs": [],
   "source": [
    "x = 1110\n",
    "if x >= 50 || x < -100\n",
    "    print(\"Wow, this is large in absolute value!\")\n",
    "end"
   ]
  },
  {
   "cell_type": "markdown",
   "id": "d67b5e2f-36e6-42e9-a6b1-ca6af8de61d5",
   "metadata": {},
   "source": [
    "#### The ternary operator"
   ]
  },
  {
   "cell_type": "markdown",
   "id": "9a78dbc1-effd-44c3-b6e6-68e8c249fa7a",
   "metadata": {},
   "source": [
    "`<logical_condition> ? <value_if_true> : <value_if_false>`"
   ]
  },
  {
   "cell_type": "code",
   "execution_count": null,
   "id": "293aebcf-edf6-4ddc-9596-a03b2d275f67",
   "metadata": {},
   "outputs": [],
   "source": [
    "y = 5 - 3im\n",
    "imag(y)!=0 ? \"complex\" : \"real\""
   ]
  },
  {
   "cell_type": "markdown",
   "id": "7e43bfd3-c55a-4ed2-9965-1772ac9192a5",
   "metadata": {},
   "source": [
    "## Compound expressions"
   ]
  },
  {
   "cell_type": "code",
   "execution_count": null,
   "id": "fd4edda4-206e-444a-9f86-603fc5b5b565",
   "metadata": {},
   "outputs": [],
   "source": [
    "y = begin\n",
    "    α = 5.\n",
    "    β = 10.\n",
    "    α + β^2 # the last evaluated expression is assigned to variable y\n",
    "end\n",
    "y"
   ]
  },
  {
   "cell_type": "code",
   "execution_count": null,
   "id": "294dc561-1cc8-4cf3-99f6-7de094fe0e3e",
   "metadata": {},
   "outputs": [],
   "source": [
    "# α and β are visible in the global scope\n",
    "println(α)\n",
    "println(β)"
   ]
  },
  {
   "cell_type": "markdown",
   "id": "f9785b0c-8dd8-4a3b-b916-61ec9d605723",
   "metadata": {},
   "source": [
    "Also:"
   ]
  },
  {
   "cell_type": "code",
   "execution_count": null,
   "id": "bdcebdb2-9b09-42a3-b47a-a10f534fc393",
   "metadata": {},
   "outputs": [],
   "source": [
    "y = (α = 5.5; β = 6.6; α + β)"
   ]
  },
  {
   "cell_type": "markdown",
   "id": "05af0a74-50a9-4620-a29f-1efed068fe9b",
   "metadata": {},
   "source": [
    "## Loops"
   ]
  },
  {
   "cell_type": "markdown",
   "id": "16040dac-5135-4522-acf6-b1273428887e",
   "metadata": {},
   "source": [
    "### While loops"
   ]
  },
  {
   "cell_type": "markdown",
   "id": "8d016fe3-11c4-49e8-89bd-69dbf06241f9",
   "metadata": {},
   "source": [
    "These work fine when the number of iterations is not known in advance."
   ]
  },
  {
   "cell_type": "code",
   "execution_count": null,
   "id": "46128397-4782-4ee0-b90d-ffed723ebb40",
   "metadata": {},
   "outputs": [],
   "source": [
    "inp = \"\"\n",
    "while inp != \"end\"\n",
    "    inp = readline()\n",
    "    println(inp)\n",
    "end"
   ]
  },
  {
   "cell_type": "markdown",
   "id": "65f74cf3-ee6a-4b90-8643-423de9aefe59",
   "metadata": {},
   "source": [
    "If you want to create a standard counting example:"
   ]
  },
  {
   "cell_type": "code",
   "execution_count": null,
   "id": "e5b7ead6-6c11-4d44-9526-e43b05cebdaf",
   "metadata": {},
   "outputs": [],
   "source": [
    "i=1\n",
    "while i ≤ 5\n",
    "    println(i)\n",
    "    i+=1 # note the updating operation\n",
    "end"
   ]
  },
  {
   "cell_type": "markdown",
   "id": "21e74d41-38bf-47fa-b4c6-603ca4eb7e58",
   "metadata": {},
   "source": [
    "### For loops"
   ]
  },
  {
   "cell_type": "code",
   "execution_count": null,
   "id": "f40923cd-d17e-434a-b8ae-79e93ea83cd0",
   "metadata": {},
   "outputs": [],
   "source": [
    "for i=1:5\n",
    "    println(\"Variable i now equals $i\")\n",
    "end"
   ]
  },
  {
   "cell_type": "code",
   "execution_count": null,
   "id": "8dc1ceb4-4319-44cb-bd4b-ce59e1de3045",
   "metadata": {},
   "outputs": [],
   "source": [
    "for i in 1:5 # alternative syntax\n",
    "    println(\"Variable i now equals $i\")\n",
    "end"
   ]
  },
  {
   "cell_type": "code",
   "execution_count": null,
   "id": "220d7a7d-f0ca-4a61-83d4-947f896e74bb",
   "metadata": {},
   "outputs": [],
   "source": [
    "for i ∈ 1:5 # if you like to be fancy, yet another alternative\n",
    "    println(\"Variable i now equals $i\")\n",
    "end\n",
    "\n",
    "# the counter is not visible in the global scope\n",
    "# thus, println(i) will fail"
   ]
  },
  {
   "cell_type": "code",
   "execution_count": null,
   "id": "b2f09b9f-b7f8-407a-bf6f-b71611bc13ae",
   "metadata": {},
   "outputs": [],
   "source": [
    "# iterations over other types of containers are possible as well\n",
    "for s in [\"foo\", \"bar\", \"baz\"]\n",
    "    println(s)\n",
    "end"
   ]
  },
  {
   "cell_type": "code",
   "execution_count": null,
   "id": "ecb9e603-4e51-4daf-90fc-2df0c56193aa",
   "metadata": {},
   "outputs": [],
   "source": [
    "# the break keyword terminates a loop entirely; this works in while loops as well\n",
    "for i in 1:10\n",
    "    if i>5\n",
    "        break\n",
    "    end\n",
    "    println(i)\n",
    "end"
   ]
  },
  {
   "cell_type": "code",
   "execution_count": null,
   "id": "1ead577a-46d2-4996-a814-0e97aced1b1a",
   "metadata": {},
   "outputs": [],
   "source": [
    "# the continue keyword skips the rest of the current iteration\n",
    "# Let's print the positive odd numbers less than 20\n",
    "for n in 0:20\n",
    "    # Is n an even number?\n",
    "    # If yes, continue, skipping\n",
    "    # the print() statement\n",
    "    if n % 2 == 0\n",
    "        continue\n",
    "    end\n",
    "    println(n)\n",
    "end"
   ]
  },
  {
   "cell_type": "code",
   "execution_count": null,
   "id": "966b084a-131c-484c-9021-0425a39ee0e3",
   "metadata": {},
   "outputs": [],
   "source": [
    "# nested loops\n",
    "for i=1:3\n",
    "    for j=10:13\n",
    "        println(i,\" \",j)\n",
    "    end\n",
    "end"
   ]
  },
  {
   "cell_type": "code",
   "execution_count": null,
   "id": "b979423f-8774-4e76-9137-9feb6a7eebe4",
   "metadata": {},
   "outputs": [],
   "source": [
    "# nested loops, compact syntax\n",
    "for i=1:3, j=10:13\n",
    "        println(i,\" \",j)\n",
    "end"
   ]
  },
  {
   "cell_type": "code",
   "execution_count": null,
   "id": "ac75fa65-a389-4518-8739-5ccd2720b23f",
   "metadata": {},
   "outputs": [],
   "source": [
    "# iterating over multiple containers with zip\n",
    "\n",
    "Names = [\"John\", \"Rob\", \"Jane\"]\n",
    "Positions = [\"administrator\", \"student\", \"professor\"]\n",
    "\n",
    "for (n,p) in zip(Names,Positions)\n",
    "    println(\"$n is a $p.\")\n",
    "end"
   ]
  },
  {
   "cell_type": "markdown",
   "id": "cfd5454d-967f-419c-b921-f5caaaf0e55e",
   "metadata": {},
   "source": [
    "Comprehensions:"
   ]
  },
  {
   "cell_type": "code",
   "execution_count": null,
   "id": "25c6e808-b473-4c5d-810f-9679fa03a9f1",
   "metadata": {},
   "outputs": [],
   "source": [
    "# creating a vector in a comprehension\n",
    "L = [\"Student $i\" for i in 1:5]"
   ]
  },
  {
   "cell_type": "code",
   "execution_count": null,
   "id": "363bc34f-c7a9-457d-9d93-c5b901bea613",
   "metadata": {},
   "outputs": [],
   "source": [
    "# creating a Dict\n",
    "D = Dict(n => p for (n,p) in zip(Names,Positions))"
   ]
  },
  {
   "cell_type": "code",
   "execution_count": null,
   "id": "7769c77d-6a50-4944-96c5-2b047361b144",
   "metadata": {},
   "outputs": [],
   "source": [
    "# note the difference with zip\n",
    "L1 = [\"$p $i\" for p in Positions for i in 1:5]"
   ]
  },
  {
   "cell_type": "code",
   "execution_count": null,
   "id": "8915b559-89e3-429a-a7d3-7f7a81982c54",
   "metadata": {},
   "outputs": [],
   "source": [
    "# note the difference with zip\n",
    "L1 = [\"$p $i\" for p in Positions for i in 1:5 if p !=\"administrator\"]"
   ]
  },
  {
   "cell_type": "markdown",
   "id": "0085b640-b751-4daa-99c0-051e382bada1",
   "metadata": {},
   "source": [
    "## Functions"
   ]
  },
  {
   "cell_type": "code",
   "execution_count": null,
   "id": "95333cb4-8fc2-41e7-bcc4-382de5a7dc5d",
   "metadata": {},
   "outputs": [],
   "source": [
    "# TODO"
   ]
  },
  {
   "cell_type": "code",
   "execution_count": null,
   "id": "01b8de4f-8a2f-4433-bc4a-96a3fd414d44",
   "metadata": {},
   "outputs": [],
   "source": [
    "# one-line functions"
   ]
  },
  {
   "cell_type": "code",
   "execution_count": null,
   "id": "4f732ecd-912c-47c9-9269-e4777689db85",
   "metadata": {},
   "outputs": [],
   "source": [
    "# anonymous functions"
   ]
  },
  {
   "cell_type": "code",
   "execution_count": null,
   "id": "5244fec8-f805-4aa3-92ef-8dd3a6807f16",
   "metadata": {},
   "outputs": [],
   "source": [
    "# named arguments, the use of the semicolon"
   ]
  },
  {
   "cell_type": "code",
   "execution_count": null,
   "id": "1664716a-6903-42ad-8ac5-559f9cbd0f3e",
   "metadata": {},
   "outputs": [],
   "source": [
    "# recursion"
   ]
  },
  {
   "cell_type": "code",
   "execution_count": null,
   "id": "dd47722a-adce-4b6a-9ac8-4e6894a92efa",
   "metadata": {},
   "outputs": [],
   "source": [
    "# conventions for mutating functions"
   ]
  }
 ],
 "metadata": {
  "kernelspec": {
   "display_name": "Julia 1.8.2",
   "language": "julia",
   "name": "julia-1.8"
  },
  "language_info": {
   "file_extension": ".jl",
   "mimetype": "application/julia",
   "name": "julia",
   "version": "1.8.2"
  }
 },
 "nbformat": 4,
 "nbformat_minor": 5
}
