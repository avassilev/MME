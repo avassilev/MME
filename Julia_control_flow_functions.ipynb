{
 "cells": [
  {
   "cell_type": "markdown",
   "id": "8dd13e03-7bcf-40e7-9396-0a05c13fae1b",
   "metadata": {},
   "source": [
    "# Julia – control flow and functions"
   ]
  },
  {
   "cell_type": "markdown",
   "id": "08445918-f86b-44be-9058-0413b7098294",
   "metadata": {},
   "source": [
    "## Conditional execution"
   ]
  },
  {
   "cell_type": "code",
   "execution_count": null,
   "id": "04e2270a-632e-4542-b0dd-4ee63d6dccc0",
   "metadata": {},
   "outputs": [],
   "source": [
    "x = 5\n",
    "if x > 0\n",
    "    println(\"x is positive\")\n",
    "end"
   ]
  },
  {
   "cell_type": "code",
   "execution_count": null,
   "id": "07feaa25-92da-4309-9a24-1081d67151d8",
   "metadata": {},
   "outputs": [],
   "source": [
    "x = 5\n",
    "if x > 0\n",
    "    println(\"x is positive\")\n",
    "elseif x < 0\n",
    "    println(\"x is negative\")\n",
    "else\n",
    "    println(\"x is zero\")\n",
    "end"
   ]
  },
  {
   "cell_type": "code",
   "execution_count": null,
   "id": "d22de414-a6aa-46c0-8d36-5b21d31f2303",
   "metadata": {},
   "outputs": [],
   "source": [
    "x = 2\n",
    "if x > 0 && x ≤ 5\n",
    "    println(\"x is positive but small\")\n",
    "elseif x>5\n",
    "    println(\"x is positive\")\n",
    "elseif x < 0\n",
    "    println(\"x is negative\")\n",
    "else\n",
    "    println(\"x is zero\")\n",
    "end"
   ]
  },
  {
   "cell_type": "code",
   "execution_count": null,
   "id": "d3167645-febc-4f20-a7c0-c7a4d0ed1a78",
   "metadata": {},
   "outputs": [],
   "source": [
    "# another iteration on the same; note the first condition check\n",
    "x = 2\n",
    "if 0 < x ≤ 5\n",
    "    println(\"x is positive but small\")\n",
    "elseif x>5\n",
    "    println(\"x is positive\")\n",
    "elseif x < 0\n",
    "    println(\"x is negative\")\n",
    "else\n",
    "    println(\"x is zero\")\n",
    "end"
   ]
  },
  {
   "cell_type": "code",
   "execution_count": null,
   "id": "67c3dc9a-c760-42e6-aa71-2e52469b8024",
   "metadata": {},
   "outputs": [],
   "source": [
    "x = 1110\n",
    "if x >= 50 || x < -100\n",
    "    print(\"Wow, this is large in absolute value!\")\n",
    "end"
   ]
  },
  {
   "cell_type": "markdown",
   "id": "ab7927f7-f42d-4f41-a9ce-23b1d3da1e51",
   "metadata": {},
   "source": [
    "#### Short-circuit and regular evaluation\n",
    "\n",
    "Boolean operations in Julia are implemented through the operators `||` (logical *or*), `&&` (logical *and*) and `!` (negation).\n",
    "\n",
    "The operators `||` and `&&` perform short-circuit evaluation. This means that the second condition is evaluated only if this is required to resolve the overall logical condition. Specifically, in `x || y` the expression `y` is evaluated only if `x` is false. Similarly, in `x && y` the expression `y` is evaluated only if `x` is true. More details and examples available [here](https://docs.julialang.org/en/v1/manual/control-flow/#Short-Circuit-Evaluation).\n",
    "\n",
    "If for some reason short-circuit evaluation is undesirable, regular evaluation may be employed. This is implemented through [bitwise operators](https://docs.julialang.org/en/v1/manual/mathematical-operations/#Bitwise-Operators). The corresponding operators are `|` (bitwise *or*), `&` (bitwise *and*) and `~` (negation, bitwise *not*)."
   ]
  },
  {
   "cell_type": "markdown",
   "id": "f7b14708-c95b-4b25-9773-1ce3d195a7fb",
   "metadata": {},
   "source": [
    "Apart from its use in logical conditions, short-circuit evaluation may be used as a direct replacement to short conditional statements:"
   ]
  },
  {
   "cell_type": "code",
   "execution_count": null,
   "id": "50c5048c-8428-42ca-9855-542947355671",
   "metadata": {},
   "outputs": [],
   "source": [
    "3<5 && println(\"This is a true condition.\"); # equivalent to IF <CONDITION> THEN <STATEMENT>"
   ]
  },
  {
   "cell_type": "code",
   "execution_count": null,
   "id": "78169048-f158-47c8-94ba-693f2be393bd",
   "metadata": {},
   "outputs": [],
   "source": [
    "50<8 || println(\"Ooops, the logical condition is false!\"); # equivalent to IF NOT <CONDITION> THEN <STATEMENT>"
   ]
  },
  {
   "cell_type": "markdown",
   "id": "d67b5e2f-36e6-42e9-a6b1-ca6af8de61d5",
   "metadata": {},
   "source": [
    "#### The ternary operator"
   ]
  },
  {
   "cell_type": "markdown",
   "id": "9a78dbc1-effd-44c3-b6e6-68e8c249fa7a",
   "metadata": {},
   "source": [
    "`<logical_condition> ? <value_if_true> : <value_if_false>`"
   ]
  },
  {
   "cell_type": "code",
   "execution_count": null,
   "id": "293aebcf-edf6-4ddc-9596-a03b2d275f67",
   "metadata": {},
   "outputs": [],
   "source": [
    "y = 5 - 3im\n",
    "imag(y)!=0 ? \"complex\" : \"real\""
   ]
  },
  {
   "cell_type": "markdown",
   "id": "7e43bfd3-c55a-4ed2-9965-1772ac9192a5",
   "metadata": {},
   "source": [
    "## Compound expressions"
   ]
  },
  {
   "cell_type": "code",
   "execution_count": null,
   "id": "fd4edda4-206e-444a-9f86-603fc5b5b565",
   "metadata": {},
   "outputs": [],
   "source": [
    "y = begin\n",
    "    α = 5.\n",
    "    β = 10.\n",
    "    α + β^2 # the last evaluated expression is assigned to variable y\n",
    "end\n",
    "y"
   ]
  },
  {
   "cell_type": "code",
   "execution_count": null,
   "id": "294dc561-1cc8-4cf3-99f6-7de094fe0e3e",
   "metadata": {},
   "outputs": [],
   "source": [
    "# α and β are visible in the global scope\n",
    "println(α)\n",
    "println(β)"
   ]
  },
  {
   "cell_type": "markdown",
   "id": "f9785b0c-8dd8-4a3b-b916-61ec9d605723",
   "metadata": {},
   "source": [
    "Also:"
   ]
  },
  {
   "cell_type": "code",
   "execution_count": null,
   "id": "bdcebdb2-9b09-42a3-b47a-a10f534fc393",
   "metadata": {},
   "outputs": [],
   "source": [
    "y = (α = 5.5; β = 6.6; α + β)"
   ]
  },
  {
   "cell_type": "markdown",
   "id": "05af0a74-50a9-4620-a29f-1efed068fe9b",
   "metadata": {},
   "source": [
    "## Loops"
   ]
  },
  {
   "cell_type": "markdown",
   "id": "16040dac-5135-4522-acf6-b1273428887e",
   "metadata": {},
   "source": [
    "### While loops"
   ]
  },
  {
   "cell_type": "markdown",
   "id": "8d016fe3-11c4-49e8-89bd-69dbf06241f9",
   "metadata": {},
   "source": [
    "These work fine when the number of iterations is not known in advance."
   ]
  },
  {
   "cell_type": "code",
   "execution_count": null,
   "id": "46128397-4782-4ee0-b90d-ffed723ebb40",
   "metadata": {},
   "outputs": [],
   "source": [
    "inp = \"\"\n",
    "while inp != \"end\"\n",
    "    inp = readline()\n",
    "    println(inp)\n",
    "end"
   ]
  },
  {
   "cell_type": "markdown",
   "id": "65f74cf3-ee6a-4b90-8643-423de9aefe59",
   "metadata": {},
   "source": [
    "If you want to create a standard counting example:"
   ]
  },
  {
   "cell_type": "code",
   "execution_count": null,
   "id": "e5b7ead6-6c11-4d44-9526-e43b05cebdaf",
   "metadata": {},
   "outputs": [],
   "source": [
    "j=1\n",
    "while j ≤ 5\n",
    "    println(j)\n",
    "    j+=1 # note the updating operation\n",
    "end"
   ]
  },
  {
   "cell_type": "markdown",
   "id": "21e74d41-38bf-47fa-b4c6-603ca4eb7e58",
   "metadata": {},
   "source": [
    "### For loops"
   ]
  },
  {
   "cell_type": "code",
   "execution_count": null,
   "id": "f40923cd-d17e-434a-b8ae-79e93ea83cd0",
   "metadata": {},
   "outputs": [],
   "source": [
    "for i=1:5\n",
    "    println(\"Variable i now equals $i\")\n",
    "end"
   ]
  },
  {
   "cell_type": "code",
   "execution_count": null,
   "id": "8dc1ceb4-4319-44cb-bd4b-ce59e1de3045",
   "metadata": {},
   "outputs": [],
   "source": [
    "for i in 1:5 # alternative syntax\n",
    "    println(\"Variable i now equals $i\")\n",
    "end"
   ]
  },
  {
   "cell_type": "code",
   "execution_count": null,
   "id": "220d7a7d-f0ca-4a61-83d4-947f896e74bb",
   "metadata": {},
   "outputs": [],
   "source": [
    "for i ∈ 1:5 # if you like to be fancy, yet another alternative\n",
    "    println(\"Variable i now equals $i\")\n",
    "end\n",
    "\n",
    "# the counter is not visible in the global scope\n",
    "# thus, println(i) will fail"
   ]
  },
  {
   "cell_type": "code",
   "execution_count": null,
   "id": "b2f09b9f-b7f8-407a-bf6f-b71611bc13ae",
   "metadata": {},
   "outputs": [],
   "source": [
    "# iterations over other types of containers are possible as well\n",
    "for s in [\"foo\", \"bar\", \"baz\"]\n",
    "    println(s)\n",
    "end"
   ]
  },
  {
   "cell_type": "code",
   "execution_count": null,
   "id": "acde1c7b-2ee6-437e-af73-0cbed9bb0422",
   "metadata": {
    "tags": []
   },
   "outputs": [],
   "source": [
    "# eachindex provides a more elegant alternative to 1:length(v) if we need to iterate over the indexes of a collection\n",
    "v = [\"foo\", \"bar\", \"baz\"]\n",
    "for i in eachindex(v)\n",
    "    println(i, \" ---> \",v[i])\n",
    "end"
   ]
  },
  {
   "cell_type": "code",
   "execution_count": null,
   "id": "ecb9e603-4e51-4daf-90fc-2df0c56193aa",
   "metadata": {},
   "outputs": [],
   "source": [
    "# the break keyword terminates a loop entirely; this works in while loops as well\n",
    "for i in 1:10\n",
    "    if i>5\n",
    "        break\n",
    "    end\n",
    "    println(i)\n",
    "end"
   ]
  },
  {
   "cell_type": "code",
   "execution_count": null,
   "id": "1ead577a-46d2-4996-a814-0e97aced1b1a",
   "metadata": {},
   "outputs": [],
   "source": [
    "# the continue keyword skips the rest of the current iteration\n",
    "# Let's print the positive odd numbers less than 20\n",
    "for n in 0:20\n",
    "    # Is n an even number?\n",
    "    # If yes, continue, skipping\n",
    "    # the print() statement\n",
    "    if n % 2 == 0\n",
    "        continue\n",
    "    end\n",
    "    println(n)\n",
    "end"
   ]
  },
  {
   "cell_type": "code",
   "execution_count": null,
   "id": "966b084a-131c-484c-9021-0425a39ee0e3",
   "metadata": {},
   "outputs": [],
   "source": [
    "# nested loops\n",
    "for i=1:3\n",
    "    for j=10:13\n",
    "        println(i,\" \",j)\n",
    "    end\n",
    "end"
   ]
  },
  {
   "cell_type": "code",
   "execution_count": null,
   "id": "b979423f-8774-4e76-9137-9feb6a7eebe4",
   "metadata": {},
   "outputs": [],
   "source": [
    "# nested loops, compact syntax\n",
    "for i=1:3, j=10:13\n",
    "        println(i,\" \",j)\n",
    "end"
   ]
  },
  {
   "cell_type": "code",
   "execution_count": null,
   "id": "ac75fa65-a389-4518-8739-5ccd2720b23f",
   "metadata": {},
   "outputs": [],
   "source": [
    "# iterating over multiple containers with zip\n",
    "\n",
    "Names = [\"John\", \"Rob\", \"Jane\"]\n",
    "Positions = [\"administrator\", \"student\", \"professor\"]\n",
    "\n",
    "for (n,p) in zip(Names,Positions)\n",
    "    println(\"$n is a $p.\")\n",
    "end"
   ]
  },
  {
   "cell_type": "markdown",
   "id": "cfd5454d-967f-419c-b921-f5caaaf0e55e",
   "metadata": {},
   "source": [
    "### Comprehensions"
   ]
  },
  {
   "cell_type": "code",
   "execution_count": null,
   "id": "25c6e808-b473-4c5d-810f-9679fa03a9f1",
   "metadata": {},
   "outputs": [],
   "source": [
    "# creating a vector in a comprehension\n",
    "L = [\"Student $i\" for i in 1:5]"
   ]
  },
  {
   "cell_type": "code",
   "execution_count": null,
   "id": "363bc34f-c7a9-457d-9d93-c5b901bea613",
   "metadata": {},
   "outputs": [],
   "source": [
    "# creating a Dict\n",
    "D = Dict(n => p for (n,p) in zip(Names,Positions))"
   ]
  },
  {
   "cell_type": "code",
   "execution_count": null,
   "id": "7769c77d-6a50-4944-96c5-2b047361b144",
   "metadata": {},
   "outputs": [],
   "source": [
    "# note the difference with zip\n",
    "L1 = [\"$p $i\" for p in Positions for i in 1:5]"
   ]
  },
  {
   "cell_type": "code",
   "execution_count": null,
   "id": "8915b559-89e3-429a-a7d3-7f7a81982c54",
   "metadata": {},
   "outputs": [],
   "source": [
    "# if administrators cannot have an index > 3\n",
    "L1 = [\"$p $i\" for p in Positions for i in 1:5 if !(p ==\"administrator\" && i>3) ]"
   ]
  },
  {
   "cell_type": "markdown",
   "id": "0085b640-b751-4daa-99c0-051e382bada1",
   "metadata": {},
   "source": [
    "## Functions"
   ]
  },
  {
   "cell_type": "markdown",
   "id": "b75eff60-08ba-44db-8c17-a4309a2523a4",
   "metadata": {},
   "source": [
    "We have already seen a number of functions in use. Here we'll concentrate on writing our own functions. \n",
    "\n",
    "A function in Julia is treated as a mapping from a set of inputs to an output object."
   ]
  },
  {
   "cell_type": "markdown",
   "id": "6bde8ddc-1672-4400-8823-f648fb48cd6c",
   "metadata": {},
   "source": [
    "### Basics"
   ]
  },
  {
   "cell_type": "code",
   "execution_count": null,
   "id": "95333cb4-8fc2-41e7-bcc4-382de5a7dc5d",
   "metadata": {},
   "outputs": [],
   "source": [
    "# basic syntax\n",
    "\n",
    "function f(x)\n",
    "    3x+5; # the last expression is returned (the output)\n",
    "end\n",
    "\n",
    "f(5)"
   ]
  },
  {
   "cell_type": "code",
   "execution_count": null,
   "id": "c476fedb-a5b0-48fe-afe6-5aceb29d1802",
   "metadata": {},
   "outputs": [],
   "source": [
    "# the return keyword takes care of what should be returned and helps with more complex logic in the body of the function\n",
    "\n",
    "function f(x) # assuming numeric inputs\n",
    "    if x≥0\n",
    "        return \"nonnegative\"\n",
    "    else \n",
    "        return \"negative\"\n",
    "    end\n",
    "end\n",
    "\n",
    "println(f(-1))\n",
    "println(f(5))\n",
    "println(f(0))"
   ]
  },
  {
   "cell_type": "code",
   "execution_count": null,
   "id": "f672758b-c760-458c-8049-0447edc8971b",
   "metadata": {
    "tags": []
   },
   "outputs": [],
   "source": [
    "# a function can take more than one argument\n",
    "\n",
    "function g(x,y)\n",
    "    return x+y\n",
    "end\n",
    "\n",
    "g(5,6)"
   ]
  },
  {
   "cell_type": "code",
   "execution_count": null,
   "id": "c771eb36-e327-44cb-94c4-5704de69bcf1",
   "metadata": {},
   "outputs": [],
   "source": [
    "# ... or no arguments at all\n",
    "function g()\n",
    "    println(\"Hello, world!\")\n",
    "end\n",
    "\n",
    "g()"
   ]
  },
  {
   "cell_type": "code",
   "execution_count": null,
   "id": "269a00b9-51de-432a-9022-e213d8f79675",
   "metadata": {
    "tags": []
   },
   "outputs": [],
   "source": [
    "# a function can also return more complex structures\n",
    "\n",
    "function add_subtract_five(x)\n",
    "    (x+5,x-5) # returns a tuple\n",
    "end\n",
    "\n",
    "println(add_subtract_five(5))\n",
    "\n",
    "x,y = add_subtract_five(10) # the result can also be destructured (unpacked)\n",
    "println(x)\n",
    "println(y)"
   ]
  },
  {
   "cell_type": "code",
   "execution_count": null,
   "id": "e5975ef2-9e0a-4c52-9f51-d7b27d40d7f0",
   "metadata": {},
   "outputs": [],
   "source": [
    "# if a function returns multiple values but a particular one is needed, the convention is to assign the unwanted ones to an underscore\n",
    "# a variable consisting only of underscores signals that this variable will never be used in subsequent computations \n",
    "\n",
    "_,y = add_subtract_five(0)\n",
    "println(y)"
   ]
  },
  {
   "cell_type": "code",
   "execution_count": null,
   "id": "92c7c1dd-afc3-47af-a1cd-ee2cd68f4e32",
   "metadata": {},
   "outputs": [],
   "source": [
    "# if the function is defined as taking a tuple, the tuple elements are automatically destructured in the body of the function\n",
    "\n",
    "function difference((x,y)) \n",
    "    x-y\n",
    "end\n",
    "\n",
    "difference((5,4))"
   ]
  },
  {
   "cell_type": "code",
   "execution_count": null,
   "id": "f987b15b-d98d-446b-b6b1-826b7f908835",
   "metadata": {},
   "outputs": [],
   "source": [
    "# the following syntax (with the starting semicolon) accomplishes the same for the case of a named tuple\n",
    "\n",
    "function difference1((; x, y, z)) \n",
    "    x-y-z\n",
    "end\n",
    "\n",
    "difference1((x=5,y=4,z=3))"
   ]
  },
  {
   "cell_type": "markdown",
   "id": "c1d339c1-864d-4b91-b883-43eb103518fd",
   "metadata": {},
   "source": [
    "### Argument-type declarations"
   ]
  },
  {
   "cell_type": "markdown",
   "id": "e26e3521-e10c-4ba3-af00-0a6e216a2428",
   "metadata": {},
   "source": [
    "Sometimes it could be useful to inform Julia or readers of your code about the type of data a function is meant to work with. This can be done with type declarations."
   ]
  },
  {
   "cell_type": "code",
   "execution_count": null,
   "id": "5ff4f36a-8c37-44d2-bb7a-f4a3fca4826d",
   "metadata": {},
   "outputs": [],
   "source": [
    "# repeated from above with different input\n",
    "\n",
    "function f(x) # assuming numeric inputs\n",
    "    if x≥0\n",
    "        return \"nonnegative\"\n",
    "    else \n",
    "        return \"negative\"\n",
    "    end\n",
    "end\n",
    "\n",
    "f(\"test\") # raises an error when attempting comparison"
   ]
  },
  {
   "cell_type": "code",
   "execution_count": null,
   "id": "5583bb21-c441-4759-ab14-4201d1010556",
   "metadata": {},
   "outputs": [],
   "source": [
    "# type declaration added\n",
    "# the error message is (arguably) more transparent and is raised on function call, as opposed to somewhere in the body of the function\n",
    "\n",
    "function f1(x::Number) # the numeric input is declared\n",
    "    if x≥0\n",
    "        return \"nonnegative\"\n",
    "    else \n",
    "        return \"negative\"\n",
    "    end\n",
    "end\n",
    "\n",
    "f1(\"test\") # raises an error about a missing method"
   ]
  },
  {
   "cell_type": "markdown",
   "id": "9e07939b-5406-4df0-ae62-4da727a38859",
   "metadata": {},
   "source": [
    "A note on argument-type declarations from the [Julia docs](https://docs.julialang.org/en/v1/manual/functions/#Argument-type-declarations):\n",
    "> However, it is a **common mistake to overly restrict the argument types**, which can unnecessarily limit the applicability of the function and prevent it from being re-used in circumstances you did not anticipate. ... In general, you should use the most general applicable abstract types for arguments, and **when in doubt, omit the argument types**. "
   ]
  },
  {
   "cell_type": "markdown",
   "id": "15283ac2-6cb3-4b6b-8ed8-42de4070a42f",
   "metadata": {},
   "source": [
    "### One-line functions"
   ]
  },
  {
   "cell_type": "code",
   "execution_count": null,
   "id": "7b58bd7e-29da-4ee2-b458-fce5890b2b0f",
   "metadata": {},
   "outputs": [],
   "source": [
    "f(x) = 5x+3\n",
    "\n",
    "f(1)"
   ]
  },
  {
   "cell_type": "code",
   "execution_count": null,
   "id": "48d6b1a7-bd26-4c63-a73d-21ce6cb3c4ac",
   "metadata": {},
   "outputs": [],
   "source": [
    "# also possible, but one-line functions are typically used in simpler cases as above\n",
    "f(x) = begin z1=2x; z2=z1^2; z3=z2-25; z3>0 ? z3 : 0  end\n",
    "\n",
    "f(5)"
   ]
  },
  {
   "cell_type": "markdown",
   "id": "b9d17707-123f-4714-9423-71d8fe1157a8",
   "metadata": {},
   "source": [
    "### Anonymous functions"
   ]
  },
  {
   "cell_type": "code",
   "execution_count": null,
   "id": "fcf74562-fac7-4fc8-b300-9ec0704efabd",
   "metadata": {},
   "outputs": [],
   "source": [
    "# declaration\n",
    "x -> x^2"
   ]
  },
  {
   "cell_type": "code",
   "execution_count": null,
   "id": "21b02b28-ae88-44f1-82a5-80cbe2f34d16",
   "metadata": {},
   "outputs": [],
   "source": [
    "# alternative form of declaration\n",
    "function (x)\n",
    "    x^2\n",
    "end"
   ]
  },
  {
   "cell_type": "code",
   "execution_count": null,
   "id": "5c273597-a967-487b-a054-7190194bea38",
   "metadata": {},
   "outputs": [],
   "source": [
    "# typically anonymous functions are used when they serve as the argument to another function and are not needed beyond that\n",
    "F(x,f) = f(x)+15\n",
    "\n",
    "F(5, x -> x^2)"
   ]
  },
  {
   "cell_type": "code",
   "execution_count": null,
   "id": "53f7013f-463b-4e77-aa43-2551b0a1d7d4",
   "metadata": {},
   "outputs": [],
   "source": [
    "# the map function applies another function elementwise to a vector \n",
    "# this is a good setup to use an anonymous function\n",
    "\n",
    "map(x -> x^3 - 8, [2.2, 1.6, 5.0])"
   ]
  },
  {
   "cell_type": "code",
   "execution_count": null,
   "id": "94a197e2-565f-48cc-9e61-8e419b594727",
   "metadata": {},
   "outputs": [],
   "source": [
    "# what if the anonymous function needs to implement more complex logic?\n",
    "\n",
    "map(x -> begin                # however, this can be difficult to read\n",
    "            if x>0\n",
    "                return x^3 - 8 \n",
    "            else\n",
    "                return x^2 + 1 \n",
    "            end    \n",
    "         end, \n",
    "    [2.2, 1.6, 5.0])"
   ]
  },
  {
   "cell_type": "code",
   "execution_count": null,
   "id": "c15814a4-f7a3-44c0-af3f-067628568105",
   "metadata": {},
   "outputs": [],
   "source": [
    "# do-end syntax\n",
    "\n",
    "map([2.2, 1.6, 5.0]) do x             \n",
    "        if x>0\n",
    "            return x^3 - 8 \n",
    "        else\n",
    "            return x^2 + 1 \n",
    "        end    \n",
    "     end"
   ]
  },
  {
   "cell_type": "markdown",
   "id": "24e68691-124c-41c8-a0cd-b7e9bf125329",
   "metadata": {},
   "source": [
    "### Default values"
   ]
  },
  {
   "cell_type": "code",
   "execution_count": null,
   "id": "23663d69-f4e4-4602-8f4e-af10540a8220",
   "metadata": {
    "tags": []
   },
   "outputs": [],
   "source": [
    "l(x,a=2,b=5) = x^a*b"
   ]
  },
  {
   "cell_type": "code",
   "execution_count": null,
   "id": "ec2f87fb-0af2-4315-aef0-5b1075416b5c",
   "metadata": {},
   "outputs": [],
   "source": [
    "l(2)"
   ]
  },
  {
   "cell_type": "code",
   "execution_count": null,
   "id": "d8f42434-e7e4-4ae5-a271-f1fd83eb2310",
   "metadata": {},
   "outputs": [],
   "source": [
    "l(2,3) # provides a replacement value for a"
   ]
  },
  {
   "cell_type": "code",
   "execution_count": null,
   "id": "c3c2a983-b20e-453f-ba56-2667375abea8",
   "metadata": {},
   "outputs": [],
   "source": [
    "l(2,2,20) # provides replacement values for both a and b"
   ]
  },
  {
   "cell_type": "code",
   "execution_count": null,
   "id": "6458bd0c-2f4d-423a-9cb8-4f184014befd",
   "metadata": {},
   "outputs": [],
   "source": [
    "# however, we can also have the following:\n",
    "\n",
    "l(\"hi \", 2, \"hello\")"
   ]
  },
  {
   "cell_type": "code",
   "execution_count": null,
   "id": "4d5a3dbf-512d-4237-bb13-c6ed38ae9637",
   "metadata": {},
   "outputs": [],
   "source": [
    "# it is possible to combine type declarations with default arguments\n",
    "\n",
    "l1(x,a::Int=3,b::Int=2) = x^a*b\n",
    "\n",
    "l1(1) # l1(1, 5.0)  or   l1(\"hi \", 2, \"hello\")  will produce errors"
   ]
  },
  {
   "cell_type": "markdown",
   "id": "a0791034-4256-468e-a678-be3bda9043ca",
   "metadata": {},
   "source": [
    "### Keyword arguments\n",
    "\n",
    "The functions defined up to this point distinguished their arguments according to the position. Keyword arguments help overcome this limitation. "
   ]
  },
  {
   "cell_type": "code",
   "execution_count": null,
   "id": "0439706f-7f96-49b4-918e-8da4d730bc94",
   "metadata": {},
   "outputs": [],
   "source": [
    "function G(x,y; sqrt_type) # keyword arguments are given following a semicolon\n",
    "    if sqrt_type == \"real\"\n",
    "        return sqrt(x)+y\n",
    "    elseif sqrt_type == \"complex\"\n",
    "        return sqrt(Complex(x))+y\n",
    "    else\n",
    "        println(\"Wrong input to sqrt_type.\")\n",
    "        return nothing # unnecessary but more explicit\n",
    "    end\n",
    "end"
   ]
  },
  {
   "cell_type": "code",
   "execution_count": null,
   "id": "a0494d6a-2488-42f9-a44d-ced616dff1ff",
   "metadata": {},
   "outputs": [],
   "source": [
    "G(2,3,sqrt_type=\"real\")  # G(2,3,\"real\") will produce an error because \"real\" is not provided as a keyword argument"
   ]
  },
  {
   "cell_type": "code",
   "execution_count": null,
   "id": "622fecda-4c9c-4566-b039-68b981323dad",
   "metadata": {
    "tags": []
   },
   "outputs": [],
   "source": [
    "G(2,3,sqrt_type=\"complex\") # it is more common to use only commas in function calls"
   ]
  },
  {
   "cell_type": "code",
   "execution_count": null,
   "id": "1061ea51-dd76-4411-8597-610df7ea7804",
   "metadata": {},
   "outputs": [],
   "source": [
    "G(2,3;sqrt_type=\"complex\") # but using semicolons is also OK"
   ]
  },
  {
   "cell_type": "markdown",
   "id": "22cd27e1-ae9f-4855-b72b-e94626923020",
   "metadata": {},
   "source": [
    "Typically, keyword arguments are used together with default values."
   ]
  },
  {
   "cell_type": "code",
   "execution_count": null,
   "id": "88718c2f-fc9d-4583-8bc9-045b94b04557",
   "metadata": {},
   "outputs": [],
   "source": [
    "function G(x,y; sqrt_type = \"real\") # the default value is \"real\"\n",
    "    if sqrt_type == \"real\"\n",
    "        return sqrt(x)+y\n",
    "    elseif sqrt_type == \"complex\"\n",
    "        return sqrt(Complex(x))+y\n",
    "    else\n",
    "        println(\"Wrong input to sqrt_type.\")\n",
    "        return nothing # unnecessary but more explicit\n",
    "    end\n",
    "end"
   ]
  },
  {
   "cell_type": "code",
   "execution_count": null,
   "id": "0e17f58d-4e98-4345-b64b-4cf6991dbe9c",
   "metadata": {},
   "outputs": [],
   "source": [
    "G(2,3)"
   ]
  },
  {
   "cell_type": "code",
   "execution_count": null,
   "id": "de0a96fb-eb1d-4cf5-8308-d71b29cfb3f4",
   "metadata": {},
   "outputs": [],
   "source": [
    "G(-2,3) # sqrt will not produce complex-valued output out of the box"
   ]
  },
  {
   "cell_type": "code",
   "execution_count": null,
   "id": "6f1e3b75-ee94-41a8-be48-446aba191d1b",
   "metadata": {},
   "outputs": [],
   "source": [
    "G(-2,3,sqrt_type=\"complex\")"
   ]
  },
  {
   "cell_type": "code",
   "execution_count": null,
   "id": "1a661dc9-9734-4be1-a7df-af6d1ac66bb2",
   "metadata": {},
   "outputs": [],
   "source": [
    "# several keyword arguments\n",
    "function double(x; print_result=false, ready_msg=false)\n",
    "    res = 2*x\n",
    "    print_result && println(\"The result is $res.\") # this is an if statement in disguise...\n",
    "    ready_msg && println(\"Calculation completed!\") # ... as well as this one\n",
    "    return res\n",
    "end "
   ]
  },
  {
   "cell_type": "code",
   "execution_count": null,
   "id": "7ea1985c-1546-4edd-a11f-94604f76bb07",
   "metadata": {},
   "outputs": [],
   "source": [
    "double(5)"
   ]
  },
  {
   "cell_type": "code",
   "execution_count": null,
   "id": "404f7632-efec-4c23-a5a3-78e5c3cad778",
   "metadata": {},
   "outputs": [],
   "source": [
    "double(5, print_result=true)"
   ]
  },
  {
   "cell_type": "code",
   "execution_count": null,
   "id": "c1ee600f-e7dc-401b-bdf1-17c588cdd84b",
   "metadata": {},
   "outputs": [],
   "source": [
    "double(5, ready_msg=true)"
   ]
  },
  {
   "cell_type": "code",
   "execution_count": null,
   "id": "5014ca9e-2bc6-495d-ba26-d1b9a5b7f418",
   "metadata": {
    "tags": []
   },
   "outputs": [],
   "source": [
    "double(5, print_result=true, ready_msg=true)"
   ]
  },
  {
   "cell_type": "code",
   "execution_count": null,
   "id": "4dbe4c18-a197-4044-80b2-af41cfd3baf6",
   "metadata": {},
   "outputs": [],
   "source": [
    "# here is a function taking only keyword arguments\n",
    "\n",
    "function kwargfun(; kw1=\"keyword argument 1\", kw2=\"keyword argument 2\")\n",
    "    @show kw1\n",
    "    @show kw2\n",
    "    return  # equivalent to return nothing\n",
    "end"
   ]
  },
  {
   "cell_type": "code",
   "execution_count": null,
   "id": "b239ef16-cbb3-4c72-b9d4-99e84f0b4924",
   "metadata": {},
   "outputs": [],
   "source": [
    "kwargfun()"
   ]
  },
  {
   "cell_type": "code",
   "execution_count": null,
   "id": "8e4b6c02-8b8c-4899-b464-76d847cfcbae",
   "metadata": {},
   "outputs": [],
   "source": [
    "kwargfun(kw1=\"new value\")"
   ]
  },
  {
   "cell_type": "markdown",
   "id": "dc0b3c59-7d63-4e64-8f57-47519ff6d532",
   "metadata": {},
   "source": [
    "### Variable number of arguments\n",
    "\n",
    "Sometimes it is convenient to allow functions to take a variable number of arguments (varargs functions). This is specified by using three dots (ellipsis) in the function definition."
   ]
  },
  {
   "cell_type": "code",
   "execution_count": null,
   "id": "6c0c5fba-d2cd-4a2d-8e0b-9524b0ab9609",
   "metadata": {},
   "outputs": [],
   "source": [
    "function test(x,y,z...) # everything passed after the second argument is combined in a (possibly empty) tuple\n",
    "    println(x)\n",
    "    println(y)\n",
    "    println(z)\n",
    "end"
   ]
  },
  {
   "cell_type": "code",
   "execution_count": null,
   "id": "39297d65-5c6d-4928-b84d-63a38cfcec05",
   "metadata": {},
   "outputs": [],
   "source": [
    "test(1,2,5,6,7)"
   ]
  },
  {
   "cell_type": "code",
   "execution_count": null,
   "id": "0ba0b836-0e0a-498c-9fa6-1e8d49552bdd",
   "metadata": {},
   "outputs": [],
   "source": [
    "test(1,2)"
   ]
  },
  {
   "cell_type": "code",
   "execution_count": null,
   "id": "8a2b6f16-70d2-45f0-80ef-916be811f3c7",
   "metadata": {},
   "outputs": [],
   "source": [
    "test(1,2,5,[6,7],(8,9))"
   ]
  },
  {
   "cell_type": "markdown",
   "id": "4bb386b3-eafe-4a5d-b1f0-b75ae011a69e",
   "metadata": {},
   "source": [
    "It is also possible to unpack values in a function call."
   ]
  },
  {
   "cell_type": "code",
   "execution_count": null,
   "id": "0cd015cc-7f02-41d2-805e-daedaef41c73",
   "metadata": {},
   "outputs": [],
   "source": [
    "x = Tuple(1:5)\n",
    "test(x...)"
   ]
  },
  {
   "cell_type": "code",
   "execution_count": null,
   "id": "20bab527-ebb1-447e-b230-17d10fd176a2",
   "metadata": {},
   "outputs": [],
   "source": [
    "# Incidentally, this unpacking works for functions that are not varargs but the unpacked object needs to contain the right number of elements\n",
    "g(x,y,z) = x+y+x\n",
    "g([1,2,3]...) # g([1,2,3,4]...) will fail"
   ]
  },
  {
   "cell_type": "markdown",
   "id": "7722d008-e268-43e0-ba3b-737135b36423",
   "metadata": {},
   "source": [
    "Passing a variable number of arguments is also possible for the case of keyword arguments."
   ]
  },
  {
   "cell_type": "code",
   "execution_count": null,
   "id": "b4d0f2c4-87e1-4a0c-9208-05f732e763f3",
   "metadata": {},
   "outputs": [],
   "source": [
    "function flexible(args...; kwargs...)\n",
    "    println(args)\n",
    "    \n",
    "    println(keys(kwargs))\n",
    "    println(values(kwargs))\n",
    "    return\n",
    "end"
   ]
  },
  {
   "cell_type": "code",
   "execution_count": null,
   "id": "514d34a5-acea-4797-b7fe-1c5ec58d53de",
   "metadata": {},
   "outputs": [],
   "source": [
    "flexible()"
   ]
  },
  {
   "cell_type": "code",
   "execution_count": null,
   "id": "cb6dc7fd-79d6-493d-9908-ffa5f53e3561",
   "metadata": {},
   "outputs": [],
   "source": [
    "flexible(5)"
   ]
  },
  {
   "cell_type": "code",
   "execution_count": null,
   "id": "6e673a81-68bb-4194-ab9e-16950dc756a1",
   "metadata": {},
   "outputs": [],
   "source": [
    "flexible(5, mykeyword = 6) # note that the key is of type Symbol, as shown by the colon (:)"
   ]
  },
  {
   "cell_type": "code",
   "execution_count": null,
   "id": "b2f62eed-4b45-412d-9c11-9ea10a0867a1",
   "metadata": {},
   "outputs": [],
   "source": [
    "flexible([1,2,3]...; (kw1 = \"value 1\", KWORD2 = 5)...) # here separation of the keyword arguments by semicolon is mandatory to preserve the intent"
   ]
  },
  {
   "cell_type": "code",
   "execution_count": null,
   "id": "6fdd4a14-bdd6-4680-8130-6b344dff981c",
   "metadata": {},
   "outputs": [],
   "source": [
    "# compare with this (comma used as a separator)\n",
    "flexible([1,2,3]..., (kw1 = \"value 1\", KWORD2 = 5)...) "
   ]
  },
  {
   "cell_type": "markdown",
   "id": "6a613b6b-1661-422c-a1d6-cd99f068cc1f",
   "metadata": {},
   "source": [
    "### Recursion\n",
    "\n",
    "A function can call itself, which provides a convenient abstraction. This is called *recursion*. A meaningful recursion should ensure termination in a finite number of steps."
   ]
  },
  {
   "cell_type": "code",
   "execution_count": null,
   "id": "cb8f72c1-4d7f-4fae-a18d-3fec1fb66900",
   "metadata": {},
   "outputs": [],
   "source": [
    "# the factorial is one of the canonical examples of computations amenable to recursion\n",
    "\n",
    "function fact(n::Int)::BigInt # note that we can specify the return type of the function\n",
    "    if n==0\n",
    "        return 1\n",
    "    else\n",
    "        return n*fact(n-1)\n",
    "    end\n",
    "end"
   ]
  },
  {
   "cell_type": "code",
   "execution_count": null,
   "id": "bc540e80-f5e2-47c6-b83d-7b41595ff155",
   "metadata": {},
   "outputs": [],
   "source": [
    "fact(3) # incidentally, Julia has the factorial() function, you may want to check against it"
   ]
  },
  {
   "cell_type": "markdown",
   "id": "2b38fad0-116c-4dd4-ae46-5006ed6659d3",
   "metadata": {},
   "source": [
    "### Mutating functions\n",
    "\n",
    "Functions in Julia receive their arguments by reference, i.e. they have access to the original object and can modify it. In contrast, other languages use a pass-by-value paradigm, where a copy of the original argument is passed and hence the original object is not affected.\n",
    "\n",
    "Because a function is allowed to modify its arguments, the Julia convention is to end the name of such functions with an exclamation mark (!). This is simply a convention, however, and is meant to facilitate code readability and understanding. It does not have a special syntactical significance."
   ]
  },
  {
   "cell_type": "code",
   "execution_count": null,
   "id": "1805bc67-74e9-45ad-89ea-e2800efa3ef2",
   "metadata": {},
   "outputs": [],
   "source": [
    "function make_double!(x)\n",
    "    for i in eachindex(x)\n",
    "        x[i] = 2*x[i]\n",
    "    end\n",
    "end\n",
    "\n",
    "\n",
    "X = [1,2,3]\n",
    "println(\"X before the function call is $X\")\n",
    "   \n",
    "make_double!(X)\n",
    "    \n",
    "println(\"X after the function call is $X\")"
   ]
  },
  {
   "cell_type": "markdown",
   "id": "7be99843-f472-4154-bbf2-dceb2bc81954",
   "metadata": {},
   "source": [
    "#### Caveats on mutating functions\n",
    "\n",
    "- Proper mutation requires that the argument in question is mutable in the first place. The above example will fail if X is e.g. a tuple.\n",
    "- Attempts at mutation can fail if they reassign to variables in the local scope."
   ]
  },
  {
   "cell_type": "code",
   "execution_count": null,
   "id": "db1c6e7c-5cf6-49ee-acde-468de597d6c4",
   "metadata": {},
   "outputs": [],
   "source": [
    "# do not confuse mutating functions with scope\n",
    "\n",
    "function make_double!(x)\n",
    "    x = 2*x # this assignment creates a variable in the local scope\n",
    "    println(\"x inside the function is $x\")\n",
    "end\n",
    "\n",
    "\n",
    "X = [1,2,3]\n",
    "println(\"X before the function call is $X\")\n",
    "   \n",
    "make_double!(X)\n",
    "    \n",
    "println(\"X after the function call is $X\")"
   ]
  },
  {
   "cell_type": "markdown",
   "id": "df8c2c0c-0aea-41d6-801c-afc40ba40c41",
   "metadata": {},
   "source": [
    "### Function composition and piping"
   ]
  },
  {
   "cell_type": "code",
   "execution_count": null,
   "id": "96bc1d49-f2e4-45c7-9574-5e1e884b1a85",
   "metadata": {},
   "outputs": [],
   "source": [
    "# instead of nesting function calls one inside the other, like this...\n",
    "println( sqrt(exp(sin(2))) )\n",
    "\n",
    "# ...Julia offers the use of function composition by means of the ∘ operator (\\circ<TAB>), which is much closer to mathematical notation\n",
    "println( (sqrt ∘ exp ∘ sin)(2) ) # note that these are applied right-to-left, just like the nested function calls are appried from the inside out"
   ]
  },
  {
   "cell_type": "code",
   "execution_count": null,
   "id": "298b2e5e-fb71-43e3-81ca-42a2caa5d4d8",
   "metadata": {},
   "outputs": [],
   "source": [
    "# However, this is not restricted to mathematical functions only, here println is included in the composition as well:\n",
    "\n",
    "(println ∘ sqrt ∘ exp ∘ sin)(2) "
   ]
  },
  {
   "cell_type": "markdown",
   "id": "9d4c4aee-6a6f-457e-aa7c-c00dfdc078ca",
   "metadata": {},
   "source": [
    "\"Piping\" or \"chaining\" refers to sending one object (often the output of a function) as input to another function. This is done by means of the `|>` operator."
   ]
  },
  {
   "cell_type": "code",
   "execution_count": null,
   "id": "79d1894d-3e7d-44fe-8fe7-4686fc578d56",
   "metadata": {},
   "outputs": [],
   "source": [
    "2 |> sin |> exp |> sqrt # note that no parentheses are needed"
   ]
  },
  {
   "cell_type": "markdown",
   "id": "287e4107-45e8-49d0-b144-10fd81b6f8f9",
   "metadata": {},
   "source": [
    "### Vectorization using dot syntax\n",
    "\n",
    "From the documentation:\n",
    "\n",
    "> ... *any* Julia function `f` can be applied elementwise to any array (or other collection) with the syntax `f.(A)`\n",
    "\n",
    "This is referred to as *vectorization*.\n",
    "\n",
    "Vectorization applies to functions that are not able to accept directly the correspoding type of collection as argument.\n",
    "\n",
    "Vectorization is related to the concept of [broadcasting](https://docs.julialang.org/en/v1/manual/arrays/#Broadcasting) and therefore application of the dot syntax is sometimes referred to as broadcasting the function over an array etc."
   ]
  },
  {
   "cell_type": "code",
   "execution_count": null,
   "id": "059ecdbb-98a0-4565-a672-2ce525b9c523",
   "metadata": {},
   "outputs": [],
   "source": [
    "x = [9,16,25]\n",
    "\n",
    "sqrt.(x) # the sqrt(x) will raise an error"
   ]
  },
  {
   "cell_type": "code",
   "execution_count": null,
   "id": "5fd3fd2e-7a9f-4a84-978a-91f434100e8c",
   "metadata": {},
   "outputs": [],
   "source": [
    "# broadcasting is not performed over keyword arguments\n",
    "\n",
    "round.([1.2154199, 2.6534732, 3.3456238], digits=4)"
   ]
  },
  {
   "cell_type": "code",
   "execution_count": null,
   "id": "23eb202a-4ec5-4618-abac-eb553e4d3f4f",
   "metadata": {},
   "outputs": [],
   "source": [
    "# broadcasting calls can be nested\n",
    "\n",
    "x = [9,16,25]\n",
    "\n",
    "y = cos.(exp.(sin.(x)))"
   ]
  },
  {
   "cell_type": "code",
   "execution_count": null,
   "id": "c55e4888-be54-4832-aafb-e0c810eda4ee",
   "metadata": {},
   "outputs": [],
   "source": [
    "# The @. macro provides a shortcut that \"dots\" every function involved in a complex call\n",
    "\n",
    "@. y = cos(exp(sin(x)))"
   ]
  },
  {
   "cell_type": "code",
   "execution_count": null,
   "id": "59dad58c-fef0-41f3-aa61-ee3694eaaf77",
   "metadata": {
    "tags": []
   },
   "outputs": [],
   "source": [
    "# the pipe operator also supports broadcasting\n",
    "\n",
    "[pi/2, 1, pi/2] .|> [sin, exp, cos]"
   ]
  },
  {
   "cell_type": "markdown",
   "id": "fa935894-2393-4335-a62e-1c1fa8848ece",
   "metadata": {},
   "source": [
    "### Multiple dispatch and methods\n",
    "\n",
    "Julia functions rely on a principle known as **multiple dispatch**, which means that, depending on the types of arguments passed to a function, execution is re-routed (dispatched) to different versions of the function (*methods*)."
   ]
  },
  {
   "cell_type": "code",
   "execution_count": null,
   "id": "f2683339-1c44-49bf-9919-c1648b703d30",
   "metadata": {},
   "outputs": [],
   "source": [
    "invert(x::String) = x[end:-1:1]\n",
    "invert(x::Number) = 1/x\n",
    "invert(x::Matrix) = x^(-1)\n",
    "\n",
    "println(invert(\"Julia\"))\n",
    "println(invert(1/5))\n",
    "println(invert([1 4 7; 2 5 7; 3 6 9]))"
   ]
  },
  {
   "cell_type": "code",
   "execution_count": null,
   "id": "5871cc6c-ebf4-4489-bcb2-2e16e66c0d76",
   "metadata": {},
   "outputs": [],
   "source": [
    "invert"
   ]
  },
  {
   "cell_type": "code",
   "execution_count": null,
   "id": "57fec3f8-e27a-4e03-ad3d-27cd9cfb414a",
   "metadata": {},
   "outputs": [],
   "source": [
    "methods(invert)"
   ]
  },
  {
   "cell_type": "code",
   "execution_count": null,
   "id": "f48810b4-7a1e-4592-8869-c76a7adf703f",
   "metadata": {},
   "outputs": [],
   "source": [
    "# this will fail because there is no method to handle tuples\n",
    "invert((1,2,3))"
   ]
  },
  {
   "cell_type": "code",
   "execution_count": null,
   "id": "1a26274a-45b6-4edb-9f3d-6587f7e50d01",
   "metadata": {},
   "outputs": [],
   "source": [
    "# let's decide that inverting a tuple means reversing the order of its elements\n",
    "invert(x::Tuple) = x[end:-1:1]"
   ]
  },
  {
   "cell_type": "code",
   "execution_count": null,
   "id": "19dd6c27-36f2-4c20-8cdf-1bae33217d9f",
   "metadata": {},
   "outputs": [],
   "source": [
    "invert((1,2,3))"
   ]
  },
  {
   "cell_type": "code",
   "execution_count": null,
   "id": "06936ecd-9a71-4def-9c80-2067aed69947",
   "metadata": {},
   "outputs": [],
   "source": [
    "# the @which macro give us the method that the particular set of arguments was dispatched to:\n",
    "@which invert((1,2,3))"
   ]
  },
  {
   "cell_type": "code",
   "execution_count": null,
   "id": "8d7eebf7-977b-468b-a2db-0a6d93d94f34",
   "metadata": {},
   "outputs": [],
   "source": [
    "# this provides a mechanism of removing a method:\n",
    "m = @which invert((1,2,3))\n",
    "Base.delete_method(m)"
   ]
  },
  {
   "cell_type": "code",
   "execution_count": null,
   "id": "4d3dc6e8-c78a-45f9-806d-88c0bff6a4f2",
   "metadata": {},
   "outputs": [],
   "source": [
    "methods(invert)"
   ]
  }
 ],
 "metadata": {
  "kernelspec": {
   "display_name": "Julia 1.11.3",
   "language": "julia",
   "name": "julia-1.11"
  },
  "language_info": {
   "file_extension": ".jl",
   "mimetype": "application/julia",
   "name": "julia",
   "version": "1.11.3"
  }
 },
 "nbformat": 4,
 "nbformat_minor": 5
}
