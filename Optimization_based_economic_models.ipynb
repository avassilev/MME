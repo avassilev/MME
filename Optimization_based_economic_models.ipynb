{
 "cells": [
  {
   "cell_type": "markdown",
   "id": "a5bcea79-ecbe-4a0b-9d01-f66caaa29f78",
   "metadata": {},
   "source": [
    "# Optimization-based economic models – an introduction"
   ]
  },
  {
   "cell_type": "markdown",
   "id": "3b43fcbb-b8e1-45c5-be84-85f65f9f9b8d",
   "metadata": {},
   "source": [
    "Main topics\n",
    "\n",
    "- The toolkit\n",
    "- Consumer choice – a numerical treatment\n",
    "- Monopoly"
   ]
  },
  {
   "cell_type": "markdown",
   "id": "b2f750c7-d7d7-4ce0-b63b-3218bdcc08c7",
   "metadata": {},
   "source": [
    "## Optimization in Julia"
   ]
  },
  {
   "cell_type": "markdown",
   "id": "d67dca05-59cd-4c45-a7b2-079e26350920",
   "metadata": {},
   "source": [
    "- Julia has a number of packages that solve various classes of optimization problems\n",
    "    + [Optim.jl](https://github.com/JuliaNLSolvers/Optim.jl) (more generally, see [JuliaNLSolvers](https://github.com/JuliaNLSolvers))\n",
    "    + [Optimization.jl](https://github.com/SciML/Optimization.jl)\n",
    "    + [BlackBoxOptim.jl](https://github.com/robertfeldt/BlackBoxOptim.jl)\n",
    "- Some of these packages offer different and complementary approaches to the same type of problem\n",
    "- The diversity of packages results to a proliferation of different APIs for defining and solving problems $\\Rightarrow$ there is a need for a unified interface that facilitates access to the different packages\n",
    "- [JuMP](https://jump.dev/) offers a domain-specific language for defining and working with optimization problems"
   ]
  },
  {
   "cell_type": "markdown",
   "id": "cb8ea237-4a6d-4bb7-a3e5-a209ee7f6bce",
   "metadata": {},
   "source": [
    "To install JuMP and a couple of solvers, run the following:"
   ]
  },
  {
   "cell_type": "code",
   "execution_count": null,
   "id": "9cf22080-2da1-4182-b737-3c506805a1c9",
   "metadata": {
    "scrolled": true
   },
   "outputs": [],
   "source": [
    "import Pkg\n",
    "Pkg.add(\"JuMP\")\n",
    "Pkg.add(\"Ipopt\")\n",
    "# Pkg.add(\"HiGHS\") # optional"
   ]
  },
  {
   "cell_type": "markdown",
   "id": "db0a7560-f93a-4edb-978a-ae65dc9d973e",
   "metadata": {},
   "source": [
    "$$ \\min_{x_1,x_2} ~ (x_1-3)^2 + (x_2-2)^2 $$\n",
    "s.t.\n",
    "$$x_1^2+x_2^2 \\leq 5$$\n",
    "$$ x_1+x_2 \\leq 3 $$\n",
    "$$ x_1,x_2 \\geq 0 $$\n"
   ]
  },
  {
   "cell_type": "code",
   "execution_count": null,
   "id": "f4ef8331-b713-463f-8622-34dcb6b2559d",
   "metadata": {},
   "outputs": [],
   "source": [
    "using JuMP, Ipopt"
   ]
  },
  {
   "cell_type": "code",
   "execution_count": null,
   "id": "20b88e5d-7b62-4a83-894b-03682e8b2336",
   "metadata": {
    "scrolled": true
   },
   "outputs": [],
   "source": [
    "model = Model(Ipopt.Optimizer)"
   ]
  },
  {
   "cell_type": "code",
   "execution_count": null,
   "id": "e5f064f7-4443-466b-bd53-c8c6213534f7",
   "metadata": {},
   "outputs": [],
   "source": [
    "@variable(model, x₁ >= 0)"
   ]
  },
  {
   "cell_type": "code",
   "execution_count": null,
   "id": "907fe064-45e2-42ac-830b-d3151bb625be",
   "metadata": {},
   "outputs": [],
   "source": [
    "@variable(model, x₂ >= 0)"
   ]
  },
  {
   "cell_type": "code",
   "execution_count": null,
   "id": "eb9349d1-d3dd-475b-94a9-8cb0db220d21",
   "metadata": {},
   "outputs": [],
   "source": [
    "@objective(model,Min,(x₁-3)^2+(x₂-2)^2)"
   ]
  },
  {
   "cell_type": "code",
   "execution_count": null,
   "id": "ec162250-3807-40ac-9a6a-27f2047f1c62",
   "metadata": {},
   "outputs": [],
   "source": [
    "@constraint(model, c₁, x₁^2 + x₂^2 <= 5)"
   ]
  },
  {
   "cell_type": "code",
   "execution_count": null,
   "id": "a3f45cf8-9b46-4b07-9ab7-1732cb587dd1",
   "metadata": {},
   "outputs": [],
   "source": [
    "@constraint(model, c₂,x₁ + x₂ <= 3)"
   ]
  },
  {
   "cell_type": "code",
   "execution_count": null,
   "id": "c2a1d44e-44fe-4771-9f4e-daa1e59ed1d6",
   "metadata": {},
   "outputs": [],
   "source": [
    "print(model)"
   ]
  },
  {
   "cell_type": "code",
   "execution_count": null,
   "id": "a77daac0-68a3-4ba7-aedf-b7b6b784c8e2",
   "metadata": {},
   "outputs": [],
   "source": [
    "optimize!(model)"
   ]
  },
  {
   "cell_type": "markdown",
   "id": "2882697f-d048-4f43-b6cc-e95986470815",
   "metadata": {},
   "source": [
    "The output is quite detailed in this case but in principle it is good practice to check if model is solved and a solution found:"
   ]
  },
  {
   "cell_type": "code",
   "execution_count": null,
   "id": "0f475398-7cc9-4844-a6ec-000a18334753",
   "metadata": {},
   "outputs": [],
   "source": [
    "is_solved_and_feasible(model)"
   ]
  },
  {
   "cell_type": "code",
   "execution_count": null,
   "id": "fdc684f0-d7c9-43ca-ac27-66657724a0bd",
   "metadata": {
    "scrolled": true
   },
   "outputs": [],
   "source": [
    "termination_status(model)"
   ]
  },
  {
   "cell_type": "markdown",
   "id": "8fc7e96d-4d4e-42a8-8c06-904f03af3a63",
   "metadata": {},
   "source": [
    "`termination_status` provides the reason the solver stopped, i.e. did it succeed, fail etc. [List of termination statuses](https://jump.dev/JuMP.jl/stable/moi/reference/models/#MathOptInterface.TerminationStatusCode)"
   ]
  },
  {
   "cell_type": "code",
   "execution_count": null,
   "id": "d32d6973-781c-4913-a6d5-f2b9a1c5d2e0",
   "metadata": {},
   "outputs": [],
   "source": [
    "primal_status(model)"
   ]
  },
  {
   "cell_type": "code",
   "execution_count": null,
   "id": "3e63136e-953c-4a4a-a17d-3612d5e03f4b",
   "metadata": {},
   "outputs": [],
   "source": [
    "dual_status(model)"
   ]
  },
  {
   "cell_type": "markdown",
   "id": "03d8a9ef-e256-4835-9b1f-9a39f8fd6fe8",
   "metadata": {},
   "source": [
    "`primal_status` and `dual_status` tell us how to interpret the result vector. [List of result statuses](https://jump.dev/JuMP.jl/stable/moi/reference/models/#MathOptInterface.ResultStatusCode)"
   ]
  },
  {
   "cell_type": "code",
   "execution_count": null,
   "id": "b8bee03f-8233-4c99-8640-5f6c206278d5",
   "metadata": {},
   "outputs": [],
   "source": [
    "value(x₁)"
   ]
  },
  {
   "cell_type": "code",
   "execution_count": null,
   "id": "94f3924e-945c-4cd8-adb5-1a5b788ab068",
   "metadata": {},
   "outputs": [],
   "source": [
    "value(x₂)"
   ]
  },
  {
   "cell_type": "code",
   "execution_count": null,
   "id": "8b75cf21-34fa-4d4c-b4e3-b3b151489547",
   "metadata": {},
   "outputs": [],
   "source": [
    "shadow_price(c₁)"
   ]
  },
  {
   "cell_type": "code",
   "execution_count": null,
   "id": "91a1cc6e-2bd5-4ee0-9595-920b56a63d36",
   "metadata": {},
   "outputs": [],
   "source": [
    "shadow_price(c₂)"
   ]
  },
  {
   "cell_type": "markdown",
   "id": "d2c7daea-8fa3-459c-bd95-0df2a1c51bf3",
   "metadata": {},
   "source": [
    "## Consumer choice – a numerical treatment\n",
    "\n",
    "Main problem:\n",
    "\n",
    "$$ \\max_{x_1,x_2} x_1^{\\alpha_1} x_2^{\\alpha_2} $$\n",
    "\n",
    "s.t.\n",
    "\n",
    "$$ p_1 x_1 + p_2 x_2 = I $$\n",
    "\n"
   ]
  },
  {
   "cell_type": "code",
   "execution_count": null,
   "id": "691209a6-b14a-4710-8442-cea169417839",
   "metadata": {},
   "outputs": [],
   "source": [
    "p = [2,2]\n",
    "I = 20\n",
    "a1 = 0.4\n",
    "a2 = 1-a1\n",
    "umod = Model(Ipopt.Optimizer)\n",
    "set_silent(umod)\n",
    "@variable(umod, x[1:2] >= 0)\n",
    "@constraint(umod, budget, p'*x == I)\n",
    "@objective(umod, Max, x[1]^a1*x[2]^a2)\n",
    "optimize!(umod)\n",
    "cons1, cons2 = value.(x);\n",
    "println(\"Consumption of good 1 = $cons1, Consumption of good 2 = $cons2\")"
   ]
  },
  {
   "cell_type": "markdown",
   "id": "0b4037d8-7be8-46ef-97e5-a66fc72a3100",
   "metadata": {},
   "source": [
    "#### Plot budget constraint and indifference curve for optimal solution"
   ]
  },
  {
   "cell_type": "code",
   "execution_count": null,
   "id": "ae209466-f72f-41c0-83c4-f0d874be9b16",
   "metadata": {},
   "outputs": [],
   "source": [
    "using Plots, LaTeXStrings\n",
    "\n",
    "graph_scale = 1.3\n",
    "\n",
    "u_star = cons1^a1 * cons2^a2\n",
    "\n",
    "# Budget line\n",
    "x1_vals = range(0, I/p[1], length=200)\n",
    "budget_line = [(I - p[1]*x1)/p[2] for x1 in x1_vals]\n",
    "\n",
    "# Indifference curve\n",
    "indiff_x1 = range(0.01, maximum(x1_vals), length=200)  # avoid zero to prevent div-by-zero\n",
    "indiff_x2 = [(u_star / x1^a1)^(1/a2) for x1 in indiff_x1]\n",
    "\n",
    "\n",
    "plot(x1_vals, budget_line, label=\"Budget Line\", lw=2, color=:blue)\n",
    "plot!(indiff_x1, indiff_x2, label=\"Indifference Curve\", lw=2, color=:red)\n",
    "scatter!([cons1], [cons2], label=\"Optimal Bundle\", color=:black, markersize=6)\n",
    "xlims!(0, maximum(x1_vals)*graph_scale)\n",
    "ylims!(0, maximum(budget_line)*graph_scale)\n",
    "xlabel!(L\"$x_1$\")\n",
    "ylabel!(L\"$x_2$\")"
   ]
  },
  {
   "cell_type": "markdown",
   "id": "a2fbe3cf-785f-4208-8dae-ed88dc51a130",
   "metadata": {},
   "source": [
    "#### The effects of a reduction in $ p_1 $"
   ]
  },
  {
   "cell_type": "code",
   "execution_count": null,
   "id": "f122a920-6185-4e69-a899-cdcf05047c50",
   "metadata": {},
   "outputs": [],
   "source": [
    "p_new = [1, 2]\n",
    "\n",
    "# New problem\n",
    "umod2 = Model(Ipopt.Optimizer)\n",
    "set_silent(umod2)\n",
    "@variable(umod2, x_new[1:2] >= 0)\n",
    "@constraint(umod2, p_new' * x_new == I)\n",
    "@objective(umod2, Max, x_new[1]^a1 * x_new[2]^a2)\n",
    "optimize!(umod2)\n",
    "new_cons1, new_cons2 = value.(x_new)\n",
    "u_new = new_cons1^a1 * new_cons2^a2\n",
    "\n",
    "# New budget line\n",
    "x1_vals_new = range(0, I/p_new[1], length=200)\n",
    "budget_line_new = [(I - p_new[1]*x1)/p_new[2] for x1 in x1_vals_new]\n",
    "\n",
    "# New indifference curve\n",
    "indiff_x1_new = range(0.01, maximum(x1_vals_new), length=200)\n",
    "indiff_x2_new = [(u_new / x1^a1)^(1/a2) for x1 in indiff_x1_new]\n",
    "\n",
    "\n",
    "plot!(x1_vals_new, budget_line_new, label=\"New Budget Line\", lw=2, color=:blue, linestyle=:dash)\n",
    "plot!(indiff_x1_new, indiff_x2_new, label=\"New Indifference Curve\", lw=2, color=:red, linestyle=:dash)\n",
    "scatter!([new_cons1], [new_cons2], label=\"New Optimal Bundle\", color=:black, markershape=:star5, markersize=8)\n",
    "xlims!(0, maximum(x1_vals_new)*graph_scale)\n",
    "ylims!(0, maximum(budget_line_new)*graph_scale)\n"
   ]
  },
  {
   "cell_type": "markdown",
   "id": "2b272194-947f-4425-a65e-65cbc4b53cb8",
   "metadata": {},
   "source": [
    "#### Income and substitution effects"
   ]
  },
  {
   "cell_type": "code",
   "execution_count": null,
   "id": "91f3aaa1-d0e9-4695-a311-bbb8b69f337a",
   "metadata": {},
   "outputs": [],
   "source": [
    "# Illustrate income and substitution effects\n",
    "umod3 = Model(Ipopt.Optimizer)\n",
    "set_silent(umod3)\n",
    "\n",
    "@variable(umod3, x_subs[1:2] >= 0)\n",
    "@variable(umod3, I_new >= 0)  # flexible income/budget\n",
    "\n",
    "@constraint(umod3, p' * x_subs == I_new)  # Budget constraint: old prices, variable income\n",
    "@constraint(umod3, x_subs[1]^a1 * x_subs[2]^a2 == u_new)  # Achieve new utility level as calculated above\n",
    "\n",
    "@objective(umod3, Min, I_new)  # Minimize budget to reach u_new\n",
    "optimize!(umod3)\n",
    "\n",
    "subs_cons1, subs_cons2 = value.(x_subs)\n",
    "I_val = value(I_new)\n",
    "\n",
    "# Compensated budget line (same slope as original, passes through compensated bundle)\n",
    "comp_x1_vals = range(0, I_val / p[1], length=200)\n",
    "budget_line_comp = [(I_val - p[1]*x1)/p[2] for x1 in comp_x1_vals]\n",
    "\n",
    "# Plot compensated budget line and bundle\n",
    "plot!(comp_x1_vals, budget_line_comp, label=\"Compensated Budget Line\", lw=2, color=:green, linestyle=:dash)\n",
    "scatter!([subs_cons1], [subs_cons2], label=\"Compensated Bundle\", color=:green, markersize=6)\n"
   ]
  },
  {
   "cell_type": "markdown",
   "id": "3f4fe4b2-6432-42d2-92f5-f037d330bb31",
   "metadata": {},
   "source": [
    "## Monopoly\n",
    "\n",
    "- When only one firm is operating in a given market, it does not take the price as given. Instead, the monopolist now faces the market demand, as formalized by a market demand function (market demand curve).\n",
    "- A standard market **demand function** specifies the total quantity $q$ of the respective good that market participants are willing to buy at a given price $p$, i.e. $q(p)$.\n",
    "- It is sometimes more convenient to work with the **inverse demand function**, denoted by $p(q)$, which specifies the price required for market participants to be willing to buy a given quantity $q$. This is normally a decreasing function of $q$.\n",
    "- The monopolist's profit is defined in the standard way:\n",
    "$$ \\Pi = R(q) - C(q), $$\n",
    "where $R(q)$ denotes total revenue and $C(q)$ denotes total cost (an increasing function of $q$).\n",
    "- Unlike the case of perfect competition, where $R(q) = pq$, here we have\n",
    "$$ R(q) = p(q)q .$$\n",
    "- Thus, profit here takes the form\n",
    "$$ \\Pi = p(q)q - C(q) \\qquad \\qquad \\qquad (\\text{M-1})$$\n",
    "- The monopolist wants to maximize profit. Whether this maximum exists and whether it is positive depends on $p(q)$ and $C(q)$.\n",
    "- Assuming differentiability, the standard optimality condition takes the form\n",
    "$$ p'(q)q+p(q) = C'(q), \\qquad \\qquad (\\text{M-2})$$\n",
    "i.e. marginal revenue equals marginal cost.\n",
    "- Defining the elasticity of a differentiable function $f(x)$ as $\\epsilon_f(x) := \\frac{f'(x)x}{f(x)}$, we can write equation $(\\text{M-2})$ as\n",
    "$$ p(q)\\left[ 1 + \\epsilon_p(q) \\right] = C'(q) \\qquad \\qquad (\\text{M-3})$$\n",
    "- Equation $(\\text{M-3})$ uses the (quantity) elasticity $\\epsilon_p(q)$ of the inverse demand function. It is sometimes more convenient to express it in terms of the (price) elasticity $\\epsilon_q(p)$ of the original market demand function $q(p)$, using the fact that $\\epsilon_p(q) = 1/\\epsilon_q(q)$:\n",
    "$$ p(q)\\left[ 1 + \\frac{1}{\\epsilon_q(q)} \\right] = C'(q) \\quad \\Leftrightarrow \\quad  p(q)\\left[ 1 - \\frac{1}{|\\epsilon_q(q)|} \\right] = C'(q).$$\n",
    "Note that both elasticities are negative in the typical case of downward-sloping demand functions.\n",
    "- Using the last condition, we can conclude that the optimal quantity cannot be a point where $|\\epsilon_q| \\leq 1$, since marginal revenue is non-positive and cannot equal (the positive) marginal cost. At a point where the elasticity is less than 1 the monopolist is in a situation where decreasing the quantity produced will both increase revenue and decrease cost, so it cannot be an optimum.\n",
    "- If $|\\epsilon_q| > 1$, for the optimal quantity $q^*$ we can write\n",
    "$$ p(q^*) = \\frac{1}{1-1/|\\epsilon_q(q^*)|}C'(q^*) .$$\n",
    "- Since $\\frac{1}{1-1/|\\epsilon_q(q^*)|} > 1$, the last expression may be interpreted as saying that price is formed as a *markup* over marginal cost."
   ]
  }
 ],
 "metadata": {
  "kernelspec": {
   "display_name": "Julia 1.11.4",
   "language": "julia",
   "name": "julia-1.11"
  },
  "language_info": {
   "file_extension": ".jl",
   "mimetype": "application/julia",
   "name": "julia",
   "version": "1.11.4"
  },
  "widgets": {
   "application/vnd.jupyter.widget-state+json": {
    "state": {},
    "version_major": 2,
    "version_minor": 0
   }
  }
 },
 "nbformat": 4,
 "nbformat_minor": 5
}
