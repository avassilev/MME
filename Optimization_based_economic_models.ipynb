{
 "cells": [
  {
   "cell_type": "markdown",
   "id": "a5bcea79-ecbe-4a0b-9d01-f66caaa29f78",
   "metadata": {},
   "source": [
    "# Optimization-based economic models – an introduction"
   ]
  },
  {
   "cell_type": "markdown",
   "id": "3b43fcbb-b8e1-45c5-be84-85f65f9f9b8d",
   "metadata": {},
   "source": [
    "Main topics\n",
    "\n",
    "- The toolkit\n",
    "- \n",
    "- Utility maximization\n",
    "- Profit maximization"
   ]
  },
  {
   "cell_type": "markdown",
   "id": "b2f750c7-d7d7-4ce0-b63b-3218bdcc08c7",
   "metadata": {},
   "source": [
    "## Optimization in Julia"
   ]
  },
  {
   "cell_type": "markdown",
   "id": "d67dca05-59cd-4c45-a7b2-079e26350920",
   "metadata": {},
   "source": [
    "- Julia has a number of packages that solve various classes of optimization problems\n",
    "    + [Optim.jl](https://github.com/JuliaNLSolvers/Optim.jl) (more generally, see [JuliaNLSolvers](https://github.com/JuliaNLSolvers))\n",
    "    + [Optimization.jl](https://github.com/SciML/Optimization.jl)\n",
    "    + [BlackBoxOptim.jl](https://github.com/robertfeldt/BlackBoxOptim.jl)\n",
    "- Some of these packages offer different and complementary approaches to the same type of problem\n",
    "- The diversity of packages results to a proliferation of different APIs for defining and solving problems $\\Rightarrow$ there is a need for a unified interface that facilitates access to the different packages\n",
    "- [JuMP](https://jump.dev/) offers a domain-specific language for defining and working with optimization problems"
   ]
  },
  {
   "cell_type": "markdown",
   "id": "cb8ea237-4a6d-4bb7-a3e5-a209ee7f6bce",
   "metadata": {},
   "source": [
    "To install JuMP and a couple of solvers, run the following:"
   ]
  },
  {
   "cell_type": "code",
   "execution_count": null,
   "id": "cf9ee140-54d8-4749-9e7d-47d54274f3b4",
   "metadata": {
    "scrolled": true
   },
   "outputs": [],
   "source": [
    "import Pkg\n",
    "Pkg.add(\"JuMP\")\n",
    "Pkg.add(\"Ipopt\")\n",
    "Pkg.add(\"HiGHS\")"
   ]
  },
  {
   "cell_type": "markdown",
   "id": "db0a7560-f93a-4edb-978a-ae65dc9d973e",
   "metadata": {},
   "source": [
    "$$ \\min_{x_1,x_2} ~ (x_1-3)^2 + (x_2-2)^2 $$\n",
    "s.t.\n",
    "$$x_1^2+x_2^2 \\leq 5$$\n",
    "$$ x_1+x_2 \\leq 3 $$\n",
    "$$ x_1,x_2 \\geq 0 $$\n"
   ]
  },
  {
   "cell_type": "code",
   "execution_count": 29,
   "id": "f4ef8331-b713-463f-8622-34dcb6b2559d",
   "metadata": {},
   "outputs": [],
   "source": [
    "using JuMP, Ipopt"
   ]
  },
  {
   "cell_type": "code",
   "execution_count": 19,
   "id": "34ea5e58-dc1c-46e0-a531-d5ad185b1db7",
   "metadata": {},
   "outputs": [],
   "source": [
    "model = nothing"
   ]
  },
  {
   "cell_type": "code",
   "execution_count": 45,
   "id": "20b88e5d-7b62-4a83-894b-03682e8b2336",
   "metadata": {
    "scrolled": true
   },
   "outputs": [
    {
     "data": {
      "text/plain": [
       "A JuMP Model\n",
       "Feasibility problem with:\n",
       "Variables: 0\n",
       "Model mode: AUTOMATIC\n",
       "CachingOptimizer state: EMPTY_OPTIMIZER\n",
       "Solver name: Ipopt"
      ]
     },
     "execution_count": 45,
     "metadata": {},
     "output_type": "execute_result"
    }
   ],
   "source": [
    "model = Model(Ipopt.Optimizer)"
   ]
  },
  {
   "cell_type": "code",
   "execution_count": 46,
   "id": "e5f064f7-4443-466b-bd53-c8c6213534f7",
   "metadata": {},
   "outputs": [
    {
     "data": {
      "text/latex": [
       "$ x₁ $"
      ],
      "text/plain": [
       "x₁"
      ]
     },
     "execution_count": 46,
     "metadata": {},
     "output_type": "execute_result"
    }
   ],
   "source": [
    "@variable(model, x₁ >= 0)"
   ]
  },
  {
   "cell_type": "code",
   "execution_count": 47,
   "id": "907fe064-45e2-42ac-830b-d3151bb625be",
   "metadata": {},
   "outputs": [
    {
     "data": {
      "text/latex": [
       "$ x₂ $"
      ],
      "text/plain": [
       "x₂"
      ]
     },
     "execution_count": 47,
     "metadata": {},
     "output_type": "execute_result"
    }
   ],
   "source": [
    "@variable(model, x₂ >= 0)"
   ]
  },
  {
   "cell_type": "code",
   "execution_count": 48,
   "id": "eb9349d1-d3dd-475b-94a9-8cb0db220d21",
   "metadata": {},
   "outputs": [
    {
     "data": {
      "text/latex": [
       "$ x₁^2 + x₂^2 - 6 x₁ - 4 x₂ + 13 $"
      ],
      "text/plain": [
       "x₁² + x₂² - 6 x₁ - 4 x₂ + 13"
      ]
     },
     "execution_count": 48,
     "metadata": {},
     "output_type": "execute_result"
    }
   ],
   "source": [
    "@objective(model,Min,(x₁-3)^2+(x₂-2)^2)"
   ]
  },
  {
   "cell_type": "code",
   "execution_count": 49,
   "id": "ec162250-3807-40ac-9a6a-27f2047f1c62",
   "metadata": {},
   "outputs": [
    {
     "data": {
      "text/latex": [
       "$$ x₁^2 + x₂^2 \\leq 5 $$"
      ],
      "text/plain": [
       "c₁ : x₁² + x₂² <= 5"
      ]
     },
     "execution_count": 49,
     "metadata": {},
     "output_type": "execute_result"
    }
   ],
   "source": [
    "@constraint(model, c₁, x₁^2 + x₂^2 <= 5)"
   ]
  },
  {
   "cell_type": "code",
   "execution_count": 50,
   "id": "a3f45cf8-9b46-4b07-9ab7-1732cb587dd1",
   "metadata": {},
   "outputs": [
    {
     "data": {
      "text/latex": [
       "$$ x₁ + x₂ \\leq 3 $$"
      ],
      "text/plain": [
       "c₂ : x₁ + x₂ <= 3"
      ]
     },
     "execution_count": 50,
     "metadata": {},
     "output_type": "execute_result"
    }
   ],
   "source": [
    "@constraint(model, c₂,x₁ + x₂ <= 3)"
   ]
  },
  {
   "cell_type": "code",
   "execution_count": 51,
   "id": "c2a1d44e-44fe-4771-9f4e-daa1e59ed1d6",
   "metadata": {},
   "outputs": [
    {
     "data": {
      "text/latex": [
       "$$ \\begin{aligned}\n",
       "\\min\\quad & x₁^2 + x₂^2 - 6 x₁ - 4 x₂ + 13\\\\\n",
       "\\text{Subject to} \\quad & x₁ + x₂ \\leq 3\\\\\n",
       " & x₁^2 + x₂^2 \\leq 5\\\\\n",
       " & x₁ \\geq 0\\\\\n",
       " & x₂ \\geq 0\\\\\n",
       "\\end{aligned} $$"
      ]
     },
     "metadata": {},
     "output_type": "display_data"
    }
   ],
   "source": [
    "print(model)"
   ]
  },
  {
   "cell_type": "code",
   "execution_count": 52,
   "id": "a77daac0-68a3-4ba7-aedf-b7b6b784c8e2",
   "metadata": {},
   "outputs": [
    {
     "name": "stdout",
     "output_type": "stream",
     "text": [
      "This is Ipopt version 3.14.14, running with linear solver MUMPS 5.6.2.\n",
      "\n",
      "Number of nonzeros in equality constraint Jacobian...:        0\n",
      "Number of nonzeros in inequality constraint Jacobian.:        4\n",
      "Number of nonzeros in Lagrangian Hessian.............:        4\n",
      "\n",
      "Total number of variables............................:        2\n",
      "                     variables with only lower bounds:        2\n",
      "                variables with lower and upper bounds:        0\n",
      "                     variables with only upper bounds:        0\n",
      "Total number of equality constraints.................:        0\n",
      "Total number of inequality constraints...............:        2\n",
      "        inequality constraints with only lower bounds:        0\n",
      "   inequality constraints with lower and upper bounds:        0\n",
      "        inequality constraints with only upper bounds:        2\n",
      "\n",
      "iter    objective    inf_pr   inf_du lg(mu)  ||d||  lg(rg) alpha_du alpha_pr  ls\n",
      "   0  1.2900200e+01 0.00e+00 3.31e+00  -1.0 0.00e+00    -  0.00e+00 0.00e+00   0\n",
      "   1  1.1501457e+01 0.00e+00 5.55e+00  -1.0 2.85e-01    -  1.59e-01 1.00e+00f  1\n",
      "   2  2.1371787e+00 4.10e-01 1.27e+00  -1.0 3.23e+00    -  2.36e-01 8.27e-01f  1\n",
      "   3  2.4035588e+00 0.00e+00 3.65e-01  -1.0 2.88e+00    -  1.00e+00 1.00e+00h  1\n",
      "   4  2.0643018e+00 0.00e+00 4.41e-02  -1.7 9.10e-01    -  1.00e+00 1.00e+00h  1\n",
      "   5  2.0223037e+00 0.00e+00 1.16e-01  -2.5 1.57e-01    -  1.00e+00 7.95e-01h  1\n",
      "   6  2.0096010e+00 0.00e+00 1.44e-02  -2.5 9.05e-02    -  1.00e+00 1.00e+00f  1\n",
      "   7  2.0015559e+00 0.00e+00 4.92e-03  -3.8 5.81e-02    -  1.00e+00 9.64e-01h  1\n",
      "   8  2.0005765e+00 0.00e+00 7.38e-04  -3.8 2.67e-02    -  1.00e+00 1.00e+00h  1\n",
      "   9  2.0001067e+00 0.00e+00 4.47e-04  -5.7 1.45e-02    -  1.00e+00 9.90e-01h  1\n",
      "iter    objective    inf_pr   inf_du lg(mu)  ||d||  lg(rg) alpha_du alpha_pr  ls\n",
      "  10  2.0000287e+00 0.00e+00 5.31e-05  -5.7 7.28e-03    -  1.00e+00 1.00e+00h  1\n",
      "  11  2.0000090e+00 0.00e+00 1.25e-05  -5.7 3.54e-03    -  1.00e+00 1.00e+00h  1\n",
      "  12  2.0000017e+00 0.00e+00 8.51e-06  -8.6 1.90e-03    -  1.00e+00 9.99e-01h  1\n",
      "  13  2.0000004e+00 0.00e+00 9.02e-07  -8.6 9.50e-04    -  1.00e+00 1.00e+00h  1\n",
      "  14  2.0000001e+00 0.00e+00 2.24e-07  -8.6 4.73e-04    -  1.00e+00 1.00e+00h  1\n",
      "  15  2.0000000e+00 0.00e+00 5.54e-08  -8.6 2.35e-04    -  1.00e+00 1.00e+00h  1\n",
      "  16  2.0000000e+00 0.00e+00 1.33e-08  -8.6 1.15e-04    -  1.00e+00 1.00e+00h  1\n",
      "  17  1.9999999e+00 0.00e+00 3.50e-09  -9.0 5.91e-05    -  1.00e+00 1.00e+00h  1\n",
      "\n",
      "Number of Iterations....: 17\n",
      "\n",
      "                                   (scaled)                 (unscaled)\n",
      "Objective...............:   1.9999999431140900e+00    1.9999999431140900e+00\n",
      "Dual infeasibility......:   3.4984205595403262e-09    3.4984205595403262e-09\n",
      "Constraint violation....:   0.0000000000000000e+00    0.0000000000000000e+00\n",
      "Variable bound violation:   0.0000000000000000e+00    0.0000000000000000e+00\n",
      "Complementarity.........:   4.4075495992830603e-09    4.4075495992830603e-09\n",
      "Overall NLP error.......:   4.4075495992830603e-09    4.4075495992830603e-09\n",
      "\n",
      "\n",
      "Number of objective function evaluations             = 18\n",
      "Number of objective gradient evaluations             = 18\n",
      "Number of equality constraint evaluations            = 0\n",
      "Number of inequality constraint evaluations          = 18\n",
      "Number of equality constraint Jacobian evaluations   = 0\n",
      "Number of inequality constraint Jacobian evaluations = 18\n",
      "Number of Lagrangian Hessian evaluations             = 17\n",
      "Total seconds in IPOPT                               = 0.007\n",
      "\n",
      "EXIT: Optimal Solution Found.\n"
     ]
    }
   ],
   "source": [
    "optimize!(model)"
   ]
  },
  {
   "cell_type": "markdown",
   "id": "2882697f-d048-4f43-b6cc-e95986470815",
   "metadata": {},
   "source": [
    "The output is quite detailed in this case but in principle it is good practice to check if model is solved and a solution found:"
   ]
  },
  {
   "cell_type": "code",
   "execution_count": 53,
   "id": "0f475398-7cc9-4844-a6ec-000a18334753",
   "metadata": {},
   "outputs": [
    {
     "data": {
      "text/plain": [
       "true"
      ]
     },
     "execution_count": 53,
     "metadata": {},
     "output_type": "execute_result"
    }
   ],
   "source": [
    "is_solved_and_feasible(model)"
   ]
  },
  {
   "cell_type": "code",
   "execution_count": 54,
   "id": "fdc684f0-d7c9-43ca-ac27-66657724a0bd",
   "metadata": {
    "scrolled": true
   },
   "outputs": [
    {
     "data": {
      "text/plain": [
       "LOCALLY_SOLVED::TerminationStatusCode = 4"
      ]
     },
     "execution_count": 54,
     "metadata": {},
     "output_type": "execute_result"
    }
   ],
   "source": [
    "termination_status(model)"
   ]
  },
  {
   "cell_type": "markdown",
   "id": "8fc7e96d-4d4e-42a8-8c06-904f03af3a63",
   "metadata": {},
   "source": [
    "`termination_status` provides the reason the solver stopped, i.e. did it succeed, fail etc. [List of termination statuses](https://jump.dev/JuMP.jl/stable/moi/reference/models/#MathOptInterface.TerminationStatusCode)"
   ]
  },
  {
   "cell_type": "code",
   "execution_count": 55,
   "id": "d32d6973-781c-4913-a6d5-f2b9a1c5d2e0",
   "metadata": {},
   "outputs": [
    {
     "data": {
      "text/plain": [
       "FEASIBLE_POINT::ResultStatusCode = 1"
      ]
     },
     "execution_count": 55,
     "metadata": {},
     "output_type": "execute_result"
    }
   ],
   "source": [
    "primal_status(model)"
   ]
  },
  {
   "cell_type": "code",
   "execution_count": 56,
   "id": "3e63136e-953c-4a4a-a17d-3612d5e03f4b",
   "metadata": {},
   "outputs": [
    {
     "data": {
      "text/plain": [
       "FEASIBLE_POINT::ResultStatusCode = 1"
      ]
     },
     "execution_count": 56,
     "metadata": {},
     "output_type": "execute_result"
    }
   ],
   "source": [
    "dual_status(model)"
   ]
  },
  {
   "cell_type": "markdown",
   "id": "03d8a9ef-e256-4835-9b1f-9a39f8fd6fe8",
   "metadata": {},
   "source": [
    "`primal_status` and `dual_status` tell us how to interpret the result vector. [List of result statuses](https://jump.dev/JuMP.jl/stable/moi/reference/models/#MathOptInterface.ResultStatusCode)"
   ]
  },
  {
   "cell_type": "code",
   "execution_count": 57,
   "id": "b8bee03f-8233-4c99-8640-5f6c206278d5",
   "metadata": {},
   "outputs": [
    {
     "data": {
      "text/plain": [
       "1.9999668104799597"
      ]
     },
     "execution_count": 57,
     "metadata": {},
     "output_type": "execute_result"
    }
   ],
   "source": [
    "value(x₁)"
   ]
  },
  {
   "cell_type": "code",
   "execution_count": 58,
   "id": "94f3924e-945c-4cd8-adb5-1a5b788ab068",
   "metadata": {},
   "outputs": [
    {
     "data": {
      "text/plain": [
       "1.0000332190655201"
      ]
     },
     "execution_count": 58,
     "metadata": {},
     "output_type": "execute_result"
    }
   ],
   "source": [
    "value(x₂)"
   ]
  },
  {
   "cell_type": "code",
   "execution_count": 60,
   "id": "8b75cf21-34fa-4d4c-b4e3-b3b151489547",
   "metadata": {},
   "outputs": [
    {
     "data": {
      "text/plain": [
       "-6.640927005848035e-5"
      ]
     },
     "execution_count": 60,
     "metadata": {},
     "output_type": "execute_result"
    }
   ],
   "source": [
    "shadow_price(c₁)"
   ]
  },
  {
   "cell_type": "code",
   "execution_count": 61,
   "id": "91a1cc6e-2bd5-4ee0-9595-920b56a63d36",
   "metadata": {},
   "outputs": [
    {
     "data": {
      "text/plain": [
       "-1.9998007433241507"
      ]
     },
     "execution_count": 61,
     "metadata": {},
     "output_type": "execute_result"
    }
   ],
   "source": [
    "shadow_price(c₂)"
   ]
  },
  {
   "cell_type": "markdown",
   "id": "60eea0b2",
   "metadata": {},
   "source": [
    "## Profit maximization\n",
    "\n"
   ]
  },
  {
   "cell_type": "markdown",
   "id": "d2c7daea-8fa3-459c-bd95-0df2a1c51bf3",
   "metadata": {},
   "source": [
    "## Consumer choice"
   ]
  },
  {
   "cell_type": "code",
   "execution_count": 90,
   "id": "e961fef9-0157-4c8b-9e6c-1ca2b0b88147",
   "metadata": {},
   "outputs": [
    {
     "name": "stdout",
     "output_type": "stream",
     "text": [
      "Consumption of good 1 = 4.000000004319392, Consumption of good 2 = 7.9999999978403045\n",
      "Consumption of good 1 = 4.000176118926564, Consumption of good 2 = 7.999911940536717\n"
     ]
    }
   ],
   "source": [
    "p = [1,2]\n",
    "I = 20\n",
    "a1 = 0.2\n",
    "a2 = 1-a1\n",
    "umod = Model(Ipopt.Optimizer)\n",
    "set_silent(umod)\n",
    "@variable(umod, x[1:2] >= 0)\n",
    "@constraint(umod, budget, p'*x == I)\n",
    "@objective(umod, Max, x[1]^a1*x[2]^a2)\n",
    "# @objective(umod, obj2, a1*log(x[1]) + a2*log(x[2]))\n",
    "optimize!(umod)\n",
    "cons1, cons2 = value.(x);\n",
    "println(\"Consumption of good 1 = $cons1, Consumption of good 2 = $cons2\")\n",
    "\n",
    "@objective(umod, Max, a1*log(x[1]) + a2*log(x[2]))\n",
    "optimize!(umod)\n",
    "cons1, cons2 = value.(x);\n",
    "println(\"Consumption of good 1 = $cons1, Consumption of good 2 = $cons2\")"
   ]
  }
 ],
 "metadata": {
  "kernelspec": {
   "display_name": "Julia 1.10.1",
   "language": "julia",
   "name": "julia-1.10"
  },
  "language_info": {
   "file_extension": ".jl",
   "mimetype": "application/julia",
   "name": "julia",
   "version": "1.10.1"
  }
 },
 "nbformat": 4,
 "nbformat_minor": 5
}
