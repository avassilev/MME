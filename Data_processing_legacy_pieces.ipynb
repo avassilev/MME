{
 "cells": [
  {
   "cell_type": "markdown",
   "metadata": {},
   "source": [
    "# Data processing -- experiments"
   ]
  },
  {
   "cell_type": "code",
   "execution_count": 82,
   "metadata": {},
   "outputs": [],
   "source": [
    "using Tidier"
   ]
  },
  {
   "cell_type": "code",
   "execution_count": null,
   "metadata": {},
   "outputs": [],
   "source": [
    "using DBnomics\n",
    "natl_acc = rdb(\"Eurostat\", \"nama_10_gdp\", mask=\"B1GQ\")"
   ]
  },
  {
   "cell_type": "code",
   "execution_count": null,
   "metadata": {},
   "outputs": [],
   "source": [
    "using HTTP\n",
    "using JSON\n",
    "using DataFrames\n",
    "url = \"https://ec.europa.eu/eurostat/api/dissemination/statistics/1.0/data/nama_10_gdp?format=JSON&sinceTimePeriod=2000&unit=CLV10_MEUR&na_item=B1GQ&na_item=P51G&lang=en\"\n",
    "\n",
    "response = HTTP.get(url)"
   ]
  },
  {
   "cell_type": "code",
   "execution_count": 62,
   "metadata": {},
   "outputs": [
    {
     "data": {
      "text/plain": [
       "Vector{UInt8}\u001b[90m (alias for \u001b[39m\u001b[90mArray{UInt8, 1}\u001b[39m\u001b[90m)\u001b[39m"
      ]
     },
     "execution_count": 62,
     "metadata": {},
     "output_type": "execute_result"
    }
   ],
   "source": [
    "typeof(response.body)"
   ]
  },
  {
   "cell_type": "code",
   "execution_count": 55,
   "metadata": {},
   "outputs": [
    {
     "ename": "LoadError",
     "evalue": "MethodError: no method matching parse(::HTTP.Messages.Response; dicttype::UnionAll)\nThe function `parse` exists, but no method is defined for this combination of argument types.\n\n\u001b[0mClosest candidates are:\n\u001b[0m  parse(\u001b[91m::IO\u001b[39m; dicttype, inttype, allownan, null)\n\u001b[0m\u001b[90m   @\u001b[39m \u001b[36mJSON\u001b[39m \u001b[90mC:\\Users\\MSI\\.julia\\packages\\JSON\\93Ea8\\src\\\u001b[39m\u001b[90m\u001b[4mParser.jl:474\u001b[24m\u001b[39m\n\u001b[0m  parse(\u001b[91m::AbstractString\u001b[39m; dicttype, inttype, allownan, null)\n\u001b[0m\u001b[90m   @\u001b[39m \u001b[36mJSON\u001b[39m \u001b[90mC:\\Users\\MSI\\.julia\\packages\\JSON\\93Ea8\\src\\\u001b[39m\u001b[90m\u001b[4mParser.jl:443\u001b[24m\u001b[39m\n",
     "output_type": "error",
     "traceback": [
      "MethodError: no method matching parse(::HTTP.Messages.Response; dicttype::UnionAll)\nThe function `parse` exists, but no method is defined for this combination of argument types.\n\n\u001b[0mClosest candidates are:\n\u001b[0m  parse(\u001b[91m::IO\u001b[39m; dicttype, inttype, allownan, null)\n\u001b[0m\u001b[90m   @\u001b[39m \u001b[36mJSON\u001b[39m \u001b[90mC:\\Users\\MSI\\.julia\\packages\\JSON\\93Ea8\\src\\\u001b[39m\u001b[90m\u001b[4mParser.jl:474\u001b[24m\u001b[39m\n\u001b[0m  parse(\u001b[91m::AbstractString\u001b[39m; dicttype, inttype, allownan, null)\n\u001b[0m\u001b[90m   @\u001b[39m \u001b[36mJSON\u001b[39m \u001b[90mC:\\Users\\MSI\\.julia\\packages\\JSON\\93Ea8\\src\\\u001b[39m\u001b[90m\u001b[4mParser.jl:443\u001b[24m\u001b[39m\n",
      "",
      "Stacktrace:",
      " [1] top-level scope",
      "   @ In[55]:4"
     ]
    }
   ],
   "source": [
    "using JSONStat\n",
    "import JSON\n",
    "import DataStructures\n",
    "jsonstatdta = JSON.parse(response,\n",
    "\tdicttype = DataStructures.OrderedDict)\n",
    "dta = readjsondataset(jsonstatdta)"
   ]
  },
  {
   "cell_type": "code",
   "execution_count": 21,
   "metadata": {},
   "outputs": [
    {
     "data": {
      "text/plain": [
       "Dict{String, Any} with 11 entries:\n",
       "  \"label\"     => \"Gross domestic product (GDP) and main components (output, exp…\n",
       "  \"status\"    => Dict{String, Any}(\"2148\"=>\"p\", \"2018\"=>\"d\", \"548\"=>\"p\", \"1799\"…\n",
       "  \"id\"        => Any[\"freq\", \"unit\", \"na_item\", \"geo\", \"time\"]\n",
       "  \"value\"     => Dict{String, Any}(\"1766\"=>28699.9, \"1886\"=>86739.5, \"1\"=>9.870…\n",
       "  \"version\"   => \"2.0\"\n",
       "  \"updated\"   => \"2025-03-28T23:00:00+0100\"\n",
       "  \"class\"     => \"dataset\"\n",
       "  \"dimension\" => Dict{String, Any}(\"geo\"=>Dict{String, Any}(\"label\"=>\"Geopoliti…\n",
       "  \"size\"      => Any[1, 1, 2, 44, 25]\n",
       "  \"extension\" => Dict{String, Any}(\"status\"=>Dict{String, Any}(\"label\"=>Dict{St…\n",
       "  \"source\"    => \"ESTAT\""
      ]
     },
     "execution_count": 21,
     "metadata": {},
     "output_type": "execute_result"
    }
   ],
   "source": [
    "data = JSON.parse(String(response.body)) "
   ]
  },
  {
   "cell_type": "code",
   "execution_count": 88,
   "metadata": {},
   "outputs": [
    {
     "data": {
      "text/html": [
       "<div><div style = \"float: left;\"><span>432×4 DataFrame</span></div><div style = \"float: right;\"><span style = \"font-style: italic;\">407 rows omitted</span></div><div style = \"clear: both;\"></div></div><div class = \"data-frame\" style = \"overflow-x: scroll;\"><table class = \"data-frame\" style = \"margin-bottom: 6px;\"><thead><tr class = \"header\"><th class = \"rowNumber\" style = \"font-weight: bold; text-align: right;\">Row</th><th style = \"text-align: left;\">concept</th><th style = \"text-align: left;\">area</th><th style = \"text-align: left;\">year</th><th style = \"text-align: left;\">value</th></tr><tr class = \"subheader headerLastRow\"><th class = \"rowNumber\" style = \"font-weight: bold; text-align: right;\"></th><th title = \"String\" style = \"text-align: left;\">String</th><th title = \"String\" style = \"text-align: left;\">String</th><th title = \"String\" style = \"text-align: left;\">String</th><th title = \"Any\" style = \"text-align: left;\">Any</th></tr></thead><tbody><tr><td class = \"rowNumber\" style = \"font-weight: bold; text-align: right;\">1</td><td style = \"text-align: left;\">UNR</td><td style = \"text-align: left;\">AU</td><td style = \"text-align: left;\">2003</td><td style = \"text-align: left;\">5.94383</td></tr><tr><td class = \"rowNumber\" style = \"font-weight: bold; text-align: right;\">2</td><td style = \"text-align: left;\">UNR</td><td style = \"text-align: left;\">AU</td><td style = \"text-align: left;\">2004</td><td style = \"text-align: left;\">5.39663</td></tr><tr><td class = \"rowNumber\" style = \"font-weight: bold; text-align: right;\">3</td><td style = \"text-align: left;\">UNR</td><td style = \"text-align: left;\">AU</td><td style = \"text-align: left;\">2005</td><td style = \"text-align: left;\">5.04479</td></tr><tr><td class = \"rowNumber\" style = \"font-weight: bold; text-align: right;\">4</td><td style = \"text-align: left;\">UNR</td><td style = \"text-align: left;\">AU</td><td style = \"text-align: left;\">2006</td><td style = \"text-align: left;\">4.78936</td></tr><tr><td class = \"rowNumber\" style = \"font-weight: bold; text-align: right;\">5</td><td style = \"text-align: left;\">UNR</td><td style = \"text-align: left;\">AU</td><td style = \"text-align: left;\">2007</td><td style = \"text-align: left;\">4.37965</td></tr><tr><td class = \"rowNumber\" style = \"font-weight: bold; text-align: right;\">6</td><td style = \"text-align: left;\">UNR</td><td style = \"text-align: left;\">AU</td><td style = \"text-align: left;\">2008</td><td style = \"text-align: left;\">4.24909</td></tr><tr><td class = \"rowNumber\" style = \"font-weight: bold; text-align: right;\">7</td><td style = \"text-align: left;\">UNR</td><td style = \"text-align: left;\">AU</td><td style = \"text-align: left;\">2009</td><td style = \"text-align: left;\">5.59223</td></tr><tr><td class = \"rowNumber\" style = \"font-weight: bold; text-align: right;\">8</td><td style = \"text-align: left;\">UNR</td><td style = \"text-align: left;\">AU</td><td style = \"text-align: left;\">2010</td><td style = \"text-align: left;\">5.23066</td></tr><tr><td class = \"rowNumber\" style = \"font-weight: bold; text-align: right;\">9</td><td style = \"text-align: left;\">UNR</td><td style = \"text-align: left;\">AU</td><td style = \"text-align: left;\">2011</td><td style = \"text-align: left;\">5.09942</td></tr><tr><td class = \"rowNumber\" style = \"font-weight: bold; text-align: right;\">10</td><td style = \"text-align: left;\">UNR</td><td style = \"text-align: left;\">AU</td><td style = \"text-align: left;\">2012</td><td style = \"text-align: left;\">5.22434</td></tr><tr><td class = \"rowNumber\" style = \"font-weight: bold; text-align: right;\">11</td><td style = \"text-align: left;\">UNR</td><td style = \"text-align: left;\">AU</td><td style = \"text-align: left;\">2013</td><td style = \"text-align: left;\">5.50415</td></tr><tr><td class = \"rowNumber\" style = \"font-weight: bold; text-align: right;\">12</td><td style = \"text-align: left;\">UNR</td><td style = \"text-align: left;\">AU</td><td style = \"text-align: left;\">2014</td><td style = \"text-align: left;\">5.46287</td></tr><tr><td class = \"rowNumber\" style = \"font-weight: bold; text-align: right;\">13</td><td style = \"text-align: left;\">UNR</td><td style = \"text-align: left;\">AT</td><td style = \"text-align: left;\">2003</td><td style = \"text-align: left;\">4.27856</td></tr><tr><td style = \"text-align: right;\">&vellip;</td><td style = \"text-align: right;\">&vellip;</td><td style = \"text-align: right;\">&vellip;</td><td style = \"text-align: right;\">&vellip;</td><td style = \"text-align: right;\">&vellip;</td></tr><tr><td class = \"rowNumber\" style = \"font-weight: bold; text-align: right;\">421</td><td style = \"text-align: left;\">UNR</td><td style = \"text-align: left;\">OECD</td><td style = \"text-align: left;\">2003</td><td style = \"text-align: left;\">6.97108</td></tr><tr><td class = \"rowNumber\" style = \"font-weight: bold; text-align: right;\">422</td><td style = \"text-align: left;\">UNR</td><td style = \"text-align: left;\">OECD</td><td style = \"text-align: left;\">2004</td><td style = \"text-align: left;\">6.85981</td></tr><tr><td class = \"rowNumber\" style = \"font-weight: bold; text-align: right;\">423</td><td style = \"text-align: left;\">UNR</td><td style = \"text-align: left;\">OECD</td><td style = \"text-align: left;\">2005</td><td style = \"text-align: left;\">6.62915</td></tr><tr><td class = \"rowNumber\" style = \"font-weight: bold; text-align: right;\">424</td><td style = \"text-align: left;\">UNR</td><td style = \"text-align: left;\">OECD</td><td style = \"text-align: left;\">2006</td><td style = \"text-align: left;\">6.10057</td></tr><tr><td class = \"rowNumber\" style = \"font-weight: bold; text-align: right;\">425</td><td style = \"text-align: left;\">UNR</td><td style = \"text-align: left;\">OECD</td><td style = \"text-align: left;\">2007</td><td style = \"text-align: left;\">5.65617</td></tr><tr><td class = \"rowNumber\" style = \"font-weight: bold; text-align: right;\">426</td><td style = \"text-align: left;\">UNR</td><td style = \"text-align: left;\">OECD</td><td style = \"text-align: left;\">2008</td><td style = \"text-align: left;\">5.98269</td></tr><tr><td class = \"rowNumber\" style = \"font-weight: bold; text-align: right;\">427</td><td style = \"text-align: left;\">UNR</td><td style = \"text-align: left;\">OECD</td><td style = \"text-align: left;\">2009</td><td style = \"text-align: left;\">8.15756</td></tr><tr><td class = \"rowNumber\" style = \"font-weight: bold; text-align: right;\">428</td><td style = \"text-align: left;\">UNR</td><td style = \"text-align: left;\">OECD</td><td style = \"text-align: left;\">2010</td><td style = \"text-align: left;\">8.32056</td></tr><tr><td class = \"rowNumber\" style = \"font-weight: bold; text-align: right;\">429</td><td style = \"text-align: left;\">UNR</td><td style = \"text-align: left;\">OECD</td><td style = \"text-align: left;\">2011</td><td style = \"text-align: left;\">7.95312</td></tr><tr><td class = \"rowNumber\" style = \"font-weight: bold; text-align: right;\">430</td><td style = \"text-align: left;\">UNR</td><td style = \"text-align: left;\">OECD</td><td style = \"text-align: left;\">2012</td><td style = \"text-align: left;\">7.97039</td></tr><tr><td class = \"rowNumber\" style = \"font-weight: bold; text-align: right;\">431</td><td style = \"text-align: left;\">UNR</td><td style = \"text-align: left;\">OECD</td><td style = \"text-align: left;\">2013</td><td style = \"text-align: left;\">8.15379</td></tr><tr><td class = \"rowNumber\" style = \"font-weight: bold; text-align: right;\">432</td><td style = \"text-align: left;\">UNR</td><td style = \"text-align: left;\">OECD</td><td style = \"text-align: left;\">2014</td><td style = \"text-align: left;\">8.0046</td></tr></tbody></table></div>"
      ],
      "text/latex": [
       "\\begin{tabular}{r|cccc}\n",
       "\t& concept & area & year & value\\\\\n",
       "\t\\hline\n",
       "\t& String & String & String & Any\\\\\n",
       "\t\\hline\n",
       "\t1 & UNR & AU & 2003 & 5.94383 \\\\\n",
       "\t2 & UNR & AU & 2004 & 5.39663 \\\\\n",
       "\t3 & UNR & AU & 2005 & 5.04479 \\\\\n",
       "\t4 & UNR & AU & 2006 & 4.78936 \\\\\n",
       "\t5 & UNR & AU & 2007 & 4.37965 \\\\\n",
       "\t6 & UNR & AU & 2008 & 4.24909 \\\\\n",
       "\t7 & UNR & AU & 2009 & 5.59223 \\\\\n",
       "\t8 & UNR & AU & 2010 & 5.23066 \\\\\n",
       "\t9 & UNR & AU & 2011 & 5.09942 \\\\\n",
       "\t10 & UNR & AU & 2012 & 5.22434 \\\\\n",
       "\t11 & UNR & AU & 2013 & 5.50415 \\\\\n",
       "\t12 & UNR & AU & 2014 & 5.46287 \\\\\n",
       "\t13 & UNR & AT & 2003 & 4.27856 \\\\\n",
       "\t14 & UNR & AT & 2004 & 4.93971 \\\\\n",
       "\t15 & UNR & AT & 2005 & 5.15216 \\\\\n",
       "\t16 & UNR & AT & 2006 & 4.72718 \\\\\n",
       "\t17 & UNR & AT & 2007 & 4.39973 \\\\\n",
       "\t18 & UNR & AT & 2008 & 3.81393 \\\\\n",
       "\t19 & UNR & AT & 2009 & 4.77691 \\\\\n",
       "\t20 & UNR & AT & 2010 & 4.39159 \\\\\n",
       "\t21 & UNR & AT & 2011 & 4.14359 \\\\\n",
       "\t22 & UNR & AT & 2012 & 4.35135 \\\\\n",
       "\t23 & UNR & AT & 2013 & 4.69549 \\\\\n",
       "\t24 & UNR & AT & 2014 & 4.74532 \\\\\n",
       "\t25 & UNR & BE & 2003 & 8.15833 \\\\\n",
       "\t26 & UNR & BE & 2004 & 8.4 \\\\\n",
       "\t27 & UNR & BE & 2005 & 8.48333 \\\\\n",
       "\t28 & UNR & BE & 2006 & 8.26667 \\\\\n",
       "\t29 & UNR & BE & 2007 & 7.46667 \\\\\n",
       "\t30 & UNR & BE & 2008 & 7.01667 \\\\\n",
       "\t$\\dots$ & $\\dots$ & $\\dots$ & $\\dots$ & $\\dots$ \\\\\n",
       "\\end{tabular}\n"
      ],
      "text/plain": [
       "\u001b[1m432×4 DataFrame\u001b[0m\n",
       "\u001b[1m Row \u001b[0m│\u001b[1m concept \u001b[0m\u001b[1m area   \u001b[0m\u001b[1m year   \u001b[0m\u001b[1m value   \u001b[0m\n",
       "     │\u001b[90m String  \u001b[0m\u001b[90m String \u001b[0m\u001b[90m String \u001b[0m\u001b[90m Any     \u001b[0m\n",
       "─────┼──────────────────────────────────\n",
       "   1 │ UNR      AU      2003    5.94383\n",
       "   2 │ UNR      AU      2004    5.39663\n",
       "   3 │ UNR      AU      2005    5.04479\n",
       "   4 │ UNR      AU      2006    4.78936\n",
       "   5 │ UNR      AU      2007    4.37965\n",
       "   6 │ UNR      AU      2008    4.24909\n",
       "   7 │ UNR      AU      2009    5.59223\n",
       "   8 │ UNR      AU      2010    5.23066\n",
       "   9 │ UNR      AU      2011    5.09942\n",
       "  10 │ UNR      AU      2012    5.22434\n",
       "  11 │ UNR      AU      2013    5.50415\n",
       "  ⋮  │    ⋮       ⋮       ⋮        ⋮\n",
       " 423 │ UNR      OECD    2005    6.62915\n",
       " 424 │ UNR      OECD    2006    6.10057\n",
       " 425 │ UNR      OECD    2007    5.65617\n",
       " 426 │ UNR      OECD    2008    5.98269\n",
       " 427 │ UNR      OECD    2009    8.15756\n",
       " 428 │ UNR      OECD    2010    8.32056\n",
       " 429 │ UNR      OECD    2011    7.95312\n",
       " 430 │ UNR      OECD    2012    7.97039\n",
       " 431 │ UNR      OECD    2013    8.15379\n",
       " 432 │ UNR      OECD    2014    8.0046\n",
       "\u001b[36m                        411 rows omitted\u001b[0m"
      ]
     },
     "execution_count": 88,
     "metadata": {},
     "output_type": "execute_result"
    }
   ],
   "source": [
    "# JSONStat test\n",
    "\n",
    "using JSONStat\n",
    "import JSON\n",
    "import DataStructures\n",
    "oecdjsonstat = JSON.parsefile(\"datasets/oecd.json\",\n",
    "\tdicttype = DataStructures.OrderedDict)\n",
    "oecd = readjsondataset(oecdjsonstat)\n",
    "\n",
    "oecd[\"datasetframe\"]"
   ]
  },
  {
   "cell_type": "code",
   "execution_count": null,
   "metadata": {},
   "outputs": [],
   "source": [
    "using HTTP\n",
    "res = HTTP.get(\"https://ec.europa.eu/eurostat/api/dissemination/sdmx/2.1/data/nama_10_gdp?format=TSV&compressed=true\")"
   ]
  },
  {
   "cell_type": "code",
   "execution_count": 80,
   "metadata": {},
   "outputs": [
    {
     "data": {
      "text/html": [
       "<div><div style = \"float: left;\"><span>34194×4 DataFrame</span></div><div style = \"float: right;\"><span style = \"font-style: italic;\">34169 rows omitted</span></div><div style = \"clear: both;\"></div></div><div class = \"data-frame\" style = \"overflow-x: scroll;\"><table class = \"data-frame\" style = \"margin-bottom: 6px;\"><thead><tr class = \"header\"><th class = \"rowNumber\" style = \"font-weight: bold; text-align: right;\">Row</th><th style = \"text-align: left;\">freq</th><th style = \"text-align: left;\">unit</th><th style = \"text-align: left;\">na_item</th><th style = \"text-align: left;\">geo\\\\TIME_PERIOD\\t1975 \\t1976 \\t1977 \\t1978 \\t1979 \\t1980 \\t1981 \\t1982 \\t1983 \\t1984 \\t1985 \\t1986 \\t1987 \\t1988 \\t1989 \\t1990 \\t1991 \\t1992 \\t1993 \\t1994 \\t1995 \\t1996 \\t1997 \\t1998 \\t1999 \\t2000 \\t2001 \\t2002 \\t2003 \\t2004 \\t2005 \\t2006 \\t2007 \\t2008 \\t2009 \\t2010 \\t2011 \\t2012 \\t2013 \\t2014 \\t2015 \\t2016 \\t2017 \\t2018 \\t2019 \\t2020 \\t2021 \\t2022 \\t2023 \\t2024 </th></tr><tr class = \"subheader headerLastRow\"><th class = \"rowNumber\" style = \"font-weight: bold; text-align: right;\"></th><th title = \"String1\" style = \"text-align: left;\">String1</th><th title = \"String31\" style = \"text-align: left;\">String31</th><th title = \"String15\" style = \"text-align: left;\">String15</th><th title = \"String\" style = \"text-align: left;\">String</th></tr></thead><tbody><tr><td class = \"rowNumber\" style = \"font-weight: bold; text-align: right;\">1</td><td style = \"text-align: left;\">A</td><td style = \"text-align: left;\">CLV05_MEUR</td><td style = \"text-align: left;\">B1G</td><td style = \"text-align: left;\">AL\\t: \\t: \\t: \\t: \\t: \\t: \\t: \\t: \\t: \\t: \\t: \\t: \\t: \\t: \\t: \\t: \\t: \\t: \\t: \\t: \\t: \\t: \\t: \\t: \\t: \\t: \\t: \\t: \\t: \\t: \\t: \\t: \\t: \\t: \\t: \\t: \\t: \\t: \\t: \\t: \\t: \\t: \\t: \\t: \\t10048.4 b\\t9804.4 \\t10473.7 \\t11012.9 \\t11551.7 p\\t: </td></tr><tr><td class = \"rowNumber\" style = \"font-weight: bold; text-align: right;\">2</td><td style = \"text-align: left;\">A</td><td style = \"text-align: left;\">CLV05_MEUR</td><td style = \"text-align: left;\">B1G</td><td style = \"text-align: left;\">AT\\t: \\t: \\t: \\t: \\t: \\t: \\t: \\t: \\t: \\t: \\t: \\t: \\t: \\t: \\t: \\t: \\t: \\t: \\t: \\t: \\t176594.2 \\t179695.4 \\t183613.0 \\t190554.0 \\t197178.1 \\t204320.5 \\t207358.1 \\t210227.9 \\t212983.4 \\t218809.7 \\t224194.7 \\t232152.9 \\t241143.4 \\t245224.1 \\t235404.3 \\t239810.0 \\t247618.0 \\t248738.1 \\t248413.9 \\t250263.2 \\t252957.6 \\t258221.3 \\t264412.6 \\t271627.6 \\t276482.8 \\t259477.4 \\t270777.5 \\t287214.5 \\t283822.5 \\t279917.4 </td></tr><tr><td class = \"rowNumber\" style = \"font-weight: bold; text-align: right;\">3</td><td style = \"text-align: left;\">A</td><td style = \"text-align: left;\">CLV05_MEUR</td><td style = \"text-align: left;\">B1G</td><td style = \"text-align: left;\">BA\\t: \\t: \\t: \\t: \\t: \\t: \\t: \\t: \\t: \\t: \\t: \\t: \\t: \\t: \\t: \\t: \\t: \\t: \\t: \\t: \\t: \\t: \\t: \\t: \\t: \\t6112.0 \\t6263.5 \\t6583.6 \\t6848.4 \\t7305.1 \\t7613.8 \\t8065.0 \\t8559.9 \\t9042.7 \\t8817.8 \\t8882.4 \\t8974.7 \\t8903.7 \\t9118.0 \\t9224.4 \\t9351.3 b\\t9650.5 \\t9970.4 \\t10347.6 \\t10642.3 \\t10350.5 \\t11071.9 \\t11532.7 \\t11768.6 \\t: </td></tr><tr><td class = \"rowNumber\" style = \"font-weight: bold; text-align: right;\">4</td><td style = \"text-align: left;\">A</td><td style = \"text-align: left;\">CLV05_MEUR</td><td style = \"text-align: left;\">B1G</td><td style = \"text-align: left;\">BE\\t: \\t: \\t: \\t: \\t: \\t: \\t: \\t: \\t: \\t: \\t: \\t: \\t: \\t: \\t: \\t: \\t: \\t: \\t: \\t: \\t220134.9 \\t222152.1 \\t230253.8 \\t234553.8 \\t242356.3 \\t251047.6 \\t254864.1 \\t259026.0 \\t261911.7 \\t270219.1 \\t276828.7 \\t283611.6 \\t294188.1 \\t296506.2 \\t291033.8 b\\t298983.6 \\t305722.8 \\t306343.8 \\t307054.1 \\t312851.4 \\t317686.5 \\t320447.4 \\t325019.4 \\t331266.1 \\t339917.3 \\t325628.4 \\t344150.2 \\t359690.1 \\t363747.1 p\\t367406.1 p</td></tr><tr><td class = \"rowNumber\" style = \"font-weight: bold; text-align: right;\">5</td><td style = \"text-align: left;\">A</td><td style = \"text-align: left;\">CLV05_MEUR</td><td style = \"text-align: left;\">B1G</td><td style = \"text-align: left;\">BG\\t: \\t: \\t: \\t: \\t: \\t: \\t: \\t: \\t: \\t: \\t: \\t: \\t: \\t: \\t: \\t: \\t: \\t: \\t: \\t: \\t18104.4 \\t19181.0 \\t16279.8 \\t16583.7 \\t15103.9 \\t15700.3 \\t16339.7 \\t17581.4 \\t18311.9 \\t19205.0 \\t20444.8 \\t21905.4 \\t23339.9 \\t24775.6 \\t24562.9 \\t25012.4 \\t25487.8 \\t25552.2 \\t25131.1 \\t25372.8 \\t26119.5 \\t26792.6 \\t27671.7 \\t28590.9 \\t29573.4 \\t28647.1 \\t30977.8 \\t32669.9 \\t33082.8 \\t33914.1 p</td></tr><tr><td class = \"rowNumber\" style = \"font-weight: bold; text-align: right;\">6</td><td style = \"text-align: left;\">A</td><td style = \"text-align: left;\">CLV05_MEUR</td><td style = \"text-align: left;\">B1G</td><td style = \"text-align: left;\">CH\\t: \\t: \\t: \\t: \\t: \\t: \\t: \\t: \\t: \\t: \\t: \\t: \\t: \\t: \\t: \\t270973.2 \\t269132.6 \\t269249.4 \\t268649.6 \\t271547.9 \\t272766.6 \\t273767.0 \\t279174.0 \\t287525.2 \\t290918.8 \\t301587.8 \\t306917.1 \\t307431.2 \\t307261.6 \\t315229.8 \\t323882.1 \\t336810.8 \\t349722.2 \\t359861.1 \\t351613.1 \\t362699.3 \\t369754.6 \\t374698.2 \\t381505.9 \\t390405.6 \\t396747.1 \\t405030.0 \\t410565.5 \\t422877.6 \\t427969.5 \\t419196.5 \\t442494.5 \\t455963.4 \\t459192.9 \\t465541.1 </td></tr><tr><td class = \"rowNumber\" style = \"font-weight: bold; text-align: right;\">7</td><td style = \"text-align: left;\">A</td><td style = \"text-align: left;\">CLV05_MEUR</td><td style = \"text-align: left;\">B1G</td><td style = \"text-align: left;\">CY\\t: \\t: \\t: \\t: \\t: \\t: \\t: \\t: \\t: \\t: \\t: \\t: \\t: \\t: \\t: \\t: \\t: \\t: \\t: \\t: \\t8788.7 \\t8898.4 \\t9133.4 \\t9691.6 \\t10175.9 \\t10783.0 \\t11209.2 \\t11626.5 \\t11931.5 \\t12531.2 \\t13139.3 \\t13758.7 \\t14460.1 \\t14987.4 \\t14685.4 \\t15026.1 \\t15088.7 \\t14568.5 \\t13608.8 \\t13367.1 \\t13802.9 \\t14710.3 \\t15559.0 \\t16552.3 \\t17557.3 \\t17006.4 \\t18943.0 \\t20338.3 \\t20869.5 \\t21589.0 p</td></tr><tr><td class = \"rowNumber\" style = \"font-weight: bold; text-align: right;\">8</td><td style = \"text-align: left;\">A</td><td style = \"text-align: left;\">CLV05_MEUR</td><td style = \"text-align: left;\">B1G</td><td style = \"text-align: left;\">CZ\\t: \\t: \\t: \\t: \\t: \\t: \\t: \\t: \\t: \\t: \\t: \\t: \\t: \\t: \\t: \\t: \\t: \\t: \\t: \\t: \\t76923.3 \\t79854.6 \\t78809.3 \\t78517.4 \\t79634.1 \\t83044.3 \\t85484.1 \\t87157.8 \\t89484.1 \\t93751.6 \\t99873.9 \\t106984.5 \\t112545.5 \\t116476.0 \\t110142.5 \\t113790.8 \\t115804.0 \\t114852.1 \\t114838.7 \\t118093.1 \\t123230.1 \\t126367.8 \\t132947.1 \\t136898.4 \\t141826.2 \\t134662.9 \\t139954.3 \\t144017.9 \\t144691.2 \\t145367.8 </td></tr><tr><td class = \"rowNumber\" style = \"font-weight: bold; text-align: right;\">9</td><td style = \"text-align: left;\">A</td><td style = \"text-align: left;\">CLV05_MEUR</td><td style = \"text-align: left;\">B1G</td><td style = \"text-align: left;\">DE\\t: \\t: \\t: \\t: \\t: \\t: \\t: \\t: \\t: \\t: \\t: \\t: \\t: \\t: \\t: \\t: \\t1736858.5 \\t1772167.5 \\t1751031.8 \\t1790319.4 \\t1822644.6 \\t1837315.3 \\t1875359.6 \\t1917631.0 \\t1954432.0 \\t2015103.9 \\t2054640.2 \\t2055634.8 \\t2044693.9 \\t2076770.5 \\t2095171.0 \\t2177973.3 \\t2250829.3 \\t2272711.0 \\t2131474.7 \\t2229693.6 \\t2313241.9 \\t2324928.7 \\t2335620.8 \\t2387838.5 \\t2422152.9 \\t2479841.0 \\t2549215.9 \\t2579800.5 \\t2597952.4 \\t2486554.7 \\t2581043.8 p\\t2625801.8 p\\t2631520.9 p\\t2624309.8 p</td></tr><tr><td class = \"rowNumber\" style = \"font-weight: bold; text-align: right;\">10</td><td style = \"text-align: left;\">A</td><td style = \"text-align: left;\">CLV05_MEUR</td><td style = \"text-align: left;\">B1G</td><td style = \"text-align: left;\">DK\\t92604.1 \\t97510.2 \\t99430.6 \\t101615.0 \\t105887.8 \\t105472.1 \\t105088.1 \\t109083.9 \\t111624.5 \\t116489.0 \\t120881.6 \\t124951.7 \\t126186.9 \\t128063.1 \\t129584.4 \\t132173.0 \\t133642.9 \\t135943.0 \\t136667.6 \\t142940.3 \\t147419.3 \\t151137.0 \\t155854.3 \\t158919.4 \\t164198.2 \\t171796.8 \\t173492.2 \\t174025.9 \\t174808.8 \\t178458.7 \\t181404.8 \\t188199.0 \\t189337.3 \\t189675.6 \\t181038.6 \\t183782.1 \\t186455.8 \\t186452.0 \\t189137.3 \\t191277.5 \\t195015.1 \\t200827.6 \\t207278.2 \\t210514.2 \\t214055.2 \\t208985.4 \\t224175.0 \\t229527.9 \\t236350.6 \\t245545.1 </td></tr><tr><td class = \"rowNumber\" style = \"font-weight: bold; text-align: right;\">11</td><td style = \"text-align: left;\">A</td><td style = \"text-align: left;\">CLV05_MEUR</td><td style = \"text-align: left;\">B1G</td><td style = \"text-align: left;\">EA\\t: \\t: \\t: \\t: \\t: \\t: \\t: \\t: \\t: \\t: \\t: \\t: \\t: \\t: \\t: \\t: \\t: \\t: \\t: \\t: \\t5920816.1 \\t6011149.1 \\t6168117.4 \\t6346939.6 \\t6529600.1 \\t6788342.1 \\t7085332.3 \\t7150799.4 \\t7192468.6 \\t7365279.8 \\t7483064.4 \\t7726449.9 \\t7998550.6 \\t8068240.7 \\t7755623.0 \\t7926296.9 \\t8083877.3 \\t8017289.5 \\t8011819.3 \\t8139507.9 \\t8325509.4 \\t8471217.3 \\t8698316.7 \\t8856708.9 \\t8999471.8 \\t8474145.6 \\t9001578.2 \\t9348941.1 \\t9450743.6 \\t9531694.3 </td></tr><tr><td class = \"rowNumber\" style = \"font-weight: bold; text-align: right;\">12</td><td style = \"text-align: left;\">A</td><td style = \"text-align: left;\">CLV05_MEUR</td><td style = \"text-align: left;\">B1G</td><td style = \"text-align: left;\">EA12\\t: \\t: \\t: \\t: \\t: \\t: \\t: \\t: \\t: \\t: \\t: \\t: \\t: \\t: \\t: \\t: \\t: \\t: \\t: \\t: \\t6043935.1 \\t6135385.6 \\t6296404.6 \\t6480643.4 \\t6665293.7 \\t6929434.8 \\t7085332.3 \\t7150799.4 \\t7192468.6 \\t7365279.8 \\t7483064.4 \\t7726449.9 \\t7969626.4 \\t8018355.5 \\t7665047.7 \\t7831245.9 \\t7977293.8 \\t7909719.7 \\t7904539.8 \\t8016258.6 \\t8172124.2 \\t8313181.7 \\t8532800.2 \\t8682908.9 \\t8819871.6 \\t8297191.8 \\t8811953.0 \\t9156068.9 \\t9211979.2 \\t9287818.6 </td></tr><tr><td class = \"rowNumber\" style = \"font-weight: bold; text-align: right;\">13</td><td style = \"text-align: left;\">A</td><td style = \"text-align: left;\">CLV05_MEUR</td><td style = \"text-align: left;\">B1G</td><td style = \"text-align: left;\">EA19\\t: \\t: \\t: \\t: \\t: \\t: \\t: \\t: \\t: \\t: \\t: \\t: \\t: \\t: \\t: \\t: \\t: \\t: \\t: \\t: \\t6121092.3 \\t6215178.6 \\t6380257.3 \\t6568061.1 \\t6754621.3 \\t7022183.6 \\t7181945.7 \\t7251834.3 \\t7298693.1 \\t7476873.7 \\t7601464.9 \\t7854519.5 \\t8109491.2 \\t8162596.4 \\t7796101.3 \\t7966438.4 \\t8116000.2 \\t8051665.5 \\t8047540.1 \\t8163650.3 \\t8325509.4 \\t8471217.3 \\t8698316.7 \\t8856708.9 \\t8999471.8 \\t8474145.6 \\t9001578.2 \\t9348941.1 \\t9409606.9 \\t9488936.5 </td></tr><tr><td style = \"text-align: right;\">&vellip;</td><td style = \"text-align: right;\">&vellip;</td><td style = \"text-align: right;\">&vellip;</td><td style = \"text-align: right;\">&vellip;</td><td style = \"text-align: right;\">&vellip;</td></tr><tr><td class = \"rowNumber\" style = \"font-weight: bold; text-align: right;\">34183</td><td style = \"text-align: left;\">A</td><td style = \"text-align: left;\">PYP_MNAC</td><td style = \"text-align: left;\">YA1</td><td style = \"text-align: left;\">LV\\t: \\t: \\t: \\t: \\t: \\t: \\t: \\t: \\t: \\t: \\t: \\t: \\t: \\t: \\t: \\t: \\t: \\t: \\t: \\t: \\t0.0 \\t0.0 \\t0.0 \\t0.0 \\t0.0 \\t0.0 \\t0.0 \\t0.0 \\t0.0 \\t0.0 \\t0.0 \\t0.0 \\t0.0 \\t0.0 \\t0.0 \\t0.0 \\t0.0 \\t0.0 \\t0.0 \\t0.0 \\t0.0 \\t0.0 \\t0.0 \\t0.0 \\t0.0 \\t0.0 \\t0.0 \\t0.0 \\t0.0 \\t0.0 </td></tr><tr><td class = \"rowNumber\" style = \"font-weight: bold; text-align: right;\">34184</td><td style = \"text-align: left;\">A</td><td style = \"text-align: left;\">PYP_MNAC</td><td style = \"text-align: left;\">YA1</td><td style = \"text-align: left;\">ME\\t: \\t: \\t: \\t: \\t: \\t: \\t: \\t: \\t: \\t: \\t: \\t: \\t: \\t: \\t: \\t: \\t: \\t: \\t: \\t: \\t: \\t: \\t: \\t: \\t: \\t: \\t: \\t: \\t: \\t: \\t: \\t: \\t0.0 \\t0.0 \\t0.0 \\t0.0 \\t0.0 \\t0.0 \\t0.0 \\t0.0 \\t0.0 \\t0.0 \\t0.0 \\t0.0 \\t0.0 \\t0.0 \\t: \\t: \\t: \\t: </td></tr><tr><td class = \"rowNumber\" style = \"font-weight: bold; text-align: right;\">34185</td><td style = \"text-align: left;\">A</td><td style = \"text-align: left;\">PYP_MNAC</td><td style = \"text-align: left;\">YA1</td><td style = \"text-align: left;\">MT\\t: \\t: \\t: \\t: \\t: \\t: \\t: \\t: \\t: \\t: \\t: \\t: \\t: \\t: \\t: \\t: \\t: \\t: \\t: \\t: \\t: \\t: \\t: \\t: \\t: \\t: \\t0.0 \\t0.0 \\t0.0 \\t0.0 \\t0.0 \\t0.0 \\t0.0 \\t0.0 \\t0.0 \\t0.0 \\t0.0 \\t0.0 \\t0.0 \\t0.0 \\t0.0 \\t0.0 \\t0.0 \\t0.0 \\t0.0 \\t0.0 \\t0.0 \\t0.0 \\t0.0 \\t0.0 </td></tr><tr><td class = \"rowNumber\" style = \"font-weight: bold; text-align: right;\">34186</td><td style = \"text-align: left;\">A</td><td style = \"text-align: left;\">PYP_MNAC</td><td style = \"text-align: left;\">YA1</td><td style = \"text-align: left;\">NL\\t: \\t: \\t: \\t: \\t: \\t: \\t: \\t: \\t: \\t: \\t: \\t: \\t: \\t: \\t: \\t: \\t: \\t: \\t: \\t: \\t: \\t0.0 \\t0.0 \\t0.0 \\t0.0 \\t0.0 \\t0.0 \\t0.0 \\t0.0 \\t0.0 \\t0.0 \\t0.0 \\t0.0 \\t0.0 \\t0.0 \\t0.0 \\t0.0 \\t0.0 \\t0.0 \\t0.0 \\t0.0 \\t0.0 \\t0.0 \\t0.0 \\t0.0 \\t0.0 \\t0.0 \\t0.0 \\t0.0 \\t0.0 </td></tr><tr><td class = \"rowNumber\" style = \"font-weight: bold; text-align: right;\">34187</td><td style = \"text-align: left;\">A</td><td style = \"text-align: left;\">PYP_MNAC</td><td style = \"text-align: left;\">YA1</td><td style = \"text-align: left;\">NO\\t-825.0 \\t-1158.0 \\t341.0 \\t292.0 \\t150.0 \\t-520.0 \\t-920.0 \\t-850.0 \\t250.0 \\t-1600.0 \\t-1290.0 \\t-1360.0 \\t690.0 \\t-1520.0 \\t-1683.0 \\t900.0 \\t-2400.0 \\t0.0 \\t-300.0 \\t0.0 \\t0.0 \\t0.0 \\t0.0 \\t0.0 \\t0.0 \\t0.0 \\t0.0 \\t0.0 \\t0.0 \\t0.0 \\t0.0 \\t0.0 \\t-918.0 \\t0.0 \\t0.0 \\t0.0 \\t0.0 \\t0.0 \\t0.0 \\t0.0 \\t0.0 \\t0.0 \\t0.0 \\t0.0 \\t0.0 \\t0.0 \\t0.0 \\t0.0 \\t0.0 \\t0.0 d</td></tr><tr><td class = \"rowNumber\" style = \"font-weight: bold; text-align: right;\">34188</td><td style = \"text-align: left;\">A</td><td style = \"text-align: left;\">PYP_MNAC</td><td style = \"text-align: left;\">YA1</td><td style = \"text-align: left;\">PL\\t: \\t: \\t: \\t: \\t: \\t: \\t: \\t: \\t: \\t: \\t: \\t: \\t: \\t: \\t: \\t: \\t: \\t: \\t: \\t: \\t: \\t0.0 \\t0.0 \\t0.0 \\t0.0 \\t0.0 \\t0.0 \\t0.0 \\t0.0 \\t0.0 \\t0.0 \\t0.0 \\t0.0 \\t0.0 \\t0.0 \\t0.0 \\t0.0 \\t0.0 \\t0.0 \\t0.0 \\t0.0 \\t0.0 \\t0.0 \\t0.0 \\t0.0 \\t: \\t: \\t: \\t: \\t: </td></tr><tr><td class = \"rowNumber\" style = \"font-weight: bold; text-align: right;\">34189</td><td style = \"text-align: left;\">A</td><td style = \"text-align: left;\">PYP_MNAC</td><td style = \"text-align: left;\">YA1</td><td style = \"text-align: left;\">PT\\t: \\t: \\t: \\t: \\t: \\t: \\t: \\t: \\t: \\t: \\t: \\t: \\t: \\t: \\t: \\t: \\t: \\t: \\t: \\t: \\t: \\t0.0 \\t0.0 \\t0.0 \\t0.0 \\t0.0 \\t0.0 \\t0.0 \\t0.0 \\t0.0 \\t0.0 \\t0.0 \\t0.0 \\t0.0 \\t0.0 \\t0.0 \\t0.0 \\t0.0 \\t0.0 \\t0.0 \\t0.0 \\t0.0 \\t0.0 \\t0.0 \\t0.0 \\t0.0 \\t0.0 \\t0.0 \\t-22.7 e\\t83.8 e</td></tr><tr><td class = \"rowNumber\" style = \"font-weight: bold; text-align: right;\">34190</td><td style = \"text-align: left;\">A</td><td style = \"text-align: left;\">PYP_MNAC</td><td style = \"text-align: left;\">YA1</td><td style = \"text-align: left;\">RO\\t: \\t: \\t: \\t: \\t: \\t: \\t: \\t: \\t: \\t: \\t: \\t: \\t: \\t: \\t: \\t: \\t: \\t: \\t: \\t: \\t: \\t0.0 \\t0.0 \\t0.0 \\t0.0 \\t0.0 \\t0.0 \\t0.0 \\t0.0 \\t0.0 \\t0.0 \\t0.0 \\t0.0 \\t0.0 \\t0.0 \\t0.0 \\t0.0 \\t0.0 \\t0.0 \\t0.0 \\t0.0 \\t0.0 \\t0.0 \\t0.0 \\t0.0 \\t0.0 \\t0.0 \\t0.0 \\t0.0 p\\t0.0 p</td></tr><tr><td class = \"rowNumber\" style = \"font-weight: bold; text-align: right;\">34191</td><td style = \"text-align: left;\">A</td><td style = \"text-align: left;\">PYP_MNAC</td><td style = \"text-align: left;\">YA1</td><td style = \"text-align: left;\">SI\\t: \\t: \\t: \\t: \\t: \\t: \\t: \\t: \\t: \\t: \\t: \\t: \\t: \\t: \\t: \\t: \\t: \\t: \\t: \\t: \\t: \\t0.0 \\t0.0 \\t0.0 \\t0.0 \\t0.0 \\t0.0 \\t0.0 \\t0.0 \\t0.0 \\t0.0 \\t0.0 \\t0.0 \\t0.0 \\t0.0 \\t0.0 \\t0.0 \\t0.0 \\t0.0 \\t0.0 \\t0.0 \\t0.0 \\t0.0 \\t0.0 \\t0.0 \\t0.0 \\t0.0 \\t0.0 \\t0.0 \\t0.0 </td></tr><tr><td class = \"rowNumber\" style = \"font-weight: bold; text-align: right;\">34192</td><td style = \"text-align: left;\">A</td><td style = \"text-align: left;\">PYP_MNAC</td><td style = \"text-align: left;\">YA1</td><td style = \"text-align: left;\">SK\\t: \\t: \\t: \\t: \\t: \\t: \\t: \\t: \\t: \\t: \\t: \\t: \\t: \\t: \\t: \\t: \\t: \\t: \\t: \\t: \\t0.0 \\t0.0 \\t0.0 \\t0.0 \\t0.0 \\t0.0 \\t0.0 \\t0.0 \\t0.0 \\t0.0 \\t0.0 \\t0.0 \\t0.0 \\t0.0 \\t0.0 \\t0.0 \\t0.0 \\t0.0 \\t0.0 \\t0.0 \\t0.0 \\t0.0 \\t0.0 \\t0.0 \\t0.0 \\t0.0 \\t0.0 \\t0.0 \\t0.0 \\t0.0 </td></tr><tr><td class = \"rowNumber\" style = \"font-weight: bold; text-align: right;\">34193</td><td style = \"text-align: left;\">A</td><td style = \"text-align: left;\">PYP_MNAC</td><td style = \"text-align: left;\">YA1</td><td style = \"text-align: left;\">UK\\t: \\t: \\t: \\t: \\t: \\t: \\t: \\t: \\t: \\t: \\t: \\t: \\t: \\t: \\t: \\t: \\t: \\t: \\t: \\t: \\t: @C\\t: @C\\t: @C\\t: @C\\t: @C\\t: @C\\t: @C\\t: @C\\t: @C\\t: @C\\t: @C\\t: @C\\t: @C\\t: @C\\t: @C\\t: @C\\t: @C\\t: @C\\t: @C\\t: @C\\t: @C\\t: @C\\t: @C\\t: \\t: \\t: \\t: \\t: \\t: \\t: </td></tr><tr><td class = \"rowNumber\" style = \"font-weight: bold; text-align: right;\">34194</td><td style = \"text-align: left;\">A</td><td style = \"text-align: left;\">PYP_MNAC</td><td style = \"text-align: left;\">YA1</td><td style = \"text-align: left;\">XK\\t: \\t: \\t: \\t: \\t: \\t: \\t: \\t: \\t: \\t: \\t: \\t: \\t: \\t: \\t: \\t: \\t: \\t: \\t: \\t: \\t: \\t: \\t: \\t: \\t: \\t: \\t: \\t: \\t: \\t: \\t: \\t: \\t: \\t: \\t0.0 \\t0.0 \\t0.0 \\t0.0 \\t0.0 \\t0.0 \\t0.0 \\t0.0 \\t0.0 \\t0.0 \\t0.0 \\t0.0 \\t0.0 \\t0.0 \\t0.0 \\t: </td></tr></tbody></table></div>"
      ],
      "text/latex": [
       "\\begin{tabular}{r|cccc}\n",
       "\t& freq & unit & na\\_item & geo\\textbackslash{}TIME\\_PERIOD\t1975 \t1976 \t1977 \t1978 \t1979 \t1980 \t1981 \t1982 \t1983 \t1984 \t1985 \t1986 \t1987 \t1988 \t1989 \t1990 \t1991 \t1992 \t1993 \t1994 \t1995 \t1996 \t1997 \t1998 \t1999 \t2000 \t2001 \t2002 \t2003 \t2004 \t2005 \t2006 \t2007 \t2008 \t2009 \t2010 \t2011 \t2012 \t2013 \t2014 \t2015 \t2016 \t2017 \t2018 \t2019 \t2020 \t2021 \t2022 \t2023 \t2024 \\\\\n",
       "\t\\hline\n",
       "\t& String1 & String31 & String15 & String\\\\\n",
       "\t\\hline\n",
       "\t1 & A & CLV05\\_MEUR & B1G & AL\\textbackslash{}t: \\textbackslash{}t: \\textbackslash{}t: \\textbackslash{}t: \\textbackslash{}t: \\textbackslash{}t: \\textbackslash{}t: \\textbackslash{}t: \\textbackslash{}t: \\textbackslash{}t: \\textbackslash{}t: \\textbackslash{}t: \\textbackslash{}t: \\textbackslash{}t: \\textbackslash{}t: \\textbackslash{}t: \\textbackslash{}t: \\textbackslash{}t: \\textbackslash{}t: \\textbackslash{}t: \\textbackslash{}t: \\textbackslash{}t: \\textbackslash{}t: \\textbackslash{}t: \\textbackslash{}t: \\textbackslash{}t: \\textbackslash{}t: \\textbackslash{}t: \\textbackslash{}t: \\textbackslash{}t: \\textbackslash{}t: \\textbackslash{}t: \\textbackslash{}t: \\textbackslash{}t: \\textbackslash{}t: \\textbackslash{}t: \\textbackslash{}t: \\textbackslash{}t: \\textbackslash{}t: \\textbackslash{}t: \\textbackslash{}t: \\textbackslash{}t: \\textbackslash{}t: \\textbackslash{}t: \\textbackslash{}t10048.4 b\\textbackslash{}t9804.4 \\textbackslash{}t10473.7 \\textbackslash{}t11012.9 \\textbackslash{}t11551.7 p\\textbackslash{}t:  \\\\\n",
       "\t2 & A & CLV05\\_MEUR & B1G & AT\\textbackslash{}t: \\textbackslash{}t: \\textbackslash{}t: \\textbackslash{}t: \\textbackslash{}t: \\textbackslash{}t: \\textbackslash{}t: \\textbackslash{}t: \\textbackslash{}t: \\textbackslash{}t: \\textbackslash{}t: \\textbackslash{}t: \\textbackslash{}t: \\textbackslash{}t: \\textbackslash{}t: \\textbackslash{}t: \\textbackslash{}t: \\textbackslash{}t: \\textbackslash{}t: \\textbackslash{}t: \\textbackslash{}t176594.2 \\textbackslash{}t179695.4 \\textbackslash{}t183613.0 \\textbackslash{}t190554.0 \\textbackslash{}t197178.1 \\textbackslash{}t204320.5 \\textbackslash{}t207358.1 \\textbackslash{}t210227.9 \\textbackslash{}t212983.4 \\textbackslash{}t218809.7 \\textbackslash{}t224194.7 \\textbackslash{}t232152.9 \\textbackslash{}t241143.4 \\textbackslash{}t245224.1 \\textbackslash{}t235404.3 \\textbackslash{}t239810.0 \\textbackslash{}t247618.0 \\textbackslash{}t248738.1 \\textbackslash{}t248413.9 \\textbackslash{}t250263.2 \\textbackslash{}t252957.6 \\textbackslash{}t258221.3 \\textbackslash{}t264412.6 \\textbackslash{}t271627.6 \\textbackslash{}t276482.8 \\textbackslash{}t259477.4 \\textbackslash{}t270777.5 \\textbackslash{}t287214.5 \\textbackslash{}t283822.5 \\textbackslash{}t279917.4  \\\\\n",
       "\t3 & A & CLV05\\_MEUR & B1G & BA\\textbackslash{}t: \\textbackslash{}t: \\textbackslash{}t: \\textbackslash{}t: \\textbackslash{}t: \\textbackslash{}t: \\textbackslash{}t: \\textbackslash{}t: \\textbackslash{}t: \\textbackslash{}t: \\textbackslash{}t: \\textbackslash{}t: \\textbackslash{}t: \\textbackslash{}t: \\textbackslash{}t: \\textbackslash{}t: \\textbackslash{}t: \\textbackslash{}t: \\textbackslash{}t: \\textbackslash{}t: \\textbackslash{}t: \\textbackslash{}t: \\textbackslash{}t: \\textbackslash{}t: \\textbackslash{}t: \\textbackslash{}t6112.0 \\textbackslash{}t6263.5 \\textbackslash{}t6583.6 \\textbackslash{}t6848.4 \\textbackslash{}t7305.1 \\textbackslash{}t7613.8 \\textbackslash{}t8065.0 \\textbackslash{}t8559.9 \\textbackslash{}t9042.7 \\textbackslash{}t8817.8 \\textbackslash{}t8882.4 \\textbackslash{}t8974.7 \\textbackslash{}t8903.7 \\textbackslash{}t9118.0 \\textbackslash{}t9224.4 \\textbackslash{}t9351.3 b\\textbackslash{}t9650.5 \\textbackslash{}t9970.4 \\textbackslash{}t10347.6 \\textbackslash{}t10642.3 \\textbackslash{}t10350.5 \\textbackslash{}t11071.9 \\textbackslash{}t11532.7 \\textbackslash{}t11768.6 \\textbackslash{}t:  \\\\\n",
       "\t4 & A & CLV05\\_MEUR & B1G & BE\\textbackslash{}t: \\textbackslash{}t: \\textbackslash{}t: \\textbackslash{}t: \\textbackslash{}t: \\textbackslash{}t: \\textbackslash{}t: \\textbackslash{}t: \\textbackslash{}t: \\textbackslash{}t: \\textbackslash{}t: \\textbackslash{}t: \\textbackslash{}t: \\textbackslash{}t: \\textbackslash{}t: \\textbackslash{}t: \\textbackslash{}t: \\textbackslash{}t: \\textbackslash{}t: \\textbackslash{}t: \\textbackslash{}t220134.9 \\textbackslash{}t222152.1 \\textbackslash{}t230253.8 \\textbackslash{}t234553.8 \\textbackslash{}t242356.3 \\textbackslash{}t251047.6 \\textbackslash{}t254864.1 \\textbackslash{}t259026.0 \\textbackslash{}t261911.7 \\textbackslash{}t270219.1 \\textbackslash{}t276828.7 \\textbackslash{}t283611.6 \\textbackslash{}t294188.1 \\textbackslash{}t296506.2 \\textbackslash{}t291033.8 b\\textbackslash{}t298983.6 \\textbackslash{}t305722.8 \\textbackslash{}t306343.8 \\textbackslash{}t307054.1 \\textbackslash{}t312851.4 \\textbackslash{}t317686.5 \\textbackslash{}t320447.4 \\textbackslash{}t325019.4 \\textbackslash{}t331266.1 \\textbackslash{}t339917.3 \\textbackslash{}t325628.4 \\textbackslash{}t344150.2 \\textbackslash{}t359690.1 \\textbackslash{}t363747.1 p\\textbackslash{}t367406.1 p \\\\\n",
       "\t5 & A & CLV05\\_MEUR & B1G & BG\\textbackslash{}t: \\textbackslash{}t: \\textbackslash{}t: \\textbackslash{}t: \\textbackslash{}t: \\textbackslash{}t: \\textbackslash{}t: \\textbackslash{}t: \\textbackslash{}t: \\textbackslash{}t: \\textbackslash{}t: \\textbackslash{}t: \\textbackslash{}t: \\textbackslash{}t: \\textbackslash{}t: \\textbackslash{}t: \\textbackslash{}t: \\textbackslash{}t: \\textbackslash{}t: \\textbackslash{}t: \\textbackslash{}t18104.4 \\textbackslash{}t19181.0 \\textbackslash{}t16279.8 \\textbackslash{}t16583.7 \\textbackslash{}t15103.9 \\textbackslash{}t15700.3 \\textbackslash{}t16339.7 \\textbackslash{}t17581.4 \\textbackslash{}t18311.9 \\textbackslash{}t19205.0 \\textbackslash{}t20444.8 \\textbackslash{}t21905.4 \\textbackslash{}t23339.9 \\textbackslash{}t24775.6 \\textbackslash{}t24562.9 \\textbackslash{}t25012.4 \\textbackslash{}t25487.8 \\textbackslash{}t25552.2 \\textbackslash{}t25131.1 \\textbackslash{}t25372.8 \\textbackslash{}t26119.5 \\textbackslash{}t26792.6 \\textbackslash{}t27671.7 \\textbackslash{}t28590.9 \\textbackslash{}t29573.4 \\textbackslash{}t28647.1 \\textbackslash{}t30977.8 \\textbackslash{}t32669.9 \\textbackslash{}t33082.8 \\textbackslash{}t33914.1 p \\\\\n",
       "\t6 & A & CLV05\\_MEUR & B1G & CH\\textbackslash{}t: \\textbackslash{}t: \\textbackslash{}t: \\textbackslash{}t: \\textbackslash{}t: \\textbackslash{}t: \\textbackslash{}t: \\textbackslash{}t: \\textbackslash{}t: \\textbackslash{}t: \\textbackslash{}t: \\textbackslash{}t: \\textbackslash{}t: \\textbackslash{}t: \\textbackslash{}t: \\textbackslash{}t270973.2 \\textbackslash{}t269132.6 \\textbackslash{}t269249.4 \\textbackslash{}t268649.6 \\textbackslash{}t271547.9 \\textbackslash{}t272766.6 \\textbackslash{}t273767.0 \\textbackslash{}t279174.0 \\textbackslash{}t287525.2 \\textbackslash{}t290918.8 \\textbackslash{}t301587.8 \\textbackslash{}t306917.1 \\textbackslash{}t307431.2 \\textbackslash{}t307261.6 \\textbackslash{}t315229.8 \\textbackslash{}t323882.1 \\textbackslash{}t336810.8 \\textbackslash{}t349722.2 \\textbackslash{}t359861.1 \\textbackslash{}t351613.1 \\textbackslash{}t362699.3 \\textbackslash{}t369754.6 \\textbackslash{}t374698.2 \\textbackslash{}t381505.9 \\textbackslash{}t390405.6 \\textbackslash{}t396747.1 \\textbackslash{}t405030.0 \\textbackslash{}t410565.5 \\textbackslash{}t422877.6 \\textbackslash{}t427969.5 \\textbackslash{}t419196.5 \\textbackslash{}t442494.5 \\textbackslash{}t455963.4 \\textbackslash{}t459192.9 \\textbackslash{}t465541.1  \\\\\n",
       "\t7 & A & CLV05\\_MEUR & B1G & CY\\textbackslash{}t: \\textbackslash{}t: \\textbackslash{}t: \\textbackslash{}t: \\textbackslash{}t: \\textbackslash{}t: \\textbackslash{}t: \\textbackslash{}t: \\textbackslash{}t: \\textbackslash{}t: \\textbackslash{}t: \\textbackslash{}t: \\textbackslash{}t: \\textbackslash{}t: \\textbackslash{}t: \\textbackslash{}t: \\textbackslash{}t: \\textbackslash{}t: \\textbackslash{}t: \\textbackslash{}t: \\textbackslash{}t8788.7 \\textbackslash{}t8898.4 \\textbackslash{}t9133.4 \\textbackslash{}t9691.6 \\textbackslash{}t10175.9 \\textbackslash{}t10783.0 \\textbackslash{}t11209.2 \\textbackslash{}t11626.5 \\textbackslash{}t11931.5 \\textbackslash{}t12531.2 \\textbackslash{}t13139.3 \\textbackslash{}t13758.7 \\textbackslash{}t14460.1 \\textbackslash{}t14987.4 \\textbackslash{}t14685.4 \\textbackslash{}t15026.1 \\textbackslash{}t15088.7 \\textbackslash{}t14568.5 \\textbackslash{}t13608.8 \\textbackslash{}t13367.1 \\textbackslash{}t13802.9 \\textbackslash{}t14710.3 \\textbackslash{}t15559.0 \\textbackslash{}t16552.3 \\textbackslash{}t17557.3 \\textbackslash{}t17006.4 \\textbackslash{}t18943.0 \\textbackslash{}t20338.3 \\textbackslash{}t20869.5 \\textbackslash{}t21589.0 p \\\\\n",
       "\t8 & A & CLV05\\_MEUR & B1G & CZ\\textbackslash{}t: \\textbackslash{}t: \\textbackslash{}t: \\textbackslash{}t: \\textbackslash{}t: \\textbackslash{}t: \\textbackslash{}t: \\textbackslash{}t: \\textbackslash{}t: \\textbackslash{}t: \\textbackslash{}t: \\textbackslash{}t: \\textbackslash{}t: \\textbackslash{}t: \\textbackslash{}t: \\textbackslash{}t: \\textbackslash{}t: \\textbackslash{}t: \\textbackslash{}t: \\textbackslash{}t: \\textbackslash{}t76923.3 \\textbackslash{}t79854.6 \\textbackslash{}t78809.3 \\textbackslash{}t78517.4 \\textbackslash{}t79634.1 \\textbackslash{}t83044.3 \\textbackslash{}t85484.1 \\textbackslash{}t87157.8 \\textbackslash{}t89484.1 \\textbackslash{}t93751.6 \\textbackslash{}t99873.9 \\textbackslash{}t106984.5 \\textbackslash{}t112545.5 \\textbackslash{}t116476.0 \\textbackslash{}t110142.5 \\textbackslash{}t113790.8 \\textbackslash{}t115804.0 \\textbackslash{}t114852.1 \\textbackslash{}t114838.7 \\textbackslash{}t118093.1 \\textbackslash{}t123230.1 \\textbackslash{}t126367.8 \\textbackslash{}t132947.1 \\textbackslash{}t136898.4 \\textbackslash{}t141826.2 \\textbackslash{}t134662.9 \\textbackslash{}t139954.3 \\textbackslash{}t144017.9 \\textbackslash{}t144691.2 \\textbackslash{}t145367.8  \\\\\n",
       "\t9 & A & CLV05\\_MEUR & B1G & DE\\textbackslash{}t: \\textbackslash{}t: \\textbackslash{}t: \\textbackslash{}t: \\textbackslash{}t: \\textbackslash{}t: \\textbackslash{}t: \\textbackslash{}t: \\textbackslash{}t: \\textbackslash{}t: \\textbackslash{}t: \\textbackslash{}t: \\textbackslash{}t: \\textbackslash{}t: \\textbackslash{}t: \\textbackslash{}t: \\textbackslash{}t1736858.5 \\textbackslash{}t1772167.5 \\textbackslash{}t1751031.8 \\textbackslash{}t1790319.4 \\textbackslash{}t1822644.6 \\textbackslash{}t1837315.3 \\textbackslash{}t1875359.6 \\textbackslash{}t1917631.0 \\textbackslash{}t1954432.0 \\textbackslash{}t2015103.9 \\textbackslash{}t2054640.2 \\textbackslash{}t2055634.8 \\textbackslash{}t2044693.9 \\textbackslash{}t2076770.5 \\textbackslash{}t2095171.0 \\textbackslash{}t2177973.3 \\textbackslash{}t2250829.3 \\textbackslash{}t2272711.0 \\textbackslash{}t2131474.7 \\textbackslash{}t2229693.6 \\textbackslash{}t2313241.9 \\textbackslash{}t2324928.7 \\textbackslash{}t2335620.8 \\textbackslash{}t2387838.5 \\textbackslash{}t2422152.9 \\textbackslash{}t2479841.0 \\textbackslash{}t2549215.9 \\textbackslash{}t2579800.5 \\textbackslash{}t2597952.4 \\textbackslash{}t2486554.7 \\textbackslash{}t2581043.8 p\\textbackslash{}t2625801.8 p\\textbackslash{}t2631520.9 p\\textbackslash{}t2624309.8 p \\\\\n",
       "\t10 & A & CLV05\\_MEUR & B1G & DK\\textbackslash{}t92604.1 \\textbackslash{}t97510.2 \\textbackslash{}t99430.6 \\textbackslash{}t101615.0 \\textbackslash{}t105887.8 \\textbackslash{}t105472.1 \\textbackslash{}t105088.1 \\textbackslash{}t109083.9 \\textbackslash{}t111624.5 \\textbackslash{}t116489.0 \\textbackslash{}t120881.6 \\textbackslash{}t124951.7 \\textbackslash{}t126186.9 \\textbackslash{}t128063.1 \\textbackslash{}t129584.4 \\textbackslash{}t132173.0 \\textbackslash{}t133642.9 \\textbackslash{}t135943.0 \\textbackslash{}t136667.6 \\textbackslash{}t142940.3 \\textbackslash{}t147419.3 \\textbackslash{}t151137.0 \\textbackslash{}t155854.3 \\textbackslash{}t158919.4 \\textbackslash{}t164198.2 \\textbackslash{}t171796.8 \\textbackslash{}t173492.2 \\textbackslash{}t174025.9 \\textbackslash{}t174808.8 \\textbackslash{}t178458.7 \\textbackslash{}t181404.8 \\textbackslash{}t188199.0 \\textbackslash{}t189337.3 \\textbackslash{}t189675.6 \\textbackslash{}t181038.6 \\textbackslash{}t183782.1 \\textbackslash{}t186455.8 \\textbackslash{}t186452.0 \\textbackslash{}t189137.3 \\textbackslash{}t191277.5 \\textbackslash{}t195015.1 \\textbackslash{}t200827.6 \\textbackslash{}t207278.2 \\textbackslash{}t210514.2 \\textbackslash{}t214055.2 \\textbackslash{}t208985.4 \\textbackslash{}t224175.0 \\textbackslash{}t229527.9 \\textbackslash{}t236350.6 \\textbackslash{}t245545.1  \\\\\n",
       "\t11 & A & CLV05\\_MEUR & B1G & EA\\textbackslash{}t: \\textbackslash{}t: \\textbackslash{}t: \\textbackslash{}t: \\textbackslash{}t: \\textbackslash{}t: \\textbackslash{}t: \\textbackslash{}t: \\textbackslash{}t: \\textbackslash{}t: \\textbackslash{}t: \\textbackslash{}t: \\textbackslash{}t: \\textbackslash{}t: \\textbackslash{}t: \\textbackslash{}t: \\textbackslash{}t: \\textbackslash{}t: \\textbackslash{}t: \\textbackslash{}t: \\textbackslash{}t5920816.1 \\textbackslash{}t6011149.1 \\textbackslash{}t6168117.4 \\textbackslash{}t6346939.6 \\textbackslash{}t6529600.1 \\textbackslash{}t6788342.1 \\textbackslash{}t7085332.3 \\textbackslash{}t7150799.4 \\textbackslash{}t7192468.6 \\textbackslash{}t7365279.8 \\textbackslash{}t7483064.4 \\textbackslash{}t7726449.9 \\textbackslash{}t7998550.6 \\textbackslash{}t8068240.7 \\textbackslash{}t7755623.0 \\textbackslash{}t7926296.9 \\textbackslash{}t8083877.3 \\textbackslash{}t8017289.5 \\textbackslash{}t8011819.3 \\textbackslash{}t8139507.9 \\textbackslash{}t8325509.4 \\textbackslash{}t8471217.3 \\textbackslash{}t8698316.7 \\textbackslash{}t8856708.9 \\textbackslash{}t8999471.8 \\textbackslash{}t8474145.6 \\textbackslash{}t9001578.2 \\textbackslash{}t9348941.1 \\textbackslash{}t9450743.6 \\textbackslash{}t9531694.3  \\\\\n",
       "\t12 & A & CLV05\\_MEUR & B1G & EA12\\textbackslash{}t: \\textbackslash{}t: \\textbackslash{}t: \\textbackslash{}t: \\textbackslash{}t: \\textbackslash{}t: \\textbackslash{}t: \\textbackslash{}t: \\textbackslash{}t: \\textbackslash{}t: \\textbackslash{}t: \\textbackslash{}t: \\textbackslash{}t: \\textbackslash{}t: \\textbackslash{}t: \\textbackslash{}t: \\textbackslash{}t: \\textbackslash{}t: \\textbackslash{}t: \\textbackslash{}t: \\textbackslash{}t6043935.1 \\textbackslash{}t6135385.6 \\textbackslash{}t6296404.6 \\textbackslash{}t6480643.4 \\textbackslash{}t6665293.7 \\textbackslash{}t6929434.8 \\textbackslash{}t7085332.3 \\textbackslash{}t7150799.4 \\textbackslash{}t7192468.6 \\textbackslash{}t7365279.8 \\textbackslash{}t7483064.4 \\textbackslash{}t7726449.9 \\textbackslash{}t7969626.4 \\textbackslash{}t8018355.5 \\textbackslash{}t7665047.7 \\textbackslash{}t7831245.9 \\textbackslash{}t7977293.8 \\textbackslash{}t7909719.7 \\textbackslash{}t7904539.8 \\textbackslash{}t8016258.6 \\textbackslash{}t8172124.2 \\textbackslash{}t8313181.7 \\textbackslash{}t8532800.2 \\textbackslash{}t8682908.9 \\textbackslash{}t8819871.6 \\textbackslash{}t8297191.8 \\textbackslash{}t8811953.0 \\textbackslash{}t9156068.9 \\textbackslash{}t9211979.2 \\textbackslash{}t9287818.6  \\\\\n",
       "\t13 & A & CLV05\\_MEUR & B1G & EA19\\textbackslash{}t: \\textbackslash{}t: \\textbackslash{}t: \\textbackslash{}t: \\textbackslash{}t: \\textbackslash{}t: \\textbackslash{}t: \\textbackslash{}t: \\textbackslash{}t: \\textbackslash{}t: \\textbackslash{}t: \\textbackslash{}t: \\textbackslash{}t: \\textbackslash{}t: \\textbackslash{}t: \\textbackslash{}t: \\textbackslash{}t: \\textbackslash{}t: \\textbackslash{}t: \\textbackslash{}t: \\textbackslash{}t6121092.3 \\textbackslash{}t6215178.6 \\textbackslash{}t6380257.3 \\textbackslash{}t6568061.1 \\textbackslash{}t6754621.3 \\textbackslash{}t7022183.6 \\textbackslash{}t7181945.7 \\textbackslash{}t7251834.3 \\textbackslash{}t7298693.1 \\textbackslash{}t7476873.7 \\textbackslash{}t7601464.9 \\textbackslash{}t7854519.5 \\textbackslash{}t8109491.2 \\textbackslash{}t8162596.4 \\textbackslash{}t7796101.3 \\textbackslash{}t7966438.4 \\textbackslash{}t8116000.2 \\textbackslash{}t8051665.5 \\textbackslash{}t8047540.1 \\textbackslash{}t8163650.3 \\textbackslash{}t8325509.4 \\textbackslash{}t8471217.3 \\textbackslash{}t8698316.7 \\textbackslash{}t8856708.9 \\textbackslash{}t8999471.8 \\textbackslash{}t8474145.6 \\textbackslash{}t9001578.2 \\textbackslash{}t9348941.1 \\textbackslash{}t9409606.9 \\textbackslash{}t9488936.5  \\\\\n",
       "\t14 & A & CLV05\\_MEUR & B1G & EA20\\textbackslash{}t: \\textbackslash{}t: \\textbackslash{}t: \\textbackslash{}t: \\textbackslash{}t: \\textbackslash{}t: \\textbackslash{}t: \\textbackslash{}t: \\textbackslash{}t: \\textbackslash{}t: \\textbackslash{}t: \\textbackslash{}t: \\textbackslash{}t: \\textbackslash{}t: \\textbackslash{}t: \\textbackslash{}t: \\textbackslash{}t: \\textbackslash{}t: \\textbackslash{}t: \\textbackslash{}t: \\textbackslash{}t6142410.9 \\textbackslash{}t6237605.1 \\textbackslash{}t6404079.3 \\textbackslash{}t6592442.8 \\textbackslash{}t6779014.2 \\textbackslash{}t7047186.5 \\textbackslash{}t7207800.6 \\textbackslash{}t7278953.3 \\textbackslash{}t7327317.6 \\textbackslash{}t7506678.1 \\textbackslash{}t7632507.8 \\textbackslash{}t7887025.7 \\textbackslash{}t8143616.5 \\textbackslash{}t8197425.5 \\textbackslash{}t7828913.6 \\textbackslash{}t7998509.3 \\textbackslash{}t8148083.6 \\textbackslash{}t8082586.3 \\textbackslash{}t8078299.9 \\textbackslash{}t8194153.0 \\textbackslash{}t8356707.6 \\textbackslash{}t8503539.1 \\textbackslash{}t8731545.7 \\textbackslash{}t8890780.1 \\textbackslash{}t9034687.8 \\textbackslash{}t8506759.9 \\textbackslash{}t9038098.6 \\textbackslash{}t9388606.6 \\textbackslash{}t9450743.6 \\textbackslash{}t9531694.3  \\\\\n",
       "\t15 & A & CLV05\\_MEUR & B1G & EE\\textbackslash{}t: \\textbackslash{}t: \\textbackslash{}t: \\textbackslash{}t: \\textbackslash{}t: \\textbackslash{}t: \\textbackslash{}t: \\textbackslash{}t: \\textbackslash{}t: \\textbackslash{}t: \\textbackslash{}t: \\textbackslash{}t: \\textbackslash{}t: \\textbackslash{}t: \\textbackslash{}t: \\textbackslash{}t: \\textbackslash{}t: \\textbackslash{}t: \\textbackslash{}t: \\textbackslash{}t: \\textbackslash{}t5216.3 \\textbackslash{}t5472.6 \\textbackslash{}t6128.8 \\textbackslash{}t6524.5 \\textbackslash{}t6528.8 \\textbackslash{}t7132.8 \\textbackslash{}t7525.7 \\textbackslash{}t8022.8 \\textbackslash{}t8638.9 \\textbackslash{}t9179.4 \\textbackslash{}t10054.9 \\textbackslash{}t10989.2 \\textbackslash{}t11761.4 \\textbackslash{}t11408.0 \\textbackslash{}t9666.4 \\textbackslash{}t10018.4 \\textbackslash{}t10811.2 \\textbackslash{}t11154.0 \\textbackslash{}t11348.7 \\textbackslash{}t11710.8 \\textbackslash{}t11898.8 \\textbackslash{}t12233.3 \\textbackslash{}t13028.5 \\textbackslash{}t13562.0 \\textbackslash{}t13987.1 \\textbackslash{}t13609.2 \\textbackslash{}t14491.0 \\textbackslash{}t14578.9 \\textbackslash{}t14113.9 \\textbackslash{}t13954.6  \\\\\n",
       "\t16 & A & CLV05\\_MEUR & B1G & EL\\textbackslash{}t: \\textbackslash{}t: \\textbackslash{}t: \\textbackslash{}t: \\textbackslash{}t: \\textbackslash{}t: \\textbackslash{}t: \\textbackslash{}t: \\textbackslash{}t: \\textbackslash{}t: \\textbackslash{}t: \\textbackslash{}t: \\textbackslash{}t: \\textbackslash{}t: \\textbackslash{}t: \\textbackslash{}t: \\textbackslash{}t: \\textbackslash{}t: \\textbackslash{}t: \\textbackslash{}t: \\textbackslash{}t122770.4 \\textbackslash{}t123796.5 \\textbackslash{}t127887.1 \\textbackslash{}t133304.9 \\textbackslash{}t135216.7 \\textbackslash{}t140596.9 \\textbackslash{}t146138.9 \\textbackslash{}t153024.5 \\textbackslash{}t162443.5 \\textbackslash{}t172511.0 \\textbackslash{}t174351.6 \\textbackslash{}t183495.4 \\textbackslash{}t188924.3 \\textbackslash{}t189478.8 \\textbackslash{}t183253.0 \\textbackslash{}t172562.9 \\textbackslash{}t157248.3 \\textbackslash{}t145929.0 \\textbackslash{}t143499.1 \\textbackslash{}t143664.9 \\textbackslash{}t143675.0 \\textbackslash{}t143176.6 \\textbackslash{}t146392.4 \\textbackslash{}t148919.3 \\textbackslash{}t151557.8 \\textbackslash{}t137768.2 \\textbackslash{}t148962.1 \\textbackslash{}t156850.4 p\\textbackslash{}t160303.5 p\\textbackslash{}t163187.5 p \\\\\n",
       "\t17 & A & CLV05\\_MEUR & B1G & ES\\textbackslash{}t: \\textbackslash{}t: \\textbackslash{}t: \\textbackslash{}t: \\textbackslash{}t: \\textbackslash{}t: \\textbackslash{}t: \\textbackslash{}t: \\textbackslash{}t: \\textbackslash{}t: \\textbackslash{}t: \\textbackslash{}t: \\textbackslash{}t: \\textbackslash{}t: \\textbackslash{}t: \\textbackslash{}t: \\textbackslash{}t: \\textbackslash{}t: \\textbackslash{}t: \\textbackslash{}t: \\textbackslash{}t591143.6 \\textbackslash{}t606439.9 \\textbackslash{}t626973.9 \\textbackslash{}t651128.7 \\textbackslash{}t679325.2 \\textbackslash{}t715378.4 \\textbackslash{}t743784.2 \\textbackslash{}t763693.8 \\textbackslash{}t784029.5 \\textbackslash{}t805999.1 \\textbackslash{}t833031.0 \\textbackslash{}t867873.9 \\textbackslash{}t902331.1 \\textbackslash{}t912288.4 \\textbackslash{}t882490.8 \\textbackslash{}t880943.8 \\textbackslash{}t878728.3 \\textbackslash{}t854235.2 \\textbackslash{}t843331.8 \\textbackslash{}t852449.3 \\textbackslash{}t882602.2 \\textbackslash{}t906037.9 \\textbackslash{}t933447.0 \\textbackslash{}t956350.1 \\textbackslash{}t976168.5 \\textbackslash{}t870113.8 \\textbackslash{}t924781.0 \\textbackslash{}t986738.5 p\\textbackslash{}t1015200.9 p\\textbackslash{}t1052201.0 p \\\\\n",
       "\t18 & A & CLV05\\_MEUR & B1G & EU27\\_2020\\textbackslash{}t: \\textbackslash{}t: \\textbackslash{}t: \\textbackslash{}t: \\textbackslash{}t: \\textbackslash{}t: \\textbackslash{}t: \\textbackslash{}t: \\textbackslash{}t: \\textbackslash{}t: \\textbackslash{}t: \\textbackslash{}t: \\textbackslash{}t: \\textbackslash{}t: \\textbackslash{}t: \\textbackslash{}t: \\textbackslash{}t: \\textbackslash{}t: \\textbackslash{}t: \\textbackslash{}t: \\textbackslash{}t6846397.9 \\textbackslash{}t6961770.7 \\textbackslash{}t7146633.9 \\textbackslash{}t7356177.1 \\textbackslash{}t7567927.0 \\textbackslash{}t7872587.5 \\textbackslash{}t8048440.3 \\textbackslash{}t8137378.6 \\textbackslash{}t8205065.1 \\textbackslash{}t8424125.4 \\textbackslash{}t8579079.4 \\textbackslash{}t8885024.0 \\textbackslash{}t9181144.0 \\textbackslash{}t9259705.8 \\textbackslash{}t8862934.5 \\textbackslash{}t9058720.5 \\textbackslash{}t9244847.6 \\textbackslash{}t9182935.1 \\textbackslash{}t9189080.8 \\textbackslash{}t9337899.7 \\textbackslash{}t9544703.7 \\textbackslash{}t9722934.6 \\textbackslash{}t10002036.8 \\textbackslash{}t10211603.4 \\textbackslash{}t10402183.7 \\textbackslash{}t9836848.1 \\textbackslash{}t10451177.7 \\textbackslash{}t10849380.3 \\textbackslash{}t10928513.2 \\textbackslash{}t11033688.0  \\\\\n",
       "\t19 & A & CLV05\\_MEUR & B1G & FI\\textbackslash{}t: \\textbackslash{}t: \\textbackslash{}t: \\textbackslash{}t: \\textbackslash{}t: \\textbackslash{}t73469.7 \\textbackslash{}t74492.9 \\textbackslash{}t76478.8 \\textbackslash{}t79215.7 \\textbackslash{}t81828.5 \\textbackslash{}t84702.7 \\textbackslash{}t86780.2 \\textbackslash{}t89501.6 \\textbackslash{}t93787.2 \\textbackslash{}t98452.9 \\textbackslash{}t99938.7 \\textbackslash{}t93925.4 \\textbackslash{}t91075.6 \\textbackslash{}t90890.9 \\textbackslash{}t95073.6 \\textbackslash{}t99113.2 \\textbackslash{}t102829.3 \\textbackslash{}t109270.0 \\textbackslash{}t115062.6 \\textbackslash{}t120423.8 \\textbackslash{}t128173.7 \\textbackslash{}t131736.9 \\textbackslash{}t133468.7 \\textbackslash{}t135043.5 \\textbackslash{}t140280.4 \\textbackslash{}t143900.0 \\textbackslash{}t149352.7 \\textbackslash{}t158342.4 \\textbackslash{}t159792.2 \\textbackslash{}t146011.8 \\textbackslash{}t150704.4 \\textbackslash{}t153309.8 \\textbackslash{}t150171.6 \\textbackslash{}t148450.4 \\textbackslash{}t147800.7 \\textbackslash{}t148253.5 \\textbackslash{}t151707.2 \\textbackslash{}t157400.9 \\textbackslash{}t158653.8 \\textbackslash{}t161226.4 \\textbackslash{}t157311.8 \\textbackslash{}t161641.6 \\textbackslash{}t163379.9 \\textbackslash{}t163090.6 \\textbackslash{}t162807.8  \\\\\n",
       "\t20 & A & CLV05\\_MEUR & B1G & FR\\textbackslash{}t: \\textbackslash{}t: \\textbackslash{}t: \\textbackslash{}t867090.8 \\textbackslash{}t893745.8 \\textbackslash{}t913251.5 \\textbackslash{}t924891.8 \\textbackslash{}t946383.7 \\textbackslash{}t958674.4 \\textbackslash{}t974777.2 \\textbackslash{}t989674.3 \\textbackslash{}t1010710.1 \\textbackslash{}t1032594.1 \\textbackslash{}t1079455.8 \\textbackslash{}t1129957.5 \\textbackslash{}t1163254.6 \\textbackslash{}t1178320.4 \\textbackslash{}t1199663.1 \\textbackslash{}t1196042.8 \\textbackslash{}t1220770.5 \\textbackslash{}t1250871.3 \\textbackslash{}t1269215.8 \\textbackslash{}t1301123.7 \\textbackslash{}t1346929.8 \\textbackslash{}t1392961.7 \\textbackslash{}t1450481.1 \\textbackslash{}t1477777.3 \\textbackslash{}t1492977.4 \\textbackslash{}t1506329.9 \\textbackslash{}t1552636.6 \\textbackslash{}t1579667.7 \\textbackslash{}t1622810.2 \\textbackslash{}t1665815.8 \\textbackslash{}t1676357.2 \\textbackslash{}t1632443.6 \\textbackslash{}t1661738.5 \\textbackslash{}t1703854.7 \\textbackslash{}t1710618.4 \\textbackslash{}t1724721.7 \\textbackslash{}t1745412.3 \\textbackslash{}t1759714.9 \\textbackslash{}t1771676.1 \\textbackslash{}t1806314.2 \\textbackslash{}t1835627.4 \\textbackslash{}t1874284.5 \\textbackslash{}t1737519.4 \\textbackslash{}t1851203.2 \\textbackslash{}t1903716.8 p\\textbackslash{}t1930994.5 p\\textbackslash{}t1957388.3 p \\\\\n",
       "\t21 & A & CLV05\\_MEUR & B1G & HR\\textbackslash{}t: \\textbackslash{}t: \\textbackslash{}t: \\textbackslash{}t: \\textbackslash{}t: \\textbackslash{}t: \\textbackslash{}t: \\textbackslash{}t: \\textbackslash{}t: \\textbackslash{}t: \\textbackslash{}t: \\textbackslash{}t: \\textbackslash{}t: \\textbackslash{}t: \\textbackslash{}t: \\textbackslash{}t: \\textbackslash{}t: \\textbackslash{}t: \\textbackslash{}t: \\textbackslash{}t: \\textbackslash{}t20901.4 \\textbackslash{}t22176.8 \\textbackslash{}t23725.0 \\textbackslash{}t24261.1 \\textbackslash{}t24189.5 \\textbackslash{}t24734.5 \\textbackslash{}t25618.9 \\textbackslash{}t26978.2 \\textbackslash{}t28574.1 \\textbackslash{}t29783.9 \\textbackslash{}t31042.9 \\textbackslash{}t32506.2 \\textbackslash{}t34107.7 \\textbackslash{}t34785.6 \\textbackslash{}t32814.7 \\textbackslash{}t32214.0 \\textbackslash{}t32292.1 \\textbackslash{}t31217.0 \\textbackslash{}t31068.7 \\textbackslash{}t30867.7 \\textbackslash{}t31565.2 \\textbackslash{}t32670.1 \\textbackslash{}t33584.8 \\textbackslash{}t34419.9 \\textbackslash{}t35531.6 \\textbackslash{}t32946.7 \\textbackslash{}t36799.5 \\textbackslash{}t39880.6 \\textbackslash{}t41269.4 p\\textbackslash{}t42745.6 p \\\\\n",
       "\t22 & A & CLV05\\_MEUR & B1G & HU\\textbackslash{}t: \\textbackslash{}t: \\textbackslash{}t: \\textbackslash{}t: \\textbackslash{}t: \\textbackslash{}t: \\textbackslash{}t: \\textbackslash{}t: \\textbackslash{}t: \\textbackslash{}t: \\textbackslash{}t: \\textbackslash{}t: \\textbackslash{}t: \\textbackslash{}t: \\textbackslash{}t: \\textbackslash{}t: \\textbackslash{}t: \\textbackslash{}t: \\textbackslash{}t: \\textbackslash{}t: \\textbackslash{}t54233.0 \\textbackslash{}t54985.4 \\textbackslash{}t56554.2 \\textbackslash{}t58700.5 \\textbackslash{}t60412.9 \\textbackslash{}t63022.1 \\textbackslash{}t65694.5 \\textbackslash{}t68868.8 \\textbackslash{}t71690.0 \\textbackslash{}t75233.5 \\textbackslash{}t78414.6 \\textbackslash{}t81461.5 \\textbackslash{}t81685.1 \\textbackslash{}t82357.5 \\textbackslash{}t76744.4 \\textbackslash{}t77730.6 \\textbackslash{}t79294.5 \\textbackslash{}t78231.7 \\textbackslash{}t80346.8 \\textbackslash{}t84035.1 \\textbackslash{}t87087.3 \\textbackslash{}t89333.7 \\textbackslash{}t92927.9 \\textbackslash{}t98365.2 \\textbackslash{}t103195.2 \\textbackslash{}t98439.0 \\textbackslash{}t105830.3 \\textbackslash{}t110643.9 \\textbackslash{}t110146.7 p\\textbackslash{}t110499.7 p \\\\\n",
       "\t23 & A & CLV05\\_MEUR & B1G & IE\\textbackslash{}t: \\textbackslash{}t: \\textbackslash{}t: \\textbackslash{}t: \\textbackslash{}t: \\textbackslash{}t: \\textbackslash{}t: \\textbackslash{}t: \\textbackslash{}t: \\textbackslash{}t: \\textbackslash{}t: \\textbackslash{}t: \\textbackslash{}t: \\textbackslash{}t: \\textbackslash{}t: \\textbackslash{}t: \\textbackslash{}t: \\textbackslash{}t: \\textbackslash{}t: \\textbackslash{}t: \\textbackslash{}t80329.9 \\textbackslash{}t85154.7 \\textbackslash{}t94062.5 \\textbackslash{}t102444.8 \\textbackslash{}t111024.3 \\textbackslash{}t120086.8 \\textbackslash{}t124661.6 \\textbackslash{}t132256.4 \\textbackslash{}t133972.2 \\textbackslash{}t140937.5 \\textbackslash{}t149522.7 \\textbackslash{}t156386.6 \\textbackslash{}t168614.6 \\textbackslash{}t164829.6 \\textbackslash{}t154323.7 \\textbackslash{}t157098.8 \\textbackslash{}t160875.6 \\textbackslash{}t156388.9 \\textbackslash{}t159801.4 \\textbackslash{}t173595.2 \\textbackslash{}t212654.8 \\textbackslash{}t214742.9 \\textbackslash{}t231320.0 \\textbackslash{}t252678.5 \\textbackslash{}t266205.9 \\textbackslash{}t287142.8 \\textbackslash{}t334021.7 \\textbackslash{}t366758.8 \\textbackslash{}t346145.7 \\textbackslash{}t348533.8  \\\\\n",
       "\t24 & A & CLV05\\_MEUR & B1G & IS\\textbackslash{}t: \\textbackslash{}t: \\textbackslash{}t: \\textbackslash{}t: \\textbackslash{}t: \\textbackslash{}t: \\textbackslash{}t: \\textbackslash{}t: \\textbackslash{}t: \\textbackslash{}t: \\textbackslash{}t: \\textbackslash{}t: \\textbackslash{}t: \\textbackslash{}t: \\textbackslash{}t: \\textbackslash{}t: \\textbackslash{}t: \\textbackslash{}t: \\textbackslash{}t: \\textbackslash{}t: \\textbackslash{}t7338.1 \\textbackslash{}t7780.2 \\textbackslash{}t8145.0 \\textbackslash{}t8787.9 \\textbackslash{}t9232.0 \\textbackslash{}t9721.3 \\textbackslash{}t10066.9 \\textbackslash{}t10055.9 \\textbackslash{}t10369.5 \\textbackslash{}t11043.5 \\textbackslash{}t11567.8 \\textbackslash{}t12036.9 \\textbackslash{}t13055.3 \\textbackslash{}t13392.4 \\textbackslash{}t12501.3 \\textbackslash{}t12138.6 \\textbackslash{}t12341.0 \\textbackslash{}t12549.0 \\textbackslash{}t13017.0 \\textbackslash{}t13274.6 \\textbackslash{}t13842.7 \\textbackslash{}t14691.8 \\textbackslash{}t15369.2 \\textbackslash{}t16123.9 \\textbackslash{}t16424.0 \\textbackslash{}t15284.1 \\textbackslash{}t16053.3 \\textbackslash{}t17494.8 \\textbackslash{}t18479.1 \\textbackslash{}t18574.4  \\\\\n",
       "\t25 & A & CLV05\\_MEUR & B1G & IT\\textbackslash{}t: \\textbackslash{}t: \\textbackslash{}t: \\textbackslash{}t: \\textbackslash{}t: \\textbackslash{}t: \\textbackslash{}t: \\textbackslash{}t: \\textbackslash{}t: \\textbackslash{}t: \\textbackslash{}t: \\textbackslash{}t: \\textbackslash{}t: \\textbackslash{}t: \\textbackslash{}t: \\textbackslash{}t: \\textbackslash{}t: \\textbackslash{}t: \\textbackslash{}t: \\textbackslash{}t: \\textbackslash{}t1163428.9 \\textbackslash{}t1179317.6 \\textbackslash{}t1198776.9 \\textbackslash{}t1218452.2 \\textbackslash{}t1237827.6 \\textbackslash{}t1285922.1 \\textbackslash{}t1310582.2 \\textbackslash{}t1315526.7 \\textbackslash{}t1316061.0 \\textbackslash{}t1337861.8 \\textbackslash{}t1348360.1 \\textbackslash{}t1374453.2 \\textbackslash{}t1396350.2 \\textbackslash{}t1384827.3 \\textbackslash{}t1308258.5 \\textbackslash{}t1331905.3 \\textbackslash{}t1342324.8 \\textbackslash{}t1304420.3 \\textbackslash{}t1284774.0 \\textbackslash{}t1283880.5 \\textbackslash{}t1295847.9 \\textbackslash{}t1313563.0 \\textbackslash{}t1337766.9 \\textbackslash{}t1351030.7 \\textbackslash{}t1360524.1 \\textbackslash{}t1247623.0 \\textbackslash{}t1359474.6 \\textbackslash{}t1426628.9 \\textbackslash{}t1437031.3 \\textbackslash{}t1444911.5  \\\\\n",
       "\t26 & A & CLV05\\_MEUR & B1G & LT\\textbackslash{}t: \\textbackslash{}t: \\textbackslash{}t: \\textbackslash{}t: \\textbackslash{}t: \\textbackslash{}t: \\textbackslash{}t: \\textbackslash{}t: \\textbackslash{}t: \\textbackslash{}t: \\textbackslash{}t: \\textbackslash{}t: \\textbackslash{}t: \\textbackslash{}t: \\textbackslash{}t: \\textbackslash{}t: \\textbackslash{}t: \\textbackslash{}t: \\textbackslash{}t: \\textbackslash{}t: \\textbackslash{}t10546.5 \\textbackslash{}t11076.7 \\textbackslash{}t11996.1 \\textbackslash{}t12891.4 \\textbackslash{}t12750.0 \\textbackslash{}t13185.9 \\textbackslash{}t14040.8 \\textbackslash{}t14984.4 \\textbackslash{}t16565.5 \\textbackslash{}t17642.6 \\textbackslash{}t19006.6 \\textbackslash{}t20412.3 \\textbackslash{}t22673.5 \\textbackslash{}t23262.9 \\textbackslash{}t19811.0 \\textbackslash{}t19895.6 \\textbackslash{}t21153.8 \\textbackslash{}t22080.9 \\textbackslash{}t22974.5 \\textbackslash{}t23841.2 \\textbackslash{}t24516.6 \\textbackslash{}t25171.7 \\textbackslash{}t26332.7 \\textbackslash{}t27627.8 \\textbackslash{}t28920.0 \\textbackslash{}t28932.4 \\textbackslash{}t30778.3 \\textbackslash{}t31559.3 \\textbackslash{}t31667.3 \\textbackslash{}t32531.0  \\\\\n",
       "\t27 & A & CLV05\\_MEUR & B1G & LU\\textbackslash{}t: \\textbackslash{}t: \\textbackslash{}t: \\textbackslash{}t: \\textbackslash{}t: \\textbackslash{}t: \\textbackslash{}t: \\textbackslash{}t: \\textbackslash{}t: \\textbackslash{}t: \\textbackslash{}t: \\textbackslash{}t: \\textbackslash{}t: \\textbackslash{}t: \\textbackslash{}t: \\textbackslash{}t: \\textbackslash{}t: \\textbackslash{}t: \\textbackslash{}t: \\textbackslash{}t: \\textbackslash{}t17961.4 \\textbackslash{}t18156.2 \\textbackslash{}t19004.0 \\textbackslash{}t20257.9 \\textbackslash{}t21841.1 \\textbackslash{}t23183.0 \\textbackslash{}t24025.8 \\textbackslash{}t24769.0 \\textbackslash{}t25392.1 \\textbackslash{}t26325.6 \\textbackslash{}t26894.0 \\textbackslash{}t28728.6 \\textbackslash{}t31066.2 \\textbackslash{}t30924.8 \\textbackslash{}t29903.2 \\textbackslash{}t30995.2 \\textbackslash{}t31110.6 \\textbackslash{}t31539.0 \\textbackslash{}t32517.4 \\textbackslash{}t33183.0 \\textbackslash{}t34716.2 \\textbackslash{}t36478.8 \\textbackslash{}t36810.2 \\textbackslash{}t37266.7 \\textbackslash{}t38320.4 \\textbackslash{}t37981.0 \\textbackslash{}t40735.2 \\textbackslash{}t40131.3 \\textbackslash{}t39879.5 \\textbackslash{}t40262.7 p \\\\\n",
       "\t28 & A & CLV05\\_MEUR & B1G & LV\\textbackslash{}t: \\textbackslash{}t: \\textbackslash{}t: \\textbackslash{}t: \\textbackslash{}t: \\textbackslash{}t: \\textbackslash{}t: \\textbackslash{}t: \\textbackslash{}t: \\textbackslash{}t: \\textbackslash{}t: \\textbackslash{}t: \\textbackslash{}t: \\textbackslash{}t: \\textbackslash{}t: \\textbackslash{}t: \\textbackslash{}t: \\textbackslash{}t: \\textbackslash{}t: \\textbackslash{}t: \\textbackslash{}t5922.9 \\textbackslash{}t6044.8 \\textbackslash{}t6621.8 \\textbackslash{}t7079.1 \\textbackslash{}t7304.4 \\textbackslash{}t7716.2 \\textbackslash{}t8223.8 \\textbackslash{}t8873.2 \\textbackslash{}t9615.0 \\textbackslash{}t10456.1 \\textbackslash{}t11700.0 \\textbackslash{}t13144.2 \\textbackslash{}t14395.9 \\textbackslash{}t14131.6 \\textbackslash{}t12191.5 \\textbackslash{}t11669.8 \\textbackslash{}t11977.5 \\textbackslash{}t12805.9 \\textbackslash{}t12987.6 \\textbackslash{}t13223.8 \\textbackslash{}t13691.6 \\textbackslash{}t13965.5 \\textbackslash{}t14440.1 \\textbackslash{}t14972.9 \\textbackslash{}t15066.6 \\textbackslash{}t14541.3 \\textbackslash{}t15602.9 \\textbackslash{}t15851.5 \\textbackslash{}t16476.4 \\textbackslash{}t16382.1  \\\\\n",
       "\t29 & A & CLV05\\_MEUR & B1G & MK\\textbackslash{}t: \\textbackslash{}t: \\textbackslash{}t: \\textbackslash{}t: \\textbackslash{}t: \\textbackslash{}t: \\textbackslash{}t: \\textbackslash{}t: \\textbackslash{}t: \\textbackslash{}t: \\textbackslash{}t: \\textbackslash{}t: \\textbackslash{}t: \\textbackslash{}t: \\textbackslash{}t: \\textbackslash{}t: \\textbackslash{}t: \\textbackslash{}t: \\textbackslash{}t: \\textbackslash{}t: \\textbackslash{}t: \\textbackslash{}t: \\textbackslash{}t: \\textbackslash{}t: \\textbackslash{}t: \\textbackslash{}t3923.9 \\textbackslash{}t3818.3 \\textbackslash{}t3863.1 \\textbackslash{}t3962.7 \\textbackslash{}t4146.6 \\textbackslash{}t4320.7 \\textbackslash{}t4516.1 \\textbackslash{}t4784.0 \\textbackslash{}t5058.0 \\textbackslash{}t5042.7 \\textbackslash{}t5214.8 \\textbackslash{}t5316.4 \\textbackslash{}t5281.0 \\textbackslash{}t5487.8 \\textbackslash{}t5761.3 \\textbackslash{}t6017.1 \\textbackslash{}t6139.0 \\textbackslash{}t6195.2 \\textbackslash{}t6376.1 \\textbackslash{}t6620.7 \\textbackslash{}t6335.9 \\textbackslash{}t6589.9 \\textbackslash{}t6778.8 \\textbackslash{}t6936.4 p\\textbackslash{}t7117.4 e \\\\\n",
       "\t30 & A & CLV05\\_MEUR & B1G & MT\\textbackslash{}t: \\textbackslash{}t: \\textbackslash{}t: \\textbackslash{}t: \\textbackslash{}t: \\textbackslash{}t: \\textbackslash{}t: \\textbackslash{}t: \\textbackslash{}t: \\textbackslash{}t: \\textbackslash{}t: \\textbackslash{}t: \\textbackslash{}t: \\textbackslash{}t: \\textbackslash{}t: \\textbackslash{}t: \\textbackslash{}t: \\textbackslash{}t: \\textbackslash{}t: \\textbackslash{}t: \\textbackslash{}t: \\textbackslash{}t: \\textbackslash{}t: \\textbackslash{}t: \\textbackslash{}t: \\textbackslash{}t4191.9 \\textbackslash{}t4135.6 \\textbackslash{}t4282.1 \\textbackslash{}t4473.7 \\textbackslash{}t4427.2 \\textbackslash{}t4457.0 \\textbackslash{}t4582.1 \\textbackslash{}t4837.6 \\textbackslash{}t5079.9 \\textbackslash{}t5108.2 \\textbackslash{}t5402.4 \\textbackslash{}t5353.3 \\textbackslash{}t5609.0 \\textbackslash{}t6043.1 \\textbackslash{}t6594.5 \\textbackslash{}t7196.6 \\textbackslash{}t7495.6 \\textbackslash{}t8481.5 \\textbackslash{}t9114.0 \\textbackslash{}t9495.7 \\textbackslash{}t9470.6 \\textbackslash{}t10720.6 \\textbackslash{}t11364.7 \\textbackslash{}t11966.5 \\textbackslash{}t12426.6  \\\\\n",
       "\t$\\dots$ & $\\dots$ & $\\dots$ & $\\dots$ & $\\dots$ \\\\\n",
       "\\end{tabular}\n"
      ],
      "text/plain": [
       "\u001b[1m34194×4 DataFrame\u001b[0m\n",
       "\u001b[1m   Row \u001b[0m│\u001b[1m freq    \u001b[0m\u001b[1m unit       \u001b[0m\u001b[1m na_item  \u001b[0m\u001b[1m geo\\\\TIME_PERIOD\\t1975 \\t1976 \\t1977 \\\u001b[0m ⋯\n",
       "       │\u001b[90m String1 \u001b[0m\u001b[90m String31   \u001b[0m\u001b[90m String15 \u001b[0m\u001b[90m String                                \u001b[0m ⋯\n",
       "───────┼────────────────────────────────────────────────────────────────────────\n",
       "     1 │ A        CLV05_MEUR  B1G       AL\\t: \\t: \\t: \\t: \\t: \\t: \\t: \\t: \\t:  ⋯\n",
       "     2 │ A        CLV05_MEUR  B1G       AT\\t: \\t: \\t: \\t: \\t: \\t: \\t: \\t: \\t:\n",
       "     3 │ A        CLV05_MEUR  B1G       BA\\t: \\t: \\t: \\t: \\t: \\t: \\t: \\t: \\t:\n",
       "     4 │ A        CLV05_MEUR  B1G       BE\\t: \\t: \\t: \\t: \\t: \\t: \\t: \\t: \\t:\n",
       "     5 │ A        CLV05_MEUR  B1G       BG\\t: \\t: \\t: \\t: \\t: \\t: \\t: \\t: \\t:  ⋯\n",
       "     6 │ A        CLV05_MEUR  B1G       CH\\t: \\t: \\t: \\t: \\t: \\t: \\t: \\t: \\t:\n",
       "     7 │ A        CLV05_MEUR  B1G       CY\\t: \\t: \\t: \\t: \\t: \\t: \\t: \\t: \\t:\n",
       "     8 │ A        CLV05_MEUR  B1G       CZ\\t: \\t: \\t: \\t: \\t: \\t: \\t: \\t: \\t:\n",
       "     9 │ A        CLV05_MEUR  B1G       DE\\t: \\t: \\t: \\t: \\t: \\t: \\t: \\t: \\t:  ⋯\n",
       "    10 │ A        CLV05_MEUR  B1G       DK\\t92604.1 \\t97510.2 \\t99430.6 \\t1016\n",
       "    11 │ A        CLV05_MEUR  B1G       EA\\t: \\t: \\t: \\t: \\t: \\t: \\t: \\t: \\t:\n",
       "   ⋮   │    ⋮         ⋮          ⋮                                             ⋱\n",
       " 34185 │ A        PYP_MNAC    YA1       MT\\t: \\t: \\t: \\t: \\t: \\t: \\t: \\t: \\t:\n",
       " 34186 │ A        PYP_MNAC    YA1       NL\\t: \\t: \\t: \\t: \\t: \\t: \\t: \\t: \\t:  ⋯\n",
       " 34187 │ A        PYP_MNAC    YA1       NO\\t-825.0 \\t-1158.0 \\t341.0 \\t292.0 \\\n",
       " 34188 │ A        PYP_MNAC    YA1       PL\\t: \\t: \\t: \\t: \\t: \\t: \\t: \\t: \\t:\n",
       " 34189 │ A        PYP_MNAC    YA1       PT\\t: \\t: \\t: \\t: \\t: \\t: \\t: \\t: \\t:\n",
       " 34190 │ A        PYP_MNAC    YA1       RO\\t: \\t: \\t: \\t: \\t: \\t: \\t: \\t: \\t:  ⋯\n",
       " 34191 │ A        PYP_MNAC    YA1       SI\\t: \\t: \\t: \\t: \\t: \\t: \\t: \\t: \\t:\n",
       " 34192 │ A        PYP_MNAC    YA1       SK\\t: \\t: \\t: \\t: \\t: \\t: \\t: \\t: \\t:\n",
       " 34193 │ A        PYP_MNAC    YA1       UK\\t: \\t: \\t: \\t: \\t: \\t: \\t: \\t: \\t:\n",
       " 34194 │ A        PYP_MNAC    YA1       XK\\t: \\t: \\t: \\t: \\t: \\t: \\t: \\t: \\t:  ⋯\n",
       "\u001b[36m                                                 1 column and 34173 rows omitted\u001b[0m"
      ]
     },
     "execution_count": 80,
     "metadata": {},
     "output_type": "execute_result"
    }
   ],
   "source": [
    "import Downloads\n",
    "using CSV\n",
    "natl_acc = CSV.read(Downloads.download(\"https://ec.europa.eu/eurostat/api/dissemination/sdmx/2.1/data/nama_10_gdp?format=TSV&compressed=true\"), DataFrame)"
   ]
  },
  {
   "cell_type": "code",
   "execution_count": null,
   "metadata": {},
   "outputs": [],
   "source": [
    "using CSV\n",
    "natl_acc = CSV.read(\"datasets/estat_nama_10_gdp.tsv.gz\", DataFrame; delim=\"\\t\")"
   ]
  },
  {
   "cell_type": "code",
   "execution_count": 92,
   "metadata": {},
   "outputs": [
    {
     "data": {
      "text/html": [
       "<div><div style = \"float: left;\"><span>1032317×10 DataFrame</span></div><div style = \"float: right;\"><span style = \"font-style: italic;\">1032292 rows omitted</span></div><div style = \"clear: both;\"></div></div><div class = \"data-frame\" style = \"overflow-x: scroll;\"><table class = \"data-frame\" style = \"margin-bottom: 6px;\"><thead><tr class = \"header\"><th class = \"rowNumber\" style = \"font-weight: bold; text-align: right;\">Row</th><th style = \"text-align: left;\">DATAFLOW</th><th style = \"text-align: left;\">LAST UPDATE</th><th style = \"text-align: left;\">freq</th><th style = \"text-align: left;\">unit</th><th style = \"text-align: left;\">na_item</th><th style = \"text-align: left;\">geo</th><th style = \"text-align: left;\">TIME_PERIOD</th><th style = \"text-align: left;\">OBS_VALUE</th><th style = \"text-align: left;\">OBS_FLAG</th><th style = \"text-align: left;\">CONF_STATUS</th></tr><tr class = \"subheader headerLastRow\"><th class = \"rowNumber\" style = \"font-weight: bold; text-align: right;\"></th><th title = \"String31\" style = \"text-align: left;\">String31</th><th title = \"String31\" style = \"text-align: left;\">String31</th><th title = \"String1\" style = \"text-align: left;\">String1</th><th title = \"String31\" style = \"text-align: left;\">String31</th><th title = \"String15\" style = \"text-align: left;\">String15</th><th title = \"String15\" style = \"text-align: left;\">String15</th><th title = \"Int64\" style = \"text-align: left;\">Int64</th><th title = \"Union{Missing, Float64}\" style = \"text-align: left;\">Float64?</th><th title = \"Union{Missing, String1}\" style = \"text-align: left;\">String1?</th><th title = \"Union{Missing, String1}\" style = \"text-align: left;\">String1?</th></tr></thead><tbody><tr><td class = \"rowNumber\" style = \"font-weight: bold; text-align: right;\">1</td><td style = \"text-align: left;\">ESTAT:NAMA_10_GDP(1.0)</td><td style = \"text-align: left;\">28/03/25 23:00:00</td><td style = \"text-align: left;\">A</td><td style = \"text-align: left;\">CLV05_MEUR</td><td style = \"text-align: left;\">B1G</td><td style = \"text-align: left;\">AL</td><td style = \"text-align: right;\">2019</td><td style = \"text-align: right;\">10048.4</td><td style = \"text-align: left;\">b</td><td style = \"font-style: italic; text-align: left;\">missing</td></tr><tr><td class = \"rowNumber\" style = \"font-weight: bold; text-align: right;\">2</td><td style = \"text-align: left;\">ESTAT:NAMA_10_GDP(1.0)</td><td style = \"text-align: left;\">28/03/25 23:00:00</td><td style = \"text-align: left;\">A</td><td style = \"text-align: left;\">CLV05_MEUR</td><td style = \"text-align: left;\">B1G</td><td style = \"text-align: left;\">AL</td><td style = \"text-align: right;\">2020</td><td style = \"text-align: right;\">9804.4</td><td style = \"font-style: italic; text-align: left;\">missing</td><td style = \"font-style: italic; text-align: left;\">missing</td></tr><tr><td class = \"rowNumber\" style = \"font-weight: bold; text-align: right;\">3</td><td style = \"text-align: left;\">ESTAT:NAMA_10_GDP(1.0)</td><td style = \"text-align: left;\">28/03/25 23:00:00</td><td style = \"text-align: left;\">A</td><td style = \"text-align: left;\">CLV05_MEUR</td><td style = \"text-align: left;\">B1G</td><td style = \"text-align: left;\">AL</td><td style = \"text-align: right;\">2021</td><td style = \"text-align: right;\">10473.7</td><td style = \"font-style: italic; text-align: left;\">missing</td><td style = \"font-style: italic; text-align: left;\">missing</td></tr><tr><td class = \"rowNumber\" style = \"font-weight: bold; text-align: right;\">4</td><td style = \"text-align: left;\">ESTAT:NAMA_10_GDP(1.0)</td><td style = \"text-align: left;\">28/03/25 23:00:00</td><td style = \"text-align: left;\">A</td><td style = \"text-align: left;\">CLV05_MEUR</td><td style = \"text-align: left;\">B1G</td><td style = \"text-align: left;\">AL</td><td style = \"text-align: right;\">2022</td><td style = \"text-align: right;\">11012.9</td><td style = \"font-style: italic; text-align: left;\">missing</td><td style = \"font-style: italic; text-align: left;\">missing</td></tr><tr><td class = \"rowNumber\" style = \"font-weight: bold; text-align: right;\">5</td><td style = \"text-align: left;\">ESTAT:NAMA_10_GDP(1.0)</td><td style = \"text-align: left;\">28/03/25 23:00:00</td><td style = \"text-align: left;\">A</td><td style = \"text-align: left;\">CLV05_MEUR</td><td style = \"text-align: left;\">B1G</td><td style = \"text-align: left;\">AL</td><td style = \"text-align: right;\">2023</td><td style = \"text-align: right;\">11551.7</td><td style = \"text-align: left;\">p</td><td style = \"font-style: italic; text-align: left;\">missing</td></tr><tr><td class = \"rowNumber\" style = \"font-weight: bold; text-align: right;\">6</td><td style = \"text-align: left;\">ESTAT:NAMA_10_GDP(1.0)</td><td style = \"text-align: left;\">28/03/25 23:00:00</td><td style = \"text-align: left;\">A</td><td style = \"text-align: left;\">CLV05_MEUR</td><td style = \"text-align: left;\">B1G</td><td style = \"text-align: left;\">AT</td><td style = \"text-align: right;\">1995</td><td style = \"text-align: right;\">1.76594e5</td><td style = \"font-style: italic; text-align: left;\">missing</td><td style = \"font-style: italic; text-align: left;\">missing</td></tr><tr><td class = \"rowNumber\" style = \"font-weight: bold; text-align: right;\">7</td><td style = \"text-align: left;\">ESTAT:NAMA_10_GDP(1.0)</td><td style = \"text-align: left;\">28/03/25 23:00:00</td><td style = \"text-align: left;\">A</td><td style = \"text-align: left;\">CLV05_MEUR</td><td style = \"text-align: left;\">B1G</td><td style = \"text-align: left;\">AT</td><td style = \"text-align: right;\">1996</td><td style = \"text-align: right;\">1.79695e5</td><td style = \"font-style: italic; text-align: left;\">missing</td><td style = \"font-style: italic; text-align: left;\">missing</td></tr><tr><td class = \"rowNumber\" style = \"font-weight: bold; text-align: right;\">8</td><td style = \"text-align: left;\">ESTAT:NAMA_10_GDP(1.0)</td><td style = \"text-align: left;\">28/03/25 23:00:00</td><td style = \"text-align: left;\">A</td><td style = \"text-align: left;\">CLV05_MEUR</td><td style = \"text-align: left;\">B1G</td><td style = \"text-align: left;\">AT</td><td style = \"text-align: right;\">1997</td><td style = \"text-align: right;\">183613.0</td><td style = \"font-style: italic; text-align: left;\">missing</td><td style = \"font-style: italic; text-align: left;\">missing</td></tr><tr><td class = \"rowNumber\" style = \"font-weight: bold; text-align: right;\">9</td><td style = \"text-align: left;\">ESTAT:NAMA_10_GDP(1.0)</td><td style = \"text-align: left;\">28/03/25 23:00:00</td><td style = \"text-align: left;\">A</td><td style = \"text-align: left;\">CLV05_MEUR</td><td style = \"text-align: left;\">B1G</td><td style = \"text-align: left;\">AT</td><td style = \"text-align: right;\">1998</td><td style = \"text-align: right;\">190554.0</td><td style = \"font-style: italic; text-align: left;\">missing</td><td style = \"font-style: italic; text-align: left;\">missing</td></tr><tr><td class = \"rowNumber\" style = \"font-weight: bold; text-align: right;\">10</td><td style = \"text-align: left;\">ESTAT:NAMA_10_GDP(1.0)</td><td style = \"text-align: left;\">28/03/25 23:00:00</td><td style = \"text-align: left;\">A</td><td style = \"text-align: left;\">CLV05_MEUR</td><td style = \"text-align: left;\">B1G</td><td style = \"text-align: left;\">AT</td><td style = \"text-align: right;\">1999</td><td style = \"text-align: right;\">1.97178e5</td><td style = \"font-style: italic; text-align: left;\">missing</td><td style = \"font-style: italic; text-align: left;\">missing</td></tr><tr><td class = \"rowNumber\" style = \"font-weight: bold; text-align: right;\">11</td><td style = \"text-align: left;\">ESTAT:NAMA_10_GDP(1.0)</td><td style = \"text-align: left;\">28/03/25 23:00:00</td><td style = \"text-align: left;\">A</td><td style = \"text-align: left;\">CLV05_MEUR</td><td style = \"text-align: left;\">B1G</td><td style = \"text-align: left;\">AT</td><td style = \"text-align: right;\">2000</td><td style = \"text-align: right;\">2.0432e5</td><td style = \"font-style: italic; text-align: left;\">missing</td><td style = \"font-style: italic; text-align: left;\">missing</td></tr><tr><td class = \"rowNumber\" style = \"font-weight: bold; text-align: right;\">12</td><td style = \"text-align: left;\">ESTAT:NAMA_10_GDP(1.0)</td><td style = \"text-align: left;\">28/03/25 23:00:00</td><td style = \"text-align: left;\">A</td><td style = \"text-align: left;\">CLV05_MEUR</td><td style = \"text-align: left;\">B1G</td><td style = \"text-align: left;\">AT</td><td style = \"text-align: right;\">2001</td><td style = \"text-align: right;\">2.07358e5</td><td style = \"font-style: italic; text-align: left;\">missing</td><td style = \"font-style: italic; text-align: left;\">missing</td></tr><tr><td class = \"rowNumber\" style = \"font-weight: bold; text-align: right;\">13</td><td style = \"text-align: left;\">ESTAT:NAMA_10_GDP(1.0)</td><td style = \"text-align: left;\">28/03/25 23:00:00</td><td style = \"text-align: left;\">A</td><td style = \"text-align: left;\">CLV05_MEUR</td><td style = \"text-align: left;\">B1G</td><td style = \"text-align: left;\">AT</td><td style = \"text-align: right;\">2002</td><td style = \"text-align: right;\">2.10228e5</td><td style = \"font-style: italic; text-align: left;\">missing</td><td style = \"font-style: italic; text-align: left;\">missing</td></tr><tr><td style = \"text-align: right;\">&vellip;</td><td style = \"text-align: right;\">&vellip;</td><td style = \"text-align: right;\">&vellip;</td><td style = \"text-align: right;\">&vellip;</td><td style = \"text-align: right;\">&vellip;</td><td style = \"text-align: right;\">&vellip;</td><td style = \"text-align: right;\">&vellip;</td><td style = \"text-align: right;\">&vellip;</td><td style = \"text-align: right;\">&vellip;</td><td style = \"text-align: right;\">&vellip;</td><td style = \"text-align: right;\">&vellip;</td></tr><tr><td class = \"rowNumber\" style = \"font-weight: bold; text-align: right;\">1032306</td><td style = \"text-align: left;\">ESTAT:NAMA_10_GDP(1.0)</td><td style = \"text-align: left;\">28/03/25 23:00:00</td><td style = \"text-align: left;\">A</td><td style = \"text-align: left;\">PYP_MNAC</td><td style = \"text-align: left;\">YA1</td><td style = \"text-align: left;\">XK</td><td style = \"text-align: right;\">2012</td><td style = \"text-align: right;\">0.0</td><td style = \"font-style: italic; text-align: left;\">missing</td><td style = \"font-style: italic; text-align: left;\">missing</td></tr><tr><td class = \"rowNumber\" style = \"font-weight: bold; text-align: right;\">1032307</td><td style = \"text-align: left;\">ESTAT:NAMA_10_GDP(1.0)</td><td style = \"text-align: left;\">28/03/25 23:00:00</td><td style = \"text-align: left;\">A</td><td style = \"text-align: left;\">PYP_MNAC</td><td style = \"text-align: left;\">YA1</td><td style = \"text-align: left;\">XK</td><td style = \"text-align: right;\">2013</td><td style = \"text-align: right;\">0.0</td><td style = \"font-style: italic; text-align: left;\">missing</td><td style = \"font-style: italic; text-align: left;\">missing</td></tr><tr><td class = \"rowNumber\" style = \"font-weight: bold; text-align: right;\">1032308</td><td style = \"text-align: left;\">ESTAT:NAMA_10_GDP(1.0)</td><td style = \"text-align: left;\">28/03/25 23:00:00</td><td style = \"text-align: left;\">A</td><td style = \"text-align: left;\">PYP_MNAC</td><td style = \"text-align: left;\">YA1</td><td style = \"text-align: left;\">XK</td><td style = \"text-align: right;\">2014</td><td style = \"text-align: right;\">0.0</td><td style = \"font-style: italic; text-align: left;\">missing</td><td style = \"font-style: italic; text-align: left;\">missing</td></tr><tr><td class = \"rowNumber\" style = \"font-weight: bold; text-align: right;\">1032309</td><td style = \"text-align: left;\">ESTAT:NAMA_10_GDP(1.0)</td><td style = \"text-align: left;\">28/03/25 23:00:00</td><td style = \"text-align: left;\">A</td><td style = \"text-align: left;\">PYP_MNAC</td><td style = \"text-align: left;\">YA1</td><td style = \"text-align: left;\">XK</td><td style = \"text-align: right;\">2015</td><td style = \"text-align: right;\">0.0</td><td style = \"font-style: italic; text-align: left;\">missing</td><td style = \"font-style: italic; text-align: left;\">missing</td></tr><tr><td class = \"rowNumber\" style = \"font-weight: bold; text-align: right;\">1032310</td><td style = \"text-align: left;\">ESTAT:NAMA_10_GDP(1.0)</td><td style = \"text-align: left;\">28/03/25 23:00:00</td><td style = \"text-align: left;\">A</td><td style = \"text-align: left;\">PYP_MNAC</td><td style = \"text-align: left;\">YA1</td><td style = \"text-align: left;\">XK</td><td style = \"text-align: right;\">2016</td><td style = \"text-align: right;\">0.0</td><td style = \"font-style: italic; text-align: left;\">missing</td><td style = \"font-style: italic; text-align: left;\">missing</td></tr><tr><td class = \"rowNumber\" style = \"font-weight: bold; text-align: right;\">1032311</td><td style = \"text-align: left;\">ESTAT:NAMA_10_GDP(1.0)</td><td style = \"text-align: left;\">28/03/25 23:00:00</td><td style = \"text-align: left;\">A</td><td style = \"text-align: left;\">PYP_MNAC</td><td style = \"text-align: left;\">YA1</td><td style = \"text-align: left;\">XK</td><td style = \"text-align: right;\">2017</td><td style = \"text-align: right;\">0.0</td><td style = \"font-style: italic; text-align: left;\">missing</td><td style = \"font-style: italic; text-align: left;\">missing</td></tr><tr><td class = \"rowNumber\" style = \"font-weight: bold; text-align: right;\">1032312</td><td style = \"text-align: left;\">ESTAT:NAMA_10_GDP(1.0)</td><td style = \"text-align: left;\">28/03/25 23:00:00</td><td style = \"text-align: left;\">A</td><td style = \"text-align: left;\">PYP_MNAC</td><td style = \"text-align: left;\">YA1</td><td style = \"text-align: left;\">XK</td><td style = \"text-align: right;\">2018</td><td style = \"text-align: right;\">0.0</td><td style = \"font-style: italic; text-align: left;\">missing</td><td style = \"font-style: italic; text-align: left;\">missing</td></tr><tr><td class = \"rowNumber\" style = \"font-weight: bold; text-align: right;\">1032313</td><td style = \"text-align: left;\">ESTAT:NAMA_10_GDP(1.0)</td><td style = \"text-align: left;\">28/03/25 23:00:00</td><td style = \"text-align: left;\">A</td><td style = \"text-align: left;\">PYP_MNAC</td><td style = \"text-align: left;\">YA1</td><td style = \"text-align: left;\">XK</td><td style = \"text-align: right;\">2019</td><td style = \"text-align: right;\">0.0</td><td style = \"font-style: italic; text-align: left;\">missing</td><td style = \"font-style: italic; text-align: left;\">missing</td></tr><tr><td class = \"rowNumber\" style = \"font-weight: bold; text-align: right;\">1032314</td><td style = \"text-align: left;\">ESTAT:NAMA_10_GDP(1.0)</td><td style = \"text-align: left;\">28/03/25 23:00:00</td><td style = \"text-align: left;\">A</td><td style = \"text-align: left;\">PYP_MNAC</td><td style = \"text-align: left;\">YA1</td><td style = \"text-align: left;\">XK</td><td style = \"text-align: right;\">2020</td><td style = \"text-align: right;\">0.0</td><td style = \"font-style: italic; text-align: left;\">missing</td><td style = \"font-style: italic; text-align: left;\">missing</td></tr><tr><td class = \"rowNumber\" style = \"font-weight: bold; text-align: right;\">1032315</td><td style = \"text-align: left;\">ESTAT:NAMA_10_GDP(1.0)</td><td style = \"text-align: left;\">28/03/25 23:00:00</td><td style = \"text-align: left;\">A</td><td style = \"text-align: left;\">PYP_MNAC</td><td style = \"text-align: left;\">YA1</td><td style = \"text-align: left;\">XK</td><td style = \"text-align: right;\">2021</td><td style = \"text-align: right;\">0.0</td><td style = \"font-style: italic; text-align: left;\">missing</td><td style = \"font-style: italic; text-align: left;\">missing</td></tr><tr><td class = \"rowNumber\" style = \"font-weight: bold; text-align: right;\">1032316</td><td style = \"text-align: left;\">ESTAT:NAMA_10_GDP(1.0)</td><td style = \"text-align: left;\">28/03/25 23:00:00</td><td style = \"text-align: left;\">A</td><td style = \"text-align: left;\">PYP_MNAC</td><td style = \"text-align: left;\">YA1</td><td style = \"text-align: left;\">XK</td><td style = \"text-align: right;\">2022</td><td style = \"text-align: right;\">0.0</td><td style = \"font-style: italic; text-align: left;\">missing</td><td style = \"font-style: italic; text-align: left;\">missing</td></tr><tr><td class = \"rowNumber\" style = \"font-weight: bold; text-align: right;\">1032317</td><td style = \"text-align: left;\">ESTAT:NAMA_10_GDP(1.0)</td><td style = \"text-align: left;\">28/03/25 23:00:00</td><td style = \"text-align: left;\">A</td><td style = \"text-align: left;\">PYP_MNAC</td><td style = \"text-align: left;\">YA1</td><td style = \"text-align: left;\">XK</td><td style = \"text-align: right;\">2023</td><td style = \"text-align: right;\">0.0</td><td style = \"font-style: italic; text-align: left;\">missing</td><td style = \"font-style: italic; text-align: left;\">missing</td></tr></tbody></table></div>"
      ],
      "text/latex": [
       "\\begin{tabular}{r|ccccccc}\n",
       "\t& DATAFLOW & LAST UPDATE & freq & unit & na\\_item & geo & \\\\\n",
       "\t\\hline\n",
       "\t& String31 & String31 & String1 & String31 & String15 & String15 & \\\\\n",
       "\t\\hline\n",
       "\t1 & ESTAT:NAMA\\_10\\_GDP(1.0) & 28/03/25 23:00:00 & A & CLV05\\_MEUR & B1G & AL & $\\dots$ \\\\\n",
       "\t2 & ESTAT:NAMA\\_10\\_GDP(1.0) & 28/03/25 23:00:00 & A & CLV05\\_MEUR & B1G & AL & $\\dots$ \\\\\n",
       "\t3 & ESTAT:NAMA\\_10\\_GDP(1.0) & 28/03/25 23:00:00 & A & CLV05\\_MEUR & B1G & AL & $\\dots$ \\\\\n",
       "\t4 & ESTAT:NAMA\\_10\\_GDP(1.0) & 28/03/25 23:00:00 & A & CLV05\\_MEUR & B1G & AL & $\\dots$ \\\\\n",
       "\t5 & ESTAT:NAMA\\_10\\_GDP(1.0) & 28/03/25 23:00:00 & A & CLV05\\_MEUR & B1G & AL & $\\dots$ \\\\\n",
       "\t6 & ESTAT:NAMA\\_10\\_GDP(1.0) & 28/03/25 23:00:00 & A & CLV05\\_MEUR & B1G & AT & $\\dots$ \\\\\n",
       "\t7 & ESTAT:NAMA\\_10\\_GDP(1.0) & 28/03/25 23:00:00 & A & CLV05\\_MEUR & B1G & AT & $\\dots$ \\\\\n",
       "\t8 & ESTAT:NAMA\\_10\\_GDP(1.0) & 28/03/25 23:00:00 & A & CLV05\\_MEUR & B1G & AT & $\\dots$ \\\\\n",
       "\t9 & ESTAT:NAMA\\_10\\_GDP(1.0) & 28/03/25 23:00:00 & A & CLV05\\_MEUR & B1G & AT & $\\dots$ \\\\\n",
       "\t10 & ESTAT:NAMA\\_10\\_GDP(1.0) & 28/03/25 23:00:00 & A & CLV05\\_MEUR & B1G & AT & $\\dots$ \\\\\n",
       "\t11 & ESTAT:NAMA\\_10\\_GDP(1.0) & 28/03/25 23:00:00 & A & CLV05\\_MEUR & B1G & AT & $\\dots$ \\\\\n",
       "\t12 & ESTAT:NAMA\\_10\\_GDP(1.0) & 28/03/25 23:00:00 & A & CLV05\\_MEUR & B1G & AT & $\\dots$ \\\\\n",
       "\t13 & ESTAT:NAMA\\_10\\_GDP(1.0) & 28/03/25 23:00:00 & A & CLV05\\_MEUR & B1G & AT & $\\dots$ \\\\\n",
       "\t14 & ESTAT:NAMA\\_10\\_GDP(1.0) & 28/03/25 23:00:00 & A & CLV05\\_MEUR & B1G & AT & $\\dots$ \\\\\n",
       "\t15 & ESTAT:NAMA\\_10\\_GDP(1.0) & 28/03/25 23:00:00 & A & CLV05\\_MEUR & B1G & AT & $\\dots$ \\\\\n",
       "\t16 & ESTAT:NAMA\\_10\\_GDP(1.0) & 28/03/25 23:00:00 & A & CLV05\\_MEUR & B1G & AT & $\\dots$ \\\\\n",
       "\t17 & ESTAT:NAMA\\_10\\_GDP(1.0) & 28/03/25 23:00:00 & A & CLV05\\_MEUR & B1G & AT & $\\dots$ \\\\\n",
       "\t18 & ESTAT:NAMA\\_10\\_GDP(1.0) & 28/03/25 23:00:00 & A & CLV05\\_MEUR & B1G & AT & $\\dots$ \\\\\n",
       "\t19 & ESTAT:NAMA\\_10\\_GDP(1.0) & 28/03/25 23:00:00 & A & CLV05\\_MEUR & B1G & AT & $\\dots$ \\\\\n",
       "\t20 & ESTAT:NAMA\\_10\\_GDP(1.0) & 28/03/25 23:00:00 & A & CLV05\\_MEUR & B1G & AT & $\\dots$ \\\\\n",
       "\t21 & ESTAT:NAMA\\_10\\_GDP(1.0) & 28/03/25 23:00:00 & A & CLV05\\_MEUR & B1G & AT & $\\dots$ \\\\\n",
       "\t22 & ESTAT:NAMA\\_10\\_GDP(1.0) & 28/03/25 23:00:00 & A & CLV05\\_MEUR & B1G & AT & $\\dots$ \\\\\n",
       "\t23 & ESTAT:NAMA\\_10\\_GDP(1.0) & 28/03/25 23:00:00 & A & CLV05\\_MEUR & B1G & AT & $\\dots$ \\\\\n",
       "\t24 & ESTAT:NAMA\\_10\\_GDP(1.0) & 28/03/25 23:00:00 & A & CLV05\\_MEUR & B1G & AT & $\\dots$ \\\\\n",
       "\t25 & ESTAT:NAMA\\_10\\_GDP(1.0) & 28/03/25 23:00:00 & A & CLV05\\_MEUR & B1G & AT & $\\dots$ \\\\\n",
       "\t26 & ESTAT:NAMA\\_10\\_GDP(1.0) & 28/03/25 23:00:00 & A & CLV05\\_MEUR & B1G & AT & $\\dots$ \\\\\n",
       "\t27 & ESTAT:NAMA\\_10\\_GDP(1.0) & 28/03/25 23:00:00 & A & CLV05\\_MEUR & B1G & AT & $\\dots$ \\\\\n",
       "\t28 & ESTAT:NAMA\\_10\\_GDP(1.0) & 28/03/25 23:00:00 & A & CLV05\\_MEUR & B1G & AT & $\\dots$ \\\\\n",
       "\t29 & ESTAT:NAMA\\_10\\_GDP(1.0) & 28/03/25 23:00:00 & A & CLV05\\_MEUR & B1G & AT & $\\dots$ \\\\\n",
       "\t30 & ESTAT:NAMA\\_10\\_GDP(1.0) & 28/03/25 23:00:00 & A & CLV05\\_MEUR & B1G & AT & $\\dots$ \\\\\n",
       "\t$\\dots$ & $\\dots$ & $\\dots$ & $\\dots$ & $\\dots$ & $\\dots$ & $\\dots$ &  \\\\\n",
       "\\end{tabular}\n"
      ],
      "text/plain": [
       "\u001b[1m1032317×10 DataFrame\u001b[0m\n",
       "\u001b[1m     Row \u001b[0m│\u001b[1m DATAFLOW               \u001b[0m\u001b[1m LAST UPDATE       \u001b[0m\u001b[1m freq    \u001b[0m\u001b[1m unit       \u001b[0m\u001b[1m na_\u001b[0m ⋯\n",
       "         │\u001b[90m String31               \u001b[0m\u001b[90m String31          \u001b[0m\u001b[90m String1 \u001b[0m\u001b[90m String31   \u001b[0m\u001b[90m Str\u001b[0m ⋯\n",
       "─────────┼──────────────────────────────────────────────────────────────────────\n",
       "       1 │ ESTAT:NAMA_10_GDP(1.0)  28/03/25 23:00:00  A        CLV05_MEUR  B1G ⋯\n",
       "       2 │ ESTAT:NAMA_10_GDP(1.0)  28/03/25 23:00:00  A        CLV05_MEUR  B1G\n",
       "       3 │ ESTAT:NAMA_10_GDP(1.0)  28/03/25 23:00:00  A        CLV05_MEUR  B1G\n",
       "       4 │ ESTAT:NAMA_10_GDP(1.0)  28/03/25 23:00:00  A        CLV05_MEUR  B1G\n",
       "       5 │ ESTAT:NAMA_10_GDP(1.0)  28/03/25 23:00:00  A        CLV05_MEUR  B1G ⋯\n",
       "       6 │ ESTAT:NAMA_10_GDP(1.0)  28/03/25 23:00:00  A        CLV05_MEUR  B1G\n",
       "       7 │ ESTAT:NAMA_10_GDP(1.0)  28/03/25 23:00:00  A        CLV05_MEUR  B1G\n",
       "       8 │ ESTAT:NAMA_10_GDP(1.0)  28/03/25 23:00:00  A        CLV05_MEUR  B1G\n",
       "       9 │ ESTAT:NAMA_10_GDP(1.0)  28/03/25 23:00:00  A        CLV05_MEUR  B1G ⋯\n",
       "      10 │ ESTAT:NAMA_10_GDP(1.0)  28/03/25 23:00:00  A        CLV05_MEUR  B1G\n",
       "      11 │ ESTAT:NAMA_10_GDP(1.0)  28/03/25 23:00:00  A        CLV05_MEUR  B1G\n",
       "    ⋮    │           ⋮                     ⋮             ⋮         ⋮           ⋱\n",
       " 1032308 │ ESTAT:NAMA_10_GDP(1.0)  28/03/25 23:00:00  A        PYP_MNAC    YA1\n",
       " 1032309 │ ESTAT:NAMA_10_GDP(1.0)  28/03/25 23:00:00  A        PYP_MNAC    YA1 ⋯\n",
       " 1032310 │ ESTAT:NAMA_10_GDP(1.0)  28/03/25 23:00:00  A        PYP_MNAC    YA1\n",
       " 1032311 │ ESTAT:NAMA_10_GDP(1.0)  28/03/25 23:00:00  A        PYP_MNAC    YA1\n",
       " 1032312 │ ESTAT:NAMA_10_GDP(1.0)  28/03/25 23:00:00  A        PYP_MNAC    YA1\n",
       " 1032313 │ ESTAT:NAMA_10_GDP(1.0)  28/03/25 23:00:00  A        PYP_MNAC    YA1 ⋯\n",
       " 1032314 │ ESTAT:NAMA_10_GDP(1.0)  28/03/25 23:00:00  A        PYP_MNAC    YA1\n",
       " 1032315 │ ESTAT:NAMA_10_GDP(1.0)  28/03/25 23:00:00  A        PYP_MNAC    YA1\n",
       " 1032316 │ ESTAT:NAMA_10_GDP(1.0)  28/03/25 23:00:00  A        PYP_MNAC    YA1\n",
       " 1032317 │ ESTAT:NAMA_10_GDP(1.0)  28/03/25 23:00:00  A        PYP_MNAC    YA1 ⋯\n",
       "\u001b[36m                                              6 columns and 1032296 rows omitted\u001b[0m"
      ]
     },
     "execution_count": 92,
     "metadata": {},
     "output_type": "execute_result"
    }
   ],
   "source": [
    "using CSV\n",
    "natl_acc = CSV.read(\"datasets/estat_nama_10_gdp_en.csv.gz\", DataFrame;)"
   ]
  },
  {
   "cell_type": "code",
   "execution_count": 90,
   "metadata": {},
   "outputs": [
    {
     "data": {
      "text/html": [
       "<div><div style = \"float: left;\"><span>1032317×10 DataFrame</span></div><div style = \"float: right;\"><span style = \"font-style: italic;\">1032292 rows omitted</span></div><div style = \"clear: both;\"></div></div><div class = \"data-frame\" style = \"overflow-x: scroll;\"><table class = \"data-frame\" style = \"margin-bottom: 6px;\"><thead><tr class = \"header\"><th class = \"rowNumber\" style = \"font-weight: bold; text-align: right;\">Row</th><th style = \"text-align: left;\">DATAFLOW</th><th style = \"text-align: left;\">LAST UPDATE</th><th style = \"text-align: left;\">freq</th><th style = \"text-align: left;\">unit</th><th style = \"text-align: left;\">na_item</th><th style = \"text-align: left;\">geo</th><th style = \"text-align: left;\">TIME_PERIOD</th><th style = \"text-align: left;\">OBS_VALUE</th><th style = \"text-align: left;\">OBS_FLAG</th><th style = \"text-align: left;\">CONF_STATUS</th></tr><tr class = \"subheader headerLastRow\"><th class = \"rowNumber\" style = \"font-weight: bold; text-align: right;\"></th><th title = \"String31\" style = \"text-align: left;\">String31</th><th title = \"String31\" style = \"text-align: left;\">String31</th><th title = \"String1\" style = \"text-align: left;\">String1</th><th title = \"String31\" style = \"text-align: left;\">String31</th><th title = \"String15\" style = \"text-align: left;\">String15</th><th title = \"String15\" style = \"text-align: left;\">String15</th><th title = \"Int64\" style = \"text-align: left;\">Int64</th><th title = \"Union{Missing, Float64}\" style = \"text-align: left;\">Float64?</th><th title = \"Union{Missing, String1}\" style = \"text-align: left;\">String1?</th><th title = \"Union{Missing, String1}\" style = \"text-align: left;\">String1?</th></tr></thead><tbody><tr><td class = \"rowNumber\" style = \"font-weight: bold; text-align: right;\">1</td><td style = \"text-align: left;\">ESTAT:NAMA_10_GDP(1.0)</td><td style = \"text-align: left;\">28/03/25 23:00:00</td><td style = \"text-align: left;\">A</td><td style = \"text-align: left;\">CLV05_MEUR</td><td style = \"text-align: left;\">B1G</td><td style = \"text-align: left;\">AL</td><td style = \"text-align: right;\">2019</td><td style = \"text-align: right;\">10048.4</td><td style = \"text-align: left;\">b</td><td style = \"font-style: italic; text-align: left;\">missing</td></tr><tr><td class = \"rowNumber\" style = \"font-weight: bold; text-align: right;\">2</td><td style = \"text-align: left;\">ESTAT:NAMA_10_GDP(1.0)</td><td style = \"text-align: left;\">28/03/25 23:00:00</td><td style = \"text-align: left;\">A</td><td style = \"text-align: left;\">CLV05_MEUR</td><td style = \"text-align: left;\">B1G</td><td style = \"text-align: left;\">AL</td><td style = \"text-align: right;\">2020</td><td style = \"text-align: right;\">9804.4</td><td style = \"font-style: italic; text-align: left;\">missing</td><td style = \"font-style: italic; text-align: left;\">missing</td></tr><tr><td class = \"rowNumber\" style = \"font-weight: bold; text-align: right;\">3</td><td style = \"text-align: left;\">ESTAT:NAMA_10_GDP(1.0)</td><td style = \"text-align: left;\">28/03/25 23:00:00</td><td style = \"text-align: left;\">A</td><td style = \"text-align: left;\">CLV05_MEUR</td><td style = \"text-align: left;\">B1G</td><td style = \"text-align: left;\">AL</td><td style = \"text-align: right;\">2021</td><td style = \"text-align: right;\">10473.7</td><td style = \"font-style: italic; text-align: left;\">missing</td><td style = \"font-style: italic; text-align: left;\">missing</td></tr><tr><td class = \"rowNumber\" style = \"font-weight: bold; text-align: right;\">4</td><td style = \"text-align: left;\">ESTAT:NAMA_10_GDP(1.0)</td><td style = \"text-align: left;\">28/03/25 23:00:00</td><td style = \"text-align: left;\">A</td><td style = \"text-align: left;\">CLV05_MEUR</td><td style = \"text-align: left;\">B1G</td><td style = \"text-align: left;\">AL</td><td style = \"text-align: right;\">2022</td><td style = \"text-align: right;\">11012.9</td><td style = \"font-style: italic; text-align: left;\">missing</td><td style = \"font-style: italic; text-align: left;\">missing</td></tr><tr><td class = \"rowNumber\" style = \"font-weight: bold; text-align: right;\">5</td><td style = \"text-align: left;\">ESTAT:NAMA_10_GDP(1.0)</td><td style = \"text-align: left;\">28/03/25 23:00:00</td><td style = \"text-align: left;\">A</td><td style = \"text-align: left;\">CLV05_MEUR</td><td style = \"text-align: left;\">B1G</td><td style = \"text-align: left;\">AL</td><td style = \"text-align: right;\">2023</td><td style = \"text-align: right;\">11551.7</td><td style = \"text-align: left;\">p</td><td style = \"font-style: italic; text-align: left;\">missing</td></tr><tr><td class = \"rowNumber\" style = \"font-weight: bold; text-align: right;\">6</td><td style = \"text-align: left;\">ESTAT:NAMA_10_GDP(1.0)</td><td style = \"text-align: left;\">28/03/25 23:00:00</td><td style = \"text-align: left;\">A</td><td style = \"text-align: left;\">CLV05_MEUR</td><td style = \"text-align: left;\">B1G</td><td style = \"text-align: left;\">AT</td><td style = \"text-align: right;\">1995</td><td style = \"text-align: right;\">1.76594e5</td><td style = \"font-style: italic; text-align: left;\">missing</td><td style = \"font-style: italic; text-align: left;\">missing</td></tr><tr><td class = \"rowNumber\" style = \"font-weight: bold; text-align: right;\">7</td><td style = \"text-align: left;\">ESTAT:NAMA_10_GDP(1.0)</td><td style = \"text-align: left;\">28/03/25 23:00:00</td><td style = \"text-align: left;\">A</td><td style = \"text-align: left;\">CLV05_MEUR</td><td style = \"text-align: left;\">B1G</td><td style = \"text-align: left;\">AT</td><td style = \"text-align: right;\">1996</td><td style = \"text-align: right;\">1.79695e5</td><td style = \"font-style: italic; text-align: left;\">missing</td><td style = \"font-style: italic; text-align: left;\">missing</td></tr><tr><td class = \"rowNumber\" style = \"font-weight: bold; text-align: right;\">8</td><td style = \"text-align: left;\">ESTAT:NAMA_10_GDP(1.0)</td><td style = \"text-align: left;\">28/03/25 23:00:00</td><td style = \"text-align: left;\">A</td><td style = \"text-align: left;\">CLV05_MEUR</td><td style = \"text-align: left;\">B1G</td><td style = \"text-align: left;\">AT</td><td style = \"text-align: right;\">1997</td><td style = \"text-align: right;\">183613.0</td><td style = \"font-style: italic; text-align: left;\">missing</td><td style = \"font-style: italic; text-align: left;\">missing</td></tr><tr><td class = \"rowNumber\" style = \"font-weight: bold; text-align: right;\">9</td><td style = \"text-align: left;\">ESTAT:NAMA_10_GDP(1.0)</td><td style = \"text-align: left;\">28/03/25 23:00:00</td><td style = \"text-align: left;\">A</td><td style = \"text-align: left;\">CLV05_MEUR</td><td style = \"text-align: left;\">B1G</td><td style = \"text-align: left;\">AT</td><td style = \"text-align: right;\">1998</td><td style = \"text-align: right;\">190554.0</td><td style = \"font-style: italic; text-align: left;\">missing</td><td style = \"font-style: italic; text-align: left;\">missing</td></tr><tr><td class = \"rowNumber\" style = \"font-weight: bold; text-align: right;\">10</td><td style = \"text-align: left;\">ESTAT:NAMA_10_GDP(1.0)</td><td style = \"text-align: left;\">28/03/25 23:00:00</td><td style = \"text-align: left;\">A</td><td style = \"text-align: left;\">CLV05_MEUR</td><td style = \"text-align: left;\">B1G</td><td style = \"text-align: left;\">AT</td><td style = \"text-align: right;\">1999</td><td style = \"text-align: right;\">1.97178e5</td><td style = \"font-style: italic; text-align: left;\">missing</td><td style = \"font-style: italic; text-align: left;\">missing</td></tr><tr><td class = \"rowNumber\" style = \"font-weight: bold; text-align: right;\">11</td><td style = \"text-align: left;\">ESTAT:NAMA_10_GDP(1.0)</td><td style = \"text-align: left;\">28/03/25 23:00:00</td><td style = \"text-align: left;\">A</td><td style = \"text-align: left;\">CLV05_MEUR</td><td style = \"text-align: left;\">B1G</td><td style = \"text-align: left;\">AT</td><td style = \"text-align: right;\">2000</td><td style = \"text-align: right;\">2.0432e5</td><td style = \"font-style: italic; text-align: left;\">missing</td><td style = \"font-style: italic; text-align: left;\">missing</td></tr><tr><td class = \"rowNumber\" style = \"font-weight: bold; text-align: right;\">12</td><td style = \"text-align: left;\">ESTAT:NAMA_10_GDP(1.0)</td><td style = \"text-align: left;\">28/03/25 23:00:00</td><td style = \"text-align: left;\">A</td><td style = \"text-align: left;\">CLV05_MEUR</td><td style = \"text-align: left;\">B1G</td><td style = \"text-align: left;\">AT</td><td style = \"text-align: right;\">2001</td><td style = \"text-align: right;\">2.07358e5</td><td style = \"font-style: italic; text-align: left;\">missing</td><td style = \"font-style: italic; text-align: left;\">missing</td></tr><tr><td class = \"rowNumber\" style = \"font-weight: bold; text-align: right;\">13</td><td style = \"text-align: left;\">ESTAT:NAMA_10_GDP(1.0)</td><td style = \"text-align: left;\">28/03/25 23:00:00</td><td style = \"text-align: left;\">A</td><td style = \"text-align: left;\">CLV05_MEUR</td><td style = \"text-align: left;\">B1G</td><td style = \"text-align: left;\">AT</td><td style = \"text-align: right;\">2002</td><td style = \"text-align: right;\">2.10228e5</td><td style = \"font-style: italic; text-align: left;\">missing</td><td style = \"font-style: italic; text-align: left;\">missing</td></tr><tr><td style = \"text-align: right;\">&vellip;</td><td style = \"text-align: right;\">&vellip;</td><td style = \"text-align: right;\">&vellip;</td><td style = \"text-align: right;\">&vellip;</td><td style = \"text-align: right;\">&vellip;</td><td style = \"text-align: right;\">&vellip;</td><td style = \"text-align: right;\">&vellip;</td><td style = \"text-align: right;\">&vellip;</td><td style = \"text-align: right;\">&vellip;</td><td style = \"text-align: right;\">&vellip;</td><td style = \"text-align: right;\">&vellip;</td></tr><tr><td class = \"rowNumber\" style = \"font-weight: bold; text-align: right;\">1032306</td><td style = \"text-align: left;\">ESTAT:NAMA_10_GDP(1.0)</td><td style = \"text-align: left;\">28/03/25 23:00:00</td><td style = \"text-align: left;\">A</td><td style = \"text-align: left;\">PYP_MNAC</td><td style = \"text-align: left;\">YA1</td><td style = \"text-align: left;\">XK</td><td style = \"text-align: right;\">2012</td><td style = \"text-align: right;\">0.0</td><td style = \"font-style: italic; text-align: left;\">missing</td><td style = \"font-style: italic; text-align: left;\">missing</td></tr><tr><td class = \"rowNumber\" style = \"font-weight: bold; text-align: right;\">1032307</td><td style = \"text-align: left;\">ESTAT:NAMA_10_GDP(1.0)</td><td style = \"text-align: left;\">28/03/25 23:00:00</td><td style = \"text-align: left;\">A</td><td style = \"text-align: left;\">PYP_MNAC</td><td style = \"text-align: left;\">YA1</td><td style = \"text-align: left;\">XK</td><td style = \"text-align: right;\">2013</td><td style = \"text-align: right;\">0.0</td><td style = \"font-style: italic; text-align: left;\">missing</td><td style = \"font-style: italic; text-align: left;\">missing</td></tr><tr><td class = \"rowNumber\" style = \"font-weight: bold; text-align: right;\">1032308</td><td style = \"text-align: left;\">ESTAT:NAMA_10_GDP(1.0)</td><td style = \"text-align: left;\">28/03/25 23:00:00</td><td style = \"text-align: left;\">A</td><td style = \"text-align: left;\">PYP_MNAC</td><td style = \"text-align: left;\">YA1</td><td style = \"text-align: left;\">XK</td><td style = \"text-align: right;\">2014</td><td style = \"text-align: right;\">0.0</td><td style = \"font-style: italic; text-align: left;\">missing</td><td style = \"font-style: italic; text-align: left;\">missing</td></tr><tr><td class = \"rowNumber\" style = \"font-weight: bold; text-align: right;\">1032309</td><td style = \"text-align: left;\">ESTAT:NAMA_10_GDP(1.0)</td><td style = \"text-align: left;\">28/03/25 23:00:00</td><td style = \"text-align: left;\">A</td><td style = \"text-align: left;\">PYP_MNAC</td><td style = \"text-align: left;\">YA1</td><td style = \"text-align: left;\">XK</td><td style = \"text-align: right;\">2015</td><td style = \"text-align: right;\">0.0</td><td style = \"font-style: italic; text-align: left;\">missing</td><td style = \"font-style: italic; text-align: left;\">missing</td></tr><tr><td class = \"rowNumber\" style = \"font-weight: bold; text-align: right;\">1032310</td><td style = \"text-align: left;\">ESTAT:NAMA_10_GDP(1.0)</td><td style = \"text-align: left;\">28/03/25 23:00:00</td><td style = \"text-align: left;\">A</td><td style = \"text-align: left;\">PYP_MNAC</td><td style = \"text-align: left;\">YA1</td><td style = \"text-align: left;\">XK</td><td style = \"text-align: right;\">2016</td><td style = \"text-align: right;\">0.0</td><td style = \"font-style: italic; text-align: left;\">missing</td><td style = \"font-style: italic; text-align: left;\">missing</td></tr><tr><td class = \"rowNumber\" style = \"font-weight: bold; text-align: right;\">1032311</td><td style = \"text-align: left;\">ESTAT:NAMA_10_GDP(1.0)</td><td style = \"text-align: left;\">28/03/25 23:00:00</td><td style = \"text-align: left;\">A</td><td style = \"text-align: left;\">PYP_MNAC</td><td style = \"text-align: left;\">YA1</td><td style = \"text-align: left;\">XK</td><td style = \"text-align: right;\">2017</td><td style = \"text-align: right;\">0.0</td><td style = \"font-style: italic; text-align: left;\">missing</td><td style = \"font-style: italic; text-align: left;\">missing</td></tr><tr><td class = \"rowNumber\" style = \"font-weight: bold; text-align: right;\">1032312</td><td style = \"text-align: left;\">ESTAT:NAMA_10_GDP(1.0)</td><td style = \"text-align: left;\">28/03/25 23:00:00</td><td style = \"text-align: left;\">A</td><td style = \"text-align: left;\">PYP_MNAC</td><td style = \"text-align: left;\">YA1</td><td style = \"text-align: left;\">XK</td><td style = \"text-align: right;\">2018</td><td style = \"text-align: right;\">0.0</td><td style = \"font-style: italic; text-align: left;\">missing</td><td style = \"font-style: italic; text-align: left;\">missing</td></tr><tr><td class = \"rowNumber\" style = \"font-weight: bold; text-align: right;\">1032313</td><td style = \"text-align: left;\">ESTAT:NAMA_10_GDP(1.0)</td><td style = \"text-align: left;\">28/03/25 23:00:00</td><td style = \"text-align: left;\">A</td><td style = \"text-align: left;\">PYP_MNAC</td><td style = \"text-align: left;\">YA1</td><td style = \"text-align: left;\">XK</td><td style = \"text-align: right;\">2019</td><td style = \"text-align: right;\">0.0</td><td style = \"font-style: italic; text-align: left;\">missing</td><td style = \"font-style: italic; text-align: left;\">missing</td></tr><tr><td class = \"rowNumber\" style = \"font-weight: bold; text-align: right;\">1032314</td><td style = \"text-align: left;\">ESTAT:NAMA_10_GDP(1.0)</td><td style = \"text-align: left;\">28/03/25 23:00:00</td><td style = \"text-align: left;\">A</td><td style = \"text-align: left;\">PYP_MNAC</td><td style = \"text-align: left;\">YA1</td><td style = \"text-align: left;\">XK</td><td style = \"text-align: right;\">2020</td><td style = \"text-align: right;\">0.0</td><td style = \"font-style: italic; text-align: left;\">missing</td><td style = \"font-style: italic; text-align: left;\">missing</td></tr><tr><td class = \"rowNumber\" style = \"font-weight: bold; text-align: right;\">1032315</td><td style = \"text-align: left;\">ESTAT:NAMA_10_GDP(1.0)</td><td style = \"text-align: left;\">28/03/25 23:00:00</td><td style = \"text-align: left;\">A</td><td style = \"text-align: left;\">PYP_MNAC</td><td style = \"text-align: left;\">YA1</td><td style = \"text-align: left;\">XK</td><td style = \"text-align: right;\">2021</td><td style = \"text-align: right;\">0.0</td><td style = \"font-style: italic; text-align: left;\">missing</td><td style = \"font-style: italic; text-align: left;\">missing</td></tr><tr><td class = \"rowNumber\" style = \"font-weight: bold; text-align: right;\">1032316</td><td style = \"text-align: left;\">ESTAT:NAMA_10_GDP(1.0)</td><td style = \"text-align: left;\">28/03/25 23:00:00</td><td style = \"text-align: left;\">A</td><td style = \"text-align: left;\">PYP_MNAC</td><td style = \"text-align: left;\">YA1</td><td style = \"text-align: left;\">XK</td><td style = \"text-align: right;\">2022</td><td style = \"text-align: right;\">0.0</td><td style = \"font-style: italic; text-align: left;\">missing</td><td style = \"font-style: italic; text-align: left;\">missing</td></tr><tr><td class = \"rowNumber\" style = \"font-weight: bold; text-align: right;\">1032317</td><td style = \"text-align: left;\">ESTAT:NAMA_10_GDP(1.0)</td><td style = \"text-align: left;\">28/03/25 23:00:00</td><td style = \"text-align: left;\">A</td><td style = \"text-align: left;\">PYP_MNAC</td><td style = \"text-align: left;\">YA1</td><td style = \"text-align: left;\">XK</td><td style = \"text-align: right;\">2023</td><td style = \"text-align: right;\">0.0</td><td style = \"font-style: italic; text-align: left;\">missing</td><td style = \"font-style: italic; text-align: left;\">missing</td></tr></tbody></table></div>"
      ],
      "text/latex": [
       "\\begin{tabular}{r|ccccccc}\n",
       "\t& DATAFLOW & LAST UPDATE & freq & unit & na\\_item & geo & \\\\\n",
       "\t\\hline\n",
       "\t& String31 & String31 & String1 & String31 & String15 & String15 & \\\\\n",
       "\t\\hline\n",
       "\t1 & ESTAT:NAMA\\_10\\_GDP(1.0) & 28/03/25 23:00:00 & A & CLV05\\_MEUR & B1G & AL & $\\dots$ \\\\\n",
       "\t2 & ESTAT:NAMA\\_10\\_GDP(1.0) & 28/03/25 23:00:00 & A & CLV05\\_MEUR & B1G & AL & $\\dots$ \\\\\n",
       "\t3 & ESTAT:NAMA\\_10\\_GDP(1.0) & 28/03/25 23:00:00 & A & CLV05\\_MEUR & B1G & AL & $\\dots$ \\\\\n",
       "\t4 & ESTAT:NAMA\\_10\\_GDP(1.0) & 28/03/25 23:00:00 & A & CLV05\\_MEUR & B1G & AL & $\\dots$ \\\\\n",
       "\t5 & ESTAT:NAMA\\_10\\_GDP(1.0) & 28/03/25 23:00:00 & A & CLV05\\_MEUR & B1G & AL & $\\dots$ \\\\\n",
       "\t6 & ESTAT:NAMA\\_10\\_GDP(1.0) & 28/03/25 23:00:00 & A & CLV05\\_MEUR & B1G & AT & $\\dots$ \\\\\n",
       "\t7 & ESTAT:NAMA\\_10\\_GDP(1.0) & 28/03/25 23:00:00 & A & CLV05\\_MEUR & B1G & AT & $\\dots$ \\\\\n",
       "\t8 & ESTAT:NAMA\\_10\\_GDP(1.0) & 28/03/25 23:00:00 & A & CLV05\\_MEUR & B1G & AT & $\\dots$ \\\\\n",
       "\t9 & ESTAT:NAMA\\_10\\_GDP(1.0) & 28/03/25 23:00:00 & A & CLV05\\_MEUR & B1G & AT & $\\dots$ \\\\\n",
       "\t10 & ESTAT:NAMA\\_10\\_GDP(1.0) & 28/03/25 23:00:00 & A & CLV05\\_MEUR & B1G & AT & $\\dots$ \\\\\n",
       "\t11 & ESTAT:NAMA\\_10\\_GDP(1.0) & 28/03/25 23:00:00 & A & CLV05\\_MEUR & B1G & AT & $\\dots$ \\\\\n",
       "\t12 & ESTAT:NAMA\\_10\\_GDP(1.0) & 28/03/25 23:00:00 & A & CLV05\\_MEUR & B1G & AT & $\\dots$ \\\\\n",
       "\t13 & ESTAT:NAMA\\_10\\_GDP(1.0) & 28/03/25 23:00:00 & A & CLV05\\_MEUR & B1G & AT & $\\dots$ \\\\\n",
       "\t14 & ESTAT:NAMA\\_10\\_GDP(1.0) & 28/03/25 23:00:00 & A & CLV05\\_MEUR & B1G & AT & $\\dots$ \\\\\n",
       "\t15 & ESTAT:NAMA\\_10\\_GDP(1.0) & 28/03/25 23:00:00 & A & CLV05\\_MEUR & B1G & AT & $\\dots$ \\\\\n",
       "\t16 & ESTAT:NAMA\\_10\\_GDP(1.0) & 28/03/25 23:00:00 & A & CLV05\\_MEUR & B1G & AT & $\\dots$ \\\\\n",
       "\t17 & ESTAT:NAMA\\_10\\_GDP(1.0) & 28/03/25 23:00:00 & A & CLV05\\_MEUR & B1G & AT & $\\dots$ \\\\\n",
       "\t18 & ESTAT:NAMA\\_10\\_GDP(1.0) & 28/03/25 23:00:00 & A & CLV05\\_MEUR & B1G & AT & $\\dots$ \\\\\n",
       "\t19 & ESTAT:NAMA\\_10\\_GDP(1.0) & 28/03/25 23:00:00 & A & CLV05\\_MEUR & B1G & AT & $\\dots$ \\\\\n",
       "\t20 & ESTAT:NAMA\\_10\\_GDP(1.0) & 28/03/25 23:00:00 & A & CLV05\\_MEUR & B1G & AT & $\\dots$ \\\\\n",
       "\t21 & ESTAT:NAMA\\_10\\_GDP(1.0) & 28/03/25 23:00:00 & A & CLV05\\_MEUR & B1G & AT & $\\dots$ \\\\\n",
       "\t22 & ESTAT:NAMA\\_10\\_GDP(1.0) & 28/03/25 23:00:00 & A & CLV05\\_MEUR & B1G & AT & $\\dots$ \\\\\n",
       "\t23 & ESTAT:NAMA\\_10\\_GDP(1.0) & 28/03/25 23:00:00 & A & CLV05\\_MEUR & B1G & AT & $\\dots$ \\\\\n",
       "\t24 & ESTAT:NAMA\\_10\\_GDP(1.0) & 28/03/25 23:00:00 & A & CLV05\\_MEUR & B1G & AT & $\\dots$ \\\\\n",
       "\t25 & ESTAT:NAMA\\_10\\_GDP(1.0) & 28/03/25 23:00:00 & A & CLV05\\_MEUR & B1G & AT & $\\dots$ \\\\\n",
       "\t26 & ESTAT:NAMA\\_10\\_GDP(1.0) & 28/03/25 23:00:00 & A & CLV05\\_MEUR & B1G & AT & $\\dots$ \\\\\n",
       "\t27 & ESTAT:NAMA\\_10\\_GDP(1.0) & 28/03/25 23:00:00 & A & CLV05\\_MEUR & B1G & AT & $\\dots$ \\\\\n",
       "\t28 & ESTAT:NAMA\\_10\\_GDP(1.0) & 28/03/25 23:00:00 & A & CLV05\\_MEUR & B1G & AT & $\\dots$ \\\\\n",
       "\t29 & ESTAT:NAMA\\_10\\_GDP(1.0) & 28/03/25 23:00:00 & A & CLV05\\_MEUR & B1G & AT & $\\dots$ \\\\\n",
       "\t30 & ESTAT:NAMA\\_10\\_GDP(1.0) & 28/03/25 23:00:00 & A & CLV05\\_MEUR & B1G & AT & $\\dots$ \\\\\n",
       "\t$\\dots$ & $\\dots$ & $\\dots$ & $\\dots$ & $\\dots$ & $\\dots$ & $\\dots$ &  \\\\\n",
       "\\end{tabular}\n"
      ],
      "text/plain": [
       "\u001b[1m1032317×10 DataFrame\u001b[0m\n",
       "\u001b[1m     Row \u001b[0m│\u001b[1m DATAFLOW               \u001b[0m\u001b[1m LAST UPDATE       \u001b[0m\u001b[1m freq    \u001b[0m\u001b[1m unit       \u001b[0m\u001b[1m na_\u001b[0m ⋯\n",
       "         │\u001b[90m String31               \u001b[0m\u001b[90m String31          \u001b[0m\u001b[90m String1 \u001b[0m\u001b[90m String31   \u001b[0m\u001b[90m Str\u001b[0m ⋯\n",
       "─────────┼──────────────────────────────────────────────────────────────────────\n",
       "       1 │ ESTAT:NAMA_10_GDP(1.0)  28/03/25 23:00:00  A        CLV05_MEUR  B1G ⋯\n",
       "       2 │ ESTAT:NAMA_10_GDP(1.0)  28/03/25 23:00:00  A        CLV05_MEUR  B1G\n",
       "       3 │ ESTAT:NAMA_10_GDP(1.0)  28/03/25 23:00:00  A        CLV05_MEUR  B1G\n",
       "       4 │ ESTAT:NAMA_10_GDP(1.0)  28/03/25 23:00:00  A        CLV05_MEUR  B1G\n",
       "       5 │ ESTAT:NAMA_10_GDP(1.0)  28/03/25 23:00:00  A        CLV05_MEUR  B1G ⋯\n",
       "       6 │ ESTAT:NAMA_10_GDP(1.0)  28/03/25 23:00:00  A        CLV05_MEUR  B1G\n",
       "       7 │ ESTAT:NAMA_10_GDP(1.0)  28/03/25 23:00:00  A        CLV05_MEUR  B1G\n",
       "       8 │ ESTAT:NAMA_10_GDP(1.0)  28/03/25 23:00:00  A        CLV05_MEUR  B1G\n",
       "       9 │ ESTAT:NAMA_10_GDP(1.0)  28/03/25 23:00:00  A        CLV05_MEUR  B1G ⋯\n",
       "      10 │ ESTAT:NAMA_10_GDP(1.0)  28/03/25 23:00:00  A        CLV05_MEUR  B1G\n",
       "      11 │ ESTAT:NAMA_10_GDP(1.0)  28/03/25 23:00:00  A        CLV05_MEUR  B1G\n",
       "    ⋮    │           ⋮                     ⋮             ⋮         ⋮           ⋱\n",
       " 1032308 │ ESTAT:NAMA_10_GDP(1.0)  28/03/25 23:00:00  A        PYP_MNAC    YA1\n",
       " 1032309 │ ESTAT:NAMA_10_GDP(1.0)  28/03/25 23:00:00  A        PYP_MNAC    YA1 ⋯\n",
       " 1032310 │ ESTAT:NAMA_10_GDP(1.0)  28/03/25 23:00:00  A        PYP_MNAC    YA1\n",
       " 1032311 │ ESTAT:NAMA_10_GDP(1.0)  28/03/25 23:00:00  A        PYP_MNAC    YA1\n",
       " 1032312 │ ESTAT:NAMA_10_GDP(1.0)  28/03/25 23:00:00  A        PYP_MNAC    YA1\n",
       " 1032313 │ ESTAT:NAMA_10_GDP(1.0)  28/03/25 23:00:00  A        PYP_MNAC    YA1 ⋯\n",
       " 1032314 │ ESTAT:NAMA_10_GDP(1.0)  28/03/25 23:00:00  A        PYP_MNAC    YA1\n",
       " 1032315 │ ESTAT:NAMA_10_GDP(1.0)  28/03/25 23:00:00  A        PYP_MNAC    YA1\n",
       " 1032316 │ ESTAT:NAMA_10_GDP(1.0)  28/03/25 23:00:00  A        PYP_MNAC    YA1\n",
       " 1032317 │ ESTAT:NAMA_10_GDP(1.0)  28/03/25 23:00:00  A        PYP_MNAC    YA1 ⋯\n",
       "\u001b[36m                                              6 columns and 1032296 rows omitted\u001b[0m"
      ]
     },
     "execution_count": 90,
     "metadata": {},
     "output_type": "execute_result"
    }
   ],
   "source": [
    "natl_acc = read_csv(\"datasets/estat_nama_10_gdp_en.csv.gz\")"
   ]
  },
  {
   "cell_type": "code",
   "execution_count": null,
   "metadata": {},
   "outputs": [],
   "source": [
    "using HTTP\n",
    "\n",
    "# dataset_id = \"nama_10_gdp\"\n",
    "dataset_id = \"nama_10_pe\"\n",
    "url = \"https://ec.europa.eu/eurostat/api/dissemination/sdmx/2.1/data/$(dataset_id)/?format=SDMX-CSV&compressed=true\"\n",
    "\n",
    "local_file = \"datasets/$(dataset_id).csv.gz\"\n",
    "\n",
    "response = HTTP.get(url)  \n",
    "open(local_file, \"w\") do file\n",
    "    write(file, response.body)\n",
    "end"
   ]
  },
  {
   "cell_type": "markdown",
   "metadata": {},
   "source": [
    "## To explore\n",
    "\n",
    "FredData -- https://juliahub.com/ui/Packages/General/FredData\n",
    "SDMX -- https://juliahub.com/ui/Packages/General/SDMX\n",
    "IMFData -- https://juliahub.com/ui/Packages/General/IMFData\n"
   ]
  },
  {
   "cell_type": "code",
   "execution_count": 27,
   "metadata": {},
   "outputs": [
    {
     "data": {
      "text/plain": [
       "get_eurostat_from_URL (generic function with 1 method)"
      ]
     },
     "execution_count": 27,
     "metadata": {},
     "output_type": "execute_result"
    }
   ],
   "source": [
    "using HTTP\n",
    "using JSON\n",
    "using DataFrames\n",
    "using IterTools\n",
    "\n",
    "function get_eurostat_from_URL(url::String)\n",
    "    # Make HTTP request\n",
    "    response = HTTP.get(url)\n",
    "    \n",
    "    if response.status == 200\n",
    "        # Parse JSON response\n",
    "        data = JSON.parse(String(response.body))\n",
    "        \n",
    "        # Extract dimensions, IDs, and sizes\n",
    "        dimensions = data[\"dimension\"]\n",
    "        id_list = data[\"id\"]  # Order of dimensions\n",
    "        size = data[\"size\"]  # Size of each dimension\n",
    "        \n",
    "        # Create mapping for each dimension\n",
    "        mappings = Dict(dim => Dict(v => k for (k, v) in dimensions[dim][\"category\"][\"index\"]) for dim in id_list)\n",
    "        \n",
    "        # Generate Cartesian product of indices\n",
    "        ranges = [1:s for s in size]  # Julia uses 1-based indexing\n",
    "        cartesian_product = collect(product(ranges...))\n",
    "        \n",
    "        # Decode indices into human-readable labels\n",
    "        decoded_rows = [\n",
    "            Dict(dim => mappings[dim][string(index - 1)] for (dim, index) in zip(id_list, row)) \n",
    "            for row in cartesian_product\n",
    "        ]\n",
    "        \n",
    "        # Add 'Value' column from data['value']\n",
    "        for (i, row) in enumerate(decoded_rows)\n",
    "            row[\"Value\"] = get(data[\"value\"], string(i - 1), missing)  # Default to `missing` if value is not found\n",
    "        end\n",
    "        \n",
    "        # Convert to DataFrame\n",
    "        return DataFrame(decoded_rows)\n",
    "    else\n",
    "        println(\"Failed to retrieve data: $(response.status)\")\n",
    "        return nothing\n",
    "    end\n",
    "end\n"
   ]
  },
  {
   "cell_type": "code",
   "execution_count": 29,
   "metadata": {},
   "outputs": [
    {
     "ename": "LoadError",
     "evalue": "KeyError: key \"0\" not found",
     "output_type": "error",
     "traceback": [
      "KeyError: key \"0\" not found",
      "",
      "Stacktrace:",
      "  [1] getindex(h::Dict{Int64, String}, key::String)",
      "    @ Base .\\dict.jl:477",
      "  [2] (::var\"#5#10\"{Dict{String, Dict{Int64, String}}})(::Tuple{String, Int64})",
      "    @ Main .\\none:0",
      "  [3] iterate",
      "    @ .\\generator.jl:48 [inlined]",
      "  [4] grow_to!",
      "    @ .\\abstractdict.jl:587 [inlined]",
      "  [5] dict_with_eltype",
      "    @ .\\abstractdict.jl:641 [inlined]",
      "  [6] Dict",
      "    @ .\\dict.jl:117 [inlined]",
      "  [7] #4",
      "    @ .\\none:0 [inlined]",
      "  [8] iterate",
      "    @ .\\generator.jl:48 [inlined]",
      "  [9] collect(itr::Base.Generator{Array{NTuple{6, Int64}, 6}, var\"#4#9\"{Dict{String, Dict{Int64, String}}, Vector{Any}}})",
      "    @ Base .\\array.jl:791",
      " [10] get_eurostat_from_URL(url::String)",
      "    @ Main .\\In[27]:27",
      " [11] top-level scope",
      "    @ In[29]:1"
     ]
    }
   ],
   "source": [
    "df = get_eurostat_from_URL(\"https://ec.europa.eu/eurostat/api/dissemination/statistics/1.0/data/namq_10_gdp?format=JSON&geo=BG&na_item=B1GQ&lang=en\")"
   ]
  }
 ],
 "metadata": {
  "kernelspec": {
   "display_name": "Julia 1.11.4",
   "language": "julia",
   "name": "julia-1.11"
  },
  "language_info": {
   "file_extension": ".jl",
   "mimetype": "application/julia",
   "name": "julia",
   "version": "1.11.4"
  }
 },
 "nbformat": 4,
 "nbformat_minor": 4
}
