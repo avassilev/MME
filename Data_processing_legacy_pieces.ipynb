{
 "cells": [
  {
   "cell_type": "markdown",
   "metadata": {},
   "source": [
    "# Data processing -- stale experiments"
   ]
  },
  {
   "cell_type": "code",
   "execution_count": 23,
   "metadata": {},
   "outputs": [],
   "source": [
    "using Tidier"
   ]
  },
  {
   "cell_type": "code",
   "execution_count": null,
   "metadata": {},
   "outputs": [],
   "source": [
    "using DBnomics\n",
    "natl_acc = rdb(\"Eurostat\", \"nama_10_gdp\", mask=\"B1GQ\")"
   ]
  },
  {
   "cell_type": "code",
   "execution_count": null,
   "metadata": {},
   "outputs": [],
   "source": [
    "using HTTP\n",
    "res = HTTP.get(\"https://ec.europa.eu/eurostat/api/dissemination/sdmx/2.1/data/nama_10_gdp?format=TSV&compressed=true\")"
   ]
  },
  {
   "cell_type": "code",
   "execution_count": null,
   "metadata": {},
   "outputs": [],
   "source": [
    "import Downloads\n",
    "using CSV\n",
    "natl_acc = CSV.read(Downloads.download(\"https://ec.europa.eu/eurostat/api/dissemination/sdmx/2.1/data/nama_10_gdp?format=TSV&compressed=true\"), DataFrame)"
   ]
  },
  {
   "cell_type": "code",
   "execution_count": null,
   "metadata": {},
   "outputs": [],
   "source": [
    "using CSV\n",
    "natl_acc = CSV.read(\"datasets/estat_nama_10_gdp.tsv.gz\", DataFrame; delim=\"\\t\")"
   ]
  },
  {
   "cell_type": "code",
   "execution_count": null,
   "metadata": {},
   "outputs": [],
   "source": [
    "natl_acc = read_csv(\"datasets/estat_nama_10_gdp.tsv.gz\")"
   ]
  },
  {
   "cell_type": "code",
   "execution_count": null,
   "metadata": {},
   "outputs": [],
   "source": [
    "natl_acc = DataFrames.rename(natl_acc, \"freq,unit,na_item,geo\\\\TIME_PERIOD\" => \"mixed\")"
   ]
  },
  {
   "cell_type": "code",
   "execution_count": null,
   "metadata": {},
   "outputs": [],
   "source": [
    "nat_acc = @chain natl_acc begin\n",
    "    @separate(mixed, (freq,unit,na_item,geo), \",\")\n",
    "    @pivot_longer(-(freq:geo), names_to=year,values_to=value)\n",
    "    @select(-freq)\n",
    "    @mutate(value = as_float(value), year = as_integer(str_squish(year)))\n",
    "end"
   ]
  },
  {
   "cell_type": "code",
   "execution_count": null,
   "metadata": {},
   "outputs": [],
   "source": [
    "bg_nat_acc = @chain nat_acc begin\n",
    "    @filter(geo == \"BG\", unit ==  \"CLV10_MNAC\", na_item in (\"B1GQ\", \"P51G\"))\n",
    "    @select(na_item,year,value)\n",
    "    @drop_missing()\n",
    "end"
   ]
  },
  {
   "cell_type": "code",
   "execution_count": null,
   "metadata": {},
   "outputs": [],
   "source": [
    "# names(nat_acc)\n",
    "println(@distinct(nat_acc.na_item))"
   ]
  },
  {
   "cell_type": "markdown",
   "metadata": {},
   "source": [
    "## To explore\n",
    "\n",
    "FredData -- https://juliahub.com/ui/Packages/General/FredData\n",
    "SDMX -- https://juliahub.com/ui/Packages/General/SDMX\n",
    "IMFData -- https://juliahub.com/ui/Packages/General/IMFData\n"
   ]
  },
  {
   "cell_type": "code",
   "execution_count": 27,
   "metadata": {},
   "outputs": [
    {
     "data": {
      "text/plain": [
       "get_eurostat_from_URL (generic function with 1 method)"
      ]
     },
     "execution_count": 27,
     "metadata": {},
     "output_type": "execute_result"
    }
   ],
   "source": [
    "using HTTP\n",
    "using JSON\n",
    "using DataFrames\n",
    "using IterTools\n",
    "\n",
    "function get_eurostat_from_URL(url::String)\n",
    "    # Make HTTP request\n",
    "    response = HTTP.get(url)\n",
    "    \n",
    "    if response.status == 200\n",
    "        # Parse JSON response\n",
    "        data = JSON.parse(String(response.body))\n",
    "        \n",
    "        # Extract dimensions, IDs, and sizes\n",
    "        dimensions = data[\"dimension\"]\n",
    "        id_list = data[\"id\"]  # Order of dimensions\n",
    "        size = data[\"size\"]  # Size of each dimension\n",
    "        \n",
    "        # Create mapping for each dimension\n",
    "        mappings = Dict(dim => Dict(v => k for (k, v) in dimensions[dim][\"category\"][\"index\"]) for dim in id_list)\n",
    "        \n",
    "        # Generate Cartesian product of indices\n",
    "        ranges = [1:s for s in size]  # Julia uses 1-based indexing\n",
    "        cartesian_product = collect(product(ranges...))\n",
    "        \n",
    "        # Decode indices into human-readable labels\n",
    "        decoded_rows = [\n",
    "            Dict(dim => mappings[dim][string(index - 1)] for (dim, index) in zip(id_list, row)) \n",
    "            for row in cartesian_product\n",
    "        ]\n",
    "        \n",
    "        # Add 'Value' column from data['value']\n",
    "        for (i, row) in enumerate(decoded_rows)\n",
    "            row[\"Value\"] = get(data[\"value\"], string(i - 1), missing)  # Default to `missing` if value is not found\n",
    "        end\n",
    "        \n",
    "        # Convert to DataFrame\n",
    "        return DataFrame(decoded_rows)\n",
    "    else\n",
    "        println(\"Failed to retrieve data: $(response.status)\")\n",
    "        return nothing\n",
    "    end\n",
    "end\n"
   ]
  },
  {
   "cell_type": "code",
   "execution_count": 29,
   "metadata": {},
   "outputs": [
    {
     "ename": "LoadError",
     "evalue": "KeyError: key \"0\" not found",
     "output_type": "error",
     "traceback": [
      "KeyError: key \"0\" not found",
      "",
      "Stacktrace:",
      "  [1] getindex(h::Dict{Int64, String}, key::String)",
      "    @ Base .\\dict.jl:477",
      "  [2] (::var\"#5#10\"{Dict{String, Dict{Int64, String}}})(::Tuple{String, Int64})",
      "    @ Main .\\none:0",
      "  [3] iterate",
      "    @ .\\generator.jl:48 [inlined]",
      "  [4] grow_to!",
      "    @ .\\abstractdict.jl:587 [inlined]",
      "  [5] dict_with_eltype",
      "    @ .\\abstractdict.jl:641 [inlined]",
      "  [6] Dict",
      "    @ .\\dict.jl:117 [inlined]",
      "  [7] #4",
      "    @ .\\none:0 [inlined]",
      "  [8] iterate",
      "    @ .\\generator.jl:48 [inlined]",
      "  [9] collect(itr::Base.Generator{Array{NTuple{6, Int64}, 6}, var\"#4#9\"{Dict{String, Dict{Int64, String}}, Vector{Any}}})",
      "    @ Base .\\array.jl:791",
      " [10] get_eurostat_from_URL(url::String)",
      "    @ Main .\\In[27]:27",
      " [11] top-level scope",
      "    @ In[29]:1"
     ]
    }
   ],
   "source": [
    "df = get_eurostat_from_URL(\"https://ec.europa.eu/eurostat/api/dissemination/statistics/1.0/data/namq_10_gdp?format=JSON&geo=BG&na_item=B1GQ&lang=en\")"
   ]
  }
 ],
 "metadata": {
  "kernelspec": {
   "display_name": "Julia 1.11.2",
   "language": "julia",
   "name": "julia-1.11"
  },
  "language_info": {
   "file_extension": ".jl",
   "mimetype": "application/julia",
   "name": "julia",
   "version": "1.11.2"
  }
 },
 "nbformat": 4,
 "nbformat_minor": 4
}
