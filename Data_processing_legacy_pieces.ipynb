{
 "cells": [
  {
   "cell_type": "markdown",
   "metadata": {},
   "source": [
    "# Data processing -- stale experiments"
   ]
  },
  {
   "cell_type": "code",
   "execution_count": 1,
   "metadata": {},
   "outputs": [],
   "source": [
    "using Tidier"
   ]
  },
  {
   "cell_type": "code",
   "execution_count": null,
   "metadata": {},
   "outputs": [],
   "source": [
    "using DBnomics\n",
    "natl_acc = rdb(\"Eurostat\", \"nama_10_gdp\", mask=\"B1GQ\")"
   ]
  },
  {
   "cell_type": "code",
   "execution_count": null,
   "metadata": {},
   "outputs": [],
   "source": [
    "using HTTP\n",
    "res = HTTP.get(\"https://ec.europa.eu/eurostat/api/dissemination/sdmx/2.1/data/nama_10_gdp?format=TSV&compressed=true\")"
   ]
  },
  {
   "cell_type": "code",
   "execution_count": null,
   "metadata": {},
   "outputs": [],
   "source": [
    "import Downloads\n",
    "using CSV\n",
    "natl_acc = CSV.read(Downloads.download(\"https://ec.europa.eu/eurostat/api/dissemination/sdmx/2.1/data/nama_10_gdp?format=TSV&compressed=true\"), DataFrame)"
   ]
  },
  {
   "cell_type": "code",
   "execution_count": null,
   "metadata": {},
   "outputs": [],
   "source": [
    "using CSV\n",
    "natl_acc = CSV.read(\"datasets/estat_nama_10_gdp.tsv.gz\", DataFrame; delim=\"\\t\")"
   ]
  },
  {
   "cell_type": "code",
   "execution_count": null,
   "metadata": {},
   "outputs": [],
   "source": [
    "natl_acc = read_csv(\"datasets/estat_nama_10_gdp.tsv.gz\")"
   ]
  },
  {
   "cell_type": "code",
   "execution_count": null,
   "metadata": {},
   "outputs": [],
   "source": [
    "natl_acc = DataFrames.rename(natl_acc, \"freq,unit,na_item,geo\\\\TIME_PERIOD\" => \"mixed\")"
   ]
  },
  {
   "cell_type": "code",
   "execution_count": null,
   "metadata": {},
   "outputs": [],
   "source": [
    "nat_acc = @chain natl_acc begin\n",
    "    @separate(mixed, (freq,unit,na_item,geo), \",\")\n",
    "    @pivot_longer(-(freq:geo), names_to=year,values_to=value)\n",
    "    @select(-freq)\n",
    "    @mutate(value = as_float(value), year = as_integer(str_squish(year)))\n",
    "end"
   ]
  },
  {
   "cell_type": "code",
   "execution_count": null,
   "metadata": {},
   "outputs": [],
   "source": [
    "bg_nat_acc = @chain nat_acc begin\n",
    "    @filter(geo == \"BG\", unit ==  \"CLV10_MNAC\", na_item in (\"B1GQ\", \"P51G\"))\n",
    "    @select(na_item,year,value)\n",
    "    @drop_missing()\n",
    "end"
   ]
  },
  {
   "cell_type": "code",
   "execution_count": null,
   "metadata": {},
   "outputs": [],
   "source": [
    "# names(nat_acc)\n",
    "println(@distinct(nat_acc.na_item))"
   ]
  }
 ],
 "metadata": {
  "kernelspec": {
   "display_name": "Julia 1.10.1",
   "language": "julia",
   "name": "julia-1.10"
  },
  "language_info": {
   "file_extension": ".jl",
   "mimetype": "application/julia",
   "name": "julia",
   "version": "1.10.1"
  }
 },
 "nbformat": 4,
 "nbformat_minor": 4
}
