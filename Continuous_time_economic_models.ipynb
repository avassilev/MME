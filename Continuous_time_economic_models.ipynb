{
 "cells": [
  {
   "cell_type": "markdown",
   "id": "593d70db",
   "metadata": {},
   "source": [
    "# Programming differential equations in Julia\n",
    "\n",
    "Julia has a rich ecosystem for modelling based on differential equations. The [SciML](https://sciml.ai/) project provides a convenient entry point.\n",
    "\n",
    "The ecosystem provides different tools to define and solve differential equations, as well as explore the solutions obtained."
   ]
  },
  {
   "cell_type": "markdown",
   "id": "74ab1c57",
   "metadata": {},
   "source": [
    "### Example 1\n",
    "\n",
    "Consider the equation $$\\frac{d}{dt}x(t) = \\alpha x(t).$$\n",
    "\n",
    "Given an initial condition $x(0) = x_0$, it can be verified that the solution to the initial value problem is given by $$x(t) = x_0 e^{\\alpha t}.$$"
   ]
  },
  {
   "cell_type": "code",
   "execution_count": null,
   "id": "dd6eb20b",
   "metadata": {},
   "outputs": [],
   "source": [
    "using ModelingToolkit, DifferentialEquations, Plots\n",
    "\n",
    "@variables t x(t)=0.5 # specify symbolically the variables involved together with the initial condition\n",
    "@parameters α=0.2 # define parameters\n",
    "\n",
    "# the symbolic differentiation operator\n",
    "D = Differential(t) \n",
    "\n",
    "# define the equation(s)\n",
    "eqs = [D(x) ~ α*x]\n",
    "\n",
    "# construct a symbolic system\n",
    "@named sys = ODESystem(eqs, t)\n",
    "\n",
    "# define the timespan of the simulation\n",
    "tspan = (0.0, 10.0) \n",
    "\n",
    "# convert to ODE problem from symbolic form\n",
    "prob = ODEProblem(sys, [], tspan) \n",
    "\n",
    "# Solve the ODE problem\n",
    "sol = solve(prob) \n",
    "\n",
    "# play around with the result\n",
    "plot(sol, title = \"Linear ODE\")"
   ]
  },
  {
   "cell_type": "code",
   "execution_count": null,
   "id": "60ad5680",
   "metadata": {
    "scrolled": true
   },
   "outputs": [],
   "source": [
    "sol(0) # value of solution at 0"
   ]
  },
  {
   "cell_type": "code",
   "execution_count": null,
   "id": "9c5853fa",
   "metadata": {
    "scrolled": true
   },
   "outputs": [],
   "source": [
    "sol(10) # value of solution at 10"
   ]
  },
  {
   "cell_type": "code",
   "execution_count": null,
   "id": "a4b0ee17",
   "metadata": {},
   "outputs": [],
   "source": [
    "sol # note the form of u (a vector of vectors), as well as the tabulation grid"
   ]
  },
  {
   "cell_type": "code",
   "execution_count": null,
   "id": "ffe48742",
   "metadata": {},
   "outputs": [],
   "source": [
    "# here is how to tabulate over a pre-specified grid\n",
    "sol = solve(prob, saveat = range(tspan[1], stop = tspan[2], length = 100)) "
   ]
  },
  {
   "cell_type": "markdown",
   "id": "e170ed46",
   "metadata": {},
   "source": [
    "A simpler (and perhaps slightly outdated) way of accomplishing the same."
   ]
  },
  {
   "cell_type": "code",
   "execution_count": null,
   "id": "7fd247d0",
   "metadata": {},
   "outputs": [],
   "source": [
    "using DifferentialEquations\n",
    "\n",
    "function lin_ode!(du, u, p, t)\n",
    "    du[1] = p[1] * u[1]\n",
    "end\n",
    "\n",
    "u0 = [0.5]\n",
    "p = [0.2]\n",
    "tspan = (0.0, 10.0)  # Time interval for solution\n",
    "npoints = 100        # Number of output points\n",
    "\n",
    "prob1 = ODEProblem(lin_ode!, u0, tspan, p)\n",
    "sol1 = solve(prob1, Tsit5()) # note that the solver has been explicitly specified here\n",
    "\n",
    "plot(sol1)\n"
   ]
  },
  {
   "cell_type": "code",
   "execution_count": null,
   "id": "da5be29e",
   "metadata": {
    "scrolled": true
   },
   "outputs": [],
   "source": [
    "sol1"
   ]
  },
  {
   "cell_type": "markdown",
   "id": "c084c740",
   "metadata": {},
   "source": [
    "### Example 2 (the Lotka-Volterra predator-prey model, from the documentation)\n",
    "\n",
    "We consider the interaction between a prey species with population density $x(t)$ and a predator species with population density $y(t)$. The parameter $\\alpha$ is the birth rate of the prey species, $\\gamma$ is the death rate of the predator species and the parameters $\\beta$ and $\\delta$ describe the effects of interaction between species.\n",
    "\n",
    "$$ \\frac{dx}{dt} = \\alpha x - \\beta x y $$\n",
    "$$ \\frac{dy}{dt} = -\\gamma y + \\delta x y $$"
   ]
  },
  {
   "cell_type": "code",
   "execution_count": null,
   "id": "4c52cc9d",
   "metadata": {},
   "outputs": [],
   "source": [
    "using ModelingToolkit, DifferentialEquations, Plots\n",
    "\n",
    "# Define our state variables: state(t) = initial condition\n",
    "@variables t x(t)=1 y(t)=1 z(t)=2\n",
    "\n",
    "# Define our parameters\n",
    "@parameters α=1.5 β=1.0 γ=3.0 δ=1.0\n",
    "\n",
    "# Define our differential: takes the derivative with respect to `t`\n",
    "D = Differential(t)\n",
    "\n",
    "# Define the differential equations\n",
    "# Note the last element, which is an algebraic equation counting the total number of animals\n",
    "eqs = [D(x) ~ α * x - β * x * y\n",
    "       D(y) ~ -γ * y + δ * x * y\n",
    "       z ~ x + y] \n",
    "\n",
    "# Bring these pieces together into an ODESystem with independent variable t\n",
    "@named sys = ODESystem(eqs, t)\n",
    "\n",
    "# Symbolically Simplify the System (removes the algebraic equation)\n",
    "simpsys = structural_simplify(sys)\n",
    "\n",
    "# Convert from a symbolic to a numerical problem to simulate\n",
    "tspan = (0.0, 10.0)\n",
    "prob = ODEProblem(simpsys, [], tspan)\n",
    "\n",
    "# Solve the ODE\n",
    "sol = solve(prob)\n",
    "\n",
    "# Plot the solution\n",
    "p1 = plot(sol, title = \"Rabbits vs Wolves\")\n",
    "p2 = plot(sol, idxs = z, title = \"Total Animals\")\n",
    "\n",
    "plot(p1, p2, layout = (2, 1))"
   ]
  }
 ],
 "metadata": {
  "kernelspec": {
   "display_name": "Julia 1.9.0",
   "language": "julia",
   "name": "julia-1.9"
  },
  "language_info": {
   "file_extension": ".jl",
   "mimetype": "application/julia",
   "name": "julia",
   "version": "1.9.0"
  }
 },
 "nbformat": 4,
 "nbformat_minor": 5
}
